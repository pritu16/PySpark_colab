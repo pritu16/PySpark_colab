{
  "cells": [
    {
      "cell_type": "code",
      "source": [
        "!apt-get install openjdk-8-jdk-headless -qq > /dev/null\n",
        "!wget -q http://archive.apache.org/dist/spark/spark-3.1.1/spark-3.1.1-bin-hadoop3.2.tgz\n",
        "!tar xf spark-3.1.1-bin-hadoop3.2.tgz\n",
        "!pip install -q findspark"
      ],
      "metadata": {
        "id": "aGobWjkys6C9"
      },
      "id": "aGobWjkys6C9",
      "execution_count": 90,
      "outputs": []
    },
    {
      "cell_type": "code",
      "source": [
        "import os\n",
        "os.environ[\"JAVA_HOME\"] = \"/usr/lib/jvm/java-8-openjdk-amd64\"\n",
        "os.environ[\"SPARK_HOME\"] = \"/content/spark-3.1.1-bin-hadoop3.2\""
      ],
      "metadata": {
        "id": "xBkkKQkxs6kc"
      },
      "id": "xBkkKQkxs6kc",
      "execution_count": 91,
      "outputs": []
    },
    {
      "cell_type": "code",
      "source": [
        "import findspark\n",
        "findspark.init()\n",
        "from pyspark.sql import SparkSession\n",
        "spark = SparkSession.builder.master(\"local[*]\").getOrCreate()\n",
        "spark.conf.set(\"spark.sql.repl.eagerEval.enabled\", True) # Property used to format output tables better\n",
        "spark"
      ],
      "metadata": {
        "colab": {
          "base_uri": "https://localhost:8080/",
          "height": 219
        },
        "id": "nLJmlURDs_Vb",
        "outputId": "fee33582-45d7-47b4-9f3e-6b226b962c09"
      },
      "id": "nLJmlURDs_Vb",
      "execution_count": 92,
      "outputs": [
        {
          "output_type": "execute_result",
          "data": {
            "text/plain": [
              "<pyspark.sql.session.SparkSession at 0x7f4e97868450>"
            ],
            "text/html": [
              "\n",
              "            <div>\n",
              "                <p><b>SparkSession - in-memory</b></p>\n",
              "                \n",
              "        <div>\n",
              "            <p><b>SparkContext</b></p>\n",
              "\n",
              "            <p><a href=\"http://51305d1692ea:4040\">Spark UI</a></p>\n",
              "\n",
              "            <dl>\n",
              "              <dt>Version</dt>\n",
              "                <dd><code>v3.1.1</code></dd>\n",
              "              <dt>Master</dt>\n",
              "                <dd><code>local[*]</code></dd>\n",
              "              <dt>AppName</dt>\n",
              "                <dd><code>pyspark-shell</code></dd>\n",
              "            </dl>\n",
              "        </div>\n",
              "        \n",
              "            </div>\n",
              "        "
            ]
          },
          "metadata": {},
          "execution_count": 92
        }
      ]
    },
    {
      "cell_type": "code",
      "source": [
        "from google.colab import files\n",
        "uploaded=files.upload()"
      ],
      "metadata": {
        "colab": {
          "base_uri": "https://localhost:8080/",
          "height": 38
        },
        "id": "mWVr0JH0tCGD",
        "outputId": "fbb2602f-c16e-48e2-943b-5a3616727197"
      },
      "id": "mWVr0JH0tCGD",
      "execution_count": 93,
      "outputs": [
        {
          "output_type": "display_data",
          "data": {
            "text/plain": [
              "<IPython.core.display.HTML object>"
            ],
            "text/html": [
              "\n",
              "     <input type=\"file\" id=\"files-5efcc4d7-512f-4779-adcd-870ca593c7af\" name=\"files[]\" multiple disabled\n",
              "        style=\"border:none\" />\n",
              "     <output id=\"result-5efcc4d7-512f-4779-adcd-870ca593c7af\">\n",
              "      Upload widget is only available when the cell has been executed in the\n",
              "      current browser session. Please rerun this cell to enable.\n",
              "      </output>\n",
              "      <script>// Copyright 2017 Google LLC\n",
              "//\n",
              "// Licensed under the Apache License, Version 2.0 (the \"License\");\n",
              "// you may not use this file except in compliance with the License.\n",
              "// You may obtain a copy of the License at\n",
              "//\n",
              "//      http://www.apache.org/licenses/LICENSE-2.0\n",
              "//\n",
              "// Unless required by applicable law or agreed to in writing, software\n",
              "// distributed under the License is distributed on an \"AS IS\" BASIS,\n",
              "// WITHOUT WARRANTIES OR CONDITIONS OF ANY KIND, either express or implied.\n",
              "// See the License for the specific language governing permissions and\n",
              "// limitations under the License.\n",
              "\n",
              "/**\n",
              " * @fileoverview Helpers for google.colab Python module.\n",
              " */\n",
              "(function(scope) {\n",
              "function span(text, styleAttributes = {}) {\n",
              "  const element = document.createElement('span');\n",
              "  element.textContent = text;\n",
              "  for (const key of Object.keys(styleAttributes)) {\n",
              "    element.style[key] = styleAttributes[key];\n",
              "  }\n",
              "  return element;\n",
              "}\n",
              "\n",
              "// Max number of bytes which will be uploaded at a time.\n",
              "const MAX_PAYLOAD_SIZE = 100 * 1024;\n",
              "\n",
              "function _uploadFiles(inputId, outputId) {\n",
              "  const steps = uploadFilesStep(inputId, outputId);\n",
              "  const outputElement = document.getElementById(outputId);\n",
              "  // Cache steps on the outputElement to make it available for the next call\n",
              "  // to uploadFilesContinue from Python.\n",
              "  outputElement.steps = steps;\n",
              "\n",
              "  return _uploadFilesContinue(outputId);\n",
              "}\n",
              "\n",
              "// This is roughly an async generator (not supported in the browser yet),\n",
              "// where there are multiple asynchronous steps and the Python side is going\n",
              "// to poll for completion of each step.\n",
              "// This uses a Promise to block the python side on completion of each step,\n",
              "// then passes the result of the previous step as the input to the next step.\n",
              "function _uploadFilesContinue(outputId) {\n",
              "  const outputElement = document.getElementById(outputId);\n",
              "  const steps = outputElement.steps;\n",
              "\n",
              "  const next = steps.next(outputElement.lastPromiseValue);\n",
              "  return Promise.resolve(next.value.promise).then((value) => {\n",
              "    // Cache the last promise value to make it available to the next\n",
              "    // step of the generator.\n",
              "    outputElement.lastPromiseValue = value;\n",
              "    return next.value.response;\n",
              "  });\n",
              "}\n",
              "\n",
              "/**\n",
              " * Generator function which is called between each async step of the upload\n",
              " * process.\n",
              " * @param {string} inputId Element ID of the input file picker element.\n",
              " * @param {string} outputId Element ID of the output display.\n",
              " * @return {!Iterable<!Object>} Iterable of next steps.\n",
              " */\n",
              "function* uploadFilesStep(inputId, outputId) {\n",
              "  const inputElement = document.getElementById(inputId);\n",
              "  inputElement.disabled = false;\n",
              "\n",
              "  const outputElement = document.getElementById(outputId);\n",
              "  outputElement.innerHTML = '';\n",
              "\n",
              "  const pickedPromise = new Promise((resolve) => {\n",
              "    inputElement.addEventListener('change', (e) => {\n",
              "      resolve(e.target.files);\n",
              "    });\n",
              "  });\n",
              "\n",
              "  const cancel = document.createElement('button');\n",
              "  inputElement.parentElement.appendChild(cancel);\n",
              "  cancel.textContent = 'Cancel upload';\n",
              "  const cancelPromise = new Promise((resolve) => {\n",
              "    cancel.onclick = () => {\n",
              "      resolve(null);\n",
              "    };\n",
              "  });\n",
              "\n",
              "  // Wait for the user to pick the files.\n",
              "  const files = yield {\n",
              "    promise: Promise.race([pickedPromise, cancelPromise]),\n",
              "    response: {\n",
              "      action: 'starting',\n",
              "    }\n",
              "  };\n",
              "\n",
              "  cancel.remove();\n",
              "\n",
              "  // Disable the input element since further picks are not allowed.\n",
              "  inputElement.disabled = true;\n",
              "\n",
              "  if (!files) {\n",
              "    return {\n",
              "      response: {\n",
              "        action: 'complete',\n",
              "      }\n",
              "    };\n",
              "  }\n",
              "\n",
              "  for (const file of files) {\n",
              "    const li = document.createElement('li');\n",
              "    li.append(span(file.name, {fontWeight: 'bold'}));\n",
              "    li.append(span(\n",
              "        `(${file.type || 'n/a'}) - ${file.size} bytes, ` +\n",
              "        `last modified: ${\n",
              "            file.lastModifiedDate ? file.lastModifiedDate.toLocaleDateString() :\n",
              "                                    'n/a'} - `));\n",
              "    const percent = span('0% done');\n",
              "    li.appendChild(percent);\n",
              "\n",
              "    outputElement.appendChild(li);\n",
              "\n",
              "    const fileDataPromise = new Promise((resolve) => {\n",
              "      const reader = new FileReader();\n",
              "      reader.onload = (e) => {\n",
              "        resolve(e.target.result);\n",
              "      };\n",
              "      reader.readAsArrayBuffer(file);\n",
              "    });\n",
              "    // Wait for the data to be ready.\n",
              "    let fileData = yield {\n",
              "      promise: fileDataPromise,\n",
              "      response: {\n",
              "        action: 'continue',\n",
              "      }\n",
              "    };\n",
              "\n",
              "    // Use a chunked sending to avoid message size limits. See b/62115660.\n",
              "    let position = 0;\n",
              "    do {\n",
              "      const length = Math.min(fileData.byteLength - position, MAX_PAYLOAD_SIZE);\n",
              "      const chunk = new Uint8Array(fileData, position, length);\n",
              "      position += length;\n",
              "\n",
              "      const base64 = btoa(String.fromCharCode.apply(null, chunk));\n",
              "      yield {\n",
              "        response: {\n",
              "          action: 'append',\n",
              "          file: file.name,\n",
              "          data: base64,\n",
              "        },\n",
              "      };\n",
              "\n",
              "      let percentDone = fileData.byteLength === 0 ?\n",
              "          100 :\n",
              "          Math.round((position / fileData.byteLength) * 100);\n",
              "      percent.textContent = `${percentDone}% done`;\n",
              "\n",
              "    } while (position < fileData.byteLength);\n",
              "  }\n",
              "\n",
              "  // All done.\n",
              "  yield {\n",
              "    response: {\n",
              "      action: 'complete',\n",
              "    }\n",
              "  };\n",
              "}\n",
              "\n",
              "scope.google = scope.google || {};\n",
              "scope.google.colab = scope.google.colab || {};\n",
              "scope.google.colab._files = {\n",
              "  _uploadFiles,\n",
              "  _uploadFilesContinue,\n",
              "};\n",
              "})(self);\n",
              "</script> "
            ]
          },
          "metadata": {}
        }
      ]
    },
    {
      "cell_type": "code",
      "source": [
        "df=spark.read.format(\"csv\").load(\"movies.csv\")\n",
        "df.show()"
      ],
      "metadata": {
        "colab": {
          "base_uri": "https://localhost:8080/"
        },
        "id": "Emy-hxgkthKW",
        "outputId": "14c2242b-12ad-4d7e-a03f-55af49a59438"
      },
      "id": "Emy-hxgkthKW",
      "execution_count": 110,
      "outputs": [
        {
          "output_type": "stream",
          "name": "stdout",
          "text": [
            "+--------------------+--------------------+----+\n",
            "|                 _c0|                 _c1| _c2|\n",
            "+--------------------+--------------------+----+\n",
            "|1::Toy Story (199...|                null|null|\n",
            "|2::Jumanji (1995)...|                null|null|\n",
            "|3::Grumpier Old M...|                null|null|\n",
            "|4::Waiting to Exh...|                null|null|\n",
            "|5::Father of the ...|                null|null|\n",
            "|6::Heat (1995)::A...|                null|null|\n",
            "|7::Sabrina (1995)...|                null|null|\n",
            "|8::Tom and Huck (...|                null|null|\n",
            "|9::Sudden Death (...|                null|null|\n",
            "|10::GoldenEye (19...|                null|null|\n",
            "|11::American Pres...| The (1995)::Come...|null|\n",
            "|12::Dracula: Dead...|                null|null|\n",
            "|13::Balto (1995):...|                null|null|\n",
            "|14::Nixon (1995):...|                null|null|\n",
            "|15::Cutthroat Isl...|                null|null|\n",
            "|16::Casino (1995)...|                null|null|\n",
            "|17::Sense and Sen...|                null|null|\n",
            "|18::Four Rooms (1...|                null|null|\n",
            "|19::Ace Ventura: ...|                null|null|\n",
            "|20::Money Train (...|                null|null|\n",
            "+--------------------+--------------------+----+\n",
            "only showing top 20 rows\n",
            "\n"
          ]
        }
      ]
    },
    {
      "cell_type": "code",
      "source": [
        "from pyspark.sql.types import StructType, StructField, IntegerType, StringType\n",
        "schema=StructType([\\\n",
        "                  StructField(\"Id\",IntegerType(),True),\\\n",
        "                  StructField(\"Movie_name\",StringType(),True),\\\n",
        "                  StructField(\"Movie_genre\",StringType(),True)\\\n",
        "                   ])"
      ],
      "metadata": {
        "id": "dg31EnZztsFH"
      },
      "id": "dg31EnZztsFH",
      "execution_count": 111,
      "outputs": []
    },
    {
      "cell_type": "code",
      "source": [
        "df=spark.read.csv(\"movies.csv\",sep=\"::\",schema=schema)\n",
        "df.show()"
      ],
      "metadata": {
        "colab": {
          "base_uri": "https://localhost:8080/"
        },
        "id": "pw1LJoyGunjJ",
        "outputId": "4e6cb8d2-f30f-4a8f-aa02-4b44c61b4282"
      },
      "id": "pw1LJoyGunjJ",
      "execution_count": 112,
      "outputs": [
        {
          "output_type": "stream",
          "name": "stdout",
          "text": [
            "+---+--------------------+--------------------+\n",
            "| Id|          Movie_name|         Movie_genre|\n",
            "+---+--------------------+--------------------+\n",
            "|  1|    Toy Story (1995)|Animation|Childre...|\n",
            "|  2|      Jumanji (1995)|Adventure|Childre...|\n",
            "|  3|Grumpier Old Men ...|    Comedy|Romance,,|\n",
            "|  4|Waiting to Exhale...|      Comedy|Drama,,|\n",
            "|  5|Father of the Bri...|            Comedy,,|\n",
            "|  6|         Heat (1995)|Action|Crime|Thri...|\n",
            "|  7|      Sabrina (1995)|    Comedy|Romance,,|\n",
            "|  8| Tom and Huck (1995)|Adventure|Childre...|\n",
            "|  9| Sudden Death (1995)|            Action,,|\n",
            "| 10|    GoldenEye (1995)|Action|Adventure|...|\n",
            "| 11|American Presiden...|Comedy|Drama|Roma...|\n",
            "| 12|Dracula: Dead and...|     Comedy|Horror,,|\n",
            "| 13|        Balto (1995)|Animation|Childre...|\n",
            "| 14|        Nixon (1995)|             Drama,,|\n",
            "| 15|Cutthroat Island ...|Action|Adventure|...|\n",
            "| 16|       Casino (1995)|    Drama|Thriller,,|\n",
            "| 17|Sense and Sensibi...|     Drama|Romance,,|\n",
            "| 18|   Four Rooms (1995)|          Thriller,,|\n",
            "| 19|Ace Ventura: When...|            Comedy,,|\n",
            "| 20|  Money Train (1995)|            Action,,|\n",
            "+---+--------------------+--------------------+\n",
            "only showing top 20 rows\n",
            "\n"
          ]
        }
      ]
    },
    {
      "cell_type": "code",
      "source": [
        "schema=StructType([\\\n",
        "                  StructField(\"Id\",IntegerType(),True),\\\n",
        "                  StructField(\"Movie_name\",StringType(),True),\\\n",
        "                  StructField(\"Movie_genre\",StringType(),True),\\\n",
        "                  StructField(\"Year_released\",IntegerType(),True)\\\n",
        "                   ])"
      ],
      "metadata": {
        "id": "ac7AduE6vSQ5"
      },
      "id": "ac7AduE6vSQ5",
      "execution_count": 113,
      "outputs": []
    },
    {
      "cell_type": "code",
      "source": [
        "df=spark.read.csv(\"movies.csv\",sep=\"::\",schema=schema)\n",
        "df.show()"
      ],
      "metadata": {
        "colab": {
          "base_uri": "https://localhost:8080/"
        },
        "id": "5y1RLgjFvZqI",
        "outputId": "1c55e185-ad4b-4017-bba7-dd40ad1f358b"
      },
      "id": "5y1RLgjFvZqI",
      "execution_count": 114,
      "outputs": [
        {
          "output_type": "stream",
          "name": "stdout",
          "text": [
            "+---+--------------------+--------------------+-------------+\n",
            "| Id|          Movie_name|         Movie_genre|Year_released|\n",
            "+---+--------------------+--------------------+-------------+\n",
            "|  1|    Toy Story (1995)|Animation|Childre...|         null|\n",
            "|  2|      Jumanji (1995)|Adventure|Childre...|         null|\n",
            "|  3|Grumpier Old Men ...|    Comedy|Romance,,|         null|\n",
            "|  4|Waiting to Exhale...|      Comedy|Drama,,|         null|\n",
            "|  5|Father of the Bri...|            Comedy,,|         null|\n",
            "|  6|         Heat (1995)|Action|Crime|Thri...|         null|\n",
            "|  7|      Sabrina (1995)|    Comedy|Romance,,|         null|\n",
            "|  8| Tom and Huck (1995)|Adventure|Childre...|         null|\n",
            "|  9| Sudden Death (1995)|            Action,,|         null|\n",
            "| 10|    GoldenEye (1995)|Action|Adventure|...|         null|\n",
            "| 11|American Presiden...|Comedy|Drama|Roma...|         null|\n",
            "| 12|Dracula: Dead and...|     Comedy|Horror,,|         null|\n",
            "| 13|        Balto (1995)|Animation|Childre...|         null|\n",
            "| 14|        Nixon (1995)|             Drama,,|         null|\n",
            "| 15|Cutthroat Island ...|Action|Adventure|...|         null|\n",
            "| 16|       Casino (1995)|    Drama|Thriller,,|         null|\n",
            "| 17|Sense and Sensibi...|     Drama|Romance,,|         null|\n",
            "| 18|   Four Rooms (1995)|          Thriller,,|         null|\n",
            "| 19|Ace Ventura: When...|            Comedy,,|         null|\n",
            "| 20|  Money Train (1995)|            Action,,|         null|\n",
            "+---+--------------------+--------------------+-------------+\n",
            "only showing top 20 rows\n",
            "\n"
          ]
        }
      ]
    },
    {
      "cell_type": "code",
      "source": [
        "#df[['Movie_name','Year_released']]= df.Movie_name.str.extract('(.)\\s\\((.\\d+)', expand=True)\n",
        "#df[['Movie_name','Year_released']] = df.Movie_name.str.split('\\(|\\)', expand=True).iloc[:,[0,1]]\n",
        "'''from pyspark.sql.functions import split \n",
        "df=df.strip(\"Year_released\").str.strip(\"()\")\n",
        "df.show()'''\n",
        "#df['Year_released'] = df.Movie_name.str.strip('()')[0]\n",
        "#res = df['Movie_name'].str.extract(r'\\((.*?)\\)')\n",
        "#print(res)\n",
        "#df['Movie_name'] = df['Movie_name'].str.extract(r\"\\(\\$(.*)\\)\")\n",
        "#print (df)\n",
        "from pyspark.sql.functions import split\n",
        "df1 = df.withColumn('Year_released', split(df['Movie_name'], \",\").getItem(0)) \n",
        "df1.show(truncate=False)"
      ],
      "metadata": {
        "colab": {
          "base_uri": "https://localhost:8080/"
        },
        "id": "rbU3XE59vyPo",
        "outputId": "b2cdd006-a453-40f0-8e9b-ba240cca8a8a"
      },
      "id": "rbU3XE59vyPo",
      "execution_count": 118,
      "outputs": [
        {
          "output_type": "stream",
          "name": "stdout",
          "text": [
            "+---+-------------------------------------+------------------------------+-------------------------------------+\n",
            "|Id |Movie_name                           |Movie_genre                   |Year_released                        |\n",
            "+---+-------------------------------------+------------------------------+-------------------------------------+\n",
            "|1  |Toy Story (1995)                     |Animation|Children's|Comedy,, |Toy Story (1995)                     |\n",
            "|2  |Jumanji (1995)                       |Adventure|Children's|Fantasy,,|Jumanji (1995)                       |\n",
            "|3  |Grumpier Old Men (1995)              |Comedy|Romance,,              |Grumpier Old Men (1995)              |\n",
            "|4  |Waiting to Exhale (1995)             |Comedy|Drama,,                |Waiting to Exhale (1995)             |\n",
            "|5  |Father of the Bride Part II (1995)   |Comedy,,                      |Father of the Bride Part II (1995)   |\n",
            "|6  |Heat (1995)                          |Action|Crime|Thriller,,       |Heat (1995)                          |\n",
            "|7  |Sabrina (1995)                       |Comedy|Romance,,              |Sabrina (1995)                       |\n",
            "|8  |Tom and Huck (1995)                  |Adventure|Children's,,        |Tom and Huck (1995)                  |\n",
            "|9  |Sudden Death (1995)                  |Action,,                      |Sudden Death (1995)                  |\n",
            "|10 |GoldenEye (1995)                     |Action|Adventure|Thriller,,   |GoldenEye (1995)                     |\n",
            "|11 |American President, The (1995)       |Comedy|Drama|Romance,         |American President                   |\n",
            "|12 |Dracula: Dead and Loving It (1995)   |Comedy|Horror,,               |Dracula: Dead and Loving It (1995)   |\n",
            "|13 |Balto (1995)                         |Animation|Children's,,        |Balto (1995)                         |\n",
            "|14 |Nixon (1995)                         |Drama,,                       |Nixon (1995)                         |\n",
            "|15 |Cutthroat Island (1995)              |Action|Adventure|Romance,,    |Cutthroat Island (1995)              |\n",
            "|16 |Casino (1995)                        |Drama|Thriller,,              |Casino (1995)                        |\n",
            "|17 |Sense and Sensibility (1995)         |Drama|Romance,,               |Sense and Sensibility (1995)         |\n",
            "|18 |Four Rooms (1995)                    |Thriller,,                    |Four Rooms (1995)                    |\n",
            "|19 |Ace Ventura: When Nature Calls (1995)|Comedy,,                      |Ace Ventura: When Nature Calls (1995)|\n",
            "|20 |Money Train (1995)                   |Action,,                      |Money Train (1995)                   |\n",
            "+---+-------------------------------------+------------------------------+-------------------------------------+\n",
            "only showing top 20 rows\n",
            "\n"
          ]
        }
      ]
    },
    {
      "cell_type": "code",
      "source": [
        "#df['Year_released'] = df['Year_released'].str.strip('(',\")\").astype(int)\n",
        "#df['Year_released'].str.replace(r\"\\(.*\\)\",\"\")"
      ],
      "metadata": {
        "colab": {
          "base_uri": "https://localhost:8080/",
          "height": 183
        },
        "id": "uX3T55YMYNys",
        "outputId": "4fdd8b80-312f-4853-812f-8194289c93c0"
      },
      "id": "uX3T55YMYNys",
      "execution_count": 121,
      "outputs": [
        {
          "output_type": "error",
          "ename": "TypeError",
          "evalue": "ignored",
          "traceback": [
            "\u001b[0;31m---------------------------------------------------------------------------\u001b[0m",
            "\u001b[0;31mTypeError\u001b[0m                                 Traceback (most recent call last)",
            "\u001b[0;32m<ipython-input-121-36d9731f0b9d>\u001b[0m in \u001b[0;36m<module>\u001b[0;34m\u001b[0m\n\u001b[1;32m      1\u001b[0m \u001b[0;31m#df['Year_released'] = df['Year_released'].str.strip('(',\")\").astype(int)\u001b[0m\u001b[0;34m\u001b[0m\u001b[0;34m\u001b[0m\u001b[0;34m\u001b[0m\u001b[0m\n\u001b[0;32m----> 2\u001b[0;31m \u001b[0mdf\u001b[0m\u001b[0;34m[\u001b[0m\u001b[0;34m'Year_released'\u001b[0m\u001b[0;34m]\u001b[0m\u001b[0;34m.\u001b[0m\u001b[0mstr\u001b[0m\u001b[0;34m.\u001b[0m\u001b[0mreplace\u001b[0m\u001b[0;34m(\u001b[0m\u001b[0;34mr\"\\(.*\\)\"\u001b[0m\u001b[0;34m,\u001b[0m\u001b[0;34m\"\"\u001b[0m\u001b[0;34m)\u001b[0m\u001b[0;34m\u001b[0m\u001b[0;34m\u001b[0m\u001b[0m\n\u001b[0m",
            "\u001b[0;31mTypeError\u001b[0m: 'Column' object is not callable"
          ]
        }
      ]
    },
    {
      "cell_type": "code",
      "source": [
        "#from pyspark.sql import functions as F\n",
        "#df.withColumn(\"Year_released \", F.regexp_replace(F.regexp_replace(F.regexp_replace(\"Year_released \", \"(\", \"-\"), \"\", \"\"), \")\", \"\")).show()"
      ],
      "metadata": {
        "id": "_GS_xRocJC1Z"
      },
      "id": "_GS_xRocJC1Z",
      "execution_count": 100,
      "outputs": []
    },
    {
      "cell_type": "code",
      "source": [],
      "metadata": {
        "id": "lLPI3ZPGX_I0"
      },
      "id": "lLPI3ZPGX_I0",
      "execution_count": null,
      "outputs": []
    },
    {
      "cell_type": "code",
      "source": [
        "\n",
        "#df['Year_released'] = df.withColumn['Year_released'].str.replace(r\"(\",\"\")\n",
        "#df['Year_released'] = df.withColumn['Year_released'].str.replace(r\")\",\"\")"
      ],
      "metadata": {
        "id": "Ib7BwFUnMNyK"
      },
      "id": "Ib7BwFUnMNyK",
      "execution_count": 101,
      "outputs": []
    },
    {
      "cell_type": "code",
      "source": [
        "from pyspark.sql.functions import regexp_replace\n",
        "df = df.select(\"Year_released\", regexp_replace(\"Year_released\", \"abcdefghijklmnopqrstuvwxyzABCDEFGHIJKLMNOPQRSTUVWXYZ\", \"\"\n",
        "                                    ).alias('Year_released'))\n"
      ],
      "metadata": {
        "colab": {
          "base_uri": "https://localhost:8080/",
          "height": 345
        },
        "id": "ge3FN14wNfGL",
        "outputId": "cc190124-14e9-4782-84ed-db29b79bce1c"
      },
      "id": "ge3FN14wNfGL",
      "execution_count": 107,
      "outputs": [
        {
          "output_type": "error",
          "ename": "AnalysisException",
          "evalue": "ignored",
          "traceback": [
            "\u001b[0;31m---------------------------------------------------------------------------\u001b[0m",
            "\u001b[0;31mAnalysisException\u001b[0m                         Traceback (most recent call last)",
            "\u001b[0;32m<ipython-input-107-abc26fdc6c4b>\u001b[0m in \u001b[0;36m<module>\u001b[0;34m\u001b[0m\n\u001b[1;32m      1\u001b[0m \u001b[0;32mfrom\u001b[0m \u001b[0mpyspark\u001b[0m\u001b[0;34m.\u001b[0m\u001b[0msql\u001b[0m\u001b[0;34m.\u001b[0m\u001b[0mfunctions\u001b[0m \u001b[0;32mimport\u001b[0m \u001b[0mregexp_replace\u001b[0m\u001b[0;34m\u001b[0m\u001b[0;34m\u001b[0m\u001b[0m\n\u001b[1;32m      2\u001b[0m df = df.select(\"Year_released\", regexp_replace(\"Year_released\", \"abcdefghijklmnopqrstuvwxyzABCDEFGHIJKLMNOPQRSTUVWXYZ\", \"\"\n\u001b[0;32m----> 3\u001b[0;31m                                     ).alias('Year_released'))\n\u001b[0m",
            "\u001b[0;32m/content/spark-3.1.1-bin-hadoop3.2/python/pyspark/sql/dataframe.py\u001b[0m in \u001b[0;36mselect\u001b[0;34m(self, *cols)\u001b[0m\n\u001b[1;32m   1667\u001b[0m         \u001b[0;34m[\u001b[0m\u001b[0mRow\u001b[0m\u001b[0;34m(\u001b[0m\u001b[0mname\u001b[0m\u001b[0;34m=\u001b[0m\u001b[0;34m'Alice'\u001b[0m\u001b[0;34m,\u001b[0m \u001b[0mage\u001b[0m\u001b[0;34m=\u001b[0m\u001b[0;36m12\u001b[0m\u001b[0;34m)\u001b[0m\u001b[0;34m,\u001b[0m \u001b[0mRow\u001b[0m\u001b[0;34m(\u001b[0m\u001b[0mname\u001b[0m\u001b[0;34m=\u001b[0m\u001b[0;34m'Bob'\u001b[0m\u001b[0;34m,\u001b[0m \u001b[0mage\u001b[0m\u001b[0;34m=\u001b[0m\u001b[0;36m15\u001b[0m\u001b[0;34m)\u001b[0m\u001b[0;34m]\u001b[0m\u001b[0;34m\u001b[0m\u001b[0;34m\u001b[0m\u001b[0m\n\u001b[1;32m   1668\u001b[0m         \"\"\"\n\u001b[0;32m-> 1669\u001b[0;31m         \u001b[0mjdf\u001b[0m \u001b[0;34m=\u001b[0m \u001b[0mself\u001b[0m\u001b[0;34m.\u001b[0m\u001b[0m_jdf\u001b[0m\u001b[0;34m.\u001b[0m\u001b[0mselect\u001b[0m\u001b[0;34m(\u001b[0m\u001b[0mself\u001b[0m\u001b[0;34m.\u001b[0m\u001b[0m_jcols\u001b[0m\u001b[0;34m(\u001b[0m\u001b[0;34m*\u001b[0m\u001b[0mcols\u001b[0m\u001b[0;34m)\u001b[0m\u001b[0;34m)\u001b[0m\u001b[0;34m\u001b[0m\u001b[0;34m\u001b[0m\u001b[0m\n\u001b[0m\u001b[1;32m   1670\u001b[0m         \u001b[0;32mreturn\u001b[0m \u001b[0mDataFrame\u001b[0m\u001b[0;34m(\u001b[0m\u001b[0mjdf\u001b[0m\u001b[0;34m,\u001b[0m \u001b[0mself\u001b[0m\u001b[0;34m.\u001b[0m\u001b[0msql_ctx\u001b[0m\u001b[0;34m)\u001b[0m\u001b[0;34m\u001b[0m\u001b[0;34m\u001b[0m\u001b[0m\n\u001b[1;32m   1671\u001b[0m \u001b[0;34m\u001b[0m\u001b[0m\n",
            "\u001b[0;32m/content/spark-3.1.1-bin-hadoop3.2/python/lib/py4j-0.10.9-src.zip/py4j/java_gateway.py\u001b[0m in \u001b[0;36m__call__\u001b[0;34m(self, *args)\u001b[0m\n\u001b[1;32m   1303\u001b[0m         \u001b[0manswer\u001b[0m \u001b[0;34m=\u001b[0m \u001b[0mself\u001b[0m\u001b[0;34m.\u001b[0m\u001b[0mgateway_client\u001b[0m\u001b[0;34m.\u001b[0m\u001b[0msend_command\u001b[0m\u001b[0;34m(\u001b[0m\u001b[0mcommand\u001b[0m\u001b[0;34m)\u001b[0m\u001b[0;34m\u001b[0m\u001b[0;34m\u001b[0m\u001b[0m\n\u001b[1;32m   1304\u001b[0m         return_value = get_return_value(\n\u001b[0;32m-> 1305\u001b[0;31m             answer, self.gateway_client, self.target_id, self.name)\n\u001b[0m\u001b[1;32m   1306\u001b[0m \u001b[0;34m\u001b[0m\u001b[0m\n\u001b[1;32m   1307\u001b[0m         \u001b[0;32mfor\u001b[0m \u001b[0mtemp_arg\u001b[0m \u001b[0;32min\u001b[0m \u001b[0mtemp_args\u001b[0m\u001b[0;34m:\u001b[0m\u001b[0;34m\u001b[0m\u001b[0;34m\u001b[0m\u001b[0m\n",
            "\u001b[0;32m/content/spark-3.1.1-bin-hadoop3.2/python/pyspark/sql/utils.py\u001b[0m in \u001b[0;36mdeco\u001b[0;34m(*a, **kw)\u001b[0m\n\u001b[1;32m    115\u001b[0m                 \u001b[0;31m# Hide where the exception came from that shows a non-Pythonic\u001b[0m\u001b[0;34m\u001b[0m\u001b[0;34m\u001b[0m\u001b[0;34m\u001b[0m\u001b[0m\n\u001b[1;32m    116\u001b[0m                 \u001b[0;31m# JVM exception message.\u001b[0m\u001b[0;34m\u001b[0m\u001b[0;34m\u001b[0m\u001b[0;34m\u001b[0m\u001b[0m\n\u001b[0;32m--> 117\u001b[0;31m                 \u001b[0;32mraise\u001b[0m \u001b[0mconverted\u001b[0m \u001b[0;32mfrom\u001b[0m \u001b[0;32mNone\u001b[0m\u001b[0;34m\u001b[0m\u001b[0;34m\u001b[0m\u001b[0m\n\u001b[0m\u001b[1;32m    118\u001b[0m             \u001b[0;32melse\u001b[0m\u001b[0;34m:\u001b[0m\u001b[0;34m\u001b[0m\u001b[0;34m\u001b[0m\u001b[0m\n\u001b[1;32m    119\u001b[0m                 \u001b[0;32mraise\u001b[0m\u001b[0;34m\u001b[0m\u001b[0;34m\u001b[0m\u001b[0m\n",
            "\u001b[0;31mAnalysisException\u001b[0m: Reference 'Year_released' is ambiguous, could be: Year_released, Year_released."
          ]
        }
      ]
    },
    {
      "cell_type": "code",
      "source": [
        "df.show"
      ],
      "metadata": {
        "colab": {
          "base_uri": "https://localhost:8080/"
        },
        "id": "MASZMf5SVMpH",
        "outputId": "da7a58c4-d588-407c-8f7d-2bbf89f850ed"
      },
      "id": "MASZMf5SVMpH",
      "execution_count": 108,
      "outputs": [
        {
          "output_type": "execute_result",
          "data": {
            "text/plain": [
              "<bound method DataFrame.show of +-------------+-------------+\n",
              "|Year_released|Year_released|\n",
              "+-------------+-------------+\n",
              "|         null|         null|\n",
              "|         null|         null|\n",
              "|         null|         null|\n",
              "|         null|         null|\n",
              "|         null|         null|\n",
              "|         null|         null|\n",
              "|         null|         null|\n",
              "|         null|         null|\n",
              "|         null|         null|\n",
              "|         null|         null|\n",
              "|         null|         null|\n",
              "|         null|         null|\n",
              "|         null|         null|\n",
              "|         null|         null|\n",
              "|         null|         null|\n",
              "|         null|         null|\n",
              "|         null|         null|\n",
              "|         null|         null|\n",
              "|         null|         null|\n",
              "|         null|         null|\n",
              "+-------------+-------------+\n",
              "only showing top 20 rows\n",
              ">"
            ]
          },
          "metadata": {},
          "execution_count": 108
        }
      ]
    },
    {
      "cell_type": "code",
      "source": [
        "#8\n",
        "from google.colab import files\n",
        "uploaded=files.upload()"
      ],
      "metadata": {
        "colab": {
          "base_uri": "https://localhost:8080/",
          "height": 38
        },
        "id": "ClzZ9REswPBX",
        "outputId": "5fa054f8-1f36-450d-8a9e-560b3a063076"
      },
      "id": "ClzZ9REswPBX",
      "execution_count": 103,
      "outputs": [
        {
          "output_type": "display_data",
          "data": {
            "text/plain": [
              "<IPython.core.display.HTML object>"
            ],
            "text/html": [
              "\n",
              "     <input type=\"file\" id=\"files-46697180-3456-414c-8e9c-042092358e03\" name=\"files[]\" multiple disabled\n",
              "        style=\"border:none\" />\n",
              "     <output id=\"result-46697180-3456-414c-8e9c-042092358e03\">\n",
              "      Upload widget is only available when the cell has been executed in the\n",
              "      current browser session. Please rerun this cell to enable.\n",
              "      </output>\n",
              "      <script>// Copyright 2017 Google LLC\n",
              "//\n",
              "// Licensed under the Apache License, Version 2.0 (the \"License\");\n",
              "// you may not use this file except in compliance with the License.\n",
              "// You may obtain a copy of the License at\n",
              "//\n",
              "//      http://www.apache.org/licenses/LICENSE-2.0\n",
              "//\n",
              "// Unless required by applicable law or agreed to in writing, software\n",
              "// distributed under the License is distributed on an \"AS IS\" BASIS,\n",
              "// WITHOUT WARRANTIES OR CONDITIONS OF ANY KIND, either express or implied.\n",
              "// See the License for the specific language governing permissions and\n",
              "// limitations under the License.\n",
              "\n",
              "/**\n",
              " * @fileoverview Helpers for google.colab Python module.\n",
              " */\n",
              "(function(scope) {\n",
              "function span(text, styleAttributes = {}) {\n",
              "  const element = document.createElement('span');\n",
              "  element.textContent = text;\n",
              "  for (const key of Object.keys(styleAttributes)) {\n",
              "    element.style[key] = styleAttributes[key];\n",
              "  }\n",
              "  return element;\n",
              "}\n",
              "\n",
              "// Max number of bytes which will be uploaded at a time.\n",
              "const MAX_PAYLOAD_SIZE = 100 * 1024;\n",
              "\n",
              "function _uploadFiles(inputId, outputId) {\n",
              "  const steps = uploadFilesStep(inputId, outputId);\n",
              "  const outputElement = document.getElementById(outputId);\n",
              "  // Cache steps on the outputElement to make it available for the next call\n",
              "  // to uploadFilesContinue from Python.\n",
              "  outputElement.steps = steps;\n",
              "\n",
              "  return _uploadFilesContinue(outputId);\n",
              "}\n",
              "\n",
              "// This is roughly an async generator (not supported in the browser yet),\n",
              "// where there are multiple asynchronous steps and the Python side is going\n",
              "// to poll for completion of each step.\n",
              "// This uses a Promise to block the python side on completion of each step,\n",
              "// then passes the result of the previous step as the input to the next step.\n",
              "function _uploadFilesContinue(outputId) {\n",
              "  const outputElement = document.getElementById(outputId);\n",
              "  const steps = outputElement.steps;\n",
              "\n",
              "  const next = steps.next(outputElement.lastPromiseValue);\n",
              "  return Promise.resolve(next.value.promise).then((value) => {\n",
              "    // Cache the last promise value to make it available to the next\n",
              "    // step of the generator.\n",
              "    outputElement.lastPromiseValue = value;\n",
              "    return next.value.response;\n",
              "  });\n",
              "}\n",
              "\n",
              "/**\n",
              " * Generator function which is called between each async step of the upload\n",
              " * process.\n",
              " * @param {string} inputId Element ID of the input file picker element.\n",
              " * @param {string} outputId Element ID of the output display.\n",
              " * @return {!Iterable<!Object>} Iterable of next steps.\n",
              " */\n",
              "function* uploadFilesStep(inputId, outputId) {\n",
              "  const inputElement = document.getElementById(inputId);\n",
              "  inputElement.disabled = false;\n",
              "\n",
              "  const outputElement = document.getElementById(outputId);\n",
              "  outputElement.innerHTML = '';\n",
              "\n",
              "  const pickedPromise = new Promise((resolve) => {\n",
              "    inputElement.addEventListener('change', (e) => {\n",
              "      resolve(e.target.files);\n",
              "    });\n",
              "  });\n",
              "\n",
              "  const cancel = document.createElement('button');\n",
              "  inputElement.parentElement.appendChild(cancel);\n",
              "  cancel.textContent = 'Cancel upload';\n",
              "  const cancelPromise = new Promise((resolve) => {\n",
              "    cancel.onclick = () => {\n",
              "      resolve(null);\n",
              "    };\n",
              "  });\n",
              "\n",
              "  // Wait for the user to pick the files.\n",
              "  const files = yield {\n",
              "    promise: Promise.race([pickedPromise, cancelPromise]),\n",
              "    response: {\n",
              "      action: 'starting',\n",
              "    }\n",
              "  };\n",
              "\n",
              "  cancel.remove();\n",
              "\n",
              "  // Disable the input element since further picks are not allowed.\n",
              "  inputElement.disabled = true;\n",
              "\n",
              "  if (!files) {\n",
              "    return {\n",
              "      response: {\n",
              "        action: 'complete',\n",
              "      }\n",
              "    };\n",
              "  }\n",
              "\n",
              "  for (const file of files) {\n",
              "    const li = document.createElement('li');\n",
              "    li.append(span(file.name, {fontWeight: 'bold'}));\n",
              "    li.append(span(\n",
              "        `(${file.type || 'n/a'}) - ${file.size} bytes, ` +\n",
              "        `last modified: ${\n",
              "            file.lastModifiedDate ? file.lastModifiedDate.toLocaleDateString() :\n",
              "                                    'n/a'} - `));\n",
              "    const percent = span('0% done');\n",
              "    li.appendChild(percent);\n",
              "\n",
              "    outputElement.appendChild(li);\n",
              "\n",
              "    const fileDataPromise = new Promise((resolve) => {\n",
              "      const reader = new FileReader();\n",
              "      reader.onload = (e) => {\n",
              "        resolve(e.target.result);\n",
              "      };\n",
              "      reader.readAsArrayBuffer(file);\n",
              "    });\n",
              "    // Wait for the data to be ready.\n",
              "    let fileData = yield {\n",
              "      promise: fileDataPromise,\n",
              "      response: {\n",
              "        action: 'continue',\n",
              "      }\n",
              "    };\n",
              "\n",
              "    // Use a chunked sending to avoid message size limits. See b/62115660.\n",
              "    let position = 0;\n",
              "    do {\n",
              "      const length = Math.min(fileData.byteLength - position, MAX_PAYLOAD_SIZE);\n",
              "      const chunk = new Uint8Array(fileData, position, length);\n",
              "      position += length;\n",
              "\n",
              "      const base64 = btoa(String.fromCharCode.apply(null, chunk));\n",
              "      yield {\n",
              "        response: {\n",
              "          action: 'append',\n",
              "          file: file.name,\n",
              "          data: base64,\n",
              "        },\n",
              "      };\n",
              "\n",
              "      let percentDone = fileData.byteLength === 0 ?\n",
              "          100 :\n",
              "          Math.round((position / fileData.byteLength) * 100);\n",
              "      percent.textContent = `${percentDone}% done`;\n",
              "\n",
              "    } while (position < fileData.byteLength);\n",
              "  }\n",
              "\n",
              "  // All done.\n",
              "  yield {\n",
              "    response: {\n",
              "      action: 'complete',\n",
              "    }\n",
              "  };\n",
              "}\n",
              "\n",
              "scope.google = scope.google || {};\n",
              "scope.google.colab = scope.google.colab || {};\n",
              "scope.google.colab._files = {\n",
              "  _uploadFiles,\n",
              "  _uploadFilesContinue,\n",
              "};\n",
              "})(self);\n",
              "</script> "
            ]
          },
          "metadata": {}
        }
      ]
    },
    {
      "cell_type": "code",
      "source": [
        "schema=StructType([\\\n",
        "                  StructField(\"Id\",IntegerType(),True),\\\n",
        "                  StructField(\"gender\",StringType(),True),\\\n",
        "                  StructField(\"MovieID\",IntegerType(),True),\\\n",
        "                  StructField(\"rating\",IntegerType(),True),\\\n",
        "                  StructField(\"numbers\",IntegerType(),True)\\\n",
        "                   ])"
      ],
      "metadata": {
        "id": "nNSsFRkcwXOD"
      },
      "id": "nNSsFRkcwXOD",
      "execution_count": 21,
      "outputs": []
    },
    {
      "cell_type": "code",
      "source": [
        "df=spark.read.csv(\"users.csv\",sep=\"::\",schema=schema)\n",
        "df.show()"
      ],
      "metadata": {
        "colab": {
          "base_uri": "https://localhost:8080/"
        },
        "id": "KspH-h82w9YC",
        "outputId": "f05de9e3-348a-4745-ab67-03f270591b71"
      },
      "id": "KspH-h82w9YC",
      "execution_count": 33,
      "outputs": [
        {
          "output_type": "stream",
          "name": "stdout",
          "text": [
            "+----+------+-------+------+-------+\n",
            "|  Id|gender|MovieID|rating|numbers|\n",
            "+----+------+-------+------+-------+\n",
            "|2022|  null|   null|  null|   null|\n",
            "|null|  null|   null|  null|   null|\n",
            "|null|  null|   null|  null|   null|\n",
            "|   1|     F|      1|    10|  48067|\n",
            "|   2|     M|     56|    16|  70072|\n",
            "|   3|     M|     25|    15|  55117|\n",
            "|   4|     M|     45|     7|   2460|\n",
            "|   5|     M|     25|    20|  55455|\n",
            "|   6|     F|     50|     9|  55117|\n",
            "|   7|     M|     35|     1|   6810|\n",
            "|   8|     M|     25|    12|  11413|\n",
            "|   9|     M|     25|    17|  61614|\n",
            "|  10|     F|     35|     1|  95370|\n",
            "|  11|     F|     25|     1|   4093|\n",
            "|  12|     M|     25|    12|  32793|\n",
            "|  13|     M|     45|     1|  93304|\n",
            "|  14|     M|     35|     0|  60126|\n",
            "|  15|     M|     25|     7|  22903|\n",
            "|  16|     F|     35|     0|  20670|\n",
            "|  17|     M|     50|     1|  95350|\n",
            "+----+------+-------+------+-------+\n",
            "only showing top 20 rows\n",
            "\n"
          ]
        }
      ]
    },
    {
      "cell_type": "code",
      "source": [
        "df=df.drop(\"numbers\")\n",
        "df.show()"
      ],
      "metadata": {
        "colab": {
          "base_uri": "https://localhost:8080/"
        },
        "id": "w3pnPZSYxPst",
        "outputId": "f0ca6c2d-7b2c-4c62-bc74-82ce5ae3abf7"
      },
      "id": "w3pnPZSYxPst",
      "execution_count": 24,
      "outputs": [
        {
          "output_type": "stream",
          "name": "stdout",
          "text": [
            "+----+------+-------+------+\n",
            "|  Id|gender|MovieID|rating|\n",
            "+----+------+-------+------+\n",
            "|2022|  null|   null|  null|\n",
            "|null|  null|   null|  null|\n",
            "|null|  null|   null|  null|\n",
            "|   1|     F|      1|    10|\n",
            "|   2|     M|     56|    16|\n",
            "|   3|     M|     25|    15|\n",
            "|   4|     M|     45|     7|\n",
            "|   5|     M|     25|    20|\n",
            "|   6|     F|     50|     9|\n",
            "|   7|     M|     35|     1|\n",
            "|   8|     M|     25|    12|\n",
            "|   9|     M|     25|    17|\n",
            "|  10|     F|     35|     1|\n",
            "|  11|     F|     25|     1|\n",
            "|  12|     M|     25|    12|\n",
            "|  13|     M|     45|     1|\n",
            "|  14|     M|     35|     0|\n",
            "|  15|     M|     25|     7|\n",
            "|  16|     F|     35|     0|\n",
            "|  17|     M|     50|     1|\n",
            "+----+------+-------+------+\n",
            "only showing top 20 rows\n",
            "\n"
          ]
        }
      ]
    },
    {
      "cell_type": "code",
      "source": [],
      "metadata": {
        "id": "6Qpt_KsKxUtl"
      },
      "id": "6Qpt_KsKxUtl",
      "execution_count": null,
      "outputs": []
    }
  ],
  "metadata": {
    "colab": {
      "provenance": []
    },
    "language_info": {
      "name": "python"
    },
    "kernelspec": {
      "name": "python3",
      "display_name": "Python 3"
    },
    "gpuClass": "standard"
  },
  "nbformat": 4,
  "nbformat_minor": 5
}