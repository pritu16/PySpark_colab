{
  "cells": [
    {
      "cell_type": "code",
      "source": [
        "!apt-get install openjdk-8-jdk-headless -qq > /dev/null\n",
        "!wget -q http://archive.apache.org/dist/spark/spark-3.1.1/spark-3.1.1-bin-hadoop3.2.tgz\n",
        "!tar xf spark-3.1.1-bin-hadoop3.2.tgz\n",
        "!pip install -q findspark"
      ],
      "metadata": {
        "id": "ZBHhFczZ5b8q"
      },
      "id": "ZBHhFczZ5b8q",
      "execution_count": 114,
      "outputs": []
    },
    {
      "cell_type": "code",
      "source": [
        "import os\n",
        "os.environ[\"JAVA_HOME\"] = \"/usr/lib/jvm/java-8-openjdk-amd64\"\n",
        "os.environ[\"SPARK_HOME\"] = \"/content/spark-3.1.1-bin-hadoop3.2\"\n",
        "     "
      ],
      "metadata": {
        "id": "CAg5svbx5w1N"
      },
      "id": "CAg5svbx5w1N",
      "execution_count": 115,
      "outputs": []
    },
    {
      "cell_type": "code",
      "source": [
        "import findspark\n",
        "findspark.init()\n",
        "from pyspark.sql import SparkSession\n",
        "spark = SparkSession.builder.master(\"local[*]\").getOrCreate()\n",
        "spark.conf.set(\"spark.sql.repl.eagerEval.enabled\", True) # Property used to format output tables better\n",
        "spark"
      ],
      "metadata": {
        "colab": {
          "base_uri": "https://localhost:8080/",
          "height": 219
        },
        "id": "nc679x-N50LH",
        "outputId": "b0e30894-64c2-4be6-ee55-90ae174a7816"
      },
      "id": "nc679x-N50LH",
      "execution_count": 116,
      "outputs": [
        {
          "output_type": "execute_result",
          "data": {
            "text/plain": [
              "<pyspark.sql.session.SparkSession at 0x7f8c4b522ee0>"
            ],
            "text/html": [
              "\n",
              "            <div>\n",
              "                <p><b>SparkSession - in-memory</b></p>\n",
              "                \n",
              "        <div>\n",
              "            <p><b>SparkContext</b></p>\n",
              "\n",
              "            <p><a href=\"http://ad7418268d95:4040\">Spark UI</a></p>\n",
              "\n",
              "            <dl>\n",
              "              <dt>Version</dt>\n",
              "                <dd><code>v3.1.1</code></dd>\n",
              "              <dt>Master</dt>\n",
              "                <dd><code>local[*]</code></dd>\n",
              "              <dt>AppName</dt>\n",
              "                <dd><code>pyspark-shell</code></dd>\n",
              "            </dl>\n",
              "        </div>\n",
              "        \n",
              "            </div>\n",
              "        "
            ]
          },
          "metadata": {},
          "execution_count": 116
        }
      ]
    },
    {
      "cell_type": "code",
      "source": [
        "from google.colab import files\n",
        "uploaded=files.upload()\n"
      ],
      "metadata": {
        "colab": {
          "base_uri": "https://localhost:8080/",
          "height": 73
        },
        "id": "O8Ik_G1X52Wk",
        "outputId": "73d561ed-0ab7-4ec4-bba2-5077472826cb"
      },
      "id": "O8Ik_G1X52Wk",
      "execution_count": 117,
      "outputs": [
        {
          "output_type": "display_data",
          "data": {
            "text/plain": [
              "<IPython.core.display.HTML object>"
            ],
            "text/html": [
              "\n",
              "     <input type=\"file\" id=\"files-ddc3dd25-181a-43e0-b8ae-4250bf47bab0\" name=\"files[]\" multiple disabled\n",
              "        style=\"border:none\" />\n",
              "     <output id=\"result-ddc3dd25-181a-43e0-b8ae-4250bf47bab0\">\n",
              "      Upload widget is only available when the cell has been executed in the\n",
              "      current browser session. Please rerun this cell to enable.\n",
              "      </output>\n",
              "      <script>// Copyright 2017 Google LLC\n",
              "//\n",
              "// Licensed under the Apache License, Version 2.0 (the \"License\");\n",
              "// you may not use this file except in compliance with the License.\n",
              "// You may obtain a copy of the License at\n",
              "//\n",
              "//      http://www.apache.org/licenses/LICENSE-2.0\n",
              "//\n",
              "// Unless required by applicable law or agreed to in writing, software\n",
              "// distributed under the License is distributed on an \"AS IS\" BASIS,\n",
              "// WITHOUT WARRANTIES OR CONDITIONS OF ANY KIND, either express or implied.\n",
              "// See the License for the specific language governing permissions and\n",
              "// limitations under the License.\n",
              "\n",
              "/**\n",
              " * @fileoverview Helpers for google.colab Python module.\n",
              " */\n",
              "(function(scope) {\n",
              "function span(text, styleAttributes = {}) {\n",
              "  const element = document.createElement('span');\n",
              "  element.textContent = text;\n",
              "  for (const key of Object.keys(styleAttributes)) {\n",
              "    element.style[key] = styleAttributes[key];\n",
              "  }\n",
              "  return element;\n",
              "}\n",
              "\n",
              "// Max number of bytes which will be uploaded at a time.\n",
              "const MAX_PAYLOAD_SIZE = 100 * 1024;\n",
              "\n",
              "function _uploadFiles(inputId, outputId) {\n",
              "  const steps = uploadFilesStep(inputId, outputId);\n",
              "  const outputElement = document.getElementById(outputId);\n",
              "  // Cache steps on the outputElement to make it available for the next call\n",
              "  // to uploadFilesContinue from Python.\n",
              "  outputElement.steps = steps;\n",
              "\n",
              "  return _uploadFilesContinue(outputId);\n",
              "}\n",
              "\n",
              "// This is roughly an async generator (not supported in the browser yet),\n",
              "// where there are multiple asynchronous steps and the Python side is going\n",
              "// to poll for completion of each step.\n",
              "// This uses a Promise to block the python side on completion of each step,\n",
              "// then passes the result of the previous step as the input to the next step.\n",
              "function _uploadFilesContinue(outputId) {\n",
              "  const outputElement = document.getElementById(outputId);\n",
              "  const steps = outputElement.steps;\n",
              "\n",
              "  const next = steps.next(outputElement.lastPromiseValue);\n",
              "  return Promise.resolve(next.value.promise).then((value) => {\n",
              "    // Cache the last promise value to make it available to the next\n",
              "    // step of the generator.\n",
              "    outputElement.lastPromiseValue = value;\n",
              "    return next.value.response;\n",
              "  });\n",
              "}\n",
              "\n",
              "/**\n",
              " * Generator function which is called between each async step of the upload\n",
              " * process.\n",
              " * @param {string} inputId Element ID of the input file picker element.\n",
              " * @param {string} outputId Element ID of the output display.\n",
              " * @return {!Iterable<!Object>} Iterable of next steps.\n",
              " */\n",
              "function* uploadFilesStep(inputId, outputId) {\n",
              "  const inputElement = document.getElementById(inputId);\n",
              "  inputElement.disabled = false;\n",
              "\n",
              "  const outputElement = document.getElementById(outputId);\n",
              "  outputElement.innerHTML = '';\n",
              "\n",
              "  const pickedPromise = new Promise((resolve) => {\n",
              "    inputElement.addEventListener('change', (e) => {\n",
              "      resolve(e.target.files);\n",
              "    });\n",
              "  });\n",
              "\n",
              "  const cancel = document.createElement('button');\n",
              "  inputElement.parentElement.appendChild(cancel);\n",
              "  cancel.textContent = 'Cancel upload';\n",
              "  const cancelPromise = new Promise((resolve) => {\n",
              "    cancel.onclick = () => {\n",
              "      resolve(null);\n",
              "    };\n",
              "  });\n",
              "\n",
              "  // Wait for the user to pick the files.\n",
              "  const files = yield {\n",
              "    promise: Promise.race([pickedPromise, cancelPromise]),\n",
              "    response: {\n",
              "      action: 'starting',\n",
              "    }\n",
              "  };\n",
              "\n",
              "  cancel.remove();\n",
              "\n",
              "  // Disable the input element since further picks are not allowed.\n",
              "  inputElement.disabled = true;\n",
              "\n",
              "  if (!files) {\n",
              "    return {\n",
              "      response: {\n",
              "        action: 'complete',\n",
              "      }\n",
              "    };\n",
              "  }\n",
              "\n",
              "  for (const file of files) {\n",
              "    const li = document.createElement('li');\n",
              "    li.append(span(file.name, {fontWeight: 'bold'}));\n",
              "    li.append(span(\n",
              "        `(${file.type || 'n/a'}) - ${file.size} bytes, ` +\n",
              "        `last modified: ${\n",
              "            file.lastModifiedDate ? file.lastModifiedDate.toLocaleDateString() :\n",
              "                                    'n/a'} - `));\n",
              "    const percent = span('0% done');\n",
              "    li.appendChild(percent);\n",
              "\n",
              "    outputElement.appendChild(li);\n",
              "\n",
              "    const fileDataPromise = new Promise((resolve) => {\n",
              "      const reader = new FileReader();\n",
              "      reader.onload = (e) => {\n",
              "        resolve(e.target.result);\n",
              "      };\n",
              "      reader.readAsArrayBuffer(file);\n",
              "    });\n",
              "    // Wait for the data to be ready.\n",
              "    let fileData = yield {\n",
              "      promise: fileDataPromise,\n",
              "      response: {\n",
              "        action: 'continue',\n",
              "      }\n",
              "    };\n",
              "\n",
              "    // Use a chunked sending to avoid message size limits. See b/62115660.\n",
              "    let position = 0;\n",
              "    do {\n",
              "      const length = Math.min(fileData.byteLength - position, MAX_PAYLOAD_SIZE);\n",
              "      const chunk = new Uint8Array(fileData, position, length);\n",
              "      position += length;\n",
              "\n",
              "      const base64 = btoa(String.fromCharCode.apply(null, chunk));\n",
              "      yield {\n",
              "        response: {\n",
              "          action: 'append',\n",
              "          file: file.name,\n",
              "          data: base64,\n",
              "        },\n",
              "      };\n",
              "\n",
              "      let percentDone = fileData.byteLength === 0 ?\n",
              "          100 :\n",
              "          Math.round((position / fileData.byteLength) * 100);\n",
              "      percent.textContent = `${percentDone}% done`;\n",
              "\n",
              "    } while (position < fileData.byteLength);\n",
              "  }\n",
              "\n",
              "  // All done.\n",
              "  yield {\n",
              "    response: {\n",
              "      action: 'complete',\n",
              "    }\n",
              "  };\n",
              "}\n",
              "\n",
              "scope.google = scope.google || {};\n",
              "scope.google.colab = scope.google.colab || {};\n",
              "scope.google.colab._files = {\n",
              "  _uploadFiles,\n",
              "  _uploadFilesContinue,\n",
              "};\n",
              "})(self);\n",
              "</script> "
            ]
          },
          "metadata": {}
        },
        {
          "output_type": "stream",
          "name": "stdout",
          "text": [
            "Saving salesmen.csv to salesmen (2).csv\n"
          ]
        }
      ]
    },
    {
      "cell_type": "code",
      "source": [
        "df=spark.read.format('csv').load('salesmen.csv',header=True)\n",
        "df.show()"
      ],
      "metadata": {
        "colab": {
          "base_uri": "https://localhost:8080/"
        },
        "id": "8m00YCUe58sz",
        "outputId": "44e45f27-35a8-49f9-d84e-6151d0f58a7d"
      },
      "id": "8m00YCUe58sz",
      "execution_count": 118,
      "outputs": [
        {
          "output_type": "stream",
          "name": "stdout",
          "text": [
            "+-------+--------+-------+\n",
            "|   Date|Salesman|Revenue|\n",
            "+-------+--------+-------+\n",
            "| 1/1/16|     Bob|   7172|\n",
            "| 1/2/16|     Bob|   6362|\n",
            "| 1/3/16|     Bob|   5982|\n",
            "| 1/4/16|     Bob|   7917|\n",
            "| 1/5/16|     Bob|   7837|\n",
            "| 1/6/16|     Bob|   1744|\n",
            "| 1/7/16|     Bob|    918|\n",
            "| 1/8/16|     Bob|   9863|\n",
            "| 1/9/16|     Bob|   8337|\n",
            "|1/10/16|     Bob|   7543|\n",
            "|1/11/16|     Bob|   1053|\n",
            "|1/12/16|     Bob|   4362|\n",
            "|1/13/16|     Bob|   6812|\n",
            "|1/14/16|     Bob|   9047|\n",
            "|1/15/16|     Bob|   3594|\n",
            "|1/16/16|     Bob|   9800|\n",
            "|1/17/16|     Bob|   7215|\n",
            "|1/18/16|     Bob|   7744|\n",
            "|1/19/16|     Bob|   9560|\n",
            "|1/20/16|     Bob|   9863|\n",
            "+-------+--------+-------+\n",
            "only showing top 20 rows\n",
            "\n"
          ]
        }
      ]
    },
    {
      "cell_type": "code",
      "source": [
        "import pyspark \n",
        "from pyspark.sql.functions import split\n",
        "split_col = pyspark.sql.functions.split(df['Date'], '/')\n",
        "df1 = df.select(\"Date\",\"Salesman\",\"Revenue\", split_col.getItem(0).alias('Month'),split_col.getItem(1).alias('Day'),split_col.getItem(2).alias('Year'))   \n",
        "df1.show(truncate=False)"
      ],
      "metadata": {
        "colab": {
          "base_uri": "https://localhost:8080/"
        },
        "id": "k5ZxUSnz6NUC",
        "outputId": "30d3d4c5-7244-4370-e1ab-db36a8feaa4f"
      },
      "id": "k5ZxUSnz6NUC",
      "execution_count": 119,
      "outputs": [
        {
          "output_type": "stream",
          "name": "stdout",
          "text": [
            "+-------+--------+-------+-----+---+----+\n",
            "|Date   |Salesman|Revenue|Month|Day|Year|\n",
            "+-------+--------+-------+-----+---+----+\n",
            "|1/1/16 |Bob     |7172   |1    |1  |16  |\n",
            "|1/2/16 |Bob     |6362   |1    |2  |16  |\n",
            "|1/3/16 |Bob     |5982   |1    |3  |16  |\n",
            "|1/4/16 |Bob     |7917   |1    |4  |16  |\n",
            "|1/5/16 |Bob     |7837   |1    |5  |16  |\n",
            "|1/6/16 |Bob     |1744   |1    |6  |16  |\n",
            "|1/7/16 |Bob     |918    |1    |7  |16  |\n",
            "|1/8/16 |Bob     |9863   |1    |8  |16  |\n",
            "|1/9/16 |Bob     |8337   |1    |9  |16  |\n",
            "|1/10/16|Bob     |7543   |1    |10 |16  |\n",
            "|1/11/16|Bob     |1053   |1    |11 |16  |\n",
            "|1/12/16|Bob     |4362   |1    |12 |16  |\n",
            "|1/13/16|Bob     |6812   |1    |13 |16  |\n",
            "|1/14/16|Bob     |9047   |1    |14 |16  |\n",
            "|1/15/16|Bob     |3594   |1    |15 |16  |\n",
            "|1/16/16|Bob     |9800   |1    |16 |16  |\n",
            "|1/17/16|Bob     |7215   |1    |17 |16  |\n",
            "|1/18/16|Bob     |7744   |1    |18 |16  |\n",
            "|1/19/16|Bob     |9560   |1    |19 |16  |\n",
            "|1/20/16|Bob     |9863   |1    |20 |16  |\n",
            "+-------+--------+-------+-----+---+----+\n",
            "only showing top 20 rows\n",
            "\n"
          ]
        }
      ]
    },
    {
      "cell_type": "code",
      "source": [
        "df2=df1.select('Date')\n",
        "df2.show()"
      ],
      "metadata": {
        "colab": {
          "base_uri": "https://localhost:8080/"
        },
        "id": "1jfwnTkS66yI",
        "outputId": "ff794ffd-540f-41e0-b416-f7355fd5df67"
      },
      "id": "1jfwnTkS66yI",
      "execution_count": 120,
      "outputs": [
        {
          "output_type": "stream",
          "name": "stdout",
          "text": [
            "+-------+\n",
            "|   Date|\n",
            "+-------+\n",
            "| 1/1/16|\n",
            "| 1/2/16|\n",
            "| 1/3/16|\n",
            "| 1/4/16|\n",
            "| 1/5/16|\n",
            "| 1/6/16|\n",
            "| 1/7/16|\n",
            "| 1/8/16|\n",
            "| 1/9/16|\n",
            "|1/10/16|\n",
            "|1/11/16|\n",
            "|1/12/16|\n",
            "|1/13/16|\n",
            "|1/14/16|\n",
            "|1/15/16|\n",
            "|1/16/16|\n",
            "|1/17/16|\n",
            "|1/18/16|\n",
            "|1/19/16|\n",
            "|1/20/16|\n",
            "+-------+\n",
            "only showing top 20 rows\n",
            "\n"
          ]
        }
      ]
    },
    {
      "cell_type": "code",
      "source": [
        "df3=df1.select('Salesman','Revenue')\n",
        "df3.show()"
      ],
      "metadata": {
        "colab": {
          "base_uri": "https://localhost:8080/"
        },
        "id": "Xpeu-asu7ZMw",
        "outputId": "deb930ef-331a-4086-8fc4-f89b7d436456"
      },
      "id": "Xpeu-asu7ZMw",
      "execution_count": 121,
      "outputs": [
        {
          "output_type": "stream",
          "name": "stdout",
          "text": [
            "+--------+-------+\n",
            "|Salesman|Revenue|\n",
            "+--------+-------+\n",
            "|     Bob|   7172|\n",
            "|     Bob|   6362|\n",
            "|     Bob|   5982|\n",
            "|     Bob|   7917|\n",
            "|     Bob|   7837|\n",
            "|     Bob|   1744|\n",
            "|     Bob|    918|\n",
            "|     Bob|   9863|\n",
            "|     Bob|   8337|\n",
            "|     Bob|   7543|\n",
            "|     Bob|   1053|\n",
            "|     Bob|   4362|\n",
            "|     Bob|   6812|\n",
            "|     Bob|   9047|\n",
            "|     Bob|   3594|\n",
            "|     Bob|   9800|\n",
            "|     Bob|   7215|\n",
            "|     Bob|   7744|\n",
            "|     Bob|   9560|\n",
            "|     Bob|   9863|\n",
            "+--------+-------+\n",
            "only showing top 20 rows\n",
            "\n"
          ]
        }
      ]
    },
    {
      "cell_type": "code",
      "source": [
        "df4=df1.select('Month','Day','Year')\n",
        "df4.show()"
      ],
      "metadata": {
        "colab": {
          "base_uri": "https://localhost:8080/"
        },
        "id": "XOZqjE1C7hPX",
        "outputId": "aa88824e-830f-4f1f-cacc-c1b63a638164"
      },
      "id": "XOZqjE1C7hPX",
      "execution_count": 122,
      "outputs": [
        {
          "output_type": "stream",
          "name": "stdout",
          "text": [
            "+-----+---+----+\n",
            "|Month|Day|Year|\n",
            "+-----+---+----+\n",
            "|    1|  1|  16|\n",
            "|    1|  2|  16|\n",
            "|    1|  3|  16|\n",
            "|    1|  4|  16|\n",
            "|    1|  5|  16|\n",
            "|    1|  6|  16|\n",
            "|    1|  7|  16|\n",
            "|    1|  8|  16|\n",
            "|    1|  9|  16|\n",
            "|    1| 10|  16|\n",
            "|    1| 11|  16|\n",
            "|    1| 12|  16|\n",
            "|    1| 13|  16|\n",
            "|    1| 14|  16|\n",
            "|    1| 15|  16|\n",
            "|    1| 16|  16|\n",
            "|    1| 17|  16|\n",
            "|    1| 18|  16|\n",
            "|    1| 19|  16|\n",
            "|    1| 20|  16|\n",
            "+-----+---+----+\n",
            "only showing top 20 rows\n",
            "\n"
          ]
        }
      ]
    },
    {
      "cell_type": "code",
      "source": [
        "'''from pyspark.sql.types import StructType, StructField, IntegerType, StringType\n",
        "schema=StructType([\\\n",
        "                  StructField(\"Month\",IntegerType(),True),\\\n",
        "                  StructField(\"Day\",IntegerType(),True),\\\n",
        "                  StructField(\"Year\",IntegerType(),True)\\\n",
        "                   ])'''"
      ],
      "metadata": {
        "colab": {
          "base_uri": "https://localhost:8080/",
          "height": 53
        },
        "id": "9J8HZKjw8gdK",
        "outputId": "f81804be-c767-47b0-dcb1-05d8d711f535"
      },
      "id": "9J8HZKjw8gdK",
      "execution_count": 123,
      "outputs": [
        {
          "output_type": "execute_result",
          "data": {
            "text/plain": [
              "'from pyspark.sql.types import StructType, StructField, IntegerType, StringType\\nschema=StructType([                  StructField(\"Month\",IntegerType(),True),                  StructField(\"Day\",IntegerType(),True),                  StructField(\"Year\",IntegerType(),True)                   ])'"
            ],
            "application/vnd.google.colaboratory.intrinsic+json": {
              "type": "string"
            }
          },
          "metadata": {},
          "execution_count": 123
        }
      ]
    },
    {
      "cell_type": "code",
      "source": [
        "#unioned_df = unionAll([df2, df4, df3])\n",
        "#unioned_df.show()\n",
        "#dataframe2 = spark.createDataFrame(df2, df4)\n",
        "#dataframe2.show()\n",
        "df5=df2.join(df4,df2[\"Date\"] == df4[\"Month\"])\n",
        "df5.show()"
      ],
      "metadata": {
        "colab": {
          "base_uri": "https://localhost:8080/"
        },
        "id": "FKt-bDtP87GJ",
        "outputId": "45da5ed4-c273-4710-f207-e0e9854218ad"
      },
      "id": "FKt-bDtP87GJ",
      "execution_count": 124,
      "outputs": [
        {
          "output_type": "stream",
          "name": "stdout",
          "text": [
            "+----+-----+---+----+\n",
            "|Date|Month|Day|Year|\n",
            "+----+-----+---+----+\n",
            "+----+-----+---+----+\n",
            "\n"
          ]
        }
      ]
    },
    {
      "cell_type": "code",
      "source": [
        "df6=df3.join(df5,df3['Salesman']==df5['Year'])\n",
        "df6.show(10,truncate=False)                                              #doubt"
      ],
      "metadata": {
        "colab": {
          "base_uri": "https://localhost:8080/"
        },
        "id": "-eWxFNU97kkO",
        "outputId": "87c56ad2-0951-440b-9231-5830a30e6d04"
      },
      "id": "-eWxFNU97kkO",
      "execution_count": 125,
      "outputs": [
        {
          "output_type": "stream",
          "name": "stdout",
          "text": [
            "+--------+-------+----+-----+---+----+\n",
            "|Salesman|Revenue|Date|Month|Day|Year|\n",
            "+--------+-------+----+-----+---+----+\n",
            "+--------+-------+----+-----+---+----+\n",
            "\n"
          ]
        }
      ]
    },
    {
      "cell_type": "code",
      "source": [
        "#df1.select('Revenue').distinct().orderBy('Revenue').collect()[0]['Revenue']"
      ],
      "metadata": {
        "id": "qdywKiWh8BO8"
      },
      "id": "qdywKiWh8BO8",
      "execution_count": 126,
      "outputs": []
    },
    {
      "cell_type": "code",
      "source": [
        "df1.agg({'Revenue': 'max'}).show()"
      ],
      "metadata": {
        "colab": {
          "base_uri": "https://localhost:8080/"
        },
        "id": "JYhMwYc-EEYT",
        "outputId": "41528788-4967-45ed-e2b7-97f44e9867f8"
      },
      "id": "JYhMwYc-EEYT",
      "execution_count": 127,
      "outputs": [
        {
          "output_type": "stream",
          "name": "stdout",
          "text": [
            "+------------+\n",
            "|max(Revenue)|\n",
            "+------------+\n",
            "|        9999|\n",
            "+------------+\n",
            "\n"
          ]
        }
      ]
    },
    {
      "cell_type": "code",
      "source": [
        "df1.agg({'Revenue': 'min'}).show()"
      ],
      "metadata": {
        "colab": {
          "base_uri": "https://localhost:8080/"
        },
        "id": "YliCb_0hEr-Q",
        "outputId": "6e5a8d64-ad45-48fe-a2c1-163a55ec3817"
      },
      "id": "YliCb_0hEr-Q",
      "execution_count": 128,
      "outputs": [
        {
          "output_type": "stream",
          "name": "stdout",
          "text": [
            "+------------+\n",
            "|min(Revenue)|\n",
            "+------------+\n",
            "|           1|\n",
            "+------------+\n",
            "\n"
          ]
        }
      ]
    },
    {
      "cell_type": "code",
      "source": [
        "df1.agg({'Revenue': 'avg'}).show()"
      ],
      "metadata": {
        "colab": {
          "base_uri": "https://localhost:8080/"
        },
        "id": "vkdAZ9sGExV5",
        "outputId": "c1012b82-2d2c-4233-93f6-df985fff0083"
      },
      "id": "vkdAZ9sGExV5",
      "execution_count": 129,
      "outputs": [
        {
          "output_type": "stream",
          "name": "stdout",
          "text": [
            "+-----------------+\n",
            "|     avg(Revenue)|\n",
            "+-----------------+\n",
            "|5032.541530054645|\n",
            "+-----------------+\n",
            "\n"
          ]
        }
      ]
    },
    {
      "cell_type": "code",
      "source": [
        "max_count=df1.groupBy('Revenue').count()\n",
        "max_count.show()"
      ],
      "metadata": {
        "colab": {
          "base_uri": "https://localhost:8080/"
        },
        "id": "Wr7OIn9TFDfH",
        "outputId": "29ffe8c5-5229-4109-aba2-d708a7595555"
      },
      "id": "Wr7OIn9TFDfH",
      "execution_count": 130,
      "outputs": [
        {
          "output_type": "stream",
          "name": "stdout",
          "text": [
            "+-------+-----+\n",
            "|Revenue|count|\n",
            "+-------+-----+\n",
            "|   7711|    1|\n",
            "|   7252|    1|\n",
            "|   2136|    1|\n",
            "|    675|    1|\n",
            "|    467|    1|\n",
            "|   4821|    1|\n",
            "|   1436|    1|\n",
            "|   1090|    1|\n",
            "|   1572|    1|\n",
            "|   8304|    1|\n",
            "|   3517|    2|\n",
            "|   5023|    1|\n",
            "|    451|    1|\n",
            "|   9830|    1|\n",
            "|    944|    1|\n",
            "|   8092|    1|\n",
            "|   3826|    1|\n",
            "|   9630|    1|\n",
            "|   7743|    1|\n",
            "|   7655|    1|\n",
            "+-------+-----+\n",
            "only showing top 20 rows\n",
            "\n"
          ]
        }
      ]
    },
    {
      "cell_type": "code",
      "source": [
        "max_count.agg({'count': 'max'}).show()"
      ],
      "metadata": {
        "colab": {
          "base_uri": "https://localhost:8080/"
        },
        "id": "cHDLU3l1FcOX",
        "outputId": "9787c2af-c771-4a74-fd0b-d3af11d3a021"
      },
      "id": "cHDLU3l1FcOX",
      "execution_count": 131,
      "outputs": [
        {
          "output_type": "stream",
          "name": "stdout",
          "text": [
            "+----------+\n",
            "|max(count)|\n",
            "+----------+\n",
            "|         3|\n",
            "+----------+\n",
            "\n"
          ]
        }
      ]
    },
    {
      "cell_type": "code",
      "source": [
        "df1.select('Salesman').distinct().collect()"
      ],
      "metadata": {
        "colab": {
          "base_uri": "https://localhost:8080/"
        },
        "id": "-AMiZWSOFwDt",
        "outputId": "4b9c0f1c-511d-45ff-d859-a5f332bff499"
      },
      "id": "-AMiZWSOFwDt",
      "execution_count": 132,
      "outputs": [
        {
          "output_type": "execute_result",
          "data": {
            "text/plain": [
              "[Row(Salesman='Dave'),\n",
              " Row(Salesman='Ronald'),\n",
              " Row(Salesman='Bob'),\n",
              " Row(Salesman='Oscar'),\n",
              " Row(Salesman='Jeb')]"
            ]
          },
          "metadata": {},
          "execution_count": 132
        }
      ]
    },
    {
      "cell_type": "code",
      "source": [
        "df1.select('Revenue').distinct().collect()"
      ],
      "metadata": {
        "colab": {
          "base_uri": "https://localhost:8080/"
        },
        "id": "OWTXnpHlGH6H",
        "outputId": "39b37100-d017-42e6-c770-0ee157a70d8e"
      },
      "id": "OWTXnpHlGH6H",
      "execution_count": 133,
      "outputs": [
        {
          "output_type": "execute_result",
          "data": {
            "text/plain": [
              "[Row(Revenue='7711'),\n",
              " Row(Revenue='7252'),\n",
              " Row(Revenue='2136'),\n",
              " Row(Revenue='675'),\n",
              " Row(Revenue='467'),\n",
              " Row(Revenue='4821'),\n",
              " Row(Revenue='1436'),\n",
              " Row(Revenue='1090'),\n",
              " Row(Revenue='1572'),\n",
              " Row(Revenue='8304'),\n",
              " Row(Revenue='3517'),\n",
              " Row(Revenue='5023'),\n",
              " Row(Revenue='451'),\n",
              " Row(Revenue='9830'),\n",
              " Row(Revenue='944'),\n",
              " Row(Revenue='8092'),\n",
              " Row(Revenue='3826'),\n",
              " Row(Revenue='9630'),\n",
              " Row(Revenue='7743'),\n",
              " Row(Revenue='7655'),\n",
              " Row(Revenue='1361'),\n",
              " Row(Revenue='2696'),\n",
              " Row(Revenue='7263'),\n",
              " Row(Revenue='5757'),\n",
              " Row(Revenue='7378'),\n",
              " Row(Revenue='6081'),\n",
              " Row(Revenue='7487'),\n",
              " Row(Revenue='666'),\n",
              " Row(Revenue='1953'),\n",
              " Row(Revenue='7249'),\n",
              " Row(Revenue='9196'),\n",
              " Row(Revenue='5297'),\n",
              " Row(Revenue='7'),\n",
              " Row(Revenue='6820'),\n",
              " Row(Revenue='8409'),\n",
              " Row(Revenue='4988'),\n",
              " Row(Revenue='6380'),\n",
              " Row(Revenue='1957'),\n",
              " Row(Revenue='1695'),\n",
              " Row(Revenue='5450'),\n",
              " Row(Revenue='3895'),\n",
              " Row(Revenue='7544'),\n",
              " Row(Revenue='613'),\n",
              " Row(Revenue='5048'),\n",
              " Row(Revenue='7316'),\n",
              " Row(Revenue='8502'),\n",
              " Row(Revenue='8701'),\n",
              " Row(Revenue='8744'),\n",
              " Row(Revenue='5986'),\n",
              " Row(Revenue='9417'),\n",
              " Row(Revenue='1706'),\n",
              " Row(Revenue='4672'),\n",
              " Row(Revenue='4465'),\n",
              " Row(Revenue='5434'),\n",
              " Row(Revenue='9028'),\n",
              " Row(Revenue='4417'),\n",
              " Row(Revenue='2129'),\n",
              " Row(Revenue='6605'),\n",
              " Row(Revenue='3250'),\n",
              " Row(Revenue='6883'),\n",
              " Row(Revenue='7689'),\n",
              " Row(Revenue='2392'),\n",
              " Row(Revenue='647'),\n",
              " Row(Revenue='4408'),\n",
              " Row(Revenue='2531'),\n",
              " Row(Revenue='6958'),\n",
              " Row(Revenue='5306'),\n",
              " Row(Revenue='2341'),\n",
              " Row(Revenue='4415'),\n",
              " Row(Revenue='383'),\n",
              " Row(Revenue='7953'),\n",
              " Row(Revenue='3089'),\n",
              " Row(Revenue='15'),\n",
              " Row(Revenue='1008'),\n",
              " Row(Revenue='8229'),\n",
              " Row(Revenue='2436'),\n",
              " Row(Revenue='4730'),\n",
              " Row(Revenue='3863'),\n",
              " Row(Revenue='8424'),\n",
              " Row(Revenue='5497'),\n",
              " Row(Revenue='5352'),\n",
              " Row(Revenue='1207'),\n",
              " Row(Revenue='8432'),\n",
              " Row(Revenue='3145'),\n",
              " Row(Revenue='5426'),\n",
              " Row(Revenue='3581'),\n",
              " Row(Revenue='6300'),\n",
              " Row(Revenue='4884'),\n",
              " Row(Revenue='7621'),\n",
              " Row(Revenue='5829'),\n",
              " Row(Revenue='9951'),\n",
              " Row(Revenue='3808'),\n",
              " Row(Revenue='4369'),\n",
              " Row(Revenue='9560'),\n",
              " Row(Revenue='2951'),\n",
              " Row(Revenue='3884'),\n",
              " Row(Revenue='7335'),\n",
              " Row(Revenue='1093'),\n",
              " Row(Revenue='672'),\n",
              " Row(Revenue='938'),\n",
              " Row(Revenue='5520'),\n",
              " Row(Revenue='7508'),\n",
              " Row(Revenue='3578'),\n",
              " Row(Revenue='3584'),\n",
              " Row(Revenue='8743'),\n",
              " Row(Revenue='979'),\n",
              " Row(Revenue='279'),\n",
              " Row(Revenue='1112'),\n",
              " Row(Revenue='5060'),\n",
              " Row(Revenue='7293'),\n",
              " Row(Revenue='3709'),\n",
              " Row(Revenue='8206'),\n",
              " Row(Revenue='9047'),\n",
              " Row(Revenue='5572'),\n",
              " Row(Revenue='1497'),\n",
              " Row(Revenue='4638'),\n",
              " Row(Revenue='8256'),\n",
              " Row(Revenue='1111'),\n",
              " Row(Revenue='1620'),\n",
              " Row(Revenue='29'),\n",
              " Row(Revenue='9221'),\n",
              " Row(Revenue='788'),\n",
              " Row(Revenue='2846'),\n",
              " Row(Revenue='6538'),\n",
              " Row(Revenue='1735'),\n",
              " Row(Revenue='3399'),\n",
              " Row(Revenue='3546'),\n",
              " Row(Revenue='5809'),\n",
              " Row(Revenue='8267'),\n",
              " Row(Revenue='863'),\n",
              " Row(Revenue='6851'),\n",
              " Row(Revenue='9537'),\n",
              " Row(Revenue='2896'),\n",
              " Row(Revenue='991'),\n",
              " Row(Revenue='686'),\n",
              " Row(Revenue='9319'),\n",
              " Row(Revenue='73'),\n",
              " Row(Revenue='9581'),\n",
              " Row(Revenue='2772'),\n",
              " Row(Revenue='3583'),\n",
              " Row(Revenue='8654'),\n",
              " Row(Revenue='4144'),\n",
              " Row(Revenue='3496'),\n",
              " Row(Revenue='7910'),\n",
              " Row(Revenue='5193'),\n",
              " Row(Revenue='3090'),\n",
              " Row(Revenue='64'),\n",
              " Row(Revenue='3646'),\n",
              " Row(Revenue='2349'),\n",
              " Row(Revenue='6445'),\n",
              " Row(Revenue='4817'),\n",
              " Row(Revenue='5199'),\n",
              " Row(Revenue='710'),\n",
              " Row(Revenue='6047'),\n",
              " Row(Revenue='9791'),\n",
              " Row(Revenue='8974'),\n",
              " Row(Revenue='8888'),\n",
              " Row(Revenue='7188'),\n",
              " Row(Revenue='9107'),\n",
              " Row(Revenue='3325'),\n",
              " Row(Revenue='5072'),\n",
              " Row(Revenue='1365'),\n",
              " Row(Revenue='4269'),\n",
              " Row(Revenue='113'),\n",
              " Row(Revenue='3478'),\n",
              " Row(Revenue='6125'),\n",
              " Row(Revenue='8332'),\n",
              " Row(Revenue='6319'),\n",
              " Row(Revenue='9626'),\n",
              " Row(Revenue='3532'),\n",
              " Row(Revenue='8325'),\n",
              " Row(Revenue='4808'),\n",
              " Row(Revenue='7662'),\n",
              " Row(Revenue='9229'),\n",
              " Row(Revenue='5896'),\n",
              " Row(Revenue='924'),\n",
              " Row(Revenue='2578'),\n",
              " Row(Revenue='2085'),\n",
              " Row(Revenue='1758'),\n",
              " Row(Revenue='7343'),\n",
              " Row(Revenue='2739'),\n",
              " Row(Revenue='2252'),\n",
              " Row(Revenue='878'),\n",
              " Row(Revenue='8194'),\n",
              " Row(Revenue='3058'),\n",
              " Row(Revenue='9455'),\n",
              " Row(Revenue='7879'),\n",
              " Row(Revenue='1477'),\n",
              " Row(Revenue='4264'),\n",
              " Row(Revenue='4200'),\n",
              " Row(Revenue='3642'),\n",
              " Row(Revenue='8735'),\n",
              " Row(Revenue='8196'),\n",
              " Row(Revenue='2329'),\n",
              " Row(Revenue='2842'),\n",
              " Row(Revenue='5637'),\n",
              " Row(Revenue='7739'),\n",
              " Row(Revenue='4278'),\n",
              " Row(Revenue='1678'),\n",
              " Row(Revenue='9104'),\n",
              " Row(Revenue='2281'),\n",
              " Row(Revenue='7377'),\n",
              " Row(Revenue='903'),\n",
              " Row(Revenue='7906'),\n",
              " Row(Revenue='162'),\n",
              " Row(Revenue='3162'),\n",
              " Row(Revenue='2164'),\n",
              " Row(Revenue='3060'),\n",
              " Row(Revenue='4951'),\n",
              " Row(Revenue='6046'),\n",
              " Row(Revenue='5621'),\n",
              " Row(Revenue='2156'),\n",
              " Row(Revenue='9076'),\n",
              " Row(Revenue='4814'),\n",
              " Row(Revenue='9425'),\n",
              " Row(Revenue='7215'),\n",
              " Row(Revenue='8431'),\n",
              " Row(Revenue='2019'),\n",
              " Row(Revenue='8462'),\n",
              " Row(Revenue='7207'),\n",
              " Row(Revenue='5553'),\n",
              " Row(Revenue='1882'),\n",
              " Row(Revenue='7540'),\n",
              " Row(Revenue='160'),\n",
              " Row(Revenue='3429'),\n",
              " Row(Revenue='1296'),\n",
              " Row(Revenue='8284'),\n",
              " Row(Revenue='9550'),\n",
              " Row(Revenue='3447'),\n",
              " Row(Revenue='2561'),\n",
              " Row(Revenue='1407'),\n",
              " Row(Revenue='2211'),\n",
              " Row(Revenue='8446'),\n",
              " Row(Revenue='2882'),\n",
              " Row(Revenue='4020'),\n",
              " Row(Revenue='4896'),\n",
              " Row(Revenue='2816'),\n",
              " Row(Revenue='1971'),\n",
              " Row(Revenue='6374'),\n",
              " Row(Revenue='5421'),\n",
              " Row(Revenue='5346'),\n",
              " Row(Revenue='4271'),\n",
              " Row(Revenue='6101'),\n",
              " Row(Revenue='5326'),\n",
              " Row(Revenue='8584'),\n",
              " Row(Revenue='6753'),\n",
              " Row(Revenue='1054'),\n",
              " Row(Revenue='258'),\n",
              " Row(Revenue='3449'),\n",
              " Row(Revenue='5874'),\n",
              " Row(Revenue='4080'),\n",
              " Row(Revenue='5941'),\n",
              " Row(Revenue='8514'),\n",
              " Row(Revenue='1482'),\n",
              " Row(Revenue='4565'),\n",
              " Row(Revenue='8246'),\n",
              " Row(Revenue='9134'),\n",
              " Row(Revenue='2496'),\n",
              " Row(Revenue='22'),\n",
              " Row(Revenue='1651'),\n",
              " Row(Revenue='423'),\n",
              " Row(Revenue='636'),\n",
              " Row(Revenue='2570'),\n",
              " Row(Revenue='1794'),\n",
              " Row(Revenue='3405'),\n",
              " Row(Revenue='2630'),\n",
              " Row(Revenue='5437'),\n",
              " Row(Revenue='8389'),\n",
              " Row(Revenue='7827'),\n",
              " Row(Revenue='5105'),\n",
              " Row(Revenue='3358'),\n",
              " Row(Revenue='3402'),\n",
              " Row(Revenue='4362'),\n",
              " Row(Revenue='2967'),\n",
              " Row(Revenue='6182'),\n",
              " Row(Revenue='663'),\n",
              " Row(Revenue='6823'),\n",
              " Row(Revenue='5773'),\n",
              " Row(Revenue='556'),\n",
              " Row(Revenue='2903'),\n",
              " Row(Revenue='7490'),\n",
              " Row(Revenue='9274'),\n",
              " Row(Revenue='85'),\n",
              " Row(Revenue='3137'),\n",
              " Row(Revenue='52'),\n",
              " Row(Revenue='1711'),\n",
              " Row(Revenue='6886'),\n",
              " Row(Revenue='1565'),\n",
              " Row(Revenue='4365'),\n",
              " Row(Revenue='1143'),\n",
              " Row(Revenue='7222'),\n",
              " Row(Revenue='4835'),\n",
              " Row(Revenue='9478'),\n",
              " Row(Revenue='5696'),\n",
              " Row(Revenue='7985'),\n",
              " Row(Revenue='4748'),\n",
              " Row(Revenue='6899'),\n",
              " Row(Revenue='8592'),\n",
              " Row(Revenue='2263'),\n",
              " Row(Revenue='441'),\n",
              " Row(Revenue='7676'),\n",
              " Row(Revenue='7778'),\n",
              " Row(Revenue='5130'),\n",
              " Row(Revenue='8835'),\n",
              " Row(Revenue='4430'),\n",
              " Row(Revenue='8290'),\n",
              " Row(Revenue='5600'),\n",
              " Row(Revenue='9843'),\n",
              " Row(Revenue='4392'),\n",
              " Row(Revenue='3691'),\n",
              " Row(Revenue='2703'),\n",
              " Row(Revenue='1877'),\n",
              " Row(Revenue='2403'),\n",
              " Row(Revenue='3300'),\n",
              " Row(Revenue='9549'),\n",
              " Row(Revenue='5053'),\n",
              " Row(Revenue='8918'),\n",
              " Row(Revenue='4317'),\n",
              " Row(Revenue='2793'),\n",
              " Row(Revenue='1416'),\n",
              " Row(Revenue='6159'),\n",
              " Row(Revenue='7775'),\n",
              " Row(Revenue='4073'),\n",
              " Row(Revenue='9926'),\n",
              " Row(Revenue='2709'),\n",
              " Row(Revenue='7284'),\n",
              " Row(Revenue='1340'),\n",
              " Row(Revenue='8777'),\n",
              " Row(Revenue='7021'),\n",
              " Row(Revenue='8710'),\n",
              " Row(Revenue='6544'),\n",
              " Row(Revenue='4829'),\n",
              " Row(Revenue='2253'),\n",
              " Row(Revenue='8767'),\n",
              " Row(Revenue='5482'),\n",
              " Row(Revenue='568'),\n",
              " Row(Revenue='697'),\n",
              " Row(Revenue='3670'),\n",
              " Row(Revenue='7212'),\n",
              " Row(Revenue='7401'),\n",
              " Row(Revenue='3947'),\n",
              " Row(Revenue='3248'),\n",
              " Row(Revenue='1185'),\n",
              " Row(Revenue='6745'),\n",
              " Row(Revenue='110'),\n",
              " Row(Revenue='726'),\n",
              " Row(Revenue='554'),\n",
              " Row(Revenue='2795'),\n",
              " Row(Revenue='4702'),\n",
              " Row(Revenue='9866'),\n",
              " Row(Revenue='6956'),\n",
              " Row(Revenue='4389'),\n",
              " Row(Revenue='6812'),\n",
              " Row(Revenue='7155'),\n",
              " Row(Revenue='6468'),\n",
              " Row(Revenue='785'),\n",
              " Row(Revenue='3976'),\n",
              " Row(Revenue='3622'),\n",
              " Row(Revenue='4570'),\n",
              " Row(Revenue='3672'),\n",
              " Row(Revenue='4667'),\n",
              " Row(Revenue='5457'),\n",
              " Row(Revenue='9577'),\n",
              " Row(Revenue='1010'),\n",
              " Row(Revenue='4258'),\n",
              " Row(Revenue='4204'),\n",
              " Row(Revenue='4723'),\n",
              " Row(Revenue='1866'),\n",
              " Row(Revenue='4360'),\n",
              " Row(Revenue='7069'),\n",
              " Row(Revenue='5256'),\n",
              " Row(Revenue='8161'),\n",
              " Row(Revenue='6917'),\n",
              " Row(Revenue='1641'),\n",
              " Row(Revenue='2877'),\n",
              " Row(Revenue='8428'),\n",
              " Row(Revenue='1909'),\n",
              " Row(Revenue='6577'),\n",
              " Row(Revenue='7415'),\n",
              " Row(Revenue='4646'),\n",
              " Row(Revenue='9397'),\n",
              " Row(Revenue='267'),\n",
              " Row(Revenue='3909'),\n",
              " Row(Revenue='9636'),\n",
              " Row(Revenue='5894'),\n",
              " Row(Revenue='8059'),\n",
              " Row(Revenue='4843'),\n",
              " Row(Revenue='4397'),\n",
              " Row(Revenue='9152'),\n",
              " Row(Revenue='5350'),\n",
              " Row(Revenue='6139'),\n",
              " Row(Revenue='3283'),\n",
              " Row(Revenue='6670'),\n",
              " Row(Revenue='4245'),\n",
              " Row(Revenue='8591'),\n",
              " Row(Revenue='96'),\n",
              " Row(Revenue='825'),\n",
              " Row(Revenue='484'),\n",
              " Row(Revenue='3707'),\n",
              " Row(Revenue='327'),\n",
              " Row(Revenue='5734'),\n",
              " Row(Revenue='9720'),\n",
              " Row(Revenue='4255'),\n",
              " Row(Revenue='8661'),\n",
              " Row(Revenue='221'),\n",
              " Row(Revenue='7926'),\n",
              " Row(Revenue='1071'),\n",
              " Row(Revenue='4013'),\n",
              " Row(Revenue='8837'),\n",
              " Row(Revenue='43'),\n",
              " Row(Revenue='5788'),\n",
              " Row(Revenue='7606'),\n",
              " Row(Revenue='7217'),\n",
              " Row(Revenue='5376'),\n",
              " Row(Revenue='8408'),\n",
              " Row(Revenue='9421'),\n",
              " Row(Revenue='2479'),\n",
              " Row(Revenue='9072'),\n",
              " Row(Revenue='5261'),\n",
              " Row(Revenue='3068'),\n",
              " Row(Revenue='3296'),\n",
              " Row(Revenue='9842'),\n",
              " Row(Revenue='1592'),\n",
              " Row(Revenue='4547'),\n",
              " Row(Revenue='3196'),\n",
              " Row(Revenue='6151'),\n",
              " Row(Revenue='2174'),\n",
              " Row(Revenue='9868'),\n",
              " Row(Revenue='5692'),\n",
              " Row(Revenue='6213'),\n",
              " Row(Revenue='815'),\n",
              " Row(Revenue='7376'),\n",
              " Row(Revenue='5183'),\n",
              " Row(Revenue='9474'),\n",
              " Row(Revenue='1022'),\n",
              " Row(Revenue='9086'),\n",
              " Row(Revenue='100'),\n",
              " Row(Revenue='4615'),\n",
              " Row(Revenue='9089'),\n",
              " Row(Revenue='2351'),\n",
              " Row(Revenue='6448'),\n",
              " Row(Revenue='3285'),\n",
              " Row(Revenue='9288'),\n",
              " Row(Revenue='1749'),\n",
              " Row(Revenue='8922'),\n",
              " Row(Revenue='8674'),\n",
              " Row(Revenue='6025'),\n",
              " Row(Revenue='1254'),\n",
              " Row(Revenue='1616'),\n",
              " Row(Revenue='2437'),\n",
              " Row(Revenue='7782'),\n",
              " Row(Revenue='5624'),\n",
              " Row(Revenue='3309'),\n",
              " Row(Revenue='8642'),\n",
              " Row(Revenue='359'),\n",
              " Row(Revenue='8041'),\n",
              " Row(Revenue='481'),\n",
              " Row(Revenue='4431'),\n",
              " Row(Revenue='3114'),\n",
              " Row(Revenue='6916'),\n",
              " Row(Revenue='8747'),\n",
              " Row(Revenue='3338'),\n",
              " Row(Revenue='4796'),\n",
              " Row(Revenue='9245'),\n",
              " Row(Revenue='733'),\n",
              " Row(Revenue='8216'),\n",
              " Row(Revenue='6461'),\n",
              " Row(Revenue='5969'),\n",
              " Row(Revenue='8530'),\n",
              " Row(Revenue='3955'),\n",
              " Row(Revenue='6160'),\n",
              " Row(Revenue='4557'),\n",
              " Row(Revenue='2798'),\n",
              " Row(Revenue='2300'),\n",
              " Row(Revenue='9797'),\n",
              " Row(Revenue='2734'),\n",
              " Row(Revenue='2612'),\n",
              " Row(Revenue='1509'),\n",
              " Row(Revenue='4201'),\n",
              " Row(Revenue='4971'),\n",
              " Row(Revenue='9736'),\n",
              " Row(Revenue='9428'),\n",
              " Row(Revenue='453'),\n",
              " Row(Revenue='4458'),\n",
              " Row(Revenue='9181'),\n",
              " Row(Revenue='7723'),\n",
              " Row(Revenue='5010'),\n",
              " Row(Revenue='3092'),\n",
              " Row(Revenue='5912'),\n",
              " Row(Revenue='4590'),\n",
              " Row(Revenue='9188'),\n",
              " Row(Revenue='364'),\n",
              " Row(Revenue='5399'),\n",
              " Row(Revenue='218'),\n",
              " Row(Revenue='3052'),\n",
              " Row(Revenue='658'),\n",
              " Row(Revenue='3333'),\n",
              " Row(Revenue='496'),\n",
              " Row(Revenue='8702'),\n",
              " Row(Revenue='5614'),\n",
              " Row(Revenue='2359'),\n",
              " Row(Revenue='6500'),\n",
              " Row(Revenue='9847'),\n",
              " Row(Revenue='7268'),\n",
              " Row(Revenue='1798'),\n",
              " Row(Revenue='9486'),\n",
              " Row(Revenue='5776'),\n",
              " Row(Revenue='449'),\n",
              " Row(Revenue='9489'),\n",
              " Row(Revenue='9689'),\n",
              " Row(Revenue='9187'),\n",
              " Row(Revenue='667'),\n",
              " Row(Revenue='1275'),\n",
              " Row(Revenue='4158'),\n",
              " Row(Revenue='5063'),\n",
              " Row(Revenue='3712'),\n",
              " Row(Revenue='4021'),\n",
              " Row(Revenue='3980'),\n",
              " Row(Revenue='5243'),\n",
              " Row(Revenue='8885'),\n",
              " Row(Revenue='8125'),\n",
              " Row(Revenue='8391'),\n",
              " Row(Revenue='6425'),\n",
              " Row(Revenue='5351'),\n",
              " Row(Revenue='7045'),\n",
              " Row(Revenue='9800'),\n",
              " Row(Revenue='9576'),\n",
              " Row(Revenue='2981'),\n",
              " Row(Revenue='131'),\n",
              " Row(Revenue='1772'),\n",
              " Row(Revenue='3437'),\n",
              " Row(Revenue='1433'),\n",
              " Row(Revenue='4273'),\n",
              " Row(Revenue='5230'),\n",
              " Row(Revenue='4404'),\n",
              " Row(Revenue='7251'),\n",
              " Row(Revenue='9825'),\n",
              " Row(Revenue='7593'),\n",
              " Row(Revenue='2802'),\n",
              " Row(Revenue='8358'),\n",
              " Row(Revenue='9079'),\n",
              " Row(Revenue='1769'),\n",
              " Row(Revenue='2794'),\n",
              " Row(Revenue='3864'),\n",
              " Row(Revenue='9023'),\n",
              " Row(Revenue='1860'),\n",
              " Row(Revenue='7051'),\n",
              " Row(Revenue='876'),\n",
              " Row(Revenue='2221'),\n",
              " Row(Revenue='1064'),\n",
              " Row(Revenue='2875'),\n",
              " Row(Revenue='4670'),\n",
              " Row(Revenue='3997'),\n",
              " Row(Revenue='4053'),\n",
              " Row(Revenue='5919'),\n",
              " Row(Revenue='7028'),\n",
              " Row(Revenue='9902'),\n",
              " Row(Revenue='5467'),\n",
              " Row(Revenue='3923'),\n",
              " Row(Revenue='1905'),\n",
              " Row(Revenue='2537'),\n",
              " Row(Revenue='7755'),\n",
              " Row(Revenue='8570'),\n",
              " Row(Revenue='6378'),\n",
              " Row(Revenue='1144'),\n",
              " Row(Revenue='6853'),\n",
              " Row(Revenue='3987'),\n",
              " Row(Revenue='8136'),\n",
              " Row(Revenue='842'),\n",
              " Row(Revenue='2342'),\n",
              " Row(Revenue='835'),\n",
              " Row(Revenue='7769'),\n",
              " Row(Revenue='9527'),\n",
              " Row(Revenue='5068'),\n",
              " Row(Revenue='1053'),\n",
              " Row(Revenue='8429'),\n",
              " Row(Revenue='9739'),\n",
              " Row(Revenue='1689'),\n",
              " Row(Revenue='3868'),\n",
              " Row(Revenue='6321'),\n",
              " Row(Revenue='1786'),\n",
              " Row(Revenue='3518'),\n",
              " Row(Revenue='374'),\n",
              " Row(Revenue='8031'),\n",
              " Row(Revenue='7834'),\n",
              " Row(Revenue='5956'),\n",
              " Row(Revenue='1854'),\n",
              " Row(Revenue='8719'),\n",
              " Row(Revenue='1040'),\n",
              " Row(Revenue='1884'),\n",
              " Row(Revenue='3566'),\n",
              " Row(Revenue='4992'),\n",
              " Row(Revenue='8631'),\n",
              " Row(Revenue='9509'),\n",
              " Row(Revenue='5593'),\n",
              " Row(Revenue='5427'),\n",
              " Row(Revenue='207'),\n",
              " Row(Revenue='1243'),\n",
              " Row(Revenue='7289'),\n",
              " Row(Revenue='2335'),\n",
              " Row(Revenue='6852'),\n",
              " Row(Revenue='9325'),\n",
              " Row(Revenue='8003'),\n",
              " Row(Revenue='4286'),\n",
              " Row(Revenue='2611'),\n",
              " Row(Revenue='7327'),\n",
              " Row(Revenue='2242'),\n",
              " Row(Revenue='7385'),\n",
              " Row(Revenue='1404'),\n",
              " Row(Revenue='2191'),\n",
              " Row(Revenue='1134'),\n",
              " Row(Revenue='4109'),\n",
              " Row(Revenue='5289'),\n",
              " Row(Revenue='228'),\n",
              " Row(Revenue='4498'),\n",
              " Row(Revenue='7533'),\n",
              " Row(Revenue='7324'),\n",
              " Row(Revenue='3020'),\n",
              " Row(Revenue='6666'),\n",
              " Row(Revenue='136'),\n",
              " Row(Revenue='5049'),\n",
              " Row(Revenue='198'),\n",
              " Row(Revenue='4567'),\n",
              " Row(Revenue='8464'),\n",
              " Row(Revenue='5251'),\n",
              " Row(Revenue='620'),\n",
              " Row(Revenue='4436'),\n",
              " Row(Revenue='257'),\n",
              " Row(Revenue='4226'),\n",
              " Row(Revenue='6393'),\n",
              " Row(Revenue='9677'),\n",
              " Row(Revenue='7496'),\n",
              " Row(Revenue='5250'),\n",
              " Row(Revenue='7741'),\n",
              " Row(Revenue='3010'),\n",
              " Row(Revenue='517'),\n",
              " Row(Revenue='6954'),\n",
              " Row(Revenue='3159'),\n",
              " Row(Revenue='7641'),\n",
              " Row(Revenue='4336'),\n",
              " Row(Revenue='2453'),\n",
              " Row(Revenue='5835'),\n",
              " Row(Revenue='1698'),\n",
              " Row(Revenue='2695'),\n",
              " Row(Revenue='5563'),\n",
              " Row(Revenue='3183'),\n",
              " Row(Revenue='341'),\n",
              " Row(Revenue='7916'),\n",
              " Row(Revenue='5396'),\n",
              " Row(Revenue='7753'),\n",
              " Row(Revenue='2165'),\n",
              " Row(Revenue='2843'),\n",
              " Row(Revenue='4113'),\n",
              " Row(Revenue='4599'),\n",
              " Row(Revenue='6070'),\n",
              " Row(Revenue='3460'),\n",
              " Row(Revenue='2178'),\n",
              " Row(Revenue='1490'),\n",
              " Row(Revenue='6206'),\n",
              " Row(Revenue='4187'),\n",
              " Row(Revenue='329'),\n",
              " Row(Revenue='4970'),\n",
              " Row(Revenue='7690'),\n",
              " Row(Revenue='5512'),\n",
              " Row(Revenue='256'),\n",
              " Row(Revenue='6086'),\n",
              " Row(Revenue='1408'),\n",
              " Row(Revenue='8503'),\n",
              " Row(Revenue='2599'),\n",
              " Row(Revenue='537'),\n",
              " Row(Revenue='3366'),\n",
              " Row(Revenue='3579'),\n",
              " Row(Revenue='6185'),\n",
              " Row(Revenue='9991'),\n",
              " Row(Revenue='7345'),\n",
              " Row(Revenue='967'),\n",
              " Row(Revenue='6481'),\n",
              " Row(Revenue='9639'),\n",
              " Row(Revenue='7578'),\n",
              " Row(Revenue='6611'),\n",
              " Row(Revenue='2494'),\n",
              " Row(Revenue='1378'),\n",
              " Row(Revenue='4307'),\n",
              " Row(Revenue='5318'),\n",
              " Row(Revenue='3910'),\n",
              " Row(Revenue='9172'),\n",
              " Row(Revenue='4075'),\n",
              " Row(Revenue='6959'),\n",
              " Row(Revenue='2470'),\n",
              " Row(Revenue='229'),\n",
              " Row(Revenue='413'),\n",
              " Row(Revenue='6756'),\n",
              " Row(Revenue='702'),\n",
              " Row(Revenue='978'),\n",
              " Row(Revenue='5264'),\n",
              " Row(Revenue='2213'),\n",
              " Row(Revenue='90'),\n",
              " Row(Revenue='3963'),\n",
              " Row(Revenue='3330'),\n",
              " Row(Revenue='3608'),\n",
              " Row(Revenue='7147'),\n",
              " Row(Revenue='3540'),\n",
              " Row(Revenue='9313'),\n",
              " Row(Revenue='8858'),\n",
              " Row(Revenue='6982'),\n",
              " Row(Revenue='2956'),\n",
              " Row(Revenue='5265'),\n",
              " Row(Revenue='194'),\n",
              " Row(Revenue='7695'),\n",
              " Row(Revenue='2498'),\n",
              " Row(Revenue='3278'),\n",
              " Row(Revenue='2449'),\n",
              " Row(Revenue='418'),\n",
              " Row(Revenue='9434'),\n",
              " Row(Revenue='1113'),\n",
              " Row(Revenue='7932'),\n",
              " Row(Revenue='4842'),\n",
              " Row(Revenue='7582'),\n",
              " Row(Revenue='1434'),\n",
              " Row(Revenue='3917'),\n",
              " Row(Revenue='1331'),\n",
              " Row(Revenue='1922'),\n",
              " Row(Revenue='8953'),\n",
              " Row(Revenue='8713'),\n",
              " Row(Revenue='4551'),\n",
              " Row(Revenue='2049'),\n",
              " Row(Revenue='2051'),\n",
              " Row(Revenue='9490'),\n",
              " Row(Revenue='4779'),\n",
              " Row(Revenue='8321'),\n",
              " Row(Revenue='5989'),\n",
              " Row(Revenue='41'),\n",
              " Row(Revenue='3828'),\n",
              " Row(Revenue='4981'),\n",
              " Row(Revenue='280'),\n",
              " Row(Revenue='6126'),\n",
              " Row(Revenue='9536'),\n",
              " Row(Revenue='6355'),\n",
              " Row(Revenue='6794'),\n",
              " Row(Revenue='6050'),\n",
              " Row(Revenue='1210'),\n",
              " Row(Revenue='9599'),\n",
              " Row(Revenue='2287'),\n",
              " Row(Revenue='9539'),\n",
              " Row(Revenue='3945'),\n",
              " Row(Revenue='1924'),\n",
              " Row(Revenue='4596'),\n",
              " Row(Revenue='2519'),\n",
              " Row(Revenue='9145'),\n",
              " Row(Revenue='9874'),\n",
              " Row(Revenue='474'),\n",
              " Row(Revenue='8733'),\n",
              " Row(Revenue='6239'),\n",
              " Row(Revenue='4349'),\n",
              " Row(Revenue='2869'),\n",
              " Row(Revenue='5709'),\n",
              " Row(Revenue='9018'),\n",
              " Row(Revenue='9939'),\n",
              " Row(Revenue='2682'),\n",
              " Row(Revenue='6465'),\n",
              " Row(Revenue='1422'),\n",
              " Row(Revenue='6837'),\n",
              " Row(Revenue='4763'),\n",
              " Row(Revenue='4780'),\n",
              " Row(Revenue='7627'),\n",
              " Row(Revenue='4115'),\n",
              " Row(Revenue='4788'),\n",
              " Row(Revenue='7462'),\n",
              " Row(Revenue='6114'),\n",
              " Row(Revenue='6129'),\n",
              " Row(Revenue='8278'),\n",
              " Row(Revenue='2080'),\n",
              " Row(Revenue='1989'),\n",
              " Row(Revenue='8813'),\n",
              " Row(Revenue='5055'),\n",
              " Row(Revenue='7395'),\n",
              " Row(Revenue='9597'),\n",
              " Row(Revenue='5172'),\n",
              " Row(Revenue='7475'),\n",
              " Row(Revenue='1069'),\n",
              " Row(Revenue='7697'),\n",
              " Row(Revenue='9197'),\n",
              " Row(Revenue='7855'),\n",
              " Row(Revenue='1148'),\n",
              " Row(Revenue='606'),\n",
              " Row(Revenue='4450'),\n",
              " Row(Revenue='1149'),\n",
              " Row(Revenue='545'),\n",
              " Row(Revenue='5762'),\n",
              " Row(Revenue='891'),\n",
              " Row(Revenue='4933'),\n",
              " Row(Revenue='9821'),\n",
              " Row(Revenue='7663'),\n",
              " Row(Revenue='2728'),\n",
              " Row(Revenue='1961'),\n",
              " Row(Revenue='4327'),\n",
              " Row(Revenue='3082'),\n",
              " Row(Revenue='7825'),\n",
              " Row(Revenue='6446'),\n",
              " Row(Revenue='2160'),\n",
              " Row(Revenue='6476'),\n",
              " Row(Revenue='8268'),\n",
              " Row(Revenue='4394'),\n",
              " Row(Revenue='3655'),\n",
              " Row(Revenue='7901'),\n",
              " Row(Revenue='1571'),\n",
              " Row(Revenue='93'),\n",
              " Row(Revenue='1027'),\n",
              " Row(Revenue='8573'),\n",
              " Row(Revenue='6688'),\n",
              " Row(Revenue='7253'),\n",
              " Row(Revenue='2820'),\n",
              " Row(Revenue='5276'),\n",
              " Row(Revenue='6647'),\n",
              " Row(Revenue='1852'),\n",
              " Row(Revenue='4745'),\n",
              " Row(Revenue='982'),\n",
              " Row(Revenue='5589'),\n",
              " Row(Revenue='2507'),\n",
              " Row(Revenue='1231'),\n",
              " Row(Revenue='9912'),\n",
              " Row(Revenue='3079'),\n",
              " Row(Revenue='6354'),\n",
              " Row(Revenue='9098'),\n",
              " Row(Revenue='4427'),\n",
              " Row(Revenue='38'),\n",
              " Row(Revenue='8934'),\n",
              " Row(Revenue='9146'),\n",
              " Row(Revenue='103'),\n",
              " Row(Revenue='2435'),\n",
              " Row(Revenue='2328'),\n",
              " Row(Revenue='7771'),\n",
              " Row(Revenue='5914'),\n",
              " Row(Revenue='7142'),\n",
              " Row(Revenue='4622'),\n",
              " Row(Revenue='6578'),\n",
              " Row(Revenue='5940'),\n",
              " Row(Revenue='506'),\n",
              " Row(Revenue='8143'),\n",
              " Row(Revenue='373'),\n",
              " Row(Revenue='2867'),\n",
              " Row(Revenue='9557'),\n",
              " Row(Revenue='6026'),\n",
              " Row(Revenue='914'),\n",
              " Row(Revenue='5043'),\n",
              " Row(Revenue='3498'),\n",
              " Row(Revenue='1315'),\n",
              " Row(Revenue='7917'),\n",
              " Row(Revenue='8405'),\n",
              " Row(Revenue='8545'),\n",
              " Row(Revenue='5737'),\n",
              " Row(Revenue='3497'),\n",
              " Row(Revenue='189'),\n",
              " Row(Revenue='9414'),\n",
              " Row(Revenue='3144'),\n",
              " Row(Revenue='4203'),\n",
              " Row(Revenue='233'),\n",
              " Row(Revenue='1028'),\n",
              " Row(Revenue='879'),\n",
              " Row(Revenue='6549'),\n",
              " Row(Revenue='5255'),\n",
              " Row(Revenue='2245'),\n",
              " Row(Revenue='4491'),\n",
              " Row(Revenue='6659'),\n",
              " Row(Revenue='3322'),\n",
              " Row(Revenue='7599'),\n",
              " Row(Revenue='2370'),\n",
              " Row(Revenue='6175'),\n",
              " Row(Revenue='3861'),\n",
              " Row(Revenue='135'),\n",
              " Row(Revenue='7524'),\n",
              " Row(Revenue='9737'),\n",
              " Row(Revenue='303'),\n",
              " Row(Revenue='5920'),\n",
              " Row(Revenue='3756'),\n",
              " Row(Revenue='4920'),\n",
              " Row(Revenue='6318'),\n",
              " Row(Revenue='8909'),\n",
              " Row(Revenue='8597'),\n",
              " Row(Revenue='9436'),\n",
              " Row(Revenue='4824'),\n",
              " Row(Revenue='3375'),\n",
              " Row(Revenue='5807'),\n",
              " Row(Revenue='7073'),\n",
              " Row(Revenue='7661'),\n",
              " Row(Revenue='6429'),\n",
              " Row(Revenue='6847'),\n",
              " Row(Revenue='4559'),\n",
              " Row(Revenue='7864'),\n",
              " Row(Revenue='6978'),\n",
              " Row(Revenue='7183'),\n",
              " Row(Revenue='4483'),\n",
              " Row(Revenue='2215'),\n",
              " Row(Revenue='3471'),\n",
              " Row(Revenue='8638'),\n",
              " Row(Revenue='7585'),\n",
              " Row(Revenue='8473'),\n",
              " Row(Revenue='3520'),\n",
              " Row(Revenue='5294'),\n",
              " Row(Revenue='2619'),\n",
              " Row(Revenue='2223'),\n",
              " Row(Revenue='9723'),\n",
              " Row(Revenue='755'),\n",
              " Row(Revenue='9897'),\n",
              " Row(Revenue='7262'),\n",
              " Row(Revenue='5224'),\n",
              " Row(Revenue='3961'),\n",
              " Row(Revenue='1504'),\n",
              " Row(Revenue='3530'),\n",
              " Row(Revenue='4554'),\n",
              " Row(Revenue='9427'),\n",
              " Row(Revenue='6172'),\n",
              " Row(Revenue='965'),\n",
              " Row(Revenue='9418'),\n",
              " Row(Revenue='852'),\n",
              " Row(Revenue='8073'),\n",
              " Row(Revenue='7111'),\n",
              " Row(Revenue='2025'),\n",
              " Row(Revenue='6834'),\n",
              " Row(Revenue='5982'),\n",
              " Row(Revenue='8091'),\n",
              " Row(Revenue='1864'),\n",
              " Row(Revenue='7365'),\n",
              " Row(Revenue='3165'),\n",
              " Row(Revenue='8403'),\n",
              " Row(Revenue='7870'),\n",
              " Row(Revenue='1262'),\n",
              " Row(Revenue='4353'),\n",
              " Row(Revenue='7598'),\n",
              " Row(Revenue='6545'),\n",
              " Row(Revenue='3928'),\n",
              " Row(Revenue='4636'),\n",
              " Row(Revenue='7484'),\n",
              " Row(Revenue='8317'),\n",
              " Row(Revenue='1766'),\n",
              " Row(Revenue='9507'),\n",
              " Row(Revenue='7432'),\n",
              " Row(Revenue='9445'),\n",
              " Row(Revenue='8648'),\n",
              " Row(Revenue='4678'),\n",
              " Row(Revenue='1741'),\n",
              " Row(Revenue='7979'),\n",
              " Row(Revenue='482'),\n",
              " Row(Revenue='9315'),\n",
              " Row(Revenue='6390'),\n",
              " Row(Revenue='3344'),\n",
              " Row(Revenue='7767'),\n",
              " Row(Revenue='8519'),\n",
              " Row(Revenue='4777'),\n",
              " Row(Revenue='6363'),\n",
              " Row(Revenue='2715'),\n",
              " Row(Revenue='7817'),\n",
              " Row(Revenue='7622'),\n",
              " Row(Revenue='4855'),\n",
              " Row(Revenue='5442'),\n",
              " Row(Revenue='8001'),\n",
              " Row(Revenue='4089'),\n",
              " Row(Revenue='949'),\n",
              " Row(Revenue='5138'),\n",
              " Row(Revenue='8122'),\n",
              " Row(Revenue='7588'),\n",
              " Row(Revenue='6226'),\n",
              " Row(Revenue='5814'),\n",
              " Row(Revenue='4344'),\n",
              " Row(Revenue='1755'),\n",
              " Row(Revenue='8463'),\n",
              " Row(Revenue='3065'),\n",
              " Row(Revenue='7148'),\n",
              " Row(Revenue='4248'),\n",
              " Row(Revenue='1244'),\n",
              " Row(Revenue='2632'),\n",
              " Row(Revenue='8999'),\n",
              " Row(Revenue='4398'),\n",
              " Row(Revenue='2574'),\n",
              " Row(Revenue='1321'),\n",
              " Row(Revenue='8067'),\n",
              " Row(Revenue='5997'),\n",
              " Row(Revenue='1628'),\n",
              " Row(Revenue='2007'),\n",
              " Row(Revenue='7053'),\n",
              " Row(Revenue='7065'),\n",
              " Row(Revenue='7788'),\n",
              " Row(Revenue='6893'),\n",
              " Row(Revenue='6630'),\n",
              " Row(Revenue='4434'),\n",
              " Row(Revenue='1363'),\n",
              " Row(Revenue='4090'),\n",
              " Row(Revenue='3918'),\n",
              " Row(Revenue='9355'),\n",
              " Row(Revenue='7859'),\n",
              " Row(Revenue='9298'),\n",
              " Row(Revenue='7173'),\n",
              " Row(Revenue='6749'),\n",
              " Row(Revenue='5146'),\n",
              " Row(Revenue='6233'),\n",
              " Row(Revenue='3751'),\n",
              " Row(Revenue='7632'),\n",
              " Row(Revenue='1595'),\n",
              " Row(Revenue='2212'),\n",
              " Row(Revenue='1146'),\n",
              " ...]"
            ]
          },
          "metadata": {},
          "execution_count": 133
        }
      ]
    },
    {
      "cell_type": "code",
      "source": [
        "#df1.sort(col(\"Reveune\").asc()).show(truncate=False)\n",
        "df1.sort(df1.Revenue.asc()).show(truncate=False)"
      ],
      "metadata": {
        "colab": {
          "base_uri": "https://localhost:8080/"
        },
        "id": "y1YZaM5TGSjN",
        "outputId": "acfa6530-fb5b-443e-f6dc-810eff07bd12"
      },
      "id": "y1YZaM5TGSjN",
      "execution_count": 134,
      "outputs": [
        {
          "output_type": "stream",
          "name": "stdout",
          "text": [
            "+--------+--------+-------+-----+---+----+\n",
            "|Date    |Salesman|Revenue|Month|Day|Year|\n",
            "+--------+--------+-------+-----+---+----+\n",
            "|5/3/16  |Ronald  |1      |5    |3  |16  |\n",
            "|7/31/16 |Oscar   |100    |7    |31 |16  |\n",
            "|12/28/16|Bob     |100    |12   |28 |16  |\n",
            "|8/10/16 |Oscar   |1008   |8    |10 |16  |\n",
            "|1/26/16 |Jeb     |1009   |1    |26 |16  |\n",
            "|12/7/16 |Bob     |1010   |12   |7  |16  |\n",
            "|12/18/16|Oscar   |1022   |12   |18 |16  |\n",
            "|5/20/16 |Dave    |1027   |5    |20 |16  |\n",
            "|8/3/16  |Dave    |1028   |8    |3  |16  |\n",
            "|6/28/16 |Oscar   |103    |6    |28 |16  |\n",
            "|10/25/16|Oscar   |1037   |10   |25 |16  |\n",
            "|4/25/16 |Jeb     |1040   |4    |25 |16  |\n",
            "|9/15/16 |Oscar   |1042   |9    |15 |16  |\n",
            "|1/11/16 |Bob     |1053   |1    |11 |16  |\n",
            "|10/8/16 |Oscar   |1054   |10   |8  |16  |\n",
            "|9/22/16 |Dave    |1064   |9    |22 |16  |\n",
            "|4/7/16  |Dave    |1069   |4    |7  |16  |\n",
            "|9/20/16 |Bob     |1071   |9    |20 |16  |\n",
            "|8/26/16 |Jeb     |1090   |8    |26 |16  |\n",
            "|9/4/16  |Ronald  |1093   |9    |4  |16  |\n",
            "+--------+--------+-------+-----+---+----+\n",
            "only showing top 20 rows\n",
            "\n"
          ]
        }
      ]
    },
    {
      "cell_type": "code",
      "source": [
        "#\n",
        "df1.sort(df1.Revenue.desc()).show(truncate=False)"
      ],
      "metadata": {
        "colab": {
          "base_uri": "https://localhost:8080/"
        },
        "id": "3UBRNZ5JGwws",
        "outputId": "dff3dd49-509c-42e6-f168-9c0ad55b581b"
      },
      "id": "3UBRNZ5JGwws",
      "execution_count": 135,
      "outputs": [
        {
          "output_type": "stream",
          "name": "stdout",
          "text": [
            "+-------+--------+-------+-----+---+----+\n",
            "|Date   |Salesman|Revenue|Month|Day|Year|\n",
            "+-------+--------+-------+-----+---+----+\n",
            "|3/30/16|Bob     |9999   |3    |30 |16  |\n",
            "|5/15/16|Ronald  |9991   |5    |15 |16  |\n",
            "|7/2/16 |Oscar   |9971   |7    |2  |16  |\n",
            "|12/8/16|Ronald  |9951   |12   |8  |16  |\n",
            "|6/14/16|Bob     |9945   |6    |14 |16  |\n",
            "|8/12/16|Jeb     |9939   |8    |12 |16  |\n",
            "|2/9/16 |Dave    |9939   |2    |9  |16  |\n",
            "|7/25/16|Bob     |9934   |7    |25 |16  |\n",
            "|6/14/16|Oscar   |9926   |6    |14 |16  |\n",
            "|9/5/16 |Bob     |992    |9    |5  |16  |\n",
            "|5/12/16|Ronald  |9912   |5    |12 |16  |\n",
            "|6/2/16 |Oscar   |991    |6    |2  |16  |\n",
            "|5/28/16|Ronald  |9902   |5    |28 |16  |\n",
            "|3/24/16|Oscar   |9901   |3    |24 |16  |\n",
            "|4/22/16|Bob     |9897   |4    |22 |16  |\n",
            "|8/13/16|Ronald  |9896   |8    |13 |16  |\n",
            "|1/15/16|Dave    |9883   |1    |15 |16  |\n",
            "|3/13/16|Dave    |9874   |3    |13 |16  |\n",
            "|9/15/16|Bob     |9868   |9    |15 |16  |\n",
            "|5/28/16|Jeb     |9866   |5    |28 |16  |\n",
            "+-------+--------+-------+-----+---+----+\n",
            "only showing top 20 rows\n",
            "\n"
          ]
        }
      ]
    },
    {
      "cell_type": "code",
      "source": [
        "#only Bob\n",
        "df1.filter(df1.Salesman == \"Bob\").show(truncate=False)"
      ],
      "metadata": {
        "colab": {
          "base_uri": "https://localhost:8080/"
        },
        "id": "mzPiVnkLHGtk",
        "outputId": "4a165f1f-60a8-45f6-f226-aaaf882517d1"
      },
      "id": "mzPiVnkLHGtk",
      "execution_count": 136,
      "outputs": [
        {
          "output_type": "stream",
          "name": "stdout",
          "text": [
            "+-------+--------+-------+-----+---+----+\n",
            "|Date   |Salesman|Revenue|Month|Day|Year|\n",
            "+-------+--------+-------+-----+---+----+\n",
            "|1/1/16 |Bob     |7172   |1    |1  |16  |\n",
            "|1/2/16 |Bob     |6362   |1    |2  |16  |\n",
            "|1/3/16 |Bob     |5982   |1    |3  |16  |\n",
            "|1/4/16 |Bob     |7917   |1    |4  |16  |\n",
            "|1/5/16 |Bob     |7837   |1    |5  |16  |\n",
            "|1/6/16 |Bob     |1744   |1    |6  |16  |\n",
            "|1/7/16 |Bob     |918    |1    |7  |16  |\n",
            "|1/8/16 |Bob     |9863   |1    |8  |16  |\n",
            "|1/9/16 |Bob     |8337   |1    |9  |16  |\n",
            "|1/10/16|Bob     |7543   |1    |10 |16  |\n",
            "|1/11/16|Bob     |1053   |1    |11 |16  |\n",
            "|1/12/16|Bob     |4362   |1    |12 |16  |\n",
            "|1/13/16|Bob     |6812   |1    |13 |16  |\n",
            "|1/14/16|Bob     |9047   |1    |14 |16  |\n",
            "|1/15/16|Bob     |3594   |1    |15 |16  |\n",
            "|1/16/16|Bob     |9800   |1    |16 |16  |\n",
            "|1/17/16|Bob     |7215   |1    |17 |16  |\n",
            "|1/18/16|Bob     |7744   |1    |18 |16  |\n",
            "|1/19/16|Bob     |9560   |1    |19 |16  |\n",
            "|1/20/16|Bob     |9863   |1    |20 |16  |\n",
            "+-------+--------+-------+-----+---+----+\n",
            "only showing top 20 rows\n",
            "\n"
          ]
        }
      ]
    },
    {
      "cell_type": "code",
      "source": [
        "#only day 20\n",
        "df1.filter(\"Day == '20'\").show()"
      ],
      "metadata": {
        "colab": {
          "base_uri": "https://localhost:8080/"
        },
        "id": "cWtvXK4kHlkJ",
        "outputId": "bd2832da-d1b4-4f03-fc46-ffc68d34cdb3"
      },
      "id": "cWtvXK4kHlkJ",
      "execution_count": 137,
      "outputs": [
        {
          "output_type": "stream",
          "name": "stdout",
          "text": [
            "+--------+--------+-------+-----+---+----+\n",
            "|    Date|Salesman|Revenue|Month|Day|Year|\n",
            "+--------+--------+-------+-----+---+----+\n",
            "| 1/20/16|     Bob|   9863|    1| 20|  16|\n",
            "| 2/20/16|     Bob|    942|    2| 20|  16|\n",
            "| 3/20/16|     Bob|   4780|    3| 20|  16|\n",
            "| 4/20/16|     Bob|   6429|    4| 20|  16|\n",
            "| 5/20/16|     Bob|   4707|    5| 20|  16|\n",
            "| 6/20/16|     Bob|    590|    6| 20|  16|\n",
            "| 7/20/16|     Bob|   4498|    7| 20|  16|\n",
            "| 8/20/16|     Bob|   5124|    8| 20|  16|\n",
            "| 9/20/16|     Bob|   1071|    9| 20|  16|\n",
            "|10/20/16|     Bob|   7883|   10| 20|  16|\n",
            "|11/20/16|     Bob|   1626|   11| 20|  16|\n",
            "|12/20/16|     Bob|   3864|   12| 20|  16|\n",
            "| 1/20/16|  Ronald|   9352|    1| 20|  16|\n",
            "| 2/20/16|  Ronald|   5455|    2| 20|  16|\n",
            "| 3/20/16|  Ronald|   5941|    3| 20|  16|\n",
            "| 4/20/16|  Ronald|   8514|    4| 20|  16|\n",
            "| 5/20/16|  Ronald|   4204|    5| 20|  16|\n",
            "| 6/20/16|  Ronald|   1571|    6| 20|  16|\n",
            "| 7/20/16|  Ronald|   3309|    7| 20|  16|\n",
            "| 8/20/16|  Ronald|    160|    8| 20|  16|\n",
            "+--------+--------+-------+-----+---+----+\n",
            "only showing top 20 rows\n",
            "\n"
          ]
        }
      ]
    },
    {
      "cell_type": "code",
      "source": [
        "#distinct year if any\n",
        "df1.select('Year').distinct().collect()"
      ],
      "metadata": {
        "colab": {
          "base_uri": "https://localhost:8080/"
        },
        "id": "2EU2gUqoHxX5",
        "outputId": "0ac6d5bb-70a8-4a8e-d90e-0de4ccbb5b60"
      },
      "id": "2EU2gUqoHxX5",
      "execution_count": 138,
      "outputs": [
        {
          "output_type": "execute_result",
          "data": {
            "text/plain": [
              "[Row(Year='16')]"
            ]
          },
          "metadata": {},
          "execution_count": 138
        }
      ]
    },
    {
      "cell_type": "code",
      "source": [
        "#rename one column\n",
        "df1.withColumnRenamed(\"Month\",\"Start_Month\").show(50)"
      ],
      "metadata": {
        "colab": {
          "base_uri": "https://localhost:8080/"
        },
        "id": "gz7hjqyDH_-4",
        "outputId": "1bb6071c-3d1a-44c8-a9b1-2e28195a39f4"
      },
      "id": "gz7hjqyDH_-4",
      "execution_count": 139,
      "outputs": [
        {
          "output_type": "stream",
          "name": "stdout",
          "text": [
            "+-------+--------+-------+-----------+---+----+\n",
            "|   Date|Salesman|Revenue|Start_Month|Day|Year|\n",
            "+-------+--------+-------+-----------+---+----+\n",
            "| 1/1/16|     Bob|   7172|          1|  1|  16|\n",
            "| 1/2/16|     Bob|   6362|          1|  2|  16|\n",
            "| 1/3/16|     Bob|   5982|          1|  3|  16|\n",
            "| 1/4/16|     Bob|   7917|          1|  4|  16|\n",
            "| 1/5/16|     Bob|   7837|          1|  5|  16|\n",
            "| 1/6/16|     Bob|   1744|          1|  6|  16|\n",
            "| 1/7/16|     Bob|    918|          1|  7|  16|\n",
            "| 1/8/16|     Bob|   9863|          1|  8|  16|\n",
            "| 1/9/16|     Bob|   8337|          1|  9|  16|\n",
            "|1/10/16|     Bob|   7543|          1| 10|  16|\n",
            "|1/11/16|     Bob|   1053|          1| 11|  16|\n",
            "|1/12/16|     Bob|   4362|          1| 12|  16|\n",
            "|1/13/16|     Bob|   6812|          1| 13|  16|\n",
            "|1/14/16|     Bob|   9047|          1| 14|  16|\n",
            "|1/15/16|     Bob|   3594|          1| 15|  16|\n",
            "|1/16/16|     Bob|   9800|          1| 16|  16|\n",
            "|1/17/16|     Bob|   7215|          1| 17|  16|\n",
            "|1/18/16|     Bob|   7744|          1| 18|  16|\n",
            "|1/19/16|     Bob|   9560|          1| 19|  16|\n",
            "|1/20/16|     Bob|   9863|          1| 20|  16|\n",
            "|1/21/16|     Bob|    547|          1| 21|  16|\n",
            "|1/22/16|     Bob|   3505|          1| 22|  16|\n",
            "|1/23/16|     Bob|   6969|          1| 23|  16|\n",
            "|1/24/16|     Bob|    696|          1| 24|  16|\n",
            "|1/25/16|     Bob|   4302|          1| 25|  16|\n",
            "|1/26/16|     Bob|   9427|          1| 26|  16|\n",
            "|1/27/16|     Bob|   7990|          1| 27|  16|\n",
            "|1/28/16|     Bob|   6271|          1| 28|  16|\n",
            "|1/29/16|     Bob|   5804|          1| 29|  16|\n",
            "|1/30/16|     Bob|   3285|          1| 30|  16|\n",
            "|1/31/16|     Bob|   2920|          1| 31|  16|\n",
            "| 2/1/16|     Bob|   6151|          2|  1|  16|\n",
            "| 2/2/16|     Bob|   3696|          2|  2|  16|\n",
            "| 2/3/16|     Bob|   2507|          2|  3|  16|\n",
            "| 2/4/16|     Bob|   1361|          2|  4|  16|\n",
            "| 2/5/16|     Bob|   8431|          2|  5|  16|\n",
            "| 2/6/16|     Bob|   3250|          2|  6|  16|\n",
            "| 2/7/16|     Bob|   2470|          2|  7|  16|\n",
            "| 2/8/16|     Bob|   4499|          2|  8|  16|\n",
            "| 2/9/16|     Bob|   5426|          2|  9|  16|\n",
            "|2/10/16|     Bob|    136|          2| 10|  16|\n",
            "|2/11/16|     Bob|   7769|          2| 11|  16|\n",
            "|2/12/16|     Bob|   8473|          2| 12|  16|\n",
            "|2/13/16|     Bob|   7430|          2| 13|  16|\n",
            "|2/14/16|     Bob|   7739|          2| 14|  16|\n",
            "|2/15/16|     Bob|    641|          2| 15|  16|\n",
            "|2/16/16|     Bob|   1225|          2| 16|  16|\n",
            "|2/17/16|     Bob|   8143|          2| 17|  16|\n",
            "|2/18/16|     Bob|   3963|          2| 18|  16|\n",
            "|2/19/16|     Bob|   4278|          2| 19|  16|\n",
            "+-------+--------+-------+-----------+---+----+\n",
            "only showing top 50 rows\n",
            "\n"
          ]
        }
      ]
    },
    {
      "cell_type": "code",
      "source": [
        "#rename multiple column\n",
        "df1.withColumnRenamed(\"Day\",\"Start_Day\").withColumnRenamed(\"Year\",\"Start_Year\").show()"
      ],
      "metadata": {
        "colab": {
          "base_uri": "https://localhost:8080/"
        },
        "id": "2SEE5tO_JF2L",
        "outputId": "b92aef80-638a-4c62-f2a8-89b8976eda6a"
      },
      "id": "2SEE5tO_JF2L",
      "execution_count": 140,
      "outputs": [
        {
          "output_type": "stream",
          "name": "stdout",
          "text": [
            "+-------+--------+-------+-----+---------+----------+\n",
            "|   Date|Salesman|Revenue|Month|Start_Day|Start_Year|\n",
            "+-------+--------+-------+-----+---------+----------+\n",
            "| 1/1/16|     Bob|   7172|    1|        1|        16|\n",
            "| 1/2/16|     Bob|   6362|    1|        2|        16|\n",
            "| 1/3/16|     Bob|   5982|    1|        3|        16|\n",
            "| 1/4/16|     Bob|   7917|    1|        4|        16|\n",
            "| 1/5/16|     Bob|   7837|    1|        5|        16|\n",
            "| 1/6/16|     Bob|   1744|    1|        6|        16|\n",
            "| 1/7/16|     Bob|    918|    1|        7|        16|\n",
            "| 1/8/16|     Bob|   9863|    1|        8|        16|\n",
            "| 1/9/16|     Bob|   8337|    1|        9|        16|\n",
            "|1/10/16|     Bob|   7543|    1|       10|        16|\n",
            "|1/11/16|     Bob|   1053|    1|       11|        16|\n",
            "|1/12/16|     Bob|   4362|    1|       12|        16|\n",
            "|1/13/16|     Bob|   6812|    1|       13|        16|\n",
            "|1/14/16|     Bob|   9047|    1|       14|        16|\n",
            "|1/15/16|     Bob|   3594|    1|       15|        16|\n",
            "|1/16/16|     Bob|   9800|    1|       16|        16|\n",
            "|1/17/16|     Bob|   7215|    1|       17|        16|\n",
            "|1/18/16|     Bob|   7744|    1|       18|        16|\n",
            "|1/19/16|     Bob|   9560|    1|       19|        16|\n",
            "|1/20/16|     Bob|   9863|    1|       20|        16|\n",
            "+-------+--------+-------+-----+---------+----------+\n",
            "only showing top 20 rows\n",
            "\n"
          ]
        }
      ]
    },
    {
      "cell_type": "code",
      "source": [
        "#update column (multiply)\n",
        "df1.withColumn(\"Revenue\", df.Revenue*2).show()"
      ],
      "metadata": {
        "colab": {
          "base_uri": "https://localhost:8080/"
        },
        "id": "UHvy0rKCJhNi",
        "outputId": "e38cc2f6-4678-4b5a-c443-eb340944cd06"
      },
      "id": "UHvy0rKCJhNi",
      "execution_count": 141,
      "outputs": [
        {
          "output_type": "stream",
          "name": "stdout",
          "text": [
            "+-------+--------+-------+-----+---+----+\n",
            "|   Date|Salesman|Revenue|Month|Day|Year|\n",
            "+-------+--------+-------+-----+---+----+\n",
            "| 1/1/16|     Bob|14344.0|    1|  1|  16|\n",
            "| 1/2/16|     Bob|12724.0|    1|  2|  16|\n",
            "| 1/3/16|     Bob|11964.0|    1|  3|  16|\n",
            "| 1/4/16|     Bob|15834.0|    1|  4|  16|\n",
            "| 1/5/16|     Bob|15674.0|    1|  5|  16|\n",
            "| 1/6/16|     Bob| 3488.0|    1|  6|  16|\n",
            "| 1/7/16|     Bob| 1836.0|    1|  7|  16|\n",
            "| 1/8/16|     Bob|19726.0|    1|  8|  16|\n",
            "| 1/9/16|     Bob|16674.0|    1|  9|  16|\n",
            "|1/10/16|     Bob|15086.0|    1| 10|  16|\n",
            "|1/11/16|     Bob| 2106.0|    1| 11|  16|\n",
            "|1/12/16|     Bob| 8724.0|    1| 12|  16|\n",
            "|1/13/16|     Bob|13624.0|    1| 13|  16|\n",
            "|1/14/16|     Bob|18094.0|    1| 14|  16|\n",
            "|1/15/16|     Bob| 7188.0|    1| 15|  16|\n",
            "|1/16/16|     Bob|19600.0|    1| 16|  16|\n",
            "|1/17/16|     Bob|14430.0|    1| 17|  16|\n",
            "|1/18/16|     Bob|15488.0|    1| 18|  16|\n",
            "|1/19/16|     Bob|19120.0|    1| 19|  16|\n",
            "|1/20/16|     Bob|19726.0|    1| 20|  16|\n",
            "+-------+--------+-------+-----+---+----+\n",
            "only showing top 20 rows\n",
            "\n"
          ]
        }
      ]
    },
    {
      "cell_type": "code",
      "source": [
        "#add column to an existing dataframe with random column\n",
        "from pyspark.sql.functions import rand,when\n",
        "df_new= df1.withColumn('New_Col', when(rand() > 0.5, 5).otherwise(1))\n",
        "df_new.show(100)"
      ],
      "metadata": {
        "colab": {
          "base_uri": "https://localhost:8080/"
        },
        "id": "V0pQILb4KIzw",
        "outputId": "92ad02bc-bbad-4599-c3d0-58ec314e0655"
      },
      "id": "V0pQILb4KIzw",
      "execution_count": 142,
      "outputs": [
        {
          "output_type": "stream",
          "name": "stdout",
          "text": [
            "+-------+--------+-------+-----+---+----+-------+\n",
            "|   Date|Salesman|Revenue|Month|Day|Year|New_Col|\n",
            "+-------+--------+-------+-----+---+----+-------+\n",
            "| 1/1/16|     Bob|   7172|    1|  1|  16|      5|\n",
            "| 1/2/16|     Bob|   6362|    1|  2|  16|      1|\n",
            "| 1/3/16|     Bob|   5982|    1|  3|  16|      5|\n",
            "| 1/4/16|     Bob|   7917|    1|  4|  16|      5|\n",
            "| 1/5/16|     Bob|   7837|    1|  5|  16|      5|\n",
            "| 1/6/16|     Bob|   1744|    1|  6|  16|      1|\n",
            "| 1/7/16|     Bob|    918|    1|  7|  16|      5|\n",
            "| 1/8/16|     Bob|   9863|    1|  8|  16|      1|\n",
            "| 1/9/16|     Bob|   8337|    1|  9|  16|      5|\n",
            "|1/10/16|     Bob|   7543|    1| 10|  16|      5|\n",
            "|1/11/16|     Bob|   1053|    1| 11|  16|      5|\n",
            "|1/12/16|     Bob|   4362|    1| 12|  16|      5|\n",
            "|1/13/16|     Bob|   6812|    1| 13|  16|      5|\n",
            "|1/14/16|     Bob|   9047|    1| 14|  16|      1|\n",
            "|1/15/16|     Bob|   3594|    1| 15|  16|      1|\n",
            "|1/16/16|     Bob|   9800|    1| 16|  16|      5|\n",
            "|1/17/16|     Bob|   7215|    1| 17|  16|      1|\n",
            "|1/18/16|     Bob|   7744|    1| 18|  16|      5|\n",
            "|1/19/16|     Bob|   9560|    1| 19|  16|      1|\n",
            "|1/20/16|     Bob|   9863|    1| 20|  16|      5|\n",
            "|1/21/16|     Bob|    547|    1| 21|  16|      1|\n",
            "|1/22/16|     Bob|   3505|    1| 22|  16|      1|\n",
            "|1/23/16|     Bob|   6969|    1| 23|  16|      1|\n",
            "|1/24/16|     Bob|    696|    1| 24|  16|      5|\n",
            "|1/25/16|     Bob|   4302|    1| 25|  16|      1|\n",
            "|1/26/16|     Bob|   9427|    1| 26|  16|      1|\n",
            "|1/27/16|     Bob|   7990|    1| 27|  16|      5|\n",
            "|1/28/16|     Bob|   6271|    1| 28|  16|      5|\n",
            "|1/29/16|     Bob|   5804|    1| 29|  16|      5|\n",
            "|1/30/16|     Bob|   3285|    1| 30|  16|      5|\n",
            "|1/31/16|     Bob|   2920|    1| 31|  16|      1|\n",
            "| 2/1/16|     Bob|   6151|    2|  1|  16|      1|\n",
            "| 2/2/16|     Bob|   3696|    2|  2|  16|      5|\n",
            "| 2/3/16|     Bob|   2507|    2|  3|  16|      1|\n",
            "| 2/4/16|     Bob|   1361|    2|  4|  16|      5|\n",
            "| 2/5/16|     Bob|   8431|    2|  5|  16|      5|\n",
            "| 2/6/16|     Bob|   3250|    2|  6|  16|      5|\n",
            "| 2/7/16|     Bob|   2470|    2|  7|  16|      5|\n",
            "| 2/8/16|     Bob|   4499|    2|  8|  16|      5|\n",
            "| 2/9/16|     Bob|   5426|    2|  9|  16|      5|\n",
            "|2/10/16|     Bob|    136|    2| 10|  16|      5|\n",
            "|2/11/16|     Bob|   7769|    2| 11|  16|      1|\n",
            "|2/12/16|     Bob|   8473|    2| 12|  16|      1|\n",
            "|2/13/16|     Bob|   7430|    2| 13|  16|      1|\n",
            "|2/14/16|     Bob|   7739|    2| 14|  16|      1|\n",
            "|2/15/16|     Bob|    641|    2| 15|  16|      5|\n",
            "|2/16/16|     Bob|   1225|    2| 16|  16|      5|\n",
            "|2/17/16|     Bob|   8143|    2| 17|  16|      5|\n",
            "|2/18/16|     Bob|   3963|    2| 18|  16|      5|\n",
            "|2/19/16|     Bob|   4278|    2| 19|  16|      1|\n",
            "|2/20/16|     Bob|    942|    2| 20|  16|      5|\n",
            "|2/21/16|     Bob|   9414|    2| 21|  16|      1|\n",
            "|2/22/16|     Bob|   4491|    2| 22|  16|      1|\n",
            "|2/23/16|     Bob|   9325|    2| 23|  16|      1|\n",
            "|2/24/16|     Bob|   6529|    2| 24|  16|      1|\n",
            "|2/25/16|     Bob|   1781|    2| 25|  16|      1|\n",
            "|2/26/16|     Bob|   7257|    2| 26|  16|      1|\n",
            "|2/27/16|     Bob|   9288|    2| 27|  16|      5|\n",
            "|2/28/16|     Bob|   6187|    2| 28|  16|      5|\n",
            "|2/29/16|     Bob|   8429|    2| 29|  16|      5|\n",
            "| 3/1/16|     Bob|   4144|    3|  1|  16|      5|\n",
            "| 3/2/16|     Bob|   3589|    3|  2|  16|      5|\n",
            "| 3/3/16|     Bob|   3517|    3|  3|  16|      1|\n",
            "| 3/4/16|     Bob|   1365|    3|  4|  16|      1|\n",
            "| 3/5/16|     Bob|   6674|    3|  5|  16|      1|\n",
            "| 3/6/16|     Bob|   3248|    3|  6|  16|      1|\n",
            "| 3/7/16|     Bob|   4592|    3|  7|  16|      1|\n",
            "| 3/8/16|     Bob|   2178|    3|  8|  16|      1|\n",
            "| 3/9/16|     Bob|   5049|    3|  9|  16|      1|\n",
            "|3/10/16|     Bob|   2242|    3| 10|  16|      5|\n",
            "|3/11/16|     Bob|   6916|    3| 11|  16|      5|\n",
            "|3/12/16|     Bob|   4404|    3| 12|  16|      1|\n",
            "|3/13/16|     Bob|   4089|    3| 13|  16|      5|\n",
            "|3/14/16|     Bob|   3159|    3| 14|  16|      1|\n",
            "|3/15/16|     Bob|   3144|    3| 15|  16|      1|\n",
            "|3/16/16|     Bob|   1490|    3| 16|  16|      5|\n",
            "|3/17/16|     Bob|    571|    3| 17|  16|      1|\n",
            "|3/18/16|     Bob|   4618|    3| 18|  16|      5|\n",
            "|3/19/16|     Bob|    715|    3| 19|  16|      5|\n",
            "|3/20/16|     Bob|   4780|    3| 20|  16|      1|\n",
            "|3/21/16|     Bob|    423|    3| 21|  16|      1|\n",
            "|3/22/16|     Bob|   4277|    3| 22|  16|      1|\n",
            "|3/23/16|     Bob|   6659|    3| 23|  16|      1|\n",
            "|3/24/16|     Bob|   8570|    3| 24|  16|      1|\n",
            "|3/25/16|     Bob|   7767|    3| 25|  16|      1|\n",
            "|3/26/16|     Bob|   5386|    3| 26|  16|      5|\n",
            "|3/27/16|     Bob|   1971|    3| 27|  16|      1|\n",
            "|3/28/16|     Bob|   9847|    3| 28|  16|      5|\n",
            "|3/29/16|     Bob|   5989|    3| 29|  16|      5|\n",
            "|3/30/16|     Bob|   9999|    3| 30|  16|      5|\n",
            "|3/31/16|     Bob|    697|    3| 31|  16|      1|\n",
            "| 4/1/16|     Bob|   1678|    4|  1|  16|      1|\n",
            "| 4/2/16|     Bob|   9491|    4|  2|  16|      1|\n",
            "| 4/3/16|     Bob|   4252|    4|  3|  16|      1|\n",
            "| 4/4/16|     Bob|   6883|    4|  4|  16|      5|\n",
            "| 4/5/16|     Bob|   6528|    4|  5|  16|      1|\n",
            "| 4/6/16|     Bob|   2174|    4|  6|  16|      5|\n",
            "| 4/7/16|     Bob|   4164|    4|  7|  16|      5|\n",
            "| 4/8/16|     Bob|   7706|    4|  8|  16|      5|\n",
            "| 4/9/16|     Bob|   1882|    4|  9|  16|      1|\n",
            "+-------+--------+-------+-----+---+----+-------+\n",
            "only showing top 100 rows\n",
            "\n"
          ]
        }
      ]
    },
    {
      "cell_type": "code",
      "source": [
        "df_new.select('New_Col').distinct().collect()"
      ],
      "metadata": {
        "colab": {
          "base_uri": "https://localhost:8080/"
        },
        "id": "3Bcvqx_mLrDt",
        "outputId": "6afce64c-f5da-42c6-a2f0-ad3442c52642"
      },
      "id": "3Bcvqx_mLrDt",
      "execution_count": 143,
      "outputs": [
        {
          "output_type": "execute_result",
          "data": {
            "text/plain": [
              "[Row(New_Col=1), Row(New_Col=5)]"
            ]
          },
          "metadata": {},
          "execution_count": 143
        }
      ]
    },
    {
      "cell_type": "code",
      "source": [
        "#make another column\n",
        "'''from pyspark.sql.functions import *\n",
        "data= df1.withColumn('fun', expr(\"Day\"+\"New_Col\"))'''\n",
        "df_new2= df_new.withColumn('New_Col2', when(rand() > 0.5, 4).otherwise(2))\n",
        "df_new2.show(50)"
      ],
      "metadata": {
        "colab": {
          "base_uri": "https://localhost:8080/"
        },
        "id": "Y53-DNbqOEa2",
        "outputId": "72b595a9-b4e5-4b93-ee5b-04558c7df270"
      },
      "id": "Y53-DNbqOEa2",
      "execution_count": 144,
      "outputs": [
        {
          "output_type": "stream",
          "name": "stdout",
          "text": [
            "+-------+--------+-------+-----+---+----+-------+--------+\n",
            "|   Date|Salesman|Revenue|Month|Day|Year|New_Col|New_Col2|\n",
            "+-------+--------+-------+-----+---+----+-------+--------+\n",
            "| 1/1/16|     Bob|   7172|    1|  1|  16|      5|       2|\n",
            "| 1/2/16|     Bob|   6362|    1|  2|  16|      1|       2|\n",
            "| 1/3/16|     Bob|   5982|    1|  3|  16|      5|       4|\n",
            "| 1/4/16|     Bob|   7917|    1|  4|  16|      5|       2|\n",
            "| 1/5/16|     Bob|   7837|    1|  5|  16|      5|       4|\n",
            "| 1/6/16|     Bob|   1744|    1|  6|  16|      1|       2|\n",
            "| 1/7/16|     Bob|    918|    1|  7|  16|      5|       4|\n",
            "| 1/8/16|     Bob|   9863|    1|  8|  16|      1|       2|\n",
            "| 1/9/16|     Bob|   8337|    1|  9|  16|      5|       4|\n",
            "|1/10/16|     Bob|   7543|    1| 10|  16|      5|       4|\n",
            "|1/11/16|     Bob|   1053|    1| 11|  16|      5|       2|\n",
            "|1/12/16|     Bob|   4362|    1| 12|  16|      5|       2|\n",
            "|1/13/16|     Bob|   6812|    1| 13|  16|      5|       2|\n",
            "|1/14/16|     Bob|   9047|    1| 14|  16|      1|       4|\n",
            "|1/15/16|     Bob|   3594|    1| 15|  16|      1|       4|\n",
            "|1/16/16|     Bob|   9800|    1| 16|  16|      5|       2|\n",
            "|1/17/16|     Bob|   7215|    1| 17|  16|      1|       4|\n",
            "|1/18/16|     Bob|   7744|    1| 18|  16|      5|       2|\n",
            "|1/19/16|     Bob|   9560|    1| 19|  16|      1|       2|\n",
            "|1/20/16|     Bob|   9863|    1| 20|  16|      5|       4|\n",
            "|1/21/16|     Bob|    547|    1| 21|  16|      1|       2|\n",
            "|1/22/16|     Bob|   3505|    1| 22|  16|      1|       4|\n",
            "|1/23/16|     Bob|   6969|    1| 23|  16|      1|       4|\n",
            "|1/24/16|     Bob|    696|    1| 24|  16|      5|       2|\n",
            "|1/25/16|     Bob|   4302|    1| 25|  16|      1|       4|\n",
            "|1/26/16|     Bob|   9427|    1| 26|  16|      1|       2|\n",
            "|1/27/16|     Bob|   7990|    1| 27|  16|      5|       2|\n",
            "|1/28/16|     Bob|   6271|    1| 28|  16|      5|       2|\n",
            "|1/29/16|     Bob|   5804|    1| 29|  16|      5|       4|\n",
            "|1/30/16|     Bob|   3285|    1| 30|  16|      5|       2|\n",
            "|1/31/16|     Bob|   2920|    1| 31|  16|      1|       4|\n",
            "| 2/1/16|     Bob|   6151|    2|  1|  16|      1|       2|\n",
            "| 2/2/16|     Bob|   3696|    2|  2|  16|      5|       2|\n",
            "| 2/3/16|     Bob|   2507|    2|  3|  16|      1|       2|\n",
            "| 2/4/16|     Bob|   1361|    2|  4|  16|      5|       2|\n",
            "| 2/5/16|     Bob|   8431|    2|  5|  16|      5|       2|\n",
            "| 2/6/16|     Bob|   3250|    2|  6|  16|      5|       2|\n",
            "| 2/7/16|     Bob|   2470|    2|  7|  16|      5|       4|\n",
            "| 2/8/16|     Bob|   4499|    2|  8|  16|      5|       4|\n",
            "| 2/9/16|     Bob|   5426|    2|  9|  16|      5|       2|\n",
            "|2/10/16|     Bob|    136|    2| 10|  16|      5|       2|\n",
            "|2/11/16|     Bob|   7769|    2| 11|  16|      1|       4|\n",
            "|2/12/16|     Bob|   8473|    2| 12|  16|      1|       4|\n",
            "|2/13/16|     Bob|   7430|    2| 13|  16|      1|       4|\n",
            "|2/14/16|     Bob|   7739|    2| 14|  16|      1|       4|\n",
            "|2/15/16|     Bob|    641|    2| 15|  16|      5|       4|\n",
            "|2/16/16|     Bob|   1225|    2| 16|  16|      5|       4|\n",
            "|2/17/16|     Bob|   8143|    2| 17|  16|      5|       2|\n",
            "|2/18/16|     Bob|   3963|    2| 18|  16|      5|       2|\n",
            "|2/19/16|     Bob|   4278|    2| 19|  16|      1|       4|\n",
            "+-------+--------+-------+-----+---+----+-------+--------+\n",
            "only showing top 50 rows\n",
            "\n"
          ]
        }
      ]
    },
    {
      "cell_type": "code",
      "source": [
        "#make a new column which is addition of last two columns of the latest datframe\n",
        "df_new2.withColumn('total_col', df_new2.New_Col + df_new2.New_Col2).show()"
      ],
      "metadata": {
        "colab": {
          "base_uri": "https://localhost:8080/"
        },
        "id": "Fv5jC_OIO7Hc",
        "outputId": "f9d192b4-5bd3-41b4-d827-0510a2ddc75f"
      },
      "id": "Fv5jC_OIO7Hc",
      "execution_count": 145,
      "outputs": [
        {
          "output_type": "stream",
          "name": "stdout",
          "text": [
            "+-------+--------+-------+-----+---+----+-------+--------+---------+\n",
            "|   Date|Salesman|Revenue|Month|Day|Year|New_Col|New_Col2|total_col|\n",
            "+-------+--------+-------+-----+---+----+-------+--------+---------+\n",
            "| 1/1/16|     Bob|   7172|    1|  1|  16|      5|       2|        7|\n",
            "| 1/2/16|     Bob|   6362|    1|  2|  16|      1|       2|        3|\n",
            "| 1/3/16|     Bob|   5982|    1|  3|  16|      5|       4|        9|\n",
            "| 1/4/16|     Bob|   7917|    1|  4|  16|      5|       2|        7|\n",
            "| 1/5/16|     Bob|   7837|    1|  5|  16|      5|       4|        9|\n",
            "| 1/6/16|     Bob|   1744|    1|  6|  16|      1|       2|        3|\n",
            "| 1/7/16|     Bob|    918|    1|  7|  16|      5|       4|        9|\n",
            "| 1/8/16|     Bob|   9863|    1|  8|  16|      1|       2|        3|\n",
            "| 1/9/16|     Bob|   8337|    1|  9|  16|      5|       4|        9|\n",
            "|1/10/16|     Bob|   7543|    1| 10|  16|      5|       4|        9|\n",
            "|1/11/16|     Bob|   1053|    1| 11|  16|      5|       2|        7|\n",
            "|1/12/16|     Bob|   4362|    1| 12|  16|      5|       2|        7|\n",
            "|1/13/16|     Bob|   6812|    1| 13|  16|      5|       2|        7|\n",
            "|1/14/16|     Bob|   9047|    1| 14|  16|      1|       4|        5|\n",
            "|1/15/16|     Bob|   3594|    1| 15|  16|      1|       4|        5|\n",
            "|1/16/16|     Bob|   9800|    1| 16|  16|      5|       2|        7|\n",
            "|1/17/16|     Bob|   7215|    1| 17|  16|      1|       4|        5|\n",
            "|1/18/16|     Bob|   7744|    1| 18|  16|      5|       2|        7|\n",
            "|1/19/16|     Bob|   9560|    1| 19|  16|      1|       2|        3|\n",
            "|1/20/16|     Bob|   9863|    1| 20|  16|      5|       4|        9|\n",
            "+-------+--------+-------+-----+---+----+-------+--------+---------+\n",
            "only showing top 20 rows\n",
            "\n"
          ]
        }
      ]
    },
    {
      "cell_type": "code",
      "source": [
        "#summary statistics (mean, standard deviance, min ,max, count) of numerical columns\n",
        "df_new2.describe().show()"
      ],
      "metadata": {
        "colab": {
          "base_uri": "https://localhost:8080/"
        },
        "id": "YiPG6AwpSARh",
        "outputId": "3ea6d051-868d-491c-def9-aca6afa2435c"
      },
      "id": "YiPG6AwpSARh",
      "execution_count": 146,
      "outputs": [
        {
          "output_type": "stream",
          "name": "stdout",
          "text": [
            "+-------+------+--------+------------------+------------------+------------------+----+-----------------+------------------+\n",
            "|summary|  Date|Salesman|           Revenue|             Month|               Day|Year|          New_Col|          New_Col2|\n",
            "+-------+------+--------+------------------+------------------+------------------+----+-----------------+------------------+\n",
            "|  count|  1830|    1830|              1830|              1830|              1830|1830|             1830|              1830|\n",
            "|   mean|  null|    null| 5032.541530054645|6.5136612021857925|15.756830601092895|16.0|3.056830601092896|3.0076502732240438|\n",
            "| stddev|  null|    null|2854.7410375826867|3.4521772648080224| 8.813938139770649| 0.0|1.999738859042977|  1.00024406430457|\n",
            "|    min|1/1/16|     Bob|                 1|                 1|                 1|  16|                1|                 2|\n",
            "|    max|9/9/16|  Ronald|              9999|                 9|                 9|  16|                5|                 4|\n",
            "+-------+------+--------+------------------+------------------+------------------+----+-----------------+------------------+\n",
            "\n"
          ]
        }
      ]
    },
    {
      "cell_type": "code",
      "source": [
        "#calculate pair wise frequency of categorical columns\n",
        "df_new2.crosstab('Day', 'Month').show()"
      ],
      "metadata": {
        "colab": {
          "base_uri": "https://localhost:8080/"
        },
        "id": "iaFIKrR02GmR",
        "outputId": "df0b324d-f7ab-45ce-ea37-e3c9309b05d0"
      },
      "id": "iaFIKrR02GmR",
      "execution_count": 147,
      "outputs": [
        {
          "output_type": "stream",
          "name": "stdout",
          "text": [
            "+---------+---+---+---+---+---+---+---+---+---+---+---+---+\n",
            "|Day_Month|  1| 10| 11| 12|  2|  3|  4|  5|  6|  7|  8|  9|\n",
            "+---------+---+---+---+---+---+---+---+---+---+---+---+---+\n",
            "|       12|  5|  5|  5|  5|  5|  5|  5|  5|  5|  5|  5|  5|\n",
            "|        8|  5|  5|  5|  5|  5|  5|  5|  5|  5|  5|  5|  5|\n",
            "|       19|  5|  5|  5|  5|  5|  5|  5|  5|  5|  5|  5|  5|\n",
            "|       23|  5|  5|  5|  5|  5|  5|  5|  5|  5|  5|  5|  5|\n",
            "|        4|  5|  5|  5|  5|  5|  5|  5|  5|  5|  5|  5|  5|\n",
            "|       15|  5|  5|  5|  5|  5|  5|  5|  5|  5|  5|  5|  5|\n",
            "|       11|  5|  5|  5|  5|  5|  5|  5|  5|  5|  5|  5|  5|\n",
            "|        9|  5|  5|  5|  5|  5|  5|  5|  5|  5|  5|  5|  5|\n",
            "|       22|  5|  5|  5|  5|  5|  5|  5|  5|  5|  5|  5|  5|\n",
            "|       26|  5|  5|  5|  5|  5|  5|  5|  5|  5|  5|  5|  5|\n",
            "|       13|  5|  5|  5|  5|  5|  5|  5|  5|  5|  5|  5|  5|\n",
            "|       24|  5|  5|  5|  5|  5|  5|  5|  5|  5|  5|  5|  5|\n",
            "|       16|  5|  5|  5|  5|  5|  5|  5|  5|  5|  5|  5|  5|\n",
            "|        5|  5|  5|  5|  5|  5|  5|  5|  5|  5|  5|  5|  5|\n",
            "|       10|  5|  5|  5|  5|  5|  5|  5|  5|  5|  5|  5|  5|\n",
            "|       21|  5|  5|  5|  5|  5|  5|  5|  5|  5|  5|  5|  5|\n",
            "|        6|  5|  5|  5|  5|  5|  5|  5|  5|  5|  5|  5|  5|\n",
            "|        1|  5|  5|  5|  5|  5|  5|  5|  5|  5|  5|  5|  5|\n",
            "|       17|  5|  5|  5|  5|  5|  5|  5|  5|  5|  5|  5|  5|\n",
            "|       25|  5|  5|  5|  5|  5|  5|  5|  5|  5|  5|  5|  5|\n",
            "+---------+---+---+---+---+---+---+---+---+---+---+---+---+\n",
            "only showing top 20 rows\n",
            "\n"
          ]
        }
      ]
    },
    {
      "cell_type": "code",
      "source": [
        "#DataFrame which won’t have duplicate rows of given DataFrame\n",
        "df_new2.select('Date','Revenue','Day').dropDuplicates().show(50)"
      ],
      "metadata": {
        "colab": {
          "base_uri": "https://localhost:8080/"
        },
        "id": "NkkDBs0g2lpf",
        "outputId": "c4b4249d-a1ea-42ac-ee46-70fdabcb58b9"
      },
      "id": "NkkDBs0g2lpf",
      "execution_count": 150,
      "outputs": [
        {
          "output_type": "stream",
          "name": "stdout",
          "text": [
            "+--------+-------+---+\n",
            "|    Date|Revenue|Day|\n",
            "+--------+-------+---+\n",
            "| 3/17/16|    571| 17|\n",
            "|  7/7/16|   1331|  7|\n",
            "|10/22/16|   9599| 22|\n",
            "|10/23/16|   3569| 23|\n",
            "| 6/19/16|   4988| 19|\n",
            "|  7/9/16|   8782|  9|\n",
            "|11/17/16|   5771| 17|\n",
            "|  7/9/16|   3114|  9|\n",
            "| 10/9/16|   1689|  9|\n",
            "| 1/13/16|   2349| 13|\n",
            "|  5/7/16|   9843|  7|\n",
            "| 5/21/16|   7266| 21|\n",
            "| 8/23/16|   4590| 23|\n",
            "| 8/26/16|   1090| 26|\n",
            "|  5/5/16|   2816|  5|\n",
            "| 5/19/16|   4599| 19|\n",
            "| 12/6/16|   3060|  6|\n",
            "| 3/12/16|   4404| 12|\n",
            "|  6/5/16|   3102|  5|\n",
            "| 6/20/16|   1571| 20|\n",
            "|10/14/16|    435| 14|\n",
            "| 9/11/16|   6899| 11|\n",
            "| 10/9/16|   1296|  9|\n",
            "| 1/22/16|   2875| 22|\n",
            "| 9/13/16|   8332| 13|\n",
            "|11/20/16|   6488| 20|\n",
            "|  9/5/16|    992|  5|\n",
            "|10/24/16|   8216| 24|\n",
            "|  6/3/16|   3381|  3|\n",
            "|  7/1/16|   6544|  1|\n",
            "| 2/18/16|    482| 18|\n",
            "|10/30/16|    620| 30|\n",
            "|  1/8/16|   9863|  8|\n",
            "| 5/14/16|    785| 14|\n",
            "|  1/5/16|   2287|  5|\n",
            "| 3/21/16|   8446| 21|\n",
            "| 5/27/16|   4520| 27|\n",
            "|10/19/16|   9723| 19|\n",
            "| 11/2/16|   4383|  2|\n",
            "| 1/24/16|   6705| 24|\n",
            "|  6/2/16|   3985|  2|\n",
            "| 2/28/16|   1758| 28|\n",
            "|12/16/16|   6742| 16|\n",
            "| 4/13/16|    262| 13|\n",
            "| 12/2/16|   9842|  2|\n",
            "| 12/3/16|   4284|  3|\n",
            "| 3/23/16|   8767| 23|\n",
            "| 6/16/16|   7365| 16|\n",
            "| 10/6/16|   3399|  6|\n",
            "| 1/28/16|   3691| 28|\n",
            "+--------+-------+---+\n",
            "only showing top 50 rows\n",
            "\n"
          ]
        }
      ]
    },
    {
      "cell_type": "code",
      "source": [
        "#filter the rows in df_new2 which has Revenue more than 8000\n",
        "df_new2.filter(df_new2.Revenue > 8000).count()"
      ],
      "metadata": {
        "colab": {
          "base_uri": "https://localhost:8080/"
        },
        "id": "NHiqtkvK3JIl",
        "outputId": "830d68fd-0d1d-4460-f4a8-8bc3d1b68cc7"
      },
      "id": "NHiqtkvK3JIl",
      "execution_count": 151,
      "outputs": [
        {
          "output_type": "execute_result",
          "data": {
            "text/plain": [
              "354"
            ]
          },
          "metadata": {},
          "execution_count": 151
        }
      ]
    },
    {
      "cell_type": "code",
      "source": [
        "#apply map operation on DataFrame\n",
        "#df_new2.select('Revenue').map(lambda x:(x,1)).take(5)"
      ],
      "metadata": {
        "id": "VQ-yAOSq4ABa"
      },
      "id": "VQ-yAOSq4ABa",
      "execution_count": 154,
      "outputs": []
    },
    {
      "cell_type": "code",
      "source": [
        "import findspark\n",
        "findspark.init()\n",
        "import pyspark # only run after findspark.init()\n",
        "from pyspark.sql import SparkSession\n",
        "from pyspark.sql import SQLContext\n",
        "import seaborn as sns\n",
        "import matplotlib.pyplot as plt\n",
        "spark = SparkSession.builder.getOrCreate()"
      ],
      "metadata": {
        "id": "6gNAnnUJ5wsu"
      },
      "id": "6gNAnnUJ5wsu",
      "execution_count": 155,
      "outputs": []
    },
    {
      "cell_type": "code",
      "source": [
        "#Creating Table using SQL queries\n",
        "df_new2.registerTempTable('PritamTable')\n",
        "sqlContext = SQLContext(spark)"
      ],
      "metadata": {
        "id": "hNVaz1sY6tly"
      },
      "id": "hNVaz1sY6tly",
      "execution_count": 160,
      "outputs": []
    },
    {
      "cell_type": "code",
      "source": [
        "sqlContext.sql('select Day from PritamTable').show(32)"
      ],
      "metadata": {
        "colab": {
          "base_uri": "https://localhost:8080/"
        },
        "id": "kJBFwx6p7Dkq",
        "outputId": "00f55b4e-a83a-465c-eb2f-093494fc5d8b"
      },
      "id": "kJBFwx6p7Dkq",
      "execution_count": 166,
      "outputs": [
        {
          "output_type": "stream",
          "name": "stdout",
          "text": [
            "+---+\n",
            "|Day|\n",
            "+---+\n",
            "|  1|\n",
            "|  2|\n",
            "|  3|\n",
            "|  4|\n",
            "|  5|\n",
            "|  6|\n",
            "|  7|\n",
            "|  8|\n",
            "|  9|\n",
            "| 10|\n",
            "| 11|\n",
            "| 12|\n",
            "| 13|\n",
            "| 14|\n",
            "| 15|\n",
            "| 16|\n",
            "| 17|\n",
            "| 18|\n",
            "| 19|\n",
            "| 20|\n",
            "| 21|\n",
            "| 22|\n",
            "| 23|\n",
            "| 24|\n",
            "| 25|\n",
            "| 26|\n",
            "| 27|\n",
            "| 28|\n",
            "| 29|\n",
            "| 30|\n",
            "| 31|\n",
            "|  1|\n",
            "+---+\n",
            "only showing top 32 rows\n",
            "\n"
          ]
        }
      ]
    },
    {
      "cell_type": "code",
      "source": [
        "#Visualising in form of a table\n",
        "sdf = spark.sql(\"select * from PritamTable limit 15\")\n",
        "display(sdf)"
      ],
      "metadata": {
        "colab": {
          "base_uri": "https://localhost:8080/",
          "height": 395
        },
        "id": "7rVF_paV8Z8h",
        "outputId": "bbde0ccd-5c72-4540-8d8d-a4160f4562f2"
      },
      "id": "7rVF_paV8Z8h",
      "execution_count": 169,
      "outputs": [
        {
          "output_type": "display_data",
          "data": {
            "text/plain": [
              "+-------+--------+-------+-----+---+----+-------+--------+\n",
              "|   Date|Salesman|Revenue|Month|Day|Year|New_Col|New_Col2|\n",
              "+-------+--------+-------+-----+---+----+-------+--------+\n",
              "| 1/1/16|     Bob|   7172|    1|  1|  16|      5|       2|\n",
              "| 1/2/16|     Bob|   6362|    1|  2|  16|      1|       2|\n",
              "| 1/3/16|     Bob|   5982|    1|  3|  16|      5|       4|\n",
              "| 1/4/16|     Bob|   7917|    1|  4|  16|      5|       2|\n",
              "| 1/5/16|     Bob|   7837|    1|  5|  16|      5|       4|\n",
              "| 1/6/16|     Bob|   1744|    1|  6|  16|      1|       2|\n",
              "| 1/7/16|     Bob|    918|    1|  7|  16|      5|       4|\n",
              "| 1/8/16|     Bob|   9863|    1|  8|  16|      1|       2|\n",
              "| 1/9/16|     Bob|   8337|    1|  9|  16|      5|       4|\n",
              "|1/10/16|     Bob|   7543|    1| 10|  16|      5|       4|\n",
              "|1/11/16|     Bob|   1053|    1| 11|  16|      5|       2|\n",
              "|1/12/16|     Bob|   4362|    1| 12|  16|      5|       2|\n",
              "|1/13/16|     Bob|   6812|    1| 13|  16|      5|       2|\n",
              "|1/14/16|     Bob|   9047|    1| 14|  16|      1|       4|\n",
              "|1/15/16|     Bob|   3594|    1| 15|  16|      1|       4|\n",
              "+-------+--------+-------+-----+---+----+-------+--------+"
            ],
            "text/html": [
              "<table border='1'>\n",
              "<tr><th>Date</th><th>Salesman</th><th>Revenue</th><th>Month</th><th>Day</th><th>Year</th><th>New_Col</th><th>New_Col2</th></tr>\n",
              "<tr><td>1/1/16</td><td>Bob</td><td>7172</td><td>1</td><td>1</td><td>16</td><td>5</td><td>2</td></tr>\n",
              "<tr><td>1/2/16</td><td>Bob</td><td>6362</td><td>1</td><td>2</td><td>16</td><td>1</td><td>2</td></tr>\n",
              "<tr><td>1/3/16</td><td>Bob</td><td>5982</td><td>1</td><td>3</td><td>16</td><td>5</td><td>4</td></tr>\n",
              "<tr><td>1/4/16</td><td>Bob</td><td>7917</td><td>1</td><td>4</td><td>16</td><td>5</td><td>2</td></tr>\n",
              "<tr><td>1/5/16</td><td>Bob</td><td>7837</td><td>1</td><td>5</td><td>16</td><td>5</td><td>4</td></tr>\n",
              "<tr><td>1/6/16</td><td>Bob</td><td>1744</td><td>1</td><td>6</td><td>16</td><td>1</td><td>2</td></tr>\n",
              "<tr><td>1/7/16</td><td>Bob</td><td>918</td><td>1</td><td>7</td><td>16</td><td>5</td><td>4</td></tr>\n",
              "<tr><td>1/8/16</td><td>Bob</td><td>9863</td><td>1</td><td>8</td><td>16</td><td>1</td><td>2</td></tr>\n",
              "<tr><td>1/9/16</td><td>Bob</td><td>8337</td><td>1</td><td>9</td><td>16</td><td>5</td><td>4</td></tr>\n",
              "<tr><td>1/10/16</td><td>Bob</td><td>7543</td><td>1</td><td>10</td><td>16</td><td>5</td><td>4</td></tr>\n",
              "<tr><td>1/11/16</td><td>Bob</td><td>1053</td><td>1</td><td>11</td><td>16</td><td>5</td><td>2</td></tr>\n",
              "<tr><td>1/12/16</td><td>Bob</td><td>4362</td><td>1</td><td>12</td><td>16</td><td>5</td><td>2</td></tr>\n",
              "<tr><td>1/13/16</td><td>Bob</td><td>6812</td><td>1</td><td>13</td><td>16</td><td>5</td><td>2</td></tr>\n",
              "<tr><td>1/14/16</td><td>Bob</td><td>9047</td><td>1</td><td>14</td><td>16</td><td>1</td><td>4</td></tr>\n",
              "<tr><td>1/15/16</td><td>Bob</td><td>3594</td><td>1</td><td>15</td><td>16</td><td>1</td><td>4</td></tr>\n",
              "</table>\n"
            ]
          },
          "metadata": {}
        }
      ]
    },
    {
      "cell_type": "code",
      "source": [
        "from pyspark.sql.types import ArrayType,IntegerType\n",
        "arrayType = ArrayType(IntegerType(),False)\n",
        "print(arrayType.jsonValue()) \n",
        "print(arrayType.simpleString())\n",
        "print(arrayType.typeName()) \n"
      ],
      "metadata": {
        "colab": {
          "base_uri": "https://localhost:8080/"
        },
        "id": "jok27uGV9q03",
        "outputId": "a9f5ccb6-7deb-4bcc-deb1-b94284e10188"
      },
      "id": "jok27uGV9q03",
      "execution_count": 172,
      "outputs": [
        {
          "output_type": "stream",
          "name": "stdout",
          "text": [
            "{'type': 'array', 'elementType': 'integer', 'containsNull': False}\n",
            "array<int>\n",
            "array\n"
          ]
        }
      ]
    },
    {
      "cell_type": "code",
      "source": [
        "!pip install pyspark_dist_explore"
      ],
      "metadata": {
        "colab": {
          "base_uri": "https://localhost:8080/"
        },
        "id": "iJiXmgyG-aYG",
        "outputId": "7a91be8f-a811-47e3-b8cf-25fea6509763"
      },
      "id": "iJiXmgyG-aYG",
      "execution_count": 186,
      "outputs": [
        {
          "output_type": "stream",
          "name": "stdout",
          "text": [
            "Looking in indexes: https://pypi.org/simple, https://us-python.pkg.dev/colab-wheels/public/simple/\n",
            "Requirement already satisfied: pyspark_dist_explore in /usr/local/lib/python3.8/dist-packages (0.1.8)\n",
            "Requirement already satisfied: scipy in /usr/local/lib/python3.8/dist-packages (from pyspark_dist_explore) (1.7.3)\n",
            "Requirement already satisfied: pandas in /usr/local/lib/python3.8/dist-packages (from pyspark_dist_explore) (1.3.5)\n",
            "Requirement already satisfied: numpy in /usr/local/lib/python3.8/dist-packages (from pyspark_dist_explore) (1.21.6)\n",
            "Requirement already satisfied: matplotlib in /usr/local/lib/python3.8/dist-packages (from pyspark_dist_explore) (3.2.2)\n",
            "Requirement already satisfied: cycler>=0.10 in /usr/local/lib/python3.8/dist-packages (from matplotlib->pyspark_dist_explore) (0.11.0)\n",
            "Requirement already satisfied: pyparsing!=2.0.4,!=2.1.2,!=2.1.6,>=2.0.1 in /usr/local/lib/python3.8/dist-packages (from matplotlib->pyspark_dist_explore) (3.0.9)\n",
            "Requirement already satisfied: python-dateutil>=2.1 in /usr/local/lib/python3.8/dist-packages (from matplotlib->pyspark_dist_explore) (2.8.2)\n",
            "Requirement already satisfied: kiwisolver>=1.0.1 in /usr/local/lib/python3.8/dist-packages (from matplotlib->pyspark_dist_explore) (1.4.4)\n",
            "Requirement already satisfied: six>=1.5 in /usr/local/lib/python3.8/dist-packages (from python-dateutil>=2.1->matplotlib->pyspark_dist_explore) (1.15.0)\n",
            "Requirement already satisfied: pytz>=2017.3 in /usr/local/lib/python3.8/dist-packages (from pandas->pyspark_dist_explore) (2022.6)\n"
          ]
        }
      ]
    },
    {
      "cell_type": "code",
      "source": [
        "#bargraph\n",
        "from pyspark_dist_explore import hist\n",
        "import matplotlib.pyplot as plt\n",
        "fig, ax = plt.subplots()\n",
        "hist(ax, df_new2.select('Month'), bins = 10, color=['red'])                     #doubt"
      ],
      "metadata": {
        "colab": {
          "base_uri": "https://localhost:8080/",
          "height": 597
        },
        "id": "MIeZF1IG_in5",
        "outputId": "a8922cee-d6f5-4c14-fb87-99e8339eb209"
      },
      "id": "MIeZF1IG_in5",
      "execution_count": 189,
      "outputs": [
        {
          "output_type": "error",
          "ename": "ValueError",
          "evalue": "ignored",
          "traceback": [
            "\u001b[0;31m---------------------------------------------------------------------------\u001b[0m",
            "\u001b[0;31mValueError\u001b[0m                                Traceback (most recent call last)",
            "\u001b[0;32m<ipython-input-189-89e53b9c27d1>\u001b[0m in \u001b[0;36m<module>\u001b[0;34m\u001b[0m\n\u001b[1;32m      2\u001b[0m \u001b[0;32mimport\u001b[0m \u001b[0mmatplotlib\u001b[0m\u001b[0;34m.\u001b[0m\u001b[0mpyplot\u001b[0m \u001b[0;32mas\u001b[0m \u001b[0mplt\u001b[0m\u001b[0;34m\u001b[0m\u001b[0;34m\u001b[0m\u001b[0m\n\u001b[1;32m      3\u001b[0m \u001b[0mfig\u001b[0m\u001b[0;34m,\u001b[0m \u001b[0max\u001b[0m \u001b[0;34m=\u001b[0m \u001b[0mplt\u001b[0m\u001b[0;34m.\u001b[0m\u001b[0msubplots\u001b[0m\u001b[0;34m(\u001b[0m\u001b[0;34m)\u001b[0m\u001b[0;34m\u001b[0m\u001b[0;34m\u001b[0m\u001b[0m\n\u001b[0;32m----> 4\u001b[0;31m \u001b[0mhist\u001b[0m\u001b[0;34m(\u001b[0m\u001b[0max\u001b[0m\u001b[0;34m,\u001b[0m \u001b[0mdf_new2\u001b[0m\u001b[0;34m.\u001b[0m\u001b[0mselect\u001b[0m\u001b[0;34m(\u001b[0m\u001b[0;34m'Month'\u001b[0m\u001b[0;34m)\u001b[0m\u001b[0;34m,\u001b[0m \u001b[0mbins\u001b[0m \u001b[0;34m=\u001b[0m \u001b[0;36m10\u001b[0m\u001b[0;34m,\u001b[0m \u001b[0mcolor\u001b[0m\u001b[0;34m=\u001b[0m\u001b[0;34m[\u001b[0m\u001b[0;34m'red'\u001b[0m\u001b[0;34m]\u001b[0m\u001b[0;34m)\u001b[0m\u001b[0;34m\u001b[0m\u001b[0;34m\u001b[0m\u001b[0m\n\u001b[0m",
            "\u001b[0;32m/usr/local/lib/python3.8/dist-packages/pyspark_dist_explore/pyspark_dist_explore.py\u001b[0m in \u001b[0;36mhist\u001b[0;34m(axis, x, overlapping, formatted_yaxis, **kwargs)\u001b[0m\n\u001b[1;32m     51\u001b[0m     \"\"\"\n\u001b[1;32m     52\u001b[0m     \u001b[0mhistogram\u001b[0m \u001b[0;34m=\u001b[0m \u001b[0mcreate_histogram_object\u001b[0m\u001b[0;34m(\u001b[0m\u001b[0mkwargs\u001b[0m\u001b[0;34m)\u001b[0m\u001b[0;34m\u001b[0m\u001b[0;34m\u001b[0m\u001b[0m\n\u001b[0;32m---> 53\u001b[0;31m     \u001b[0mhistogram\u001b[0m\u001b[0;34m.\u001b[0m\u001b[0madd_data\u001b[0m\u001b[0;34m(\u001b[0m\u001b[0mx\u001b[0m\u001b[0;34m)\u001b[0m\u001b[0;34m\u001b[0m\u001b[0;34m\u001b[0m\u001b[0m\n\u001b[0m\u001b[1;32m     54\u001b[0m     \u001b[0;32mreturn\u001b[0m \u001b[0mhistogram\u001b[0m\u001b[0;34m.\u001b[0m\u001b[0mplot_hist\u001b[0m\u001b[0;34m(\u001b[0m\u001b[0maxis\u001b[0m\u001b[0;34m,\u001b[0m \u001b[0moverlapping\u001b[0m\u001b[0;34m,\u001b[0m \u001b[0mformatted_yaxis\u001b[0m\u001b[0;34m,\u001b[0m \u001b[0;34m**\u001b[0m\u001b[0mkwargs\u001b[0m\u001b[0;34m)\u001b[0m\u001b[0;34m\u001b[0m\u001b[0;34m\u001b[0m\u001b[0m\n\u001b[1;32m     55\u001b[0m \u001b[0;34m\u001b[0m\u001b[0m\n",
            "\u001b[0;32m/usr/local/lib/python3.8/dist-packages/pyspark_dist_explore/pyspark_dist_explore.py\u001b[0m in \u001b[0;36madd_data\u001b[0;34m(self, data)\u001b[0m\n\u001b[1;32m    443\u001b[0m \u001b[0;34m\u001b[0m\u001b[0m\n\u001b[1;32m    444\u001b[0m         \u001b[0;32melse\u001b[0m\u001b[0;34m:\u001b[0m\u001b[0;34m\u001b[0m\u001b[0;34m\u001b[0m\u001b[0m\n\u001b[0;32m--> 445\u001b[0;31m             \u001b[0mself\u001b[0m\u001b[0;34m.\u001b[0m\u001b[0madd_column\u001b[0m\u001b[0;34m(\u001b[0m\u001b[0mdata\u001b[0m\u001b[0;34m)\u001b[0m\u001b[0;34m\u001b[0m\u001b[0;34m\u001b[0m\u001b[0m\n\u001b[0m",
            "\u001b[0;32m/usr/local/lib/python3.8/dist-packages/pyspark_dist_explore/pyspark_dist_explore.py\u001b[0m in \u001b[0;36madd_column\u001b[0;34m(self, table)\u001b[0m\n\u001b[1;32m    198\u001b[0m \u001b[0;34m\u001b[0m\u001b[0m\n\u001b[1;32m    199\u001b[0m         \u001b[0;32mif\u001b[0m \u001b[0;32mnot\u001b[0m \u001b[0misinstance\u001b[0m\u001b[0;34m(\u001b[0m\u001b[0mtable\u001b[0m\u001b[0;34m.\u001b[0m\u001b[0mschema\u001b[0m\u001b[0;34m.\u001b[0m\u001b[0mfields\u001b[0m\u001b[0;34m[\u001b[0m\u001b[0;36m0\u001b[0m\u001b[0;34m]\u001b[0m\u001b[0;34m.\u001b[0m\u001b[0mdataType\u001b[0m\u001b[0;34m,\u001b[0m \u001b[0mNumericType\u001b[0m\u001b[0;34m)\u001b[0m\u001b[0;34m:\u001b[0m\u001b[0;34m\u001b[0m\u001b[0;34m\u001b[0m\u001b[0m\n\u001b[0;32m--> 200\u001b[0;31m             raise ValueError('Column %s has a non-numeric type (%s), only numeric types are supported'\n\u001b[0m\u001b[1;32m    201\u001b[0m                              % (column_name, str(table.schema.fields[0].dataType)))\n\u001b[1;32m    202\u001b[0m \u001b[0;34m\u001b[0m\u001b[0m\n",
            "\u001b[0;31mValueError\u001b[0m: Column Month has a non-numeric type (StringType), only numeric types are supported"
          ]
        },
        {
          "output_type": "display_data",
          "data": {
            "text/plain": [
              "<Figure size 432x288 with 1 Axes>"
            ],
            "image/png": "[encoded data removed]"
          },
          "metadata": {
            "needs_background": "light"
          }
        }
      ]
    },
    {
      "cell_type": "code",
      "source": [],
      "metadata": {
        "id": "4ByQtKlKBzHb"
      },
      "id": "4ByQtKlKBzHb",
      "execution_count": null,
      "outputs": []
    }
  ],
  "metadata": {
    "colab": {
      "provenance": []
    },
    "language_info": {
      "name": "python"
    },
    "kernelspec": {
      "name": "python3",
      "display_name": "Python 3"
    },
    "gpuClass": "standard"
  },
  "nbformat": 4,
  "nbformat_minor": 5
}