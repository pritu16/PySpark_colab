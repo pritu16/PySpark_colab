{
  "cells": [
    {
      "cell_type": "code",
      "source": [
        "!apt-get install openjdk-8-jdk-headless -qq > /dev/null\n",
        "!wget -q http://archive.apache.org/dist/spark/spark-3.1.1/spark-3.1.1-bin-hadoop3.2.tgz\n",
        "!tar xf spark-3.1.1-bin-hadoop3.2.tgz\n",
        "!pip install -q findspark"
      ],
      "metadata": {
        "id": "M-Y92lWYYEOT"
      },
      "id": "M-Y92lWYYEOT",
      "execution_count": 1,
      "outputs": []
    },
    {
      "cell_type": "code",
      "source": [
        "import os\n",
        "os.environ[\"JAVA_HOME\"] = \"/usr/lib/jvm/java-8-openjdk-amd64\"\n",
        "os.environ[\"SPARK_HOME\"] = \"/content/spark-3.1.1-bin-hadoop3.2\""
      ],
      "metadata": {
        "id": "MY70CUItYKpx"
      },
      "id": "MY70CUItYKpx",
      "execution_count": 2,
      "outputs": []
    },
    {
      "cell_type": "code",
      "source": [
        "import findspark\n",
        "findspark.init()\n",
        "from pyspark.sql import SparkSession\n",
        "spark = SparkSession.builder.master(\"local[*]\").getOrCreate()\n",
        "spark.conf.set(\"spark.sql.repl.eagerEval.enabled\", True) # Property used to format output tables better\n",
        "spark"
      ],
      "metadata": {
        "id": "U8pmvC7dYTv_",
        "outputId": "9580ee4e-e197-4435-8d5c-fc596dcebe36",
        "colab": {
          "base_uri": "https://localhost:8080/",
          "height": 219
        }
      },
      "id": "U8pmvC7dYTv_",
      "execution_count": 3,
      "outputs": [
        {
          "output_type": "execute_result",
          "data": {
            "text/plain": [
              "<pyspark.sql.session.SparkSession at 0x7f70b2a2c700>"
            ],
            "text/html": [
              "\n",
              "            <div>\n",
              "                <p><b>SparkSession - in-memory</b></p>\n",
              "                \n",
              "        <div>\n",
              "            <p><b>SparkContext</b></p>\n",
              "\n",
              "            <p><a href=\"http://a4b9e750faf3:4040\">Spark UI</a></p>\n",
              "\n",
              "            <dl>\n",
              "              <dt>Version</dt>\n",
              "                <dd><code>v3.1.1</code></dd>\n",
              "              <dt>Master</dt>\n",
              "                <dd><code>local[*]</code></dd>\n",
              "              <dt>AppName</dt>\n",
              "                <dd><code>pyspark-shell</code></dd>\n",
              "            </dl>\n",
              "        </div>\n",
              "        \n",
              "            </div>\n",
              "        "
            ]
          },
          "metadata": {},
          "execution_count": 3
        }
      ]
    },
    {
      "cell_type": "code",
      "source": [
        "from google.colab import files\n",
        "uploaded=files.upload()"
      ],
      "metadata": {
        "id": "EG9xsUg_YWGX",
        "outputId": "a081fd8f-709a-471f-c1fd-088a42602615",
        "colab": {
          "base_uri": "https://localhost:8080/",
          "height": 73
        }
      },
      "id": "EG9xsUg_YWGX",
      "execution_count": 4,
      "outputs": [
        {
          "output_type": "display_data",
          "data": {
            "text/plain": [
              "<IPython.core.display.HTML object>"
            ],
            "text/html": [
              "\n",
              "     <input type=\"file\" id=\"files-bf1bb53c-4331-4f81-878b-fdffa1413414\" name=\"files[]\" multiple disabled\n",
              "        style=\"border:none\" />\n",
              "     <output id=\"result-bf1bb53c-4331-4f81-878b-fdffa1413414\">\n",
              "      Upload widget is only available when the cell has been executed in the\n",
              "      current browser session. Please rerun this cell to enable.\n",
              "      </output>\n",
              "      <script>// Copyright 2017 Google LLC\n",
              "//\n",
              "// Licensed under the Apache License, Version 2.0 (the \"License\");\n",
              "// you may not use this file except in compliance with the License.\n",
              "// You may obtain a copy of the License at\n",
              "//\n",
              "//      http://www.apache.org/licenses/LICENSE-2.0\n",
              "//\n",
              "// Unless required by applicable law or agreed to in writing, software\n",
              "// distributed under the License is distributed on an \"AS IS\" BASIS,\n",
              "// WITHOUT WARRANTIES OR CONDITIONS OF ANY KIND, either express or implied.\n",
              "// See the License for the specific language governing permissions and\n",
              "// limitations under the License.\n",
              "\n",
              "/**\n",
              " * @fileoverview Helpers for google.colab Python module.\n",
              " */\n",
              "(function(scope) {\n",
              "function span(text, styleAttributes = {}) {\n",
              "  const element = document.createElement('span');\n",
              "  element.textContent = text;\n",
              "  for (const key of Object.keys(styleAttributes)) {\n",
              "    element.style[key] = styleAttributes[key];\n",
              "  }\n",
              "  return element;\n",
              "}\n",
              "\n",
              "// Max number of bytes which will be uploaded at a time.\n",
              "const MAX_PAYLOAD_SIZE = 100 * 1024;\n",
              "\n",
              "function _uploadFiles(inputId, outputId) {\n",
              "  const steps = uploadFilesStep(inputId, outputId);\n",
              "  const outputElement = document.getElementById(outputId);\n",
              "  // Cache steps on the outputElement to make it available for the next call\n",
              "  // to uploadFilesContinue from Python.\n",
              "  outputElement.steps = steps;\n",
              "\n",
              "  return _uploadFilesContinue(outputId);\n",
              "}\n",
              "\n",
              "// This is roughly an async generator (not supported in the browser yet),\n",
              "// where there are multiple asynchronous steps and the Python side is going\n",
              "// to poll for completion of each step.\n",
              "// This uses a Promise to block the python side on completion of each step,\n",
              "// then passes the result of the previous step as the input to the next step.\n",
              "function _uploadFilesContinue(outputId) {\n",
              "  const outputElement = document.getElementById(outputId);\n",
              "  const steps = outputElement.steps;\n",
              "\n",
              "  const next = steps.next(outputElement.lastPromiseValue);\n",
              "  return Promise.resolve(next.value.promise).then((value) => {\n",
              "    // Cache the last promise value to make it available to the next\n",
              "    // step of the generator.\n",
              "    outputElement.lastPromiseValue = value;\n",
              "    return next.value.response;\n",
              "  });\n",
              "}\n",
              "\n",
              "/**\n",
              " * Generator function which is called between each async step of the upload\n",
              " * process.\n",
              " * @param {string} inputId Element ID of the input file picker element.\n",
              " * @param {string} outputId Element ID of the output display.\n",
              " * @return {!Iterable<!Object>} Iterable of next steps.\n",
              " */\n",
              "function* uploadFilesStep(inputId, outputId) {\n",
              "  const inputElement = document.getElementById(inputId);\n",
              "  inputElement.disabled = false;\n",
              "\n",
              "  const outputElement = document.getElementById(outputId);\n",
              "  outputElement.innerHTML = '';\n",
              "\n",
              "  const pickedPromise = new Promise((resolve) => {\n",
              "    inputElement.addEventListener('change', (e) => {\n",
              "      resolve(e.target.files);\n",
              "    });\n",
              "  });\n",
              "\n",
              "  const cancel = document.createElement('button');\n",
              "  inputElement.parentElement.appendChild(cancel);\n",
              "  cancel.textContent = 'Cancel upload';\n",
              "  const cancelPromise = new Promise((resolve) => {\n",
              "    cancel.onclick = () => {\n",
              "      resolve(null);\n",
              "    };\n",
              "  });\n",
              "\n",
              "  // Wait for the user to pick the files.\n",
              "  const files = yield {\n",
              "    promise: Promise.race([pickedPromise, cancelPromise]),\n",
              "    response: {\n",
              "      action: 'starting',\n",
              "    }\n",
              "  };\n",
              "\n",
              "  cancel.remove();\n",
              "\n",
              "  // Disable the input element since further picks are not allowed.\n",
              "  inputElement.disabled = true;\n",
              "\n",
              "  if (!files) {\n",
              "    return {\n",
              "      response: {\n",
              "        action: 'complete',\n",
              "      }\n",
              "    };\n",
              "  }\n",
              "\n",
              "  for (const file of files) {\n",
              "    const li = document.createElement('li');\n",
              "    li.append(span(file.name, {fontWeight: 'bold'}));\n",
              "    li.append(span(\n",
              "        `(${file.type || 'n/a'}) - ${file.size} bytes, ` +\n",
              "        `last modified: ${\n",
              "            file.lastModifiedDate ? file.lastModifiedDate.toLocaleDateString() :\n",
              "                                    'n/a'} - `));\n",
              "    const percent = span('0% done');\n",
              "    li.appendChild(percent);\n",
              "\n",
              "    outputElement.appendChild(li);\n",
              "\n",
              "    const fileDataPromise = new Promise((resolve) => {\n",
              "      const reader = new FileReader();\n",
              "      reader.onload = (e) => {\n",
              "        resolve(e.target.result);\n",
              "      };\n",
              "      reader.readAsArrayBuffer(file);\n",
              "    });\n",
              "    // Wait for the data to be ready.\n",
              "    let fileData = yield {\n",
              "      promise: fileDataPromise,\n",
              "      response: {\n",
              "        action: 'continue',\n",
              "      }\n",
              "    };\n",
              "\n",
              "    // Use a chunked sending to avoid message size limits. See b/62115660.\n",
              "    let position = 0;\n",
              "    do {\n",
              "      const length = Math.min(fileData.byteLength - position, MAX_PAYLOAD_SIZE);\n",
              "      const chunk = new Uint8Array(fileData, position, length);\n",
              "      position += length;\n",
              "\n",
              "      const base64 = btoa(String.fromCharCode.apply(null, chunk));\n",
              "      yield {\n",
              "        response: {\n",
              "          action: 'append',\n",
              "          file: file.name,\n",
              "          data: base64,\n",
              "        },\n",
              "      };\n",
              "\n",
              "      let percentDone = fileData.byteLength === 0 ?\n",
              "          100 :\n",
              "          Math.round((position / fileData.byteLength) * 100);\n",
              "      percent.textContent = `${percentDone}% done`;\n",
              "\n",
              "    } while (position < fileData.byteLength);\n",
              "  }\n",
              "\n",
              "  // All done.\n",
              "  yield {\n",
              "    response: {\n",
              "      action: 'complete',\n",
              "    }\n",
              "  };\n",
              "}\n",
              "\n",
              "scope.google = scope.google || {};\n",
              "scope.google.colab = scope.google.colab || {};\n",
              "scope.google.colab._files = {\n",
              "  _uploadFiles,\n",
              "  _uploadFilesContinue,\n",
              "};\n",
              "})(self);\n",
              "</script> "
            ]
          },
          "metadata": {}
        },
        {
          "output_type": "stream",
          "name": "stdout",
          "text": [
            "Saving users.csv to users.csv\n"
          ]
        }
      ]
    },
    {
      "cell_type": "code",
      "source": [
        "#1Convert into rdd\n",
        "\n",
        "rdd = spark.sparkContext.textFile(\"users.csv\")"
      ],
      "metadata": {
        "id": "woSDj915YjaG"
      },
      "id": "woSDj915YjaG",
      "execution_count": 11,
      "outputs": []
    },
    {
      "cell_type": "code",
      "source": [
        "#df=rdd.toDF()\n",
        "#df = spark.createDataFrame(rdd)\n",
        "df = rdd.map(lambda x: x.split(\"::\")).toDF()"
      ],
      "metadata": {
        "id": "slu_GseRZ_SX"
      },
      "id": "slu_GseRZ_SX",
      "execution_count": 19,
      "outputs": []
    },
    {
      "cell_type": "code",
      "source": [
        "from pyspark.sql.types import StructType, StructField, IntegerType, StringType\n",
        "schema=StructType([\\\n",
        "                  StructField(\"S_no\",IntegerType(),True),\\\n",
        "                  StructField(\"Gender\",StringType(),True),\\\n",
        "                  StructField(\"Movie_id\",IntegerType(),True),\\\n",
        "                  StructField(\"rating\",IntegerType(),True),\\\n",
        "                  StructField(\"watch_count\",IntegerType(),True)\\\n",
        "                   ])"
      ],
      "metadata": {
        "id": "1dEowmtYdZHX"
      },
      "id": "1dEowmtYdZHX",
      "execution_count": 23,
      "outputs": []
    },
    {
      "cell_type": "code",
      "source": [
        "df=spark.read.csv(\"users.csv\",sep=\"::\",schema=schema,header=True,inferSchema=True)\n",
        "df.show()"
      ],
      "metadata": {
        "id": "uhVSOe6Hegh-",
        "outputId": "184daf24-f5e3-4259-ac56-95c2c23c093b",
        "colab": {
          "base_uri": "https://localhost:8080/"
        }
      },
      "id": "uhVSOe6Hegh-",
      "execution_count": 32,
      "outputs": [
        {
          "output_type": "stream",
          "name": "stdout",
          "text": [
            "+----+------+--------+------+-----------+\n",
            "|S_no|Gender|Movie_id|rating|watch_count|\n",
            "+----+------+--------+------+-----------+\n",
            "|null|  null|    null|  null|       null|\n",
            "|null|  null|    null|  null|       null|\n",
            "|   1|     F|       1|    10|      48067|\n",
            "|   2|     M|      56|    16|      70072|\n",
            "|   3|     M|      25|    15|      55117|\n",
            "|   4|     M|      45|     7|       2460|\n",
            "|   5|     M|      25|    20|      55455|\n",
            "|   6|     F|      50|     9|      55117|\n",
            "|   7|     M|      35|     1|       6810|\n",
            "|   8|     M|      25|    12|      11413|\n",
            "|   9|     M|      25|    17|      61614|\n",
            "|  10|     F|      35|     1|      95370|\n",
            "|  11|     F|      25|     1|       4093|\n",
            "|  12|     M|      25|    12|      32793|\n",
            "|  13|     M|      45|     1|      93304|\n",
            "|  14|     M|      35|     0|      60126|\n",
            "|  15|     M|      25|     7|      22903|\n",
            "|  16|     F|      35|     0|      20670|\n",
            "|  17|     M|      50|     1|      95350|\n",
            "|  18|     F|      18|     3|      95825|\n",
            "+----+------+--------+------+-----------+\n",
            "only showing top 20 rows\n",
            "\n"
          ]
        }
      ]
    },
    {
      "cell_type": "code",
      "source": [
        "df1=df.na.drop()\n",
        "df1.show()"
      ],
      "metadata": {
        "id": "WG3IvKyseok0",
        "outputId": "4a39c7b3-723c-45c7-dc9e-8e0be44de30c",
        "colab": {
          "base_uri": "https://localhost:8080/"
        }
      },
      "id": "WG3IvKyseok0",
      "execution_count": 35,
      "outputs": [
        {
          "output_type": "stream",
          "name": "stdout",
          "text": [
            "+----+------+--------+------+-----------+\n",
            "|S_no|Gender|Movie_id|rating|watch_count|\n",
            "+----+------+--------+------+-----------+\n",
            "|   1|     F|       1|    10|      48067|\n",
            "|   2|     M|      56|    16|      70072|\n",
            "|   3|     M|      25|    15|      55117|\n",
            "|   4|     M|      45|     7|       2460|\n",
            "|   5|     M|      25|    20|      55455|\n",
            "|   6|     F|      50|     9|      55117|\n",
            "|   7|     M|      35|     1|       6810|\n",
            "|   8|     M|      25|    12|      11413|\n",
            "|   9|     M|      25|    17|      61614|\n",
            "|  10|     F|      35|     1|      95370|\n",
            "|  11|     F|      25|     1|       4093|\n",
            "|  12|     M|      25|    12|      32793|\n",
            "|  13|     M|      45|     1|      93304|\n",
            "|  14|     M|      35|     0|      60126|\n",
            "|  15|     M|      25|     7|      22903|\n",
            "|  16|     F|      35|     0|      20670|\n",
            "|  17|     M|      50|     1|      95350|\n",
            "|  18|     F|      18|     3|      95825|\n",
            "|  19|     M|       1|    10|      48073|\n",
            "|  20|     M|      25|    14|      55113|\n",
            "+----+------+--------+------+-----------+\n",
            "only showing top 20 rows\n",
            "\n"
          ]
        }
      ]
    },
    {
      "cell_type": "code",
      "source": [
        "df1.dropDuplicates(['S_no','Gender','Movie_id','rating','watch_count']).show()\n",
        "#df1.dropDuplicates().show()\n",
        "#df2=df1.select(['S_no','Gender','Movie_id','rating','watch_count']).distinct().collect()"
      ],
      "metadata": {
        "id": "U76y03slgCTi",
        "outputId": "08bd2885-458a-4504-b305-0823f7d039ce",
        "colab": {
          "base_uri": "https://localhost:8080/"
        }
      },
      "id": "U76y03slgCTi",
      "execution_count": 45,
      "outputs": [
        {
          "output_type": "stream",
          "name": "stdout",
          "text": [
            "+----+------+--------+------+-----------+\n",
            "|S_no|Gender|Movie_id|rating|watch_count|\n",
            "+----+------+--------+------+-----------+\n",
            "| 191|     M|      18|     4|       4915|\n",
            "| 315|     F|      56|     1|      55105|\n",
            "| 646|     M|      35|     7|       8505|\n",
            "| 743|     F|       1|     2|      60660|\n",
            "| 881|     M|      18|    14|      76401|\n",
            "|1011|     M|      25|     8|      92115|\n",
            "|1015|     M|      35|     3|      11220|\n",
            "|1061|     M|      45|     0|      46060|\n",
            "|1215|     M|      35|    17|      23602|\n",
            "|1305|     M|      45|    20|      94121|\n",
            "|1392|     M|      45|     3|      90006|\n",
            "|1745|     M|      45|     0|      94114|\n",
            "|1949|     M|      18|    17|      92595|\n",
            "|2501|     M|      25|    15|      37923|\n",
            "|2587|     M|      35|     7|      55124|\n",
            "|2730|     M|      35|    11|      48640|\n",
            "|2796|     M|      25|    14|      92104|\n",
            "|3067|     F|      25|     0|       2148|\n",
            "|3221|     M|      25|     0|      19106|\n",
            "|3482|     M|      50|    17|       8043|\n",
            "+----+------+--------+------+-----------+\n",
            "only showing top 20 rows\n",
            "\n"
          ]
        }
      ]
    },
    {
      "cell_type": "code",
      "source": [
        "df1.select('S_no','Gender','Movie_id','rating','watch_count').dropDuplicates().show()"
      ],
      "metadata": {
        "id": "gSwBbq5jsPM4",
        "outputId": "f424fc28-bfcb-44a9-8ad8-206604df6a8e",
        "colab": {
          "base_uri": "https://localhost:8080/"
        }
      },
      "id": "gSwBbq5jsPM4",
      "execution_count": 66,
      "outputs": [
        {
          "output_type": "stream",
          "name": "stdout",
          "text": [
            "+----+------+--------+------+-----------+\n",
            "|S_no|Gender|Movie_id|rating|watch_count|\n",
            "+----+------+--------+------+-----------+\n",
            "| 191|     M|      18|     4|       4915|\n",
            "| 315|     F|      56|     1|      55105|\n",
            "| 646|     M|      35|     7|       8505|\n",
            "| 743|     F|       1|     2|      60660|\n",
            "| 881|     M|      18|    14|      76401|\n",
            "|1011|     M|      25|     8|      92115|\n",
            "|1015|     M|      35|     3|      11220|\n",
            "|1061|     M|      45|     0|      46060|\n",
            "|1215|     M|      35|    17|      23602|\n",
            "|1305|     M|      45|    20|      94121|\n",
            "|1392|     M|      45|     3|      90006|\n",
            "|1745|     M|      45|     0|      94114|\n",
            "|1949|     M|      18|    17|      92595|\n",
            "|2501|     M|      25|    15|      37923|\n",
            "|2587|     M|      35|     7|      55124|\n",
            "|2730|     M|      35|    11|      48640|\n",
            "|2796|     M|      25|    14|      92104|\n",
            "|3067|     F|      25|     0|       2148|\n",
            "|3221|     M|      25|     0|      19106|\n",
            "|3482|     M|      50|    17|       8043|\n",
            "+----+------+--------+------+-----------+\n",
            "only showing top 20 rows\n",
            "\n"
          ]
        }
      ]
    },
    {
      "cell_type": "code",
      "source": [
        "#groupby to the movie_id\n",
        "df1.groupBy(\"Movie_id\").count()"
      ],
      "metadata": {
        "id": "10yKY4iKgs6U",
        "outputId": "a9a46330-9767-4495-bb3d-b8d37df2d040",
        "colab": {
          "base_uri": "https://localhost:8080/",
          "height": 208
        }
      },
      "id": "10yKY4iKgs6U",
      "execution_count": 57,
      "outputs": [
        {
          "output_type": "execute_result",
          "data": {
            "text/plain": [
              "+--------+-----+\n",
              "|Movie_id|count|\n",
              "+--------+-----+\n",
              "|       1|  220|\n",
              "|      35| 1184|\n",
              "|      50|  485|\n",
              "|      45|  542|\n",
              "|      25| 2078|\n",
              "|      56|  371|\n",
              "|      18| 1094|\n",
              "+--------+-----+"
            ],
            "text/html": [
              "<table border='1'>\n",
              "<tr><th>Movie_id</th><th>count</th></tr>\n",
              "<tr><td>1</td><td>220</td></tr>\n",
              "<tr><td>35</td><td>1184</td></tr>\n",
              "<tr><td>50</td><td>485</td></tr>\n",
              "<tr><td>45</td><td>542</td></tr>\n",
              "<tr><td>25</td><td>2078</td></tr>\n",
              "<tr><td>56</td><td>371</td></tr>\n",
              "<tr><td>18</td><td>1094</td></tr>\n",
              "</table>\n"
            ]
          },
          "metadata": {},
          "execution_count": 57
        }
      ]
    },
    {
      "cell_type": "code",
      "source": [
        "#df.groupby([\"Movie_id\"]).transform(\"count\")\n",
        "#df.groupby([\"Movie_id\"])[\"id\"].count().reset_index(name=\"count\")\n",
        "#import pandas as pd\n",
        "#df['count'] = df.groupby('Movie_id')['Movie_id'].transform('count')\n",
        "#df1['count'] = df1.groupBy('Movie_id')['Movie_id'].transform('count')\n",
        "#df1.show()\n",
        "#count=df1.groupBy('Movie_id').count()\n",
        "#count.show()\n",
        "#import pyspark.sql.functions as f\n",
        "#df.groupBy('Movie_id').count().select('Movie_id', f.col('count').alias('count')).show()"
      ],
      "metadata": {
        "id": "Agam1KXLklqI",
        "outputId": "42bf9b30-4726-4bb4-eccb-e203aca46e13",
        "colab": {
          "base_uri": "https://localhost:8080/"
        }
      },
      "id": "Agam1KXLklqI",
      "execution_count": 59,
      "outputs": [
        {
          "output_type": "stream",
          "name": "stdout",
          "text": [
            "+--------+-----+\n",
            "|Movie_id|count|\n",
            "+--------+-----+\n",
            "|    null|    2|\n",
            "|       1|  222|\n",
            "|      35| 1193|\n",
            "|      50|  496|\n",
            "|      45|  550|\n",
            "|      25| 2096|\n",
            "|      56|  380|\n",
            "|      18| 1103|\n",
            "+--------+-----+\n",
            "\n"
          ]
        }
      ]
    },
    {
      "cell_type": "code",
      "source": [
        "#2 Convert the dataframe into rdd\n",
        "\n",
        "rdd = df.rdd"
      ],
      "metadata": {
        "id": "fu-5y2KZjEak"
      },
      "id": "fu-5y2KZjEak",
      "execution_count": 60,
      "outputs": []
    },
    {
      "cell_type": "code",
      "source": [
        "#3 lit() method:\n",
        "\n",
        "#The function lit() is used to add a new column to the dataframe by assigning a literal or constant value to it.\n",
        "\n",
        "#Eg:\n",
        "from pyspark.sql.functions import (array, col, create_map, lit, when)\n",
        "final = df1.select(col(\"Gender\"),lit(\"22\").alias(\"lit_col\")).show()\n",
        "\n",
        "#here i gave a constant value 22 for Gender"
      ],
      "metadata": {
        "id": "poKuaASyj3aU",
        "outputId": "eccccdfc-1351-4ece-c5d1-3249e19ec340",
        "colab": {
          "base_uri": "https://localhost:8080/"
        }
      },
      "id": "poKuaASyj3aU",
      "execution_count": 65,
      "outputs": [
        {
          "output_type": "stream",
          "name": "stdout",
          "text": [
            "+------+-------+\n",
            "|Gender|lit_col|\n",
            "+------+-------+\n",
            "|     F|     22|\n",
            "|     M|     22|\n",
            "|     M|     22|\n",
            "|     M|     22|\n",
            "|     M|     22|\n",
            "|     F|     22|\n",
            "|     M|     22|\n",
            "|     M|     22|\n",
            "|     M|     22|\n",
            "|     F|     22|\n",
            "|     F|     22|\n",
            "|     M|     22|\n",
            "|     M|     22|\n",
            "|     M|     22|\n",
            "|     M|     22|\n",
            "|     F|     22|\n",
            "|     M|     22|\n",
            "|     F|     22|\n",
            "|     M|     22|\n",
            "|     M|     22|\n",
            "+------+-------+\n",
            "only showing top 20 rows\n",
            "\n"
          ]
        }
      ]
    },
    {
      "cell_type": "code",
      "source": [
        "#4 diff bw groupBy and partitionBy\n",
        "\n",
        "'''groupBy is more a logical way to group your data. It looks like a groupBy, it normally reduces the number of rows returned by calculating averages or sums for each row\n",
        "   PartitionBy is more physical, you really physically partition your data in the cluster, it is used to partition the large dataset into smaller files based on one or multiple columns.'''"
      ],
      "metadata": {
        "id": "t2xbMrhGpCgU"
      },
      "id": "t2xbMrhGpCgU",
      "execution_count": null,
      "outputs": []
    },
    {
      "cell_type": "code",
      "source": [
        "#5 Write an sql statement on the existing dataframe with an condition to fetch the maximum count_no\n",
        "\n",
        "df1.createOrReplaceTempView(\"ME\")\n",
        "spark.sql(\"SELECT COUNT(*) FROM ME\").show()\n",
        "#for Movie_id column\n",
        "spark.sql(\"SELECT COUNT(distinct Movie_id) FROM ME\").show()"
      ],
      "metadata": {
        "id": "TdLb_4v_rtwD",
        "outputId": "dbb1cfea-5f12-425d-cfd0-bce984209da0",
        "colab": {
          "base_uri": "https://localhost:8080/"
        }
      },
      "id": "TdLb_4v_rtwD",
      "execution_count": 68,
      "outputs": [
        {
          "output_type": "stream",
          "name": "stdout",
          "text": [
            "+--------+\n",
            "|count(1)|\n",
            "+--------+\n",
            "|    5974|\n",
            "+--------+\n",
            "\n",
            "+------------------------+\n",
            "|count(DISTINCT Movie_id)|\n",
            "+------------------------+\n",
            "|                       7|\n",
            "+------------------------+\n",
            "\n"
          ]
        }
      ]
    },
    {
      "cell_type": "code",
      "source": [
        "#6 Create a temporary table from the Existing dataframe\n",
        "from pyspark.sql import SQLContext\n",
        "df1.registerTempTable('PritamTable')\n",
        "sqlContext = SQLContext(spark)"
      ],
      "metadata": {
        "id": "NLlOMIlZtSjp"
      },
      "id": "NLlOMIlZtSjp",
      "execution_count": 70,
      "outputs": []
    },
    {
      "cell_type": "code",
      "source": [
        "#6.1 Self join on temp table\n",
        "\n",
        "self_join= spark.sql(\"SELECT * FROM PritamTable e LEFT OUTER JOIN PritamTable d ON e.S_no == d.watch_count\") \\\n",
        ".show(truncate=False)"
      ],
      "metadata": {
        "id": "zsxj_lhPu520",
        "outputId": "8eacf91f-c1b9-41af-e710-9b913c8fdef2",
        "colab": {
          "base_uri": "https://localhost:8080/"
        }
      },
      "id": "zsxj_lhPu520",
      "execution_count": 86,
      "outputs": [
        {
          "output_type": "stream",
          "name": "stdout",
          "text": [
            "+----+------+--------+------+-----------+----+------+--------+------+-----------+\n",
            "|S_no|Gender|Movie_id|rating|watch_count|S_no|Gender|Movie_id|rating|watch_count|\n",
            "+----+------+--------+------+-----------+----+------+--------+------+-----------+\n",
            "|1   |F     |1       |10    |48067      |null|null  |null    |null  |null       |\n",
            "|2   |M     |56      |16    |70072      |null|null  |null    |null  |null       |\n",
            "|3   |M     |25      |15    |55117      |null|null  |null    |null  |null       |\n",
            "|4   |M     |45      |7     |2460       |null|null  |null    |null  |null       |\n",
            "|5   |M     |25      |20    |55455      |null|null  |null    |null  |null       |\n",
            "|6   |F     |50      |9     |55117      |null|null  |null    |null  |null       |\n",
            "|7   |M     |35      |1     |6810       |null|null  |null    |null  |null       |\n",
            "|8   |M     |25      |12    |11413      |null|null  |null    |null  |null       |\n",
            "|9   |M     |25      |17    |61614      |null|null  |null    |null  |null       |\n",
            "|10  |F     |35      |1     |95370      |null|null  |null    |null  |null       |\n",
            "|11  |F     |25      |1     |4093       |null|null  |null    |null  |null       |\n",
            "|12  |M     |25      |12    |32793      |null|null  |null    |null  |null       |\n",
            "|13  |M     |45      |1     |93304      |null|null  |null    |null  |null       |\n",
            "|14  |M     |35      |0     |60126      |null|null  |null    |null  |null       |\n",
            "|15  |M     |25      |7     |22903      |null|null  |null    |null  |null       |\n",
            "|16  |F     |35      |0     |20670      |null|null  |null    |null  |null       |\n",
            "|17  |M     |50      |1     |95350      |null|null  |null    |null  |null       |\n",
            "|18  |F     |18      |3     |95825      |null|null  |null    |null  |null       |\n",
            "|19  |M     |1       |10    |48073      |null|null  |null    |null  |null       |\n",
            "|20  |M     |25      |14    |55113      |null|null  |null    |null  |null       |\n",
            "+----+------+--------+------+-----------+----+------+--------+------+-----------+\n",
            "only showing top 20 rows\n",
            "\n"
          ]
        }
      ]
    },
    {
      "cell_type": "code",
      "source": [
        "#6.2 union operation on the same table\n",
        "\n",
        "spark.sql(\"select * from PritamTable union select * from PritamTable\").show()"
      ],
      "metadata": {
        "id": "5Z7XLiznwykD",
        "outputId": "44760e95-cf79-45db-d69a-c69fcfed46c7",
        "colab": {
          "base_uri": "https://localhost:8080/"
        }
      },
      "id": "5Z7XLiznwykD",
      "execution_count": 87,
      "outputs": [
        {
          "output_type": "stream",
          "name": "stdout",
          "text": [
            "+----+------+--------+------+-----------+\n",
            "|S_no|Gender|Movie_id|rating|watch_count|\n",
            "+----+------+--------+------+-----------+\n",
            "| 100|     M|      35|    17|      95401|\n",
            "| 497|     F|      25|    17|      55412|\n",
            "| 734|     M|      25|     7|      90078|\n",
            "| 753|     M|       1|    10|      42754|\n",
            "| 783|     M|      25|     4|      53703|\n",
            "| 830|     M|      35|     7|      60657|\n",
            "| 944|     M|      35|     0|      91505|\n",
            "| 952|     M|      56|    16|      97478|\n",
            "|1073|     F|      25|     6|      72211|\n",
            "|1143|     M|      50|     7|      94024|\n",
            "|1767|     M|      25|    20|      75205|\n",
            "|1907|     M|      35|    17|      94804|\n",
            "|1908|     M|      56|    13|      95129|\n",
            "|2138|     F|      18|     4|      88119|\n",
            "|2174|     M|      50|    12|      87505|\n",
            "|2247|     M|      45|     2|      60613|\n",
            "|2293|     F|      56|     3|      48130|\n",
            "|2323|     M|      35|     3|      13088|\n",
            "|2688|     M|      25|    17|      54915|\n",
            "|3093|     F|      45|    20|      89134|\n",
            "+----+------+--------+------+-----------+\n",
            "only showing top 20 rows\n",
            "\n"
          ]
        }
      ]
    },
    {
      "cell_type": "code",
      "source": [
        "# delete the temp table\n",
        "\n",
        "spark.catalog.dropTempView(\"PritamTable\")"
      ],
      "metadata": {
        "id": "kdTyZpZt06Uo"
      },
      "id": "kdTyZpZt06Uo",
      "execution_count": 88,
      "outputs": []
    },
    {
      "cell_type": "code",
      "source": [
        "#7\n",
        "#PySpark dataframe can be converted to pandas dataframe using the function toPandas() method\n",
        "pandasdf = df1.toPandas()\n",
        "print(pandasdf)"
      ],
      "metadata": {
        "id": "jhKyEX5d1y8E",
        "outputId": "5937d2bd-d71a-4f4d-d5de-d5d7ddce731b",
        "colab": {
          "base_uri": "https://localhost:8080/"
        }
      },
      "id": "jhKyEX5d1y8E",
      "execution_count": 89,
      "outputs": [
        {
          "output_type": "stream",
          "name": "stdout",
          "text": [
            "      S_no Gender  Movie_id  rating  watch_count\n",
            "0        1      F         1      10        48067\n",
            "1        2      M        56      16        70072\n",
            "2        3      M        25      15        55117\n",
            "3        4      M        45       7         2460\n",
            "4        5      M        25      20        55455\n",
            "...    ...    ...       ...     ...          ...\n",
            "5969  6036      F        25      15        32603\n",
            "5970  6037      F        45       1        76006\n",
            "5971  6038      F        56       1        14706\n",
            "5972  6039      F        45       0         1060\n",
            "5973  6040      M        25       6        11106\n",
            "\n",
            "[5974 rows x 5 columns]\n"
          ]
        }
      ]
    },
    {
      "cell_type": "code",
      "source": [
        "#8 \n",
        "data = [(\"Banana\",1000,\"USA\"), (\"Carrots\",1500,\"USA\"), (\"Beans\",1600,\"USA\"), \\\n",
        "(\"Orange\",2000,\"USA\"),(\"Orange\",2000,\"USA\"),(\"Banana\",400,\"China\"), \\\n",
        "(\"Carrots\",1200,\"China\"),(\"Beans\",1500,\"China\"),(\"Orange\",4000,\"China\"), \\\n",
        "(\"Banana\",2000,\"Canada\"),(\"Carrots\",2000,\"Canada\"),(\"Beans\",2000,\"Mexico\")]\n",
        "columns= [\"Product\",\"Amount\",\"Country\"]\n",
        "df=spark.createDataFrame(data=data,schema=columns)"
      ],
      "metadata": {
        "id": "C3_Lz35Y2hD6"
      },
      "id": "C3_Lz35Y2hD6",
      "execution_count": 90,
      "outputs": []
    },
    {
      "cell_type": "code",
      "source": [
        "df.show()"
      ],
      "metadata": {
        "id": "mw7vhw2e3XYQ",
        "outputId": "a7c3b76b-135f-48c4-a80d-f172a6b68683",
        "colab": {
          "base_uri": "https://localhost:8080/"
        }
      },
      "id": "mw7vhw2e3XYQ",
      "execution_count": 91,
      "outputs": [
        {
          "output_type": "stream",
          "name": "stdout",
          "text": [
            "+-------+------+-------+\n",
            "|Product|Amount|Country|\n",
            "+-------+------+-------+\n",
            "| Banana|  1000|    USA|\n",
            "|Carrots|  1500|    USA|\n",
            "|  Beans|  1600|    USA|\n",
            "| Orange|  2000|    USA|\n",
            "| Orange|  2000|    USA|\n",
            "| Banana|   400|  China|\n",
            "|Carrots|  1200|  China|\n",
            "|  Beans|  1500|  China|\n",
            "| Orange|  4000|  China|\n",
            "| Banana|  2000| Canada|\n",
            "|Carrots|  2000| Canada|\n",
            "|  Beans|  2000| Mexico|\n",
            "+-------+------+-------+\n",
            "\n"
          ]
        }
      ]
    },
    {
      "cell_type": "code",
      "source": [],
      "metadata": {
        "id": "iVX1yiOP3ZsA"
      },
      "id": "iVX1yiOP3ZsA",
      "execution_count": null,
      "outputs": []
    }
  ],
  "metadata": {
    "colab": {
      "provenance": []
    },
    "language_info": {
      "name": "python"
    },
    "kernelspec": {
      "name": "python3",
      "display_name": "Python 3"
    },
    "gpuClass": "standard"
  },
  "nbformat": 4,
  "nbformat_minor": 5
}