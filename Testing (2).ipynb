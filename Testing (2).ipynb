{
  "cells": [
    {
      "cell_type": "code",
      "source": [
        "!apt-get install openjdk-8-jdk-headless -qq > /dev/null\n",
        "!wget -q http://archive.apache.org/dist/spark/spark-3.1.1/spark-3.1.1-bin-hadoop3.2.tgz\n",
        "!tar xf spark-3.1.1-bin-hadoop3.2.tgz\n",
        "!pip install -q findspark"
      ],
      "metadata": {
        "id": "r-U1ALputaHs"
      },
      "id": "r-U1ALputaHs",
      "execution_count": 1,
      "outputs": []
    },
    {
      "cell_type": "code",
      "source": [
        "import os\n",
        "os.environ[\"JAVA_HOME\"] = \"/usr/lib/jvm/java-8-openjdk-amd64\"\n",
        "os.environ[\"SPARK_HOME\"] = \"/content/spark-3.1.1-bin-hadoop3.2\""
      ],
      "metadata": {
        "id": "5xdVxhnEtjkM"
      },
      "id": "5xdVxhnEtjkM",
      "execution_count": 2,
      "outputs": []
    },
    {
      "cell_type": "code",
      "source": [
        "import findspark\n",
        "findspark.init()\n",
        "from pyspark.sql import SparkSession\n",
        "spark = SparkSession.builder.master(\"local[*]\").getOrCreate()\n",
        "spark.conf.set(\"spark.sql.repl.eagerEval.enabled\", True) # Property used to format output tables better\n",
        "spark"
      ],
      "metadata": {
        "id": "Jpe3AAbatoXY",
        "outputId": "b3ded7bc-c536-436d-b257-8359254985f9",
        "colab": {
          "base_uri": "https://localhost:8080/",
          "height": 219
        }
      },
      "id": "Jpe3AAbatoXY",
      "execution_count": 3,
      "outputs": [
        {
          "output_type": "execute_result",
          "data": {
            "text/plain": [
              "<pyspark.sql.session.SparkSession at 0x7f2c452e0670>"
            ],
            "text/html": [
              "\n",
              "            <div>\n",
              "                <p><b>SparkSession - in-memory</b></p>\n",
              "                \n",
              "        <div>\n",
              "            <p><b>SparkContext</b></p>\n",
              "\n",
              "            <p><a href=\"http://a67eaf60b576:4040\">Spark UI</a></p>\n",
              "\n",
              "            <dl>\n",
              "              <dt>Version</dt>\n",
              "                <dd><code>v3.1.1</code></dd>\n",
              "              <dt>Master</dt>\n",
              "                <dd><code>local[*]</code></dd>\n",
              "              <dt>AppName</dt>\n",
              "                <dd><code>pyspark-shell</code></dd>\n",
              "            </dl>\n",
              "        </div>\n",
              "        \n",
              "            </div>\n",
              "        "
            ]
          },
          "metadata": {},
          "execution_count": 3
        }
      ]
    },
    {
      "cell_type": "code",
      "source": [
        "from google.colab import files\n",
        "uploaded=files.upload()"
      ],
      "metadata": {
        "id": "wWH9xKyCtrt7",
        "outputId": "18f5f37c-ace8-429d-a2f7-b7ec990da9a7",
        "colab": {
          "base_uri": "https://localhost:8080/",
          "height": 73
        }
      },
      "id": "wWH9xKyCtrt7",
      "execution_count": 4,
      "outputs": [
        {
          "output_type": "display_data",
          "data": {
            "text/plain": [
              "<IPython.core.display.HTML object>"
            ],
            "text/html": [
              "\n",
              "     <input type=\"file\" id=\"files-2fdd0ff1-fef4-4ebe-9569-6ba4d9a2653d\" name=\"files[]\" multiple disabled\n",
              "        style=\"border:none\" />\n",
              "     <output id=\"result-2fdd0ff1-fef4-4ebe-9569-6ba4d9a2653d\">\n",
              "      Upload widget is only available when the cell has been executed in the\n",
              "      current browser session. Please rerun this cell to enable.\n",
              "      </output>\n",
              "      <script>// Copyright 2017 Google LLC\n",
              "//\n",
              "// Licensed under the Apache License, Version 2.0 (the \"License\");\n",
              "// you may not use this file except in compliance with the License.\n",
              "// You may obtain a copy of the License at\n",
              "//\n",
              "//      http://www.apache.org/licenses/LICENSE-2.0\n",
              "//\n",
              "// Unless required by applicable law or agreed to in writing, software\n",
              "// distributed under the License is distributed on an \"AS IS\" BASIS,\n",
              "// WITHOUT WARRANTIES OR CONDITIONS OF ANY KIND, either express or implied.\n",
              "// See the License for the specific language governing permissions and\n",
              "// limitations under the License.\n",
              "\n",
              "/**\n",
              " * @fileoverview Helpers for google.colab Python module.\n",
              " */\n",
              "(function(scope) {\n",
              "function span(text, styleAttributes = {}) {\n",
              "  const element = document.createElement('span');\n",
              "  element.textContent = text;\n",
              "  for (const key of Object.keys(styleAttributes)) {\n",
              "    element.style[key] = styleAttributes[key];\n",
              "  }\n",
              "  return element;\n",
              "}\n",
              "\n",
              "// Max number of bytes which will be uploaded at a time.\n",
              "const MAX_PAYLOAD_SIZE = 100 * 1024;\n",
              "\n",
              "function _uploadFiles(inputId, outputId) {\n",
              "  const steps = uploadFilesStep(inputId, outputId);\n",
              "  const outputElement = document.getElementById(outputId);\n",
              "  // Cache steps on the outputElement to make it available for the next call\n",
              "  // to uploadFilesContinue from Python.\n",
              "  outputElement.steps = steps;\n",
              "\n",
              "  return _uploadFilesContinue(outputId);\n",
              "}\n",
              "\n",
              "// This is roughly an async generator (not supported in the browser yet),\n",
              "// where there are multiple asynchronous steps and the Python side is going\n",
              "// to poll for completion of each step.\n",
              "// This uses a Promise to block the python side on completion of each step,\n",
              "// then passes the result of the previous step as the input to the next step.\n",
              "function _uploadFilesContinue(outputId) {\n",
              "  const outputElement = document.getElementById(outputId);\n",
              "  const steps = outputElement.steps;\n",
              "\n",
              "  const next = steps.next(outputElement.lastPromiseValue);\n",
              "  return Promise.resolve(next.value.promise).then((value) => {\n",
              "    // Cache the last promise value to make it available to the next\n",
              "    // step of the generator.\n",
              "    outputElement.lastPromiseValue = value;\n",
              "    return next.value.response;\n",
              "  });\n",
              "}\n",
              "\n",
              "/**\n",
              " * Generator function which is called between each async step of the upload\n",
              " * process.\n",
              " * @param {string} inputId Element ID of the input file picker element.\n",
              " * @param {string} outputId Element ID of the output display.\n",
              " * @return {!Iterable<!Object>} Iterable of next steps.\n",
              " */\n",
              "function* uploadFilesStep(inputId, outputId) {\n",
              "  const inputElement = document.getElementById(inputId);\n",
              "  inputElement.disabled = false;\n",
              "\n",
              "  const outputElement = document.getElementById(outputId);\n",
              "  outputElement.innerHTML = '';\n",
              "\n",
              "  const pickedPromise = new Promise((resolve) => {\n",
              "    inputElement.addEventListener('change', (e) => {\n",
              "      resolve(e.target.files);\n",
              "    });\n",
              "  });\n",
              "\n",
              "  const cancel = document.createElement('button');\n",
              "  inputElement.parentElement.appendChild(cancel);\n",
              "  cancel.textContent = 'Cancel upload';\n",
              "  const cancelPromise = new Promise((resolve) => {\n",
              "    cancel.onclick = () => {\n",
              "      resolve(null);\n",
              "    };\n",
              "  });\n",
              "\n",
              "  // Wait for the user to pick the files.\n",
              "  const files = yield {\n",
              "    promise: Promise.race([pickedPromise, cancelPromise]),\n",
              "    response: {\n",
              "      action: 'starting',\n",
              "    }\n",
              "  };\n",
              "\n",
              "  cancel.remove();\n",
              "\n",
              "  // Disable the input element since further picks are not allowed.\n",
              "  inputElement.disabled = true;\n",
              "\n",
              "  if (!files) {\n",
              "    return {\n",
              "      response: {\n",
              "        action: 'complete',\n",
              "      }\n",
              "    };\n",
              "  }\n",
              "\n",
              "  for (const file of files) {\n",
              "    const li = document.createElement('li');\n",
              "    li.append(span(file.name, {fontWeight: 'bold'}));\n",
              "    li.append(span(\n",
              "        `(${file.type || 'n/a'}) - ${file.size} bytes, ` +\n",
              "        `last modified: ${\n",
              "            file.lastModifiedDate ? file.lastModifiedDate.toLocaleDateString() :\n",
              "                                    'n/a'} - `));\n",
              "    const percent = span('0% done');\n",
              "    li.appendChild(percent);\n",
              "\n",
              "    outputElement.appendChild(li);\n",
              "\n",
              "    const fileDataPromise = new Promise((resolve) => {\n",
              "      const reader = new FileReader();\n",
              "      reader.onload = (e) => {\n",
              "        resolve(e.target.result);\n",
              "      };\n",
              "      reader.readAsArrayBuffer(file);\n",
              "    });\n",
              "    // Wait for the data to be ready.\n",
              "    let fileData = yield {\n",
              "      promise: fileDataPromise,\n",
              "      response: {\n",
              "        action: 'continue',\n",
              "      }\n",
              "    };\n",
              "\n",
              "    // Use a chunked sending to avoid message size limits. See b/62115660.\n",
              "    let position = 0;\n",
              "    do {\n",
              "      const length = Math.min(fileData.byteLength - position, MAX_PAYLOAD_SIZE);\n",
              "      const chunk = new Uint8Array(fileData, position, length);\n",
              "      position += length;\n",
              "\n",
              "      const base64 = btoa(String.fromCharCode.apply(null, chunk));\n",
              "      yield {\n",
              "        response: {\n",
              "          action: 'append',\n",
              "          file: file.name,\n",
              "          data: base64,\n",
              "        },\n",
              "      };\n",
              "\n",
              "      let percentDone = fileData.byteLength === 0 ?\n",
              "          100 :\n",
              "          Math.round((position / fileData.byteLength) * 100);\n",
              "      percent.textContent = `${percentDone}% done`;\n",
              "\n",
              "    } while (position < fileData.byteLength);\n",
              "  }\n",
              "\n",
              "  // All done.\n",
              "  yield {\n",
              "    response: {\n",
              "      action: 'complete',\n",
              "    }\n",
              "  };\n",
              "}\n",
              "\n",
              "scope.google = scope.google || {};\n",
              "scope.google.colab = scope.google.colab || {};\n",
              "scope.google.colab._files = {\n",
              "  _uploadFiles,\n",
              "  _uploadFilesContinue,\n",
              "};\n",
              "})(self);\n",
              "</script> "
            ]
          },
          "metadata": {}
        },
        {
          "output_type": "stream",
          "name": "stdout",
          "text": [
            "Saving earthquake.csv to earthquake.csv\n"
          ]
        }
      ]
    },
    {
      "cell_type": "code",
      "source": [
        "df=spark.read.format(\"csv\").load(\"earthquake.csv\",header=True)\n",
        "df.show()"
      ],
      "metadata": {
        "id": "L9TmWf_3vMPR",
        "outputId": "f025cbb7-469a-4f41-dfea-e2766c3652f0",
        "colab": {
          "base_uri": "https://localhost:8080/"
        }
      },
      "id": "L9TmWf_3vMPR",
      "execution_count": 56,
      "outputs": [
        {
          "output_type": "stream",
          "name": "stdout",
          "text": [
            "+-------------+-------------------+--------+---------+-----+---------+------------------+---------------+--------------------+----------+\n",
            "|earthquake_id|        occurred_on|latitude|longitude|depth|magnitude|calculation_method|     network_id|               place|     cause|\n",
            "+-------------+-------------------+--------+---------+-----+---------+------------------+---------------+--------------------+----------+\n",
            "|            1| 1969-01-01 9:07:06|  51.096| -179.392|   45|      5.6|                mw|   iscgem812771|Andreanof Islands...|earthquake|\n",
            "|            2|1969-01-02 17:50:48| -56.096|  -27.842| 80.1|        6|                mw|iscgemsup812819|South Sandwich Is...|earthquake|\n",
            "|            3| 1969-01-03 3:16:40|   37.14|   57.899|   10|      5.5|                mw|   iscgem812826|Turkmenistan-Iran...|earthquake|\n",
            "|            4|1969-01-03 13:28:12|  51.132| -179.306|   15|      5.9|                mw|   iscgem812841|Andreanof Islands...|earthquake|\n",
            "|            5|1969-01-04 22:36:48|   -6.85|  129.821|  105|      5.8|                mw|   iscgem812879|           Banda Sea|earthquake|\n",
            "|            6|1969-01-05 13:26:43|   -7.97|  158.888|   60|        7|                mw|   iscgem812898|     Solomon Islands|earthquake|\n",
            "|            7|1969-01-06 15:39:00| -10.407|  164.479|   10|      6.9|                mw|   iscgem812954|Santa Cruz Island...|earthquake|\n",
            "|            8|1969-01-08 21:55:51|  11.823|  143.419|   45|      5.6|                mw|   iscgem813024|south of the Mari...|earthquake|\n",
            "|            9| 1969-01-10 3:20:55|   28.92|  130.667|   25|      5.9|                mw|   iscgem813057|Ryukyu Islands, J...|earthquake|\n",
            "|           10| 1969-01-13 8:55:05|  -7.967|  158.999|   50|      5.8|                mw|   iscgem813149|     Solomon Islands|earthquake|\n",
            "|           11|1969-01-14 23:12:08|  36.043|   29.221|   25|      6.4|                mw|   iscgem813187|      western Turkey|earthquake|\n",
            "|           12| 1969-01-18 3:02:38| -56.756|  -26.865|  130|      6.4|                mw|iscgemsup813263|South Sandwich Is...|earthquake|\n",
            "|           13| 1969-01-19 7:02:09|  44.985|  143.238|244.7|        7|                mw|   iscgem813290|Hokkaido, Japan r...|earthquake|\n",
            "|           14|1969-01-19 18:50:53| -14.849|  167.345|112.9|      7.1|                mw|   iscgem813304|             Vanuatu|earthquake|\n",
            "|           15|1969-01-20 12:24:38| -10.441|   164.67|   10|      6.2|                mw|   iscgem813332|Santa Cruz Island...|earthquake|\n",
            "|           16|1969-01-20 14:20:13|  54.899|  166.054|   25|      5.9|                mw|   iscgem813336|Komandorskiye Ost...|earthquake|\n",
            "|           17| 1969-01-22 0:42:31|  55.901|  162.962| 30.1|      5.6|                mw|   iscgem813398|near the east coa...|earthquake|\n",
            "|           18| 1969-01-24 2:33:04| -21.882| -179.498|593.5|      6.7|                mw|   iscgem813480|         Fiji region|earthquake|\n",
            "|           19| 1969-01-25 5:19:20|   0.836|  126.005|   35|        6|                mw|   iscgem813514|         Molucca Sea|earthquake|\n",
            "|           20|1969-01-26 15:05:37|   55.84|  162.688| 31.3|      6.1|                mw|   iscgem813567|near the east coa...|earthquake|\n",
            "+-------------+-------------------+--------+---------+-----+---------+------------------+---------------+--------------------+----------+\n",
            "only showing top 20 rows\n",
            "\n"
          ]
        }
      ]
    },
    {
      "cell_type": "code",
      "source": [
        "#greatest()\n",
        "df.printSchema()\n",
        "from pyspark.sql.types import IntegerType\n",
        "#df = df.withColumn(\"SAMPLE_GREATER\", df[\"SAMPLE_GREATER\"].cast(IntegerType()))\n",
        "df = df.withColumn(\"latitude\", df[\"latitude\"].cast(IntegerType()))\n",
        "df = df.withColumn(\"longitude\", df[\"longitude\"].cast(IntegerType()))\n",
        "from pyspark.sql.functions import greatest,col\n",
        "df1=df.withColumn(\"SAMPLE_GREATER\",greatest(col(\"latitude\"),col(\"longitude\")))            #doubt\n",
        "df1.show()\n"
      ],
      "metadata": {
        "id": "Gj3mX52lxJJj",
        "colab": {
          "base_uri": "https://localhost:8080/"
        },
        "outputId": "922412bb-76eb-46d8-9772-763a97978906"
      },
      "id": "Gj3mX52lxJJj",
      "execution_count": 58,
      "outputs": [
        {
          "output_type": "stream",
          "name": "stdout",
          "text": [
            "root\n",
            " |-- earthquake_id: string (nullable = true)\n",
            " |-- occurred_on: string (nullable = true)\n",
            " |-- latitude: integer (nullable = true)\n",
            " |-- longitude: integer (nullable = true)\n",
            " |-- depth: string (nullable = true)\n",
            " |-- magnitude: string (nullable = true)\n",
            " |-- calculation_method: string (nullable = true)\n",
            " |-- network_id: string (nullable = true)\n",
            " |-- place: string (nullable = true)\n",
            " |-- cause: string (nullable = true)\n",
            "\n",
            "+-------------+-------------------+--------+---------+-----+---------+------------------+---------------+--------------------+----------+--------------+\n",
            "|earthquake_id|        occurred_on|latitude|longitude|depth|magnitude|calculation_method|     network_id|               place|     cause|SAMPLE_GREATER|\n",
            "+-------------+-------------------+--------+---------+-----+---------+------------------+---------------+--------------------+----------+--------------+\n",
            "|            1| 1969-01-01 9:07:06|      51|     -179|   45|      5.6|                mw|   iscgem812771|Andreanof Islands...|earthquake|            51|\n",
            "|            2|1969-01-02 17:50:48|     -56|      -27| 80.1|        6|                mw|iscgemsup812819|South Sandwich Is...|earthquake|           -27|\n",
            "|            3| 1969-01-03 3:16:40|      37|       57|   10|      5.5|                mw|   iscgem812826|Turkmenistan-Iran...|earthquake|            57|\n",
            "|            4|1969-01-03 13:28:12|      51|     -179|   15|      5.9|                mw|   iscgem812841|Andreanof Islands...|earthquake|            51|\n",
            "|            5|1969-01-04 22:36:48|      -6|      129|  105|      5.8|                mw|   iscgem812879|           Banda Sea|earthquake|           129|\n",
            "|            6|1969-01-05 13:26:43|      -7|      158|   60|        7|                mw|   iscgem812898|     Solomon Islands|earthquake|           158|\n",
            "|            7|1969-01-06 15:39:00|     -10|      164|   10|      6.9|                mw|   iscgem812954|Santa Cruz Island...|earthquake|           164|\n",
            "|            8|1969-01-08 21:55:51|      11|      143|   45|      5.6|                mw|   iscgem813024|south of the Mari...|earthquake|           143|\n",
            "|            9| 1969-01-10 3:20:55|      28|      130|   25|      5.9|                mw|   iscgem813057|Ryukyu Islands, J...|earthquake|           130|\n",
            "|           10| 1969-01-13 8:55:05|      -7|      158|   50|      5.8|                mw|   iscgem813149|     Solomon Islands|earthquake|           158|\n",
            "|           11|1969-01-14 23:12:08|      36|       29|   25|      6.4|                mw|   iscgem813187|      western Turkey|earthquake|            36|\n",
            "|           12| 1969-01-18 3:02:38|     -56|      -26|  130|      6.4|                mw|iscgemsup813263|South Sandwich Is...|earthquake|           -26|\n",
            "|           13| 1969-01-19 7:02:09|      44|      143|244.7|        7|                mw|   iscgem813290|Hokkaido, Japan r...|earthquake|           143|\n",
            "|           14|1969-01-19 18:50:53|     -14|      167|112.9|      7.1|                mw|   iscgem813304|             Vanuatu|earthquake|           167|\n",
            "|           15|1969-01-20 12:24:38|     -10|      164|   10|      6.2|                mw|   iscgem813332|Santa Cruz Island...|earthquake|           164|\n",
            "|           16|1969-01-20 14:20:13|      54|      166|   25|      5.9|                mw|   iscgem813336|Komandorskiye Ost...|earthquake|           166|\n",
            "|           17| 1969-01-22 0:42:31|      55|      162| 30.1|      5.6|                mw|   iscgem813398|near the east coa...|earthquake|           162|\n",
            "|           18| 1969-01-24 2:33:04|     -21|     -179|593.5|      6.7|                mw|   iscgem813480|         Fiji region|earthquake|           -21|\n",
            "|           19| 1969-01-25 5:19:20|       0|      126|   35|        6|                mw|   iscgem813514|         Molucca Sea|earthquake|           126|\n",
            "|           20|1969-01-26 15:05:37|      55|      162| 31.3|      6.1|                mw|   iscgem813567|near the east coa...|earthquake|           162|\n",
            "+-------------+-------------------+--------+---------+-----+---------+------------------+---------------+--------------------+----------+--------------+\n",
            "only showing top 20 rows\n",
            "\n"
          ]
        }
      ]
    },
    {
      "cell_type": "code",
      "source": [
        "#least()\n",
        "#cast()\n",
        "from pyspark.sql.functions import least,col\n",
        "df2=df.withColumn(\"SAMPLE_LEAST\",least(col(\"latitude\"),col(\"longitude\")))\n",
        "df2.show()"
      ],
      "metadata": {
        "id": "xeNVDjzSxLpc",
        "outputId": "2fc7d869-f378-4aa5-eb44-cde0ce237a12",
        "colab": {
          "base_uri": "https://localhost:8080/"
        }
      },
      "id": "xeNVDjzSxLpc",
      "execution_count": 59,
      "outputs": [
        {
          "output_type": "stream",
          "name": "stdout",
          "text": [
            "+-------------+-------------------+--------+---------+-----+---------+------------------+---------------+--------------------+----------+------------+\n",
            "|earthquake_id|        occurred_on|latitude|longitude|depth|magnitude|calculation_method|     network_id|               place|     cause|SAMPLE_LEAST|\n",
            "+-------------+-------------------+--------+---------+-----+---------+------------------+---------------+--------------------+----------+------------+\n",
            "|            1| 1969-01-01 9:07:06|      51|     -179|   45|      5.6|                mw|   iscgem812771|Andreanof Islands...|earthquake|        -179|\n",
            "|            2|1969-01-02 17:50:48|     -56|      -27| 80.1|        6|                mw|iscgemsup812819|South Sandwich Is...|earthquake|         -56|\n",
            "|            3| 1969-01-03 3:16:40|      37|       57|   10|      5.5|                mw|   iscgem812826|Turkmenistan-Iran...|earthquake|          37|\n",
            "|            4|1969-01-03 13:28:12|      51|     -179|   15|      5.9|                mw|   iscgem812841|Andreanof Islands...|earthquake|        -179|\n",
            "|            5|1969-01-04 22:36:48|      -6|      129|  105|      5.8|                mw|   iscgem812879|           Banda Sea|earthquake|          -6|\n",
            "|            6|1969-01-05 13:26:43|      -7|      158|   60|        7|                mw|   iscgem812898|     Solomon Islands|earthquake|          -7|\n",
            "|            7|1969-01-06 15:39:00|     -10|      164|   10|      6.9|                mw|   iscgem812954|Santa Cruz Island...|earthquake|         -10|\n",
            "|            8|1969-01-08 21:55:51|      11|      143|   45|      5.6|                mw|   iscgem813024|south of the Mari...|earthquake|          11|\n",
            "|            9| 1969-01-10 3:20:55|      28|      130|   25|      5.9|                mw|   iscgem813057|Ryukyu Islands, J...|earthquake|          28|\n",
            "|           10| 1969-01-13 8:55:05|      -7|      158|   50|      5.8|                mw|   iscgem813149|     Solomon Islands|earthquake|          -7|\n",
            "|           11|1969-01-14 23:12:08|      36|       29|   25|      6.4|                mw|   iscgem813187|      western Turkey|earthquake|          29|\n",
            "|           12| 1969-01-18 3:02:38|     -56|      -26|  130|      6.4|                mw|iscgemsup813263|South Sandwich Is...|earthquake|         -56|\n",
            "|           13| 1969-01-19 7:02:09|      44|      143|244.7|        7|                mw|   iscgem813290|Hokkaido, Japan r...|earthquake|          44|\n",
            "|           14|1969-01-19 18:50:53|     -14|      167|112.9|      7.1|                mw|   iscgem813304|             Vanuatu|earthquake|         -14|\n",
            "|           15|1969-01-20 12:24:38|     -10|      164|   10|      6.2|                mw|   iscgem813332|Santa Cruz Island...|earthquake|         -10|\n",
            "|           16|1969-01-20 14:20:13|      54|      166|   25|      5.9|                mw|   iscgem813336|Komandorskiye Ost...|earthquake|          54|\n",
            "|           17| 1969-01-22 0:42:31|      55|      162| 30.1|      5.6|                mw|   iscgem813398|near the east coa...|earthquake|          55|\n",
            "|           18| 1969-01-24 2:33:04|     -21|     -179|593.5|      6.7|                mw|   iscgem813480|         Fiji region|earthquake|        -179|\n",
            "|           19| 1969-01-25 5:19:20|       0|      126|   35|        6|                mw|   iscgem813514|         Molucca Sea|earthquake|           0|\n",
            "|           20|1969-01-26 15:05:37|      55|      162| 31.3|      6.1|                mw|   iscgem813567|near the east coa...|earthquake|          55|\n",
            "+-------------+-------------------+--------+---------+-----+---------+------------------+---------------+--------------------+----------+------------+\n",
            "only showing top 20 rows\n",
            "\n"
          ]
        }
      ]
    },
    {
      "cell_type": "code",
      "source": [
        "#split()\n",
        "\n",
        "from pyspark.sql.functions import split\n",
        "yes=df2.withColumn('date',split(col('occurred_on'),' ').getItem(0)).withColumn('time',split(col('occurred_on'), ' ').getItem(1))\n",
        "yes.show()"
      ],
      "metadata": {
        "id": "lS1SSaRSZmRY",
        "outputId": "93c38a14-1616-45f8-8c58-361aba0ad3fb",
        "colab": {
          "base_uri": "https://localhost:8080/"
        }
      },
      "id": "lS1SSaRSZmRY",
      "execution_count": 30,
      "outputs": [
        {
          "output_type": "stream",
          "name": "stdout",
          "text": [
            "+-------------+-------------------+--------+---------+-----+---------+------------------+---------------+--------------------+----------+------------+----------+--------+\n",
            "|earthquake_id|        occurred_on|latitude|longitude|depth|magnitude|calculation_method|     network_id|               place|     cause|SAMPLE_LEAST|      date|    time|\n",
            "+-------------+-------------------+--------+---------+-----+---------+------------------+---------------+--------------------+----------+------------+----------+--------+\n",
            "|            1| 1969-01-01 9:07:06|  51.096| -179.392|   45|      5.6|                mw|   iscgem812771|Andreanof Islands...|earthquake|    -179.392|1969-01-01| 9:07:06|\n",
            "|            2|1969-01-02 17:50:48| -56.096|  -27.842| 80.1|        6|                mw|iscgemsup812819|South Sandwich Is...|earthquake|     -27.842|1969-01-02|17:50:48|\n",
            "|            3| 1969-01-03 3:16:40|   37.14|   57.899|   10|      5.5|                mw|   iscgem812826|Turkmenistan-Iran...|earthquake|          10|1969-01-03| 3:16:40|\n",
            "|            4|1969-01-03 13:28:12|  51.132| -179.306|   15|      5.9|                mw|   iscgem812841|Andreanof Islands...|earthquake|    -179.306|1969-01-03|13:28:12|\n",
            "|            5|1969-01-04 22:36:48|   -6.85|  129.821|  105|      5.8|                mw|   iscgem812879|           Banda Sea|earthquake|       -6.85|1969-01-04|22:36:48|\n",
            "|            6|1969-01-05 13:26:43|   -7.97|  158.888|   60|        7|                mw|   iscgem812898|     Solomon Islands|earthquake|       -7.97|1969-01-05|13:26:43|\n",
            "|            7|1969-01-06 15:39:00| -10.407|  164.479|   10|      6.9|                mw|   iscgem812954|Santa Cruz Island...|earthquake|     -10.407|1969-01-06|15:39:00|\n",
            "|            8|1969-01-08 21:55:51|  11.823|  143.419|   45|      5.6|                mw|   iscgem813024|south of the Mari...|earthquake|      11.823|1969-01-08|21:55:51|\n",
            "|            9| 1969-01-10 3:20:55|   28.92|  130.667|   25|      5.9|                mw|   iscgem813057|Ryukyu Islands, J...|earthquake|     130.667|1969-01-10| 3:20:55|\n",
            "|           10| 1969-01-13 8:55:05|  -7.967|  158.999|   50|      5.8|                mw|   iscgem813149|     Solomon Islands|earthquake|      -7.967|1969-01-13| 8:55:05|\n",
            "|           11|1969-01-14 23:12:08|  36.043|   29.221|   25|      6.4|                mw|   iscgem813187|      western Turkey|earthquake|          25|1969-01-14|23:12:08|\n",
            "|           12| 1969-01-18 3:02:38| -56.756|  -26.865|  130|      6.4|                mw|iscgemsup813263|South Sandwich Is...|earthquake|     -26.865|1969-01-18| 3:02:38|\n",
            "|           13| 1969-01-19 7:02:09|  44.985|  143.238|244.7|        7|                mw|   iscgem813290|Hokkaido, Japan r...|earthquake|     143.238|1969-01-19| 7:02:09|\n",
            "|           14|1969-01-19 18:50:53| -14.849|  167.345|112.9|      7.1|                mw|   iscgem813304|             Vanuatu|earthquake|     -14.849|1969-01-19|18:50:53|\n",
            "|           15|1969-01-20 12:24:38| -10.441|   164.67|   10|      6.2|                mw|   iscgem813332|Santa Cruz Island...|earthquake|     -10.441|1969-01-20|12:24:38|\n",
            "|           16|1969-01-20 14:20:13|  54.899|  166.054|   25|      5.9|                mw|   iscgem813336|Komandorskiye Ost...|earthquake|     166.054|1969-01-20|14:20:13|\n",
            "|           17| 1969-01-22 0:42:31|  55.901|  162.962| 30.1|      5.6|                mw|   iscgem813398|near the east coa...|earthquake|     162.962|1969-01-22| 0:42:31|\n",
            "|           18| 1969-01-24 2:33:04| -21.882| -179.498|593.5|      6.7|                mw|   iscgem813480|         Fiji region|earthquake|    -179.498|1969-01-24| 2:33:04|\n",
            "|           19| 1969-01-25 5:19:20|   0.836|  126.005|   35|        6|                mw|   iscgem813514|         Molucca Sea|earthquake|       0.836|1969-01-25| 5:19:20|\n",
            "|           20|1969-01-26 15:05:37|   55.84|  162.688| 31.3|      6.1|                mw|   iscgem813567|near the east coa...|earthquake|     162.688|1969-01-26|15:05:37|\n",
            "+-------------+-------------------+--------+---------+-----+---------+------------------+---------------+--------------------+----------+------------+----------+--------+\n",
            "only showing top 20 rows\n",
            "\n"
          ]
        }
      ]
    },
    {
      "cell_type": "code",
      "source": [
        "df = spark.createDataFrame([[\"PRITAM\", 24], [\"NIKITA\", 25],[\"RISHAV\",22]], [\"NAME\", \"AGE\"])\n",
        "df.show()"
      ],
      "metadata": {
        "id": "VvphY4NNxPSM",
        "outputId": "d114f2eb-2676-45f5-a07c-4436e43c88e6",
        "colab": {
          "base_uri": "https://localhost:8080/"
        }
      },
      "id": "VvphY4NNxPSM",
      "execution_count": 31,
      "outputs": [
        {
          "output_type": "stream",
          "name": "stdout",
          "text": [
            "+------+---+\n",
            "|  NAME|AGE|\n",
            "+------+---+\n",
            "|PRITAM| 24|\n",
            "|NIKITA| 25|\n",
            "|RISHAV| 22|\n",
            "+------+---+\n",
            "\n"
          ]
        }
      ]
    },
    {
      "cell_type": "code",
      "source": [
        "#lower()\n",
        "\n",
        "import pyspark.sql.functions as F\n",
        "df.select(F.lower(df.NAME)).show()"
      ],
      "metadata": {
        "id": "e8bOzFJ8x0ho",
        "outputId": "21e6793c-0972-4239-dec3-f166ba38e5e0",
        "colab": {
          "base_uri": "https://localhost:8080/"
        }
      },
      "id": "e8bOzFJ8x0ho",
      "execution_count": 32,
      "outputs": [
        {
          "output_type": "stream",
          "name": "stdout",
          "text": [
            "+-----------+\n",
            "|lower(NAME)|\n",
            "+-----------+\n",
            "|     pritam|\n",
            "|     nikita|\n",
            "|     rishav|\n",
            "+-----------+\n",
            "\n"
          ]
        }
      ]
    },
    {
      "cell_type": "code",
      "source": [
        "#replacing columnn with lowercased column in pyspark\n",
        "\n",
        "import pyspark.sql.functions as F\n",
        "df.withColumn(\"name\", F.lower(df.NAME)).show()"
      ],
      "metadata": {
        "id": "jvdXfXIRTG16",
        "colab": {
          "base_uri": "https://localhost:8080/"
        },
        "outputId": "d04d24a5-c1eb-4e5c-d294-fe8cefdbdaab"
      },
      "id": "jvdXfXIRTG16",
      "execution_count": 33,
      "outputs": [
        {
          "output_type": "stream",
          "name": "stdout",
          "text": [
            "+------+---+\n",
            "|  name|AGE|\n",
            "+------+---+\n",
            "|pritam| 24|\n",
            "|nikita| 25|\n",
            "|rishav| 22|\n",
            "+------+---+\n",
            "\n"
          ]
        }
      ]
    },
    {
      "cell_type": "code",
      "source": [
        "df = spark.createDataFrame([[\"Pritam\", 24], [\"Nikita\", 25],[\"Sunita\",23],[\"Pritam\", 24], [\"Nikita\", 11],[\"Sunita\",67]],[\"Name\", \"Age\"])\n",
        "df.show()"
      ],
      "metadata": {
        "colab": {
          "base_uri": "https://localhost:8080/"
        },
        "id": "-t-Td3OGwy2a",
        "outputId": "83bd649d-3ae1-4ce5-d91b-399d0519065a"
      },
      "id": "-t-Td3OGwy2a",
      "execution_count": 60,
      "outputs": [
        {
          "output_type": "stream",
          "name": "stdout",
          "text": [
            "+------+---+\n",
            "|  Name|Age|\n",
            "+------+---+\n",
            "|Pritam| 24|\n",
            "|Nikita| 25|\n",
            "|Sunita| 23|\n",
            "|Pritam| 24|\n",
            "|Nikita| 11|\n",
            "|Sunita| 67|\n",
            "+------+---+\n",
            "\n"
          ]
        }
      ]
    },
    {
      "cell_type": "code",
      "source": [
        "#max() using select()\n",
        "\n",
        "from pyspark.sql.functions import max\n",
        "df.select(max(df.Age)).show()"
      ],
      "metadata": {
        "colab": {
          "base_uri": "https://localhost:8080/"
        },
        "id": "O6VFV9JDxe0B",
        "outputId": "7199eb6d-126c-47da-9a5e-1070b346cf8b"
      },
      "id": "O6VFV9JDxe0B",
      "execution_count": 35,
      "outputs": [
        {
          "output_type": "stream",
          "name": "stdout",
          "text": [
            "+--------+\n",
            "|max(Age)|\n",
            "+--------+\n",
            "|      67|\n",
            "+--------+\n",
            "\n"
          ]
        }
      ]
    },
    {
      "cell_type": "code",
      "source": [
        "#max() using groupBy\n",
        "\n",
        "df.groupBy(\"Name\").max() \\\n",
        "     .show()"
      ],
      "metadata": {
        "colab": {
          "base_uri": "https://localhost:8080/"
        },
        "id": "XcdBHOauxv0_",
        "outputId": "42d13954-97eb-432e-e55f-db2770de8d83"
      },
      "id": "XcdBHOauxv0_",
      "execution_count": 36,
      "outputs": [
        {
          "output_type": "stream",
          "name": "stdout",
          "text": [
            "+------+--------+\n",
            "|  Name|max(Age)|\n",
            "+------+--------+\n",
            "|Sunita|      67|\n",
            "|Pritam|      24|\n",
            "|Nikita|      25|\n",
            "+------+--------+\n",
            "\n"
          ]
        }
      ]
    },
    {
      "cell_type": "code",
      "source": [
        "#mean()\n",
        "\n",
        "df2.agg({'depth': 'mean'}).show()"
      ],
      "metadata": {
        "colab": {
          "base_uri": "https://localhost:8080/"
        },
        "id": "JVmeMLxA0YmB",
        "outputId": "0c95957d-c7da-4920-c37f-75e95f7954a8"
      },
      "id": "JVmeMLxA0YmB",
      "execution_count": 37,
      "outputs": [
        {
          "output_type": "stream",
          "name": "stdout",
          "text": [
            "+----------------+\n",
            "|      avg(depth)|\n",
            "+----------------+\n",
            "|71.1652558934211|\n",
            "+----------------+\n",
            "\n"
          ]
        }
      ]
    },
    {
      "cell_type": "code",
      "source": [
        "#round()\n",
        "#groupBy()\n",
        "\n",
        "from pyspark.sql.functions import round, col\n",
        "df2.select(\"*\", round(col('longitude'),2)).show()                  #2 indicates upto 2 decimal places"
      ],
      "metadata": {
        "colab": {
          "base_uri": "https://localhost:8080/"
        },
        "id": "v95TzXVj1vRE",
        "outputId": "139f8498-7493-4395-d899-3c83f56c39f5"
      },
      "id": "v95TzXVj1vRE",
      "execution_count": 38,
      "outputs": [
        {
          "output_type": "stream",
          "name": "stdout",
          "text": [
            "+-------------+-------------------+--------+---------+-----+---------+------------------+---------------+--------------------+----------+------------+-------------------+\n",
            "|earthquake_id|        occurred_on|latitude|longitude|depth|magnitude|calculation_method|     network_id|               place|     cause|SAMPLE_LEAST|round(longitude, 2)|\n",
            "+-------------+-------------------+--------+---------+-----+---------+------------------+---------------+--------------------+----------+------------+-------------------+\n",
            "|            1| 1969-01-01 9:07:06|  51.096| -179.392|   45|      5.6|                mw|   iscgem812771|Andreanof Islands...|earthquake|    -179.392|            -179.39|\n",
            "|            2|1969-01-02 17:50:48| -56.096|  -27.842| 80.1|        6|                mw|iscgemsup812819|South Sandwich Is...|earthquake|     -27.842|             -27.84|\n",
            "|            3| 1969-01-03 3:16:40|   37.14|   57.899|   10|      5.5|                mw|   iscgem812826|Turkmenistan-Iran...|earthquake|          10|               57.9|\n",
            "|            4|1969-01-03 13:28:12|  51.132| -179.306|   15|      5.9|                mw|   iscgem812841|Andreanof Islands...|earthquake|    -179.306|            -179.31|\n",
            "|            5|1969-01-04 22:36:48|   -6.85|  129.821|  105|      5.8|                mw|   iscgem812879|           Banda Sea|earthquake|       -6.85|             129.82|\n",
            "|            6|1969-01-05 13:26:43|   -7.97|  158.888|   60|        7|                mw|   iscgem812898|     Solomon Islands|earthquake|       -7.97|             158.89|\n",
            "|            7|1969-01-06 15:39:00| -10.407|  164.479|   10|      6.9|                mw|   iscgem812954|Santa Cruz Island...|earthquake|     -10.407|             164.48|\n",
            "|            8|1969-01-08 21:55:51|  11.823|  143.419|   45|      5.6|                mw|   iscgem813024|south of the Mari...|earthquake|      11.823|             143.42|\n",
            "|            9| 1969-01-10 3:20:55|   28.92|  130.667|   25|      5.9|                mw|   iscgem813057|Ryukyu Islands, J...|earthquake|     130.667|             130.67|\n",
            "|           10| 1969-01-13 8:55:05|  -7.967|  158.999|   50|      5.8|                mw|   iscgem813149|     Solomon Islands|earthquake|      -7.967|              159.0|\n",
            "|           11|1969-01-14 23:12:08|  36.043|   29.221|   25|      6.4|                mw|   iscgem813187|      western Turkey|earthquake|          25|              29.22|\n",
            "|           12| 1969-01-18 3:02:38| -56.756|  -26.865|  130|      6.4|                mw|iscgemsup813263|South Sandwich Is...|earthquake|     -26.865|             -26.87|\n",
            "|           13| 1969-01-19 7:02:09|  44.985|  143.238|244.7|        7|                mw|   iscgem813290|Hokkaido, Japan r...|earthquake|     143.238|             143.24|\n",
            "|           14|1969-01-19 18:50:53| -14.849|  167.345|112.9|      7.1|                mw|   iscgem813304|             Vanuatu|earthquake|     -14.849|             167.35|\n",
            "|           15|1969-01-20 12:24:38| -10.441|   164.67|   10|      6.2|                mw|   iscgem813332|Santa Cruz Island...|earthquake|     -10.441|             164.67|\n",
            "|           16|1969-01-20 14:20:13|  54.899|  166.054|   25|      5.9|                mw|   iscgem813336|Komandorskiye Ost...|earthquake|     166.054|             166.05|\n",
            "|           17| 1969-01-22 0:42:31|  55.901|  162.962| 30.1|      5.6|                mw|   iscgem813398|near the east coa...|earthquake|     162.962|             162.96|\n",
            "|           18| 1969-01-24 2:33:04| -21.882| -179.498|593.5|      6.7|                mw|   iscgem813480|         Fiji region|earthquake|    -179.498|             -179.5|\n",
            "|           19| 1969-01-25 5:19:20|   0.836|  126.005|   35|        6|                mw|   iscgem813514|         Molucca Sea|earthquake|       0.836|             126.01|\n",
            "|           20|1969-01-26 15:05:37|   55.84|  162.688| 31.3|      6.1|                mw|   iscgem813567|near the east coa...|earthquake|     162.688|             162.69|\n",
            "+-------------+-------------------+--------+---------+-----+---------+------------------+---------------+--------------------+----------+------------+-------------------+\n",
            "only showing top 20 rows\n",
            "\n"
          ]
        }
      ]
    },
    {
      "cell_type": "code",
      "source": [
        "#collect_set()\n",
        "\n",
        "from pyspark.sql.functions import collect_set\n",
        "df2.agg(collect_set('magnitude')).collect()"
      ],
      "metadata": {
        "colab": {
          "base_uri": "https://localhost:8080/"
        },
        "id": "zceNT0Ai3V0v",
        "outputId": "71aa2163-14af-45ef-9ef6-792d3d4d4d98"
      },
      "id": "zceNT0Ai3V0v",
      "execution_count": 39,
      "outputs": [
        {
          "output_type": "execute_result",
          "data": {
            "text/plain": [
              "[Row(collect_set(magnitude)=['5.58', '5.72', '6.2', '9.1', '7', '5.82', '5.53', '5.94', '7.4', '8.3', '8.2', '6.6', '5.55', '5.75', '6.02', '7.1', '6.5', '5.66', '7.9', '5.67', '5.84', '6.7', '8.1', '5.97', '7.6', '5.64', '5.88', '6.9', '8', '5.9', '8.4', '5.81', '8.8', '7.2', '6.57', '5.7', '5.73', '6.3', '5.5', '5.77', '5.54', '5.52', '5.6', '6.1', '5.8', '5.69', '7.8', '7.7', '8.6', '6.8', '6.4', '6.45', '7.5', '5.93', '7.3', '5.89', '5.51', '6'])]"
            ]
          },
          "metadata": {},
          "execution_count": 39
        }
      ]
    },
    {
      "cell_type": "code",
      "source": [
        "#collect_list()\n",
        "\n",
        "from pyspark.sql.functions import collect_list\n",
        "df2.agg(collect_list('depth')).collect()"
      ],
      "metadata": {
        "colab": {
          "base_uri": "https://localhost:8080/"
        },
        "id": "6Mm2VWxV7N9t",
        "outputId": "d0df4cc8-5350-4304-9194-e689f77fd1c8"
      },
      "id": "6Mm2VWxV7N9t",
      "execution_count": 40,
      "outputs": [
        {
          "output_type": "execute_result",
          "data": {
            "text/plain": [
              "[Row(collect_list(depth)=['45', '80.1', '10', '15', '105', '60', '10', '45', '25', '50', '25', '130', '244.7', '112.9', '10', '25', '30.1', '593.5', '35', '31.3', '15', '15', '60', '43.3', '40', '260', '35', '45', '45', '30', '35', '45', '35', '660', '662', '13.3', '430.5', '210.1', '40', '75', '55', '35', '15', '35', '65', '10', '10', '15', '34.5', '35', '205.6', '170', '20', '20', '198.7', '179.8', '20', '42.3', '38.8', '12.9', '168.5', '10', '20', '20', '17.1', '10', '15', '15', '15', '15', '50', '10', '10', '10', '15', '10', '398.1', '15', '15', '15.9', '15', '15', '15', '15', '15', '110.4', '565', '20', '167.5', '10', '588.3', '25', '100', '35', '10', '30', '70.7', '38.6', '10', '34.5', '17.9', '27.4', '35', '35', '35', '45', '283.5', '68.6', '203.4', '10', '75', '50', '631.7', '28.3', '30', '34.8', '30', '30', '15', '60', '15', '30', '158.6', '20', '20', '15', '15', '22.4', '55', '55', '202.6', '15', '32.7', '40', '17.8', '557.1', '15', '56.7', '20', '100', '15', '35', '10', '10', '25', '25', '15', '20', '19.5', '57.3', '10', '19', '56.7', '212.8', '140', '47.3', '10', '10', '30', '20', '15', '15', '20', '120', '50', '38.4', '25', '30', '55', '26.6', '525.1', '26.9', '35', '100', '193.2', '15', '176.1', '25', '25', '30', '30', '30', '35', '35', '18.9', '30.4', '30', '29.3', '35', '26.3', '30.8', '19.3', '35', '26.7', '30', '31.1', '35', '35', '31', '40', '27.5', '19.2', '303.2', '25', '32.5', '32.9', '129.7', '15', '15', '10', '20', '20', '25', '26.7', '105', '26.7', '28.5', '25', '45', '35', '35', '15', '30', '26.4', '25.9', '35', '27.1', '168.7', '30', '26.8', '30', '25', '41.6', '35', '25', '25', '25', '10', '25.9', '34.2', '35', '34.1', '30', '30', '33.5', '38.8', '92.5', '1.2', '35', '35', '92.8', '10', '25', '10', '30', '10', '25', '10', '48.5', '25', '131', '25.2', '15', '15', '10', '10', '10', '15', '10', '20', '45', '20', '245', '135', '27.4', '96.5', '35', '65', '25', '10', '27.1', '45', '115', '15', '20', '15', '45', '30', '10', '10', '25', '75', '15', '65', '50', '21.4', '15', '25', '35', '115.1', '17.8', '25', '140', '30', '97.2', '29.1', '115', '20', '17.8', '45', '35', '10', '345', '20', '30', '20', '20', '20', '39.8', '20', '28.8', '23.8', '25', '35', '11.3', '15', '15', '36.7', '199.4', '66.6', '40', '40', '40', '45', '25', '97.6', '18.3', '70', '170', '35.1', '10', '30', '141.1', '35', '35', '18.6', '605.9', '164.9', '30.8', '29.7', '25.9', '29.3', '10', '23.5', '22.2', '25', '15', '20', '25', '10', '15', '15', '125', '622.8', '39.8', '138.3', '55', '15', '251.6', '85', '25', '15', '15', '30', '35', '21', '26.2', '10', '175.6', '164.1', '25', '20', '621.2', '35', '47.5', '25', '30', '54.5', '25', '10', '39', '116.7', '15', '23.2', '50', '20', '143.4', '157.4', '10', '1.2', '25', '60', '25', '237.2', '50', '73.1', '20', '65', '15', '25', '25', '25', '25', '20', '45', '25', '110', '10', '163', '15', '25', '22.5', '19.1', '22.5', '25', '10', '25', '25', '15', '97.9', '28.3', '15', '18.4', '17.5', '238.7', '25', '15', '20', '33.1', '15', '15', '45.2', '35', '35', '20', '35', '35', '35', '35', '32.4', '35', '35', '545', '20', '180', '605', '15', '12.5', '15', '35', '7', '60', '55', '30', '40', '390', '10', '15', '30', '70', '10', '55', '106.5', '45', '50.6', '50.3', '45.4', '49.4', '48', '10', '56.7', '54.9', '15', '10', '41.1', '25', '45', '110.6', '15', '20', '45', '15', '10', '25', '108.6', '10', '60', '10', '25', '30.3', '15', '18.3', '45', '64.5', '98.4', '85.8', '45', '605.1', '55', '35', '52', '10', '45', '143', '25.5', '25.1', '84.8', '78.2', '20', '35', '35', '20', '80', '45', '45', '95', '14.7', '76.1', '15', '15', '644.8', '90', '50', '62.8', '73.5', '556.4', '35', '45', '13.2', '45', '20', '45', '45', '60', '60', '99.1', '574.1', '25', '35', '10', '45', '10', '15', '60', '55', '15', '35', '647.6', '25', '25', '580.6', '10', '48.6', '20', '20', '45', '25', '35', '35', '20', '15', '15', '15', '101.1', '120.1', '60', '30', '35', '25', '80', '35.3', '30', '15', '25', '25', '25', '135', '32.3', '32.5', '35', '15', '15', '10', '10', '15', '25.4', '15', '20', '60', '25', '76.5', '32.5', '10', '32.5', '40', '35', '98.1', '25', '15', '35.6', '13.5', '80', '29.5', '50', '15', '15', '577.3', '10', '25', '35', '125', '62.8', '81.7', '125', '25', '51', '10', '55', '15', '44.9', '45.2', '125', '20', '20', '10', '25', '30', '30', '30', '24.1', '25', '39.2', '140', '140', '40', '184.6', '50.7', '10', '25', '80', '35.8', '115', '38', '407.6', '15', '180', '20', '110', '527.7', '42.3', '75.3', '30', '70.5', '101.6', '15', '55', '30', '35', '88.4', '35', '15', '10', '42.1', '35', '89.9', '35', '30', '30', '30', '30', '30', '30', '30', '30', '30', '10', '30', '30', '30', '70', '10', '45', '17.5', '35', '20', '45', '173.2', '241.1', '20', '35', '35', '105', '535.6', '35', '85', '40', '30', '15', '15', '20', '25', '28.9', '25', '25', '12.5', '8.95', '6', '6', '128.4', '65', '110', '18.5', '587.2', '30', '28.4', '183.7', '10', '85', '19.2', '30', '98.4', '123.5', '450.6', '25', '111', '17.1', '33.5', '125', '20', '58.5', '55', '81.6', '25', '20', '30', '72.6', '15', '15', '15', '50', '10', '45.9', '25', '139.1', '20', '40', '22.4', '15', '15', '15', '15', '15', '35', '35', '147.6', '34.8', '588.8', '545', '31.3', '116.6', '75', '17', '540', '15', '100', '560', '15', '75', '10', '93.9', '75', '10', '10', '30', '11.7', '140', '24.2', '10', '10', '45', '26.8', '156.2', '15', '15', '15', '69.1', '40.7', '51.9', '22.5', '23.5', '22.5', '25', '171.6', '570', '85', '10', '30', '59.2', '27.5', '10', '10', '10', '30', '418.2', '15', '51.1', '120.2', '35', '15', '15', '20', '36.8', '35', '28.6', '122.8', '25', '230.8', '35', '35', '25', '50.8', '10', '12.5', '11.9', '91.7', '35', '13.7', '580', '80', '141.4', '25', '60.9', '537.1', '99.2', '32.2', '105.5', '60.3', '65', '50', '35', '23.2', '40', '70', '40', '40', '40', '40', '40', '40', '580', '135', '35', '120.7', '47.5', '35', '69.5', '10', '59.9', '15', '25', '40', '40', '26.6', '40', '177.6', '30', '40', '20', '40', '40', '40', '40', '26', '40', '40', '40', '40', '40', '40', '40', '120', '40', '20', '40', '40', '40', '24.5', '50', '25', '30', '55', '40', '35', '11', '54.8', '35', '44.7', '201.6', '20', '182.5', '20', '64.5', '35', '35', '35', '45', '10', '19.3', '19.2', '10', '118.7', '25', '25', '185', '20', '20', '20', '15', '25.6', '37.7', '27.5', '37.8', '10', '41.8', '5.9', '35', '144.6', '24.5', '54.7', '135', '10', '115', '18.1', '17.5', '15', '19.2', '20', '46.6', '17.5', '20', '65', '20', '20', '97.5', '35', '35', '15', '20', '25', '131', '182.4', '22.5', '45', '22', '37.5', '110.8', '15', '165', '75', '59.2', '110', '18.4', '10', '25', '106', '15', '15', '15', '20', '55', '10', '45', '27.5', '545.9', '115.3', '87.3', '25', '96', '118.2', '10', '35', '70', '60', '65', '31.6', '43.8', '55', '10', '21.6', '25', '25', '25', '40', '25', '25', '45', '40', '105', '35', '121.4', '388', '35', '52.5', '35', '10', '20', '170', '15', '29.2', '543.1', '15', '113.1', '116.6', '43.7', '103.3', '50', '125', '53.6', '110', '53', '20', '82.9', '55', '10', '15', '55.5', '20', '15', '30', '15', '45', '115', '55', '27.5', '27.5', '27.5', '28.8', '27.4', '27.5', '15', '35', '220.5', '62.3', '111.3', '625', '10', '15', '30', '28', '35', '162.3', '30', '10', '25', '25', '57.7', '569.1', '99.2', '11.3', '150', '10.2', '31.5', '25.7', '20', '211.9', '563.7', '72.8', '20', '35', '35', '97.8', '25', '25', '171.1', '643', '125', '35', '35', '160', '102.8', '25', '18.9', '15', '15', '17.7', '32.5', '10', '101.8', '54.6', '100', '35', '20', '45', '15', '54.3', '35', '58.9', '35', '15', '59.8', '56.8', '10', '10', '48.9', '57.7', '590', '586.2', '200', '25.6', '41.3', '25', '35', '425', '25', '71.3', '55', '35', '15', '138.9', '20', '10', '68.3', '30', '137.7', '40', '30', '45.4', '562.5', '350', '495.8', '40', '15', '10', '25', '25', '10', '10', '390', '135', '10', '15', '16.1', '10', '10', '135', '41.6', '106.5', '85', '55', '15', '600', '22.2', '22.5', '25', '595', '25', '31.8', '409.9', '35', '25', '370', '15', '46.1', '25', '35', '25', '30', '101.9', '10', '20', '30', '564.3', '10', '15', '61.1', '358.1', '57.1', '30', '45', '180', '550', '10', '26.4', '79.6', '35', '222.1', '25', '20', '419.5', '15', '25', '47.5', '15', '150', '325', '25', '256.2', '45', '15', '330.8', '150', '233.8', '25', '15', '32.5', '42.5', '56.6', '39.9', '24', '208.9', '194.8', '15', '575', '20', '610', '105', '48.1', '45', '26', '25', '107.3', '27.5', '20', '615.3', '35', '36.8', '123.6', '10', '15', '186.3', '139.1', '35', '10', '201', '10', '25', '90', '20', '20', '90', '97.7', '182.5', '25.2', '33.5', '35', '35', '15', '45', '15', '15', '15', '25', '15', '15', '15.6', '179.6', '40', '35', '25', '15', '30', '35', '10', '20', '20', '15', '15', '584.2', '37.5', '68.5', '120', '10', '35', '10', '165', '15', '18', '15', '11.1', '122.3', '52.2', '25', '30', '30', '30', '67', '30', '108.4', '126.3', '50', '9.8', '50', '87.5', '15', '35', '35', '10', '10', '28.6', '81.5', '30', '30', '30', '30', '30', '160', '35', '15', '35', '35', '15', '195.1', '35', '23.4', '180.3', '125', '25', '25', '35', '35', '15', '25', '25', '628.8', '80.6', '30', '50', '85', '122.6', '25', '20', '124.8', '14', '389.4', '35', '35', '90', '30', '15', '15', '20', '130.4', '10', '15', '48', '155', '25', '45', '10', '130.7', '341.5', '53.2', '72.9', '25', '20', '20', '116.6', '20', '82.5', '70', '35', '233.3', '137.4', '20', '605', '15', '22.9', '120', '35', '114.7', '15', '380', '10', '116', '70.7', '15', '130', '20', '31.1', '35', '30', '15', '600', '15', '25', '30', '424.6', '42.7', '60', '62.2', '60', '60', '60', '60', '55', '55', '15', '15', '15', '25', '15', '25', '45', '27.9', '55', '28.9', '35', '35', '15', '40', '35', '20', '15', '15', '80', '39', '40.9', '15', '560', '31.5', '35', '595', '17.3', '15', '10', '15', '57.4', '52.9', '15', '44.5', '64.1', '35', '45', '33', '66', '563', '33', '150', '36', '32', '32', '33', '33', '477', '7', '251', '43', '17', '129', '33', '97', '115', '55', '72', '43', '498', '229', '33', '81', '33', '33', '33', '33', '33', '33', '176', '541', '38', '62', '17', '29', '50', '0', '78', '34', '78', '33', '49', '33', '33', '12', '67', '59', '33', '33', '27', '48', '87', '30', '59', '33', '32', '6', '33', '55', '13', '8', '73', '49', '37', '54', '170', '36', '64', '18', '47', '33', '194', '33', '68', '33', '33', '81', '203', '162', '33', '27', '34', '35', '20', '74', '33', '16', '117', '43', '81', '33', '33', '31', '158', '33', '33', '33', '33', '95', '35', '122', '104', '33', '33', '52', '33', '610', '54', '33', '41', '17', '118', '33', '50', '33', '65', '67', '50', '109', '92', '27', '29', '33', '33', '51', '33', '51', '14', '13', '64', '54', '33', '33', '62', '34', '13', '39', '33', '46', '30', '111', '30', '33', '26', '24', '1.1', '33', '78', '70', '21', '70', '30', '142', '41', '67', '24', '631', '33', '33', '48', '45', '94', '33', '48', '33', '41', '36', '46', '40', '45', '32', '50', '38', '29', '43', '33', '41', '53', '33', '41', '62', '50', '55', '47', '44', '33', '50', '33', '39', '50', '41', '146', '24', '50', '33', '125', '44', '33', '33', '33', '40', '38', '34', '93', '156', '46', '33', '9', '20', '33', '33', '33', '44', '151', '571', '28', '33', '46', '411', '0', '60', '69', '33', '61', '33', '33', '592', '110', '82', '32', '33', '30', '200', '16', '40', '43', '33', '25', '33', '34', '14', '33', '40', '55', '33', '33', '112', '29', '33', '33', '47', '62', '14', '73', '33', '33', '38', '78', '34', '62', '33', '33', '11', '84', '33', '33', '46', '181', '33', '191', '41', '29', '61', '71', '33', '168', '33', '23', '532', '33', '141', '0', '68', '33', '135', '133', '33', '560', '33', '33', '651', '56', '33', '33', '39', '45', '10', '33', '33', '0', '33', '33', '575', '46', '62', '56', '92', '9', '72', '14', '33', '24', '33', '9', '33', '221', '45', '33', '63', '529', '0', '95', '36', '35', '36', '605', '8', '580', '15', '546', '34', '41', '33', '15', '182', '31', '51', '11', '50', '78', '571', '33', '33', '33', '40', '56', '58', '84', '51', '56', '33', '60', '33', '33', '33', '26', '4', '89', '33', '124', '33', '28', '35', '31', '40', '33', '40', '33', '33', '15', '39', '34', '33', '46', '0', '53', '7', '33', '58', '246', '196', '33', '121', '63', '549', '26', '33', '33', '33', '33', '43', '50', '47', '33', '124', '33', '33', '10', '220', '105', '205', '9', '26', '98', '117', '33', '33', '33', '34', '66', '15', '219', '20', '14', '53', '114', '33', '257', '33', '33', '33', '33', '45', '141', '33', '58', '154', '33', '33', '37', '36', '34', '40', '33', '33', '33', '48', '269', '33', '33', '33', '30', '43', '33', '2', '30', '33', '33', '74', '11', '34', '25', '33', '58', '17', '115', '385', '12', '49', '45', '33', '14', '15', '28', '46', '46', '17', '383', '110', '26', '42', '50', '33', '43', '33', '169', '33', '20', '18', '61', '27', '33', '42', '33', '535', '569', '33', '79', '33', '44', '37', '44', '33', '47', '166', '27', '40', '33', '139', '33', '33', '33', '33', '596', '42', '33', '33', '28', '33', '68', '97', '33', '113', '45', '455', '602', '26', '33', '48', '13', '33', '33', '2', '35', '33', '33', '11', '33', '6', '33', '33', '112', '33', '208', '33', '22', '55', '56', '36', '111', '18', '131', '57', '13', '565', '53', '7', '47', '21', '0', '33', '33', '276', '33', '37', '33', '33', '33', '50', '34', '13', '33', '157', '39', '33', '33', '70', '80', '75', '33', '173', '33', '30', '33', '33', '33', '16', '70', '61', '32', '13', '33', '33', '33', '33', '33', '35', '12', '45', '5', '15', '123', '33', '48', '157', '46', '162', '37', '33', '33', '25', '52', '100', '38', '33', '33', '211', '393', '52', '10', '33', '33', '33', '58', '48', '33', '32', '159', '602', '9', '27', '33', '9', '70', '52', '33', '100', '56', '0', '132', '59', '96', '46', '36', '58', '136', '84', '41', '33', '33', '147', '0', '33', '24', '52', '11', '33', '17', '94', '173', '63', '58', '33', '17', '449', '33', '27', '33', '33', '55', '280', '48', '93', '51', '111', '33', '49', '33', '118', '33', '46', '43', '70', '43', '43', '5', '13', '33', '33', '47', '49', '29', '45', '21', '33', '33', '24', '41', '15', '22', '59', '33', '0', '24', '70', '33', '70', '43', '43', '602', '33', '33', '48', '33', '120', '18', '36', '117', '33', '0', '97', '132', '33', '6', '51', '33', '68', '196', '90', '54', '33', '37', '36', '36', '36', '44', '18', '1', '33', '33', '6', '52', '49', '61', '142', '419', '126', '7', '53', '28', '33', '20', '162', '33', '204', '18', '218', '33', '33', '13', '33', '33', '33', '40', '0', '22', '99', '67', '39', '5', '66', '20', '52', '313', '47', '33', '33', '41', '95', '23', '42', '39', '33', '33', '33', '141', '153', '33', '33', '33', '33', '28', '15', '136', '10', '36', '33', '25', '10', '80', '22', '33', '33', '33', '27', '174', '6', '0', '40', '48', '375', '623', '33', '33', '33', '33', '34', '54', '82', '78', '586', '59', '33', '29', '33', '55', '51', '57', '27', '4', '85', '155', '279', '5', '5', '64', '33', '40', '98', '33', '21', '33', '26', '178', '425', '5', '33', '5', '33', '10', '32', '71', '33', '33', '45', '33', '33', '33', '33', '52', '33', '33', '46', '133', '78', '33', '33', '20', '571', '81', '225', '13', '32', '179', '33', '33', '7', '11', '0', '41', '33', '31', '110', '56', '33', '23', '33', '90', '33', '34', '47', '6', '58', '36', '99', '2', '43', '26', '62', '33', '6', '19', '560', '29', '33', '81', '33', '33', '70', '24', '616', '57', '33', '33', '33', '33', '58', '182', '655', '61', '16', '0', '52', '15', '33', '41', '19', '38', '36', '19', '46', '94', '31', '33', '19', '38', '33', '10', '61', '33', '33', '33', '21', '33', '36', '33', '13', '33', '6', '560', '7', '15', '132', '33', '119', '33', '157', '51', '86', '33', '79', '156', '125', '63', '33', '33', '46', '37', '8', '82', '33', '49', '33', '44', '33', '33', '50', '33', '47', '95', '33', '50', '33', '36', '73', '68', '36', '70', '42', '579', '33', '17', '149', '38', '51', '16', '33', '19', '33', '52', '53', '40', '4.97', '33', '15', '33', '230', '33', '65', '20', '166', '111', '74', '391', '44', '52', '4', '123', '631', '273', '85', '559', '50', '57', '0', '141', '40', '39', '73', '119', '33', '192', '20', '26', '42', '68', '33', '26', '33', '40', '33', '88', '132', '30', '54', '119', '33', '47', '47', '202', '87', '33', '51', '33', '33', '33', '33', '61', '23', '86', '135', '106', '33', '33', '33', '33', '75', '11', '33', '244', '33', '56', '33', '33', '33', '66', '54', '33', '115', '33', '33', '96', '33', '123', '9', '33', '33', '35', '167', '33', '109', '33', '0', '33', '0', '33', '33', '97', '33', '93', '50', '70', '33', '38', '1.3', '0', '100', '58', '59', '22', '53', '50', '5', '25', '113', '41', '424', '33', '24', '11', '77', '97', '33', '355', '55', '68', '33', '11', '33', '26', '33', '60', '24', '555', '62', '58', '36', '74', '43', '33', '33', '46', '33', '33', '51', '8', '8.95', '47', '24', '30', '33', '576', '68', '19', '40', '548', '33', '67', '98', '14', '33', '17', '67', '125', '77', '33', '554', '88', '33', '33', '0', '497', '115', '33', '39', '33', '33', '196', '14', '19', '59', '50', '33', '25', '21', '1.5', '59', '95', '33', '33', '76', '79', '33', '33', '101', '168', '33', '33', '33', '33', '69', '33', '33', '25', '31', '33', '33', '33', '33', '44', '33', '33', '39', '51', '33', '33', '33', '32', '33', '33', '41', '49', '47', '50', '56', '130', '33', '44', '55', '614', '33', '78', '47', '54', '59', '30', '36', '38', '33', '48', '628', '62', '193', '52', '15', '33', '328', '477', '212', '33', '5', '33', '98', '78', '37', '5', '5', '48', '44', '67', '33', '73', '1.2', '39', '47', '29', '40', '548', '232', '53', '33', '13', '54', '37', '70', '20', '32', '48', '22', '180', '56', '33', '16', '103', '9', '25', '61', '30', '90', '51', '45', '47', '72', '77', '50', '1.3', '0.9', '33', '40', '51', '33', '33', '59', '33', '33', '33', '33', '59', '116', '179', '33', '33', '162', '84', '34', '33', '33', '33', '27', '44', '21', '217', '52', '33', '33', '9', '105', '54', '560', '143', '33', '33', '113', '17', '303', '46', '33', '33', '32', '24', '43', '94', '33', '521', '62', '16', '44', '50', '33', '54', '19', '40', '35', '73', '9', '33', '33', '34', '26', '33', '22', '33', '33', '33', '33', '17', '23', '33', '33', '10', '33', '157', '72', '292', '173', '126', '33', '115', '31', '174', '103', '73', '33', '116', '33', '33', '43', '20', '109', '8', '10', '33', '28', '14', '20', '33', '617', '88', '21', '33', '61', '39', '54', '33', '45', '13', '33', '33', '18', '8', '33', '33', '33', '33', '24', '33', '33', '32', '33', '36', '33', '32', '33', '59', '33', '433', '33', '33', '33', '33', '119', '48', '138', '33', '0', '92', '33', '17', '387', '22', '33', '3', '33', '33', '40', '33', '25', '33', '53', '33', '33', '9', '37', '33', '31', '33', '33', '33', '23', '26', '5', '39', '50', '21', '97', '0', '20', '52', '33', '106', '29', '33', '33', '43', '357', '27', '16', '33', '33', '26', '33', '34', '22', '32', '14', '32', '31', '15', '33', '3', '15', '47', '81', '120', '33', '144', '31', '33', '58', '8', '23', '0', '33', '33', '72', '109', '53', '45', '51', '75', '83', '68', '214', '188', '33', '114', '64', '172', '53', '16', '173', '60', '82', '33', '58', '75', '10', '17', '15', '15', '50', '27', '55', '64', '25', '29', '94', '45', '33', '10', '0', '41', '32', '33', '33', '34', '56', '30', '33', '15', '22', '33', '81', '57', '35', '106', '33', '604', '121', '33', '26', '105', '33', '85', '33', '14', '77', '53', '33', '33', '218', '20', '33', '13', '51', '60', '30', '33', '38', '33', '60', '36', '33', '102', '15', '33', '112', '33', '33', '77', '60', '33', '0', '33', '33', '36', '33', '33', '442', '33', '41.78', '576', '33', '190', '82', '69', '36', '72', '33', '33', '33', '0', '46', '5', '18', '34', '87', '33', '33', '491', '17', '41', '39', '79', '77', '57', '33', '33', '66', '10', '33', '49', '15', '33', '38', '33', '89', '113', '33', '27', '19', '29', '33', '33', '33', '33', '33', '42', '653', '178', '33', '33', '33', '36', '33', '50', '33', '50', '604', '39', '266', '25', '58', '14', '55', '20', '33', '549', '33', '33', '33', '33', '33', '33', '33', '33', '5', '42', '33', '33', '33', '33', '49', '52', '58', '64', '45', '33', '52', '94', '33', '39', '33', '41', '14', '22', '528', '59', '33', '41', '31', '37', '37', '70', '33', '39', '0', '33', '29', '36', '336', '39', '164', '33', '54', '2', '35', '35', '38', '93', '33', '29', '33', '33', '33', '17', '41', '11', '118', '564', '33', '33', '43', '33', '526', '177', '493', '33', '33', '19', '33', '33', '33', '33', '33', '32', '32', '33', '33', '33', '33', '33', '51', '35', '538', '19', '32', '24', '20', '77', '22', '40', '430', '33', '33', '499', '33', '48', '37', '33', '189', '40', '9', '207', '56', '54', '33', '0', '33', '33', '138', '67', '210', '32', '40', '78', '33', '12', '41', '35', '33', '690', '59', '108', '33', '11', '271', '149', '65', '33', '53', '47', '33', '33', '33', '33', '58', '16', '51', '33', '594', '127', '167', '128', '33', '122', '12', '33', '33', '10', '33', '33', '33', '33', '33', '33', '33', '33', '57', '31', '33', '33', '36', '108', '112', '36', '33', '32', '52', '57', '58', '33', '33', '33', '33', '12', '33', '33', '25', '33', '33', '33', '33', '33', '33', '33', '14', '36', '33', '33', '33', '33', '42', '33', '578', '33', '33', '33', '33', '33', '33', '33', '33', '33', '33', '140', '25', '33', '33', '44', '33', '12', '33', '33', '33', '0', '33', '97', '33', '33', '34', '17', '31', '33', '8', '41', '0', '62', '33', '61', '64', '33', '33', '59', '33', '78', '105', '33', '33', '33', '33', '38', '33', '33', '33', '82', '73', '33', '22', '15', '33', '231', '33', '309', '33', '33', '33', '33', '33', '33', '33', '13', '33', '56', '573', '33', '33', '33', '33', '33', '33', '33', '33', '33', '33', '33', '33', '129', '32', '33', '33', '33', '33', '33', '33', '125', '33', '33', '20', '33', '33', '70', '33', '33', '33', '158', '76', '33', '614', '89', '33', '33', '41', '33', '0', '0', '72', '106', '33', '600', '103', '33', '48', '33', '70', '33', '33', '75', '33', '127', '66', '112', '33', '33', '141', '33', '601', '92', '33', '13', '33', '20', '22', '27', '13', '53', '33', '33', '33', '23', '0', '33', '33', '33', '564', '33', '33', '65', '558', '85', '36', '16', '86', '0', '550', '66', '15', '41', '56', '33', '32', '35', '19', '33', '33', '141', '39', '18', '33', '56', '33', '659', '33', '46', '40', '33', '31', '140', '33', '33', '33', '33', '33', '33', '33', '19', '41', '36', '33', '68', '283', '158', '126', '24', '33', '33', '61', '52', '14', '45', '44', '10', '17', '33', '24', '73', '132', '51', '56', '19', '98', '44', '68', '102', '19', '146', '20', '39', '39', '132', '33', '33', '33', '186', '81', '33', '33', '40', '45', '33', '33', '33', '33', '33', '33', '33', '33', '106', '33', '24', '33', '33', '55', '53', '90', '33', '60', '33', '535', '510', '531', '100', '60', '85', '10', '33', '33', '10', '33', '33', '33', '33', '78', '33', '99', '442', '439', '33', '33', '33', '33', '33', '33', '33', '63', '33', '33', '37', '82', '43', '263', '33', '49', '33', '33', '36', '66', '33', '33', '33', '33', '33', '46', '54', '33', '33', '50', '33', '33', '33', '50', '23', '48', '33', '475', '20', '33', '44', '33', '33', '45', '45', '595', '47', '33', '0', '34', '550', '69', '53', '33', '94', '22', '33', '33', '27', '43', '10', '35', '31', '50', '25', '33', '13', '33', '33', '14', '98', '33', '50', '14', '566', '33', '128', '140', '96', '227', '33', '43', '45', '50', '46', '18', '53', '73', '43', '35', '33', '40', '59', '26', '59', '160', '33', '95', '32', '23', '33', '50', '43', '33', '31', '33', '41', '161', '33', '78', '33', '10', '25', '54', '33', '38', '33', '33', '15', '33', '43', '33', '33', '22', '33', '33', '33', '520', '0', '78', '33', '10', '33', '45', '44', '33', '40', '24', '79', '33', '63', '155', '34', '139', '33', '523', '3', '52', '377', '33', '59', '122', '33', '33', '33', '159', '33', '35', '33', '120', '25', '33', '33', '118', '0', '62', '41', '645', '33', '33', '292', '28', '33', '59', '43', '17', '33', '30', '37', '33', '0', '33', '33', '33', '131', '58', '33', '33', '33', '255', '48', '88', '23', '0', '22', '33', '0', '10', '33', '113', '599', '98', '86', '145', '33', '47', '33', '593', '20', '96', '10', '44', '10', '56', '71', '33', '0', '61', '32', '17', '33', '16', '109', '33', '33', '109', '36', '47', '198', '33', '33', '94', '21', '140', '33', '33', '32', '68', '0', '44', '33', '221', '33', '46', '63', '201', '202', '33', '91', '0', '33', '145', '96', '35', '10', '46', '115', '62', '98', '57', '184', '154', '0', '0', '33', '33', '185', '103', '280', '135', '60', '71', '33', '33', '40', '90', '0', '34', '33', '33', '33', '33', '33', '33', '41', '10', '29', '33', '33', '29', '33', '33', '33', '172', '52', '33', '0', '33', '18', '22', '0', '42', '93', '40', '33', '10', '33', '10', '91', '32', '54', '33', '134', '463', '33', '33', '33', '60', '47', '0', '10', '92', '32', '33', '593', '47', '30', '33', '21', '33', '10', '10', '390', '33', '33', '29', '33', '33', '156', '33', '32', '10', '44', '33', '10', '11', '0', '93', '55', '17', '160', '14', '105', '41', '39', '33', '25', '17', '22', '503', '545', '56', '129', '104', '556', '33', '81', '77', '142', '33', '33', '123', '60', '53', '52', '33', '10', '61', '10', '30', '10', '43', '26', '33', '110', '15', '33', '33', '107', '28', '33', '61', '10', '10', '49', '52', '33', '33', '33', '10', '10', '91', '33', '15', '80', '33', '33', '132', '33', '55', '31', '72', '14', '59', '15', '37', '10', '10', '10', '549', '125', '33', '10', '79', '33', '10', '599', '52', '38', '55', '72', '23', '128', '33', '23', '79', '42', '81', '33', '23', '33', '117', '10', '44', '251', '615', '108', '85', '33', '10', '567', '33', '33', '45', '71', '33', '33', '76', '208', '10', '58', '10', '33', '68', '52', '8', '23', '591', '33', '26', '98', '63', '25', '33', '6', '80', '246', '33', '10', '10', '10', '73', '132', '81', '23', '33', '122', '33', '107', '0', '33', '189', '42', '69', '229', '10', '115', '10', '28', '78', '10', '45', '0', '59', '10', '609', '11', '44', '42', '10', '69', '0', '31', '171', '26', '90', '48', '33', '31', '33', '0', '25', '27', '10', '10', '0', '181', '8.315', '69', '33', '10', '10', '61', '88', '31', '588', '17', '39', '266', '0', '229', '134', '40', '33', '10', '33', '10', '15', '138', '69', '29', '44', '47', '556', '42', '13', '5', '33', '33', '26', '33', '27', '33', '214', '33', '92', '35', '45', '33', '16', '9', '43', '10', '10', '0', '33', '10', '33', '40', '74', '21', '33', '27', '33', '56', '144', '41', '116', '33', '125', '33', '15', '15', '14.19', '33', '7', '601', '10', '33', '62', '33', '0', '51', '38', '140', '33', '10', '33', '22', '33', '33', '33', '33', '33', '0', '10', '33', '58', '65', '0', '88', '579', '26', '33', '33', '62', '33', '27', '104', '589', '30', '440', '33', '564', '45', '10', '40', '169', '47', '32', '33', '10', '33', '33', '85', '85', '10', '70', '169', '108', '33', '205', '10', '10', '10', '0', '37', '68', '31', '33', '34', '43', '110', '24', '33', '33', '33', '33', '33', '67', '33', '39', '33', '33', '68', '33', '33', '0', '33', '131', '209', '10', '92', '41', '33', '33', '10', '63', '76', '10', '114', '54', '112', '112', '165', '33', '33', '125', '10', '33', '14', '605', '46', '94', '10', '442', '50', '211', '110', '33', '33', '33', '33', '11', '33', '10', '47', '33', '10', '10', '40', '10', '10', '73', '75', '108', '63', '35', '45', '33', '33', '33', '33', '33', '24', '33', '68', '44', '58', '45', '505', '621', '35', '42', '53', '58', '66', '36', '104', '33', '33', '33', '10', '43', '33', '33', '43', '38', '33', '85', '45', '69', '0', '36', '33', '33', '10', '33', '33', '33', '495', '33', '359', '43', '33', '34', '37', '41', '33', '212', '33', '68', '10', '10', '33', '49', '79', '33', '10', '84', '80', '10', '39', '394', '589', '0', '33', '164', '33', '22', '33', '46', '33', '62', '10', '67', '108', '170', '20', '57', '33', '67', '1.51', '9', '68', '0', '119', '33', '6.806', '6.686', '11.856', '4.833', '114', '2.063', '33', '13.795', '14', '95', '95', '111', '201', '10', '6', '33', '19', '33', '33', '23', '165', '532', '36', '35', '0', '553', '43', '87', '0', '167', '580', '61', '71', '43', '54', '40', '53', '45', '51', '36', '47', '33', '10', '33', '49', '33', '162', '21', '33', '49', '0', '15', '33', '123', '10', '178', '33', '33', '14', '20', '37', '33', '33', '33', '103', '49', '84', '33', '33', '33', '33', '110', '0', '64', '591', '50', '79', '80', '122', '54', '33', '10', '48', '34', '18', '10', '33', '33', '22', '10', '33', '55', '33', '10', '10', '39', '33', '29', '42', '33', '33', '6', '62', '29', '239', '0', '33', '33', '148', '28', '64', '137', '73', '74', '33', '116', '96', '68', '33', '33', '32', '33', '33', '152', '33', '33', '10', '190', '33', '10', '10', '10', '0', '0', '24', '125', '42', '81', '65', '10', '160', '33', '33', '33', '72', '33', '33', '33', '33', '48', '33', '33', '33', '10', '33', '33', '33', '33', '33', '33', '103', '33', '33', '46', '14', '19', '21', '10', '33', '44', '47', '17', '33', '38', '53', '77', '10', '95', '33', '33', '202', '27', '0', '33', '33', '10', '33', '10', '80', '51', '10', '44', '0', '24', '56', '33', '33', '33', '86', '10', '33', '33', '33', '82', '33', '28', '41', '33', '33', '63', '592', '33', '0', '33', '33', '33', '242', '33', '33', '32', '25', '37', '10', '39', '33', '137', '69', '39', '22', '33', '33', '33', '33', '33', '33', '33', '33', '35', '33', '33', '20', '116', '33', '33', '10', '40', '116', '10', '33', '115', '33', '562', '19', '68', '33', '22.6', '10', '33', '33', '33', '618.2', '33', '45', '65', '154.9', '10', '29.9', '33', '34', '33', '33', '33', '26', '33', '95.9', '33', '66.4', '33', '43', '70.6', '33', '33', '33', '33', '82.1', '33', '23.5', '40.8', '28.5', '33', '66.6', '33', '33', '33', '55.6', '31.1', '33', '174.5', '143.9', '51', '10', '226.7', '46.3', '33', '33', '10', '10', '43', '138', '60.5', '73.7', '0', '33', '43.5', '554', '25.2', '413.4', '89.2', '33', '10', '25', '35.4', '33', '28', '86', '92', '0', '33', '45', '33', '588', '33', '587.5', '147.6', '18.904', '33', '10', '540', '49', '228.7', '33', '200.4', '49.7', '73', '145', '99.7', '33', '73', '0', '33', '47.6', '125', '70.5', '33', '33', '33', '33', '10', '33', '33', '311.1', '10', '33', '10', '24', '53', '33', '33', '36', '10', '184', '33', '33', '10', '535', '35.6', '33', '6.2', '10', '30', '31.4', '33', '46', '143.1', '33', '33', '55.2', '43', '33', '39.5', '33', '27', '65.8', '41.8', '15.5', '38.2', '33', '33.5', '34.7', '383', '33', '25.1', '10', '58.7', '100', '40', '33', '33', '74.2', '33', '25', '33', '33', '33', '33', '57.6', '93', '45', '44', '33', '644.5', '31', '33', '45.5', '13.4', '33', '0', '10', '10', '170', '102.2', '33', '30', '33', '30', '33', '14', '172.6', '33', '33', '33', '33', '45', '25.3', '31', '33', '323', '3.126', '10', '0', '33', '33', '33', '23.9', '619.9', '41', '10', '50.2', '94.3', '47', '33', '10', '122', '179', '26', '10', '624.6', '0', '33', '636', '33', '33', '33', '10', '10', '33', '129.4', '10', '33', '33', '33', '33', '65.2', '10', '633', '14', '33', '33', '33', '10', '93', '33', '33', '7', '33', '33', '24', '39', '29.8', '33', '24', '33', '614', '48', '53', '543', '0', '34.6', '132.8', '59.4', '580.3', '10', '10', '33', '10', '69.5', '10', '20', '50', '48', '82.6', '104', '10', '19.7', '73.3', '28', '159.4', '33', '33', '0', '33', '13.3', '33', '61', '587.2', '22.2', '10', '590.2', '518.9', '195', '70.6', '156', '33', '79.8', '10.1', '45.7', '33', '10', '6.4', '33', '180', '23', '33', '606', '33', '44.2', '10', '10', '218', '18.9', '27', '24', '13.7', '198.8', '17', '33', '33', '10', '37.2', '60', '168', '627.3', '33', '10', '63.3', '500', '29', '10', '39.8', '196.2', '33', '51', '10', '33', '14', '36', '18', '27', '147.2', '38.2', '78.7', '127', '37', '17', '572.5', '45', '46', '67.6', '122', '37', '33', '102', '33', '10', '36', '48', '44', '18', '203', '33', '10', '181', '26.6', '73', '42', '79', '95', '21.2', '33', '33', '187.2', '33', '33', '64.8', '24', '41', '131.2', '10', '10', '10', '162', '35', '38', '72.5', '33', '10.3', '81.5', '22', '25', '10', '351', '2.1', '83.5', '43.9', '0', '119', '30.8', '105.8', '25.4', '107', '33', '62.5', '91.9', '10', '10', '33', '532', '10', '25', '38', '33', '33', '32', '29', '75.1', '66.4', '33', '33', '51.4', '33', '33', '58.9', '328', '33', '10', '33', '40.5', '33.8', '10', '84.4', '10', '123', '119', '56', '10', '10', '24', '73', '33', '48.4', '450', '344.3', '10', '35.4', '10', '33', '47.7', '0', '536', '53.5', '87.9', '116', '119.9', '615.3', '10', '10', '30', '33', '36.9', '32', '145.8', '36.6', '31', '45', '0', '26', '33', '37.8', '68.8', '46.5', '113', '30.7', '45.7', '49.9', '33', '33', '33', '33', '33', '33', '20.8', '45', '10', '33', '106.2', '106.1', '47', '31', '33', '38.5', '10', '34', '36', '70', '597', '33', '33', '33', '33', '182.5', '46', '33', '143.4', '175.8', '33', '33', '33', '33', '36.8', '128.3', '31.4', '37', '546', '50', '33', '33', '10', '33', '10', '22.7', '20.5', '82', '46.4', '42', '119', '44', '112', '62', '40', '12', '33', '149', '37.8', '65.9', '17.6', '54', '41', '10', '515.2', '10', '0', '10', '47', '53', '40', '33', '10', '71', '153', '40.2', '166.2', '62', '39', '33', '33', '33', '57.1', '92', '49.9', '27', '21', '78.9', '10', '195', '161', '14', '10', '25.3', '35', '62.8', '33', '29', '10', '622.3', '322.3', '33', '33', '256.7', '0', '97', '50', '10', '10', '10', '33', '33', '33', '33', '5', '33', '33', '36', '86.9', '33', '51.6', '36', '33', '33', '33', '33', '33', '39.5', '33', '33', '61.7', '72.4', '33', '32', '32', '33', '33', '33', '33', '33', '33', '10', '48', '33', '33', '0', '20', '22', '34', '33', '19', '118', '24', '172', '59', '45', '54.1', '33', '33', '48', '33', '14.3', '33', '33', '121', '558.1', '10', '33', '42.1', '434.8', '30', '33', '234.9', '14.3', '47', '56', '18.5', '34', '41', '40', '29', '10', '10', '56.8', '607.4', '33', '65.5', '33', '78', '18.4', '10', '238', '188', '354', '64', '10', '42', '63.1', '31', '144', '33', '33', '33', '151.6', '50.7', '33', '52', '33', '43.2', '51', '16.1', '105', '39', '47', '33', '32', '568', '60.5', '36.8', '37', '235', '146', '56', '25', '78.3', '42', '10', '57.6', '23.4', '33', '33', '82.4', '33', '48.2', '61.7', '33', '16.9', '35.9', '29', '33', '10', '41', '52', '42', '33', '88.8', '100', '65', '41.6', '80.1', '84.8', '68', '151.3', '63', '35', '29.6', '19.1', '10', '132.8', '22.8', '22.2', '39', '37', '33', '116.1', '78.5', '69.5', '33', '38', '51', '123', '33', '33', '34.7', '10', '33', '40', '49.6', '10', '104.2', '33', '226.7', '38.4', '118', '65', '57.1', '26.1', '64', '0', '10', '67.8', '33', '10', '33', '29', '12.4', '33', '116.1', '10', '21', '33', '23', '30.4', '24', '33', '596', '9.578', '8', '593.5', '25.2', '10', '33', '10', '23', '10', '39.1', '10', '28.2', '112.4', '71.6', '125', '33', '10', '10', '123', '33', '97', '22.7', '110', '27', '0', '23.7', '33', '28.7', '29', '17', '28', '18', '36.4', '63', '236.4', '179.6', '33', '10', '598.6', '35.4', '10', '30.6', '28', '20.8', '46.3', '10', '46.7', '0', '119.9', '33', '10', '33', '9.3', '21.3', '544.4', '9.9', '23.5', '36.9', '157.9', '10', '18.4', '44.1', '33', '45.8', '277.8', '33', '18.5', '42.4', '23', '529.4', '32.4', '51.7', '92.6', '220.3', '33', '33', '10', '33', '33', '10', '33', '33', '38.7', '33.7', '10', '33', '10', '10', '25', '37', '43', '49.4', '149.2', '48.6', '52.3', '86.3', '43', '126.1', '41.3', '66.1', '71.3', '180.4', '48.1', '30.7', '62.8', '10', '10', '33', '157.9', '56', '33', '33', '33', '23', '10', '87.2', '2.4', '160', '24.8', '33', '14.8', '99.8', '124.9', '81.2', '10', '181.5', '62.6', '28.8', '0', '156.2', '40.8', '45.8', '10', '150.5', '20.9', '46.4', '11.188', '126.4', '20.5', '74.9', '33', '38.7', '62.8', '10', '10', '105.3', '111.8', '37.7', '45', '33', '9', '208.8', '46.5', '33', '94', '158.5', '115.2', '510.2', '33', '66.4', '33', '33', '37.9', '101.3', '28.2', '32.4', '42', '10', '10', '0', '158.6', '33', '10', '33', '67.8', '12.4', '33', '14.8', '31.2', '0', '33', '19.7', '557.9', '58.6', '16.1', '37.7', '10', '31.3', '20.2', '29.8', '10', '10', '7.4', '40.1', '65.6', '33', '30.4', '10', '116.7', '24', '33', '33', '33', '67.1', '48.3', '33', '0', '499.4', '27.7', '33', '10', '10', '131.7', '11.6', '26.9', '78.7', '83.4', '92.8', '50.3', '386.6', '19', '31.3', '59.4', '39', '56.8', '36.7', '576.5', '23.4', '25.8', '42.7', '12', '79.4', '29.3', '0', '59.3', '38.7', '54.9', '33', '606.7', '178.5', '18.5', '26.4', '114.7', '10', '37.1', '26', '136.7', '39', '525', '56.9', '84.6', '10', '10', '67.1', '33', '10', '10', '627', '68.3', '629.6', '10', '97.7', '23.9', '54.2', '85.5', '136.9', '39.2', '120', '20', '100.1', '23.8', '37.2', '10', '35.5', '8.126', '24.4', '10', '8.9', '601.9', '608.8', '33', '33', '26', '11.3', '33', '33', '43.6', '52.4', '0', '144.7', '88.8', '49.7', '52.8', '114.2', '214.5', '55.1', '33', '368.1', '272.1', '10', '10', '44.1', '14.4', '20.4', '12.3', '33', '78', '10', '10', '10', '47.5', '102.9', '10', '10', '296.3', '614.1', '39.5', '41.7', '18.2', '586.1', '53', '10', '332.3', '30.3', '534.2', '50.9', '43.7', '24.4', '125.2', '33', '33', '57.8', '171.8', '10', '42.1', '10', '10', '573.4', '33', '46.4', '61.8', '95.9', '351.6', '18.1', '27', '10', '28.7', '62.7', '268.7', '207.6', '158.1', '10', '18.8', '0', '33', '33.9', '46.8', '33', '92.4', '33', '10', '257.2', '113.1', '201.3', '33', '33', '10', '227.8', '33', '649.1', '33', '460.4', '68.9', '457.4', '103.3', '0', '87.8', '52.1', '351', '546.5', '50.3', '33', '569.6', '67.5', '10.7', '547.6', '608.5', '14.5', '128.5', '10', '40.5', '10', '33', '42.2', '253.6', '118.7', '44.5', '44.4', '33', '27.6', '10', '33', '44', '0', '44', '25.5', '59.4', '26.7', '601.3', '41.1', '156.2', '10', '73.4', '10', '182.4', '46.1', '33', '167.6', '51.7', '0', '452.4', '101.3', '149.7', '201.6', '363.9', '32.5', '582', '73', '593.2', '10', '208.5', '414.1', '16.7', '126.7', '403.1', '8.193', '0', '414.9', '33', '10', '10', '10', '47.4', '11.9', '235.5', '33', '33', '85.6', '10', '10', '33', '58', '10', '10', '33', '10', '13.9', '0', '29.7', '33', '33', '10', '63.3', '157.7', '10', '24.8', '10', '10', '33', '17.5', '18.2', '10', '58.7', '33', '10', '10', '10', '0', '10', '10', '26.5', '39.3', '55.1', '13.3', '70.9', '22.8', '24.7', '174.4', '33', '33', '23.8', '33', '52.6', '33', '33', '33', '33', '46.3', '10', '43.1', '40.6', '25.1', '246.6', '22.5', '33', '116.8', '37.5', '195.9', '39.1', '10', '57', '10', '23.9', '5.6', '10', '32.2', '50.5', '19.9', '63', '49.8', '10', '25', '203.8', '46.6', '10', '53.5', '536.3', '575', '33', '126.3', '33', '97.7', '49.2', '10', '533.5', '33', '48.4', '44.5', '55.3', '469.7', '0', '64.7', '10', '33', '129.2', '10', '82.9', '47.4', '574.3', '341.1', '54.9', '25.9', '34.1', '43.9', '33', '33', '132.2', '10', '65.3', '10', '10', '36.2', '242.3', '46.2', '33', '31.9', '39.8', '33', '100.6', '13.1', '19.7', '32.5', '107.1', '114.3', '10', '172.8', '10', '162.8', '10', '136.6', '61.7', '57.3', '10', '81', '224.8', '559.7', '32.5', '10', '57.7', '10', '33', '42.1', '29', '118.8', '26.4', '478.3', '621.5', '201.1', '10', '33', '10', '10', '4.333', '125.6', '139.9', '10', '10', '10', '647.4', '33', '10', '10', '10', '47.6', '10', '43.2', '33', '33', '18.2', '55.3', '29.9', '44.6', '32.7', '40.2', '67.5', '33', '33', '98', '46.2', '44.1', '33', '62.9', '49.1', '29.1', '10', '21.1', '10', '75', '6', '30.5', '14.6', '34.2', '58', '56.8', '33', '10', '10', '10', '675.6', '25.9', '135.1', '13', '11.7', '36.8', '10', '31.4', '234', '33', '128.4', '121.1', '75.7', '33', '33', '33', '192', '575', '10', '33', '33', '0', '55.6', '60.3', '56.4', '33', '0', '10', '153.2', '141', '33', '33', '10', '223.1', '49', '27.6', '23.9', '0', '163.8', '10', '10', '229.5', '29.3', '44.9', '33', '154.8', '111.4', '32.3', '33.6', '515.6', '91.7', '116.1', '104.7', '348.1', '608.5', '66.8', '114', '33', '43.1', '63.5', '451.4', '450.2', '33', '33', '229.5', '38.6', '58.2', '202.2', '23.4', '23.7', '10', '62.8', '645.8', '33', '33', '33', '8.096', '122.3', '10.516', '29.8', '67.7', '5.955', '50.3', '11.1', '10', '17.7', '32.4', '0', '10', '17.9', '64.5', '35.6', '121.5', '10', '0', '34.5', '10', '10', '127.7', '53.2', '91.5', '76.7', '44.3', '0', '49.8', '29.4', '33', '33.6', '62.9', '53.7', '43.6', '70.5', '544.8', '33', '0', '33', '33', '552.6', '26.8', '85.6', '23.6', '42.9', '35.8', '39.3', '22.6', '33', '174.3', '247.3', '10', '33.3', '33', '33', '132.7', '10', '32.8', '74.1', '28', '11.8', '91.5', '24.6', '662.2', '14.7', '10', '10', '10', '189.1', '44', '33', '43.1', '35.4', '33', '33.5', '27.6', '83.2', '33', '33', '13.7', '19.6', '10', '202.7', '5', '121.4', '33', '224', '10', '10', '118', '42', '36.8', '56.5', '0', '90.8', '10', '44.2', '138.8', '33', '42', '33', '33', '146.1', '55.9', '33', '33', '84.8', '10', '10', '61.1', '164.9', '10', '48.6', '60', '43.6', '33', '17.1', '33', '43.5', '33', '33', '33', '33', '29', '33', '33', '33', '33', '33', '33', '29.3', '40.1', '33', '33', '10', '33', '33', '82.2', '47.4', '55.8', '92.1', '71.5', '631.4', '11.8', '33', '52.3', '71.1', '640.9', '10', '76.7', '54', '102.9', '46.7', '10', '33', '525.3', '544.9', '33', '13.4', '33', '33', '33', '33', '42.2', '33', '33', '69.7', '57', '52.6', '156.1', '26.2', '45', '33', '248.5', '36.4', '127.2', '154.9', '166.3', '10', '10', '33', '33', '33', '468.7', '10', '144.5', '10', '47.7', '13.8', '37.8', '43.6', '420', '27.6', '107.7', '10', '33', '98.9', '50.7', '212.1', '33', '33', '5', '71.8', '37.7', '33', '79.4', '188.4', '33', '121.7', '0', '10', '33', '33', '108', '80.8', '104', '260.1', '33', '10', '33', '71', '61.5', '26.9', '599.9', '43.1', '46.3', '87.7', '36.6', '10', '29.5', '33', '10', '33', '0', '10', '33', '33', '33', '26.7', '33', '43.9', '10', '10', '10', '33', '33', '10', '611', '109.8', '33', '62.6', '39.1', '33', '34.2', '45.9', '33', '150.4', '33', '39.6', '23.1', '33', '370.2', '33', '38.1', '65.5', '37.1', '33', '94.2', '42.3', '10', '68', '10', '10', '33', '47.8', '87.8', '17.7', '151.4', '33', '62.9', '27.9', '0', '10', '26.3', '46.7', '180.6', '35.8', '39.4', '33', '33', '32.1', '46.2', '10', '10', '50.2', '33', '0', '10', '77.9', '10', '10', '10', '33', '33', '28.6', '38.5', '33', '49.8', '40.2', '85.6', '31.4', '10', '10', '58.9', '10', '28.5', '10', '10', '40.5', '33', '33', '10', '51.9', '0', '35.3', '49.9', '49.3', '42.4', '33', '10', '33', '35.6', '98.7', '45.7', '45.2', '30.7', '120.1', '35.6', '27.6', '15.89', '10', '607.4', '10', '14.9', '592.2', '595.9', '10', '10', '208.2', '21.7', '93.5', '32', '24', '50.4', '33', '51.6', '599.2', '26.9', '128', '33', '33', '10', '33', '65.7', '10', '33', '33', '56.9', '33', '6.8', '194.8', '348.4', '10', '33', '36.3', '196.6', '624.6', '49.8', '10', '113.9', '33', '33', '26.3', '24.3', '31', '13.5', '10', '501', '41.4', '68.3', '10', '10', '15.3', '1.9', '10', '10', '10', '64.8', '81.1', '239.9', '10', '27.9', '18.4', '30.8', '10', '10', '10', '146.6', '29.9', '37.8', '51.6', '47', '31.9', '33', '61.4', '541.2', '33', '33', '413.7', '37.6', '478.1', '84.5', '10', '10', '272.5', '242.1', '153.8', '30.2', '155', '41.8', '10', '16', '10', '271.3', '256', '32.9', '700', '13.8', '109.7', '33', '595.5', '10', '10', '33', '52.9', '10', '38.8', '33', '30', '596', '78', '10', '10', '77.4', '132', '44', '33.5', '41.5', '41.2', '26.2', '10', '10', '10', '10', '33', '10', '10', '10', '10', '10', '24.6', '50.2', '10', '43.6', '20.6', '0', '607.9', '74.4', '72.3', '33', '33', '33', '33', '33', '39.9', '33', '532.4', '165.3', '21.9', '427.6', '24.5', '33', '12.5', '22', '10', '22.1', '33', '37.2', '60.8', '10', '10', '10', '33', '43.8', '43', '33', '33', '17.8', '10', '6', '42.1', '10', '10', '33', '33', '71.9', '10', '187.1', '455', '24.5', '36', '33', '113', '62.1', '16.4', '10', '10', '39.1', '10', '10', '520.1', '10', '10', '33', '33', '24.6', '245.1', '33', '146.3', '150', '83.3', '435.8', '12.6', '10', '223.2', '51.9', '33', '94.6', '58', '58.5', '634.3', '8.153', '82.2', '178.6', '27', '10', '33', '31', '508', '33', '100.7', '36', '30', '38.5', '33.7', '21.9', '19', '206.1', '610.1', '136.1', '77.4', '33', '601.5', '33', '10.7', '10', '10', '44.5', '33', '10', '79.5', '117.5', '33', '39.3', '286.6', '33', '33', '71.8', '124.8', '115.9', '33', '206.4', '65.6', '82', '10', '42.1', '243.1', '89.5', '476.4', '43.2', '613.9', '18', '44.5', '33', '33', '33', '10', '26.2', '29', '4.4', '46.7', '48.7', '158.4', '111', '608.5', '33', '383', '87.8', '604.4', '33', '10', '10', '8.502', '540', '35.1', '48', '173', '40.3', '13', '33', '33', '29.4', '216', '11.1', '33', '88.5', '30.6', '23.2', '33', '33', '13.6', '131', '33', '186.9', '10', '38.1', '26.5', '105.8', '10', '43.6', '33', '51.6', '33', '14.8', '9.6', '37.8', '10', '33', '33', '84.8', '22.1', '33', '33', '33', '33', '222.8', '33', '33', '33', '33', '33', '33', '33', '18.1', '165.5', '33', '33', '12.6', '33', '33', '10', '10', '193.5', '33', '33', '33', '10', '33', '39.5', '33', '33', '33', '24.5', '26.2', '51.8', '19.3', '31.3', '60.9', '10', '39.1', '43', '10', '33', '33', '583.4', '538.3', '622.5', '35.7', '627.9', '33', '10', '61.4', '0', '10', '15.6', '54.2', '80.1', '67.3', '67', '10', '10', '10', '10', '56.2', '33', '17.8', '18.8', '115.6', '33', '562.7', '15.7', '10', '10', '547', '10', '33', '33', '31.9', '27', '16.7', '164', '10', '10', '33', '33', '33', '62.6', '102.3', '21.6', '12.3', '10.7', '211.2', '17.4', '10', '14.8', '21.4', '10', '159.6', '20.2', '63.8', '33', '33', '33', '10', '10', '597.5', '53.4', '10', '33', '37.9', '10', '33', '111.9', '9.1', '7.8', '244.6', '9.468', '49.7', '27.6', '33', '31.7', '10', '87.5', '39.7', '80.4', '111.1', '33', '46.5', '7.2', '33', '141.2', '33', '33', '5.044', '10', '36.7', '8.804', '8.482', '-0.076', '33', '10', '33', '33', '21.7', '26.5', '147.2', '40.7', '33', '33', '10', '5.754', '10', '10', '33', '80', '10', '33', '10', '8.1', '80', '104.2', '124.4', '33', '123.3', '10', '10', '33', '33', '33', '107.6', '33', '33', '33', '30.7', '33', '33', '19.7', '33', '33', '79.1', '33', '33', '10', '10', '32.2', '33', '34.7', '33', '8', '20.8', '33', '52.6', '132.3', '45.7', '27.9', '586.5', '33', '33', '10', '51.2', '33', '31.3', '10', '215.3', '11.2', '549.2', '58.8', '33', '88.7', '47.7', '33', '25', '33', '119.6', '10', '122.6', '137.2', '19', '619.8', '10', '45.4', '342.5', '45.8', '106.4', '10', '10', '10', '10', '81.7', '7', '5', '116.7', '65', '10', '10', '40.9', '63.3', '10.1', '33', '67', '33', '52.4', '643.1', '42', '29.1', '33', '33', '33', '33', '33', '33', '33', '33', '33', '33', '33', '33', '33', '33', '44.7', '165.1', '33', '159.6', '126.9', '18.8', '23.6', '35.7', '38.1', '50.5', '52', '47.3', '33', '30.6', '49.1', '213.6', '10', '10', '33', '71.6', '188.1', '118.1', '33', '10', '588.5', '62.2', '33', '33', '33', '33', '51.4', '79', '10', '32.5', '18', '44', '33.8', '33', '33', '28', '33', '518.1', '33', '47.8', '60.2', '89.5', '9', '105.7', '30.2', '41.4', '105.6', '36.9', '33', '33', '10', '33', '527.3', '44.4', '10', '10', '33', '33.5', '10', '214.6', '20.5', '219.7', '10', '17.1', '10', '224.5', '24.9', '44.3', '33.2', '17.1', '131.2', '96.1', '10', '10', '10', '10', '116.8', '41.1', '57.9', '10', '53.1', '10', '101.5', '23.7', '74', '10', '5', '5', '14.5', '33', '32.2', '10', '33', '16.5', '38.1', '67.7', '33', '52.9', '59.8', '10', '10', '10', '102', '158.3', '49.7', '10', '51.4', '158.9', '118.4', '268.5', '71.9', '28.9', '33', '12.9', '34.5', '16.9', '10', '48.4', '75', '47.6', '10', '10', '31.9', '10', '33', '61', '35.6', '47.7', '33', '27.4', '16.9', '54.9', '33', '33', '33', '33', '48.8', '44.1', '394.5', '40.3', '18.8', '23.5', '23.9', '499.1', '32.2', '119.7', '566.3', '10', '33', '33', '33', '58.7', '25.1', '33', '10', '33', '33', '33', '43.7', '26.8', '233.6', '10', '30', '64.7', '16', '25.5', '10', '5', '48.5', '19.2', '18.3', '10', '10', '96.2', '16.1', '62.3', '43', '48.2', '34.8', '56', '14.1', '10', '41.3', '8.5', '45.6', '95.4', '54.4', '35.7', '33', '41.2', '36.9', '47.3', '39.3', '37.5', '0', '40', '10', '33', '33', '60.4', '50.2', '32.1', '40.1', '10', '22.5', '39.8', '23.6', '10', '62.5', '24.2', '29.2', '26', '56.8', '29.7', '54', '27.7', '149.6', '536.8', '213.5', '93.3', '24', '19.8', '40.2', '23.3', '20.3', '191', '81.3', '40.1', '54.1', '21.8', '248.7', '102.6', '0', '91.2', '10', '29.4', '205.2', '50.3', '55.8', '45', '33', '33', '10', '22.9', '36.8', '33', '33', '54.9', '102.4', '0', '570.1', '14.6', '30.3', '106', '107', '11.1', '279.1', '33', '10', '19.3', '8.9', '384.9', '40.9', '8', '569.1', '10', '10', '202.1', '0', '20.1', '20', '430', '46.4', '149.3', '178.2', '162.5', '94', '52.7', '24.7', '40.2', '84.8', '31.2', '28.6', '10', '176.8', '611.3', '49.5', '542', '110.6', '33', '16.4', '33', '417', '36.4', '33', '0', '32', '7.6', '36.6', '33', '33', '40.4', '144.9', '60.8', '42.8', '58.8', '0', '33', '45.1', '47', '69.1', '10', '14.4', '14.8', '10', '54.3', '10', '10', '35.3', '31.6', '52.1', '33', '10', '488.2', '42.4', '33', '13.1', '41.3', '10', '51.3', '136.1', '33', '146.1', '67.3', '42.8', '73', '86.4', '0', '86.5', '70.3', '33.6', '33', '33', '291.5', '19', '33', '33', '33', '33', '10', '23.8', '20.7', '61', '33', '31.6', '10', '10', '168.2', '26', '33', '33', '10', '47.5', '46.2', '70.4', '648.8', '10', '33', '151.5', '33', '33', '10', '38.9', '10', '241.4', '576.4', '51.4', '67', '310.2', '102.2', '0', '10', '79.1', '10', '40.7', '51.4', '33', '166.6', '24.3', '33', '10', '10', '624.6', '636.5', '166.7', '16.895', '0', '0', '10', '10', '33', '32.5', '69.7', '10', '47.5', '33', '40.5', '201.6', '164.5', '77.8', '113.9', '52.4', '10', '36.5', '33', '29.2', '117.6', '37.4', '73.5', '50.2', '36.3', '62.3', '10', '569.3', '199', '33', '33', '33', '33', '42.7', '33', '36.7', '33', '39.7', '10', '10', '83.3', '603.6', '129.9', '123.4', '33.5', '10', '170.9', '63.1', '85.3', '15.4', '96.9', '28.1', '67.5', '10', '10', '14.3', '130.8', '10', '10', '42.1', '593.4', '35.4', '33', '33', '30.7', '25.1', '31.9', '51.4', '76.3', '10', '8.881', '463.9', '19.8', '148.5', '73.5', '95.4', '47.9', '43.2', '53.7', '33', '16', '24.4', '33.7', '106.2', '40.4', '30.2', '573.9', '33', '24.7', '17.9', '14.5', '72.4', '24.3', '75.1', '33', '47.8', '94.9', '40.1', '33', '10', '158', '0', '170.8', '12', '33', '33', '533.5', '604.5', '10', '34.3', '152.9', '33', '59.8', '29.8', '33', '88', '0', '52.9', '538.1', '80', '30.4', '393.2', '45.6', '60.3', '33', '33', '0', '67.2', '76.2', '10', '10', '65.5', '10', '22.2', '40.7', '0', '34.6', '5', '10.853', '90.4', '554.7', '142.1', '11.181', '143.2', '140.6', '33', '18.2', '33', '33', '32.9', '28.8', '28.8', '33.7', '21.8', '33', '58.3', '10', '10', '28.8', '10', '144.6', '33', '48.1', '33', '10', '10', '33', '33', '51.8', '36.9', '164', '0', '10', '39.3', '10', '62.9', '46', '177.3', '19.8', '156.1', '20.5', '10', '60.9', '196', '0', '51.8', '89.9', '22.1', '14.8', '177.1', '24', '10', '20.9', '14.8', '33', '33', '33', '109.1', '29.3', '33', '149.5', '213.7', '10', '34.1', '10', '51.2', '33', '334.8', '33', '164.7', '32.9', '10', '44.2', '5', '5', '5', '104', '34.2', '10', '56.9', '565.6', '52.6', '44.2', '34.3', '10', '10', '43.6', '46.7', '5', '106.2', '10', '10', '33', '10', '10', '78.7', '66.6', '36.9', '30.7', '33', '38.5', '285.2', '125.5', '137.5', '33', '33', '58', '32', '52.6', '10', '10', '10', '34.7', '0', '9.5', '33', '33', '20.1', '142.3', '86', '119.6', '314.5', '53.9', '148.7', '57', '70.3', '33', '74', '24.9', '33', '10', '31.3', '124.4', '10', '33', '33', '33', '44.4', '590.2', '10', '10', '36.8', '10', '10', '10', '47.5', '33', '33', '32.3', '56.2', '613', '623', '266.3', '22.5', '51.6', '49.1', '41.2', '10', '10', '10', '16.5', '17.7', '56.3', '255.8', '550.4', '39.9', '103.2', '33', '33', '15.1', '33', '10', '33', '161.9', '10', '33', '559.2', '56', '10', '120.9', '1.3', '10', '33', '32.9', '526.3', '40.9', '572.7', '33', '0', '30.3', '39.3', '60.9', '30.1', '17.1', '10', '31.8', '106.9', '32.3', '33', '33.9', '619.3', '20.9', '10', '33.1', '16.1', '36.7', '151.5', '77.9', '33', '33', '580.8', '40.4', '75', '55.2', '10', '33', '43.9', '44.3', '10', '10', '628.7', '20.6', '137.9', '10.8', '10', '0', '122.5', '26.2', '35.9', '10', '10', '10', '27.1', '86.7', '50.5', '44.5', '25.2', '72.3', '0', '49.7', '0', '40.9', '271.5', '56.5', '16', '30.1', '10', '33', '33', '33', '124.8', '100.5', '10', '28', '42.1', '10', '46.5', '33', '169.9', '26.4', '40.2', '0', '558.7', '33', '86.3', '93.9', '38.1', '82.7', '110.2', '113.4', '21.9', '36.8', '35.7', '14.4', '29.3', '48.1', '23.9', '59.2', '10', '407.5', '16.7', '33', '25.3', '49.1', '69.4', '53.4', '38.5', '41.6', '52.6', '50.9', '65.7', '10', '33', '32.1', '142.7', '537.1', '14.6', '10', '19.8', '38', '53.4', '547.1', '67', '30.1', '33.9', '10', '74.3', '262.3', '43.6', '66.9', '51.7', '30.6', '424.1', '10', '30.1', '33', '9.1', '31.7', '23.2', '137', '134.5', '10', '40.6', '50.8', '10', '18.5', '18.5', '16.6', '27.6', '27.7', '47', '30.5', '217.1', '171.6', '176.8', '279.3', '10', '61.4', '33', '55.5', '10', '26.1', '201.4', '33', '6.2', '10', '113.5', '90.5', '25.1', '195', '93.6', '10', '30.1', '34', '33', '39.8', '35.5', '10', '124.8', '41.6', '10', '10', '32.2', '33', '33', '143.1', '33', '644.8', '32.5', '52', '10', '27.1', '38.5', '37.2', '31.1', '98.3', '14.7', '21.8', '57.4', '10', '52.1', '10', '10', '53.6', '77.8', '33', '35', '27.9', '10', '10', '27.7', '485.1', '10', '86.1', '35.8', '10', '77.9', '510.3', '42.7', '448.9', '55.3', '0', '122.6', '170.2', '550.8', '33', '42.2', '34.7', '51.4', '81.5', '33.2', '10', '11', '212.2', '29', '56.8', '76.9', '33', '111.8', '94.9', '145.6', '552.2', '10', '89.6', '28.5', '149.4', '10', '35.2', '31.3', '10', '56.6', '37.4', '36.6', '27.7', '36', '33', '33', '25.2', '37.1', '48.4', '57.4', '50', '212.2', '29.9', '26.8', '10', '47.7', '595.6', '15.3', '138.7', '12', '33', '10', '68.5', '10', '33.3', '67.5', '33', '7.6', '33', '10', '42.3', '36.9', '33', '17.8', '10', '10', '104.8', '21.8', '26.9', '65.7', '24.5', '16.1', '103.7', '33', '10', '22.7', '204.5', '582.2', '33', '19.3', '98.1', '61', '10', '91.3', '33', '10', '52.6', '113.1', '10.8', '41.1', '594.5', '10', '24.9', '28.9', '10', '15.7', '45.1', '10', '85.2', '14.5', '33', '143.9', '0', '33.3', '0', '10', '76.4', '40.1', '10', '10', '5.4', '10', '33', '33', '10', '33', '10', '10', '10', '10', '52.1', '70.1', '33', '30.7', '11.9', '33', '0', '33', '60', '36.7', '35.9', '10', '42.6', '9.9', '193.6', '580.5', '369.3', '108.4', '40.4', '48', '43', '10', '121.6', '33', '33', '33', '13.5', '46.6', '33', '33', '73.6', '33', '33', '49.9', '31.8', '10', '10', '10', '74', '10', '33.3', '15.1', '0', '25', '50.3', '5', '28.2', '28.4', '53.4', '59.8', '574.6', '450.6', '10', '10', '52.2', '59.8', '179.5', '562.9', '38', '23.7', '25.7', '19.8', '44', '46.5', '33', '33', '38.3', '41.7', '33', '33', '65.7', '33', '0', '10', '88.4', '10', '29.6', '31.9', '33', '33', '10', '56', '95.5', '38.9', '33', '60.4', '101.2', '25.6', '33', '155.2', '539.1', '23.8', '30.5', '53.7', '55.9', '569', '196.4', '46.8', '15.8', '134.1', '42.1', '34.8', '65.1', '101.3', '31.9', '29.6', '53.3', '30.3', '47.6', '230.1', '56.6', '37.4', '136.5', '87.2', '31.3', '43.3', '59.2', '536.4', '570.8', '10', '33.7', '57.2', '230', '250.8', '66.5', '112', '165.7', '10', '72.4', '32.7', '593.1', '16.4', '33', '15', '33', '33', '635.7', '13.3', '601.9', '133.3', '27.1', '10', '609.7', '523.7', '10.5', '10', '94.3', '63', '10', '26.3', '10', '6.3', '34.3', '7.7', '15.2', '109.5', '19.2', '71.2', '84.6', '13.9', '10', '16.9', '27.4', '30.3', '22.3', '32.4', '20.3', '570.3', '30.6', '10', '10', '10', '14', '7.5', '15.5', '590.8', '593.4', '33', '531.4', '548.2', '60.4', '10', '0', '36.4', '43.8', '33', '10', '10', '86', '23.6', '10', '10', '30.7', '10', '56', '104', '33', '29.2', '76.9', '584', '10', '10', '10', '10', '10', '10', '22.1', '18.6', '10', '35.9', '10', '111.6', '10', '171.3', '10', '10', '10', '30.5', '10', '34.9', '33.2', '86', '32', '138.3', '23.2', '171.3', '22.8', '10', '245.2', '0', '9.6', '5.8', '247.1', '82.1', '71.2', '10', '126.2', '13.8', '10', '58.2', '33', '359.9', '33', '10', '62.3', '188.5', '182.3', '21.7', '15.1', '9.4', '11.3', '10', '10', '50.4', '173.4', '33', '33', '22.9', '10', '10', '34.1', '0', '30.7', '41.3', '10', '75.1', '10', '10', '9.8', '107.7', '82.1', '35.7', '141.8', '10', '95.1', '31.4', '33', '19.6', '620.3', '10', '13.8', '14.3', '33', '10', '29.4', '65.6', '33.3', '10.7', '592.1', '113.8', '44.4', '36.7', '10', '121.6', '55.8', '10', '44.4', '51', '55.2', '10', '37.7', '33', '33', '10', '10', '33', '164.5', '11.6', '10.1', '10', '10', '10.5', '10', '11.7', '15.8', '9.7', '10', '493.5', '42.8', '33', '61', '21.4', '31', '73.4', '10', '44', '37.6', '9.1', '33', '33', '11.4', '42.4', '35.3', '18.6', '10', '10', '10', '36.7', '33', '10', '6.5', '33', '33', '48.3', '122.2', '11.9', '33', '103.2', '144.8', '33', '51.3', '54.8', '10', '108.3', '51.4', '10', '54.3', '33', '14.6', '31.3', '33.9', '10.8', '50.5', '13.1', '31', '38.8', '19.6', '33', '33', '33', '33', '35.4', '26.2', '10', '100.6', '33', '10', '25.7', '17.214', '10', '45.4', '69.2', '10', '10.5', '53.4', '0', '102.6', '10', '155.7', '441.4', '73', '8', '74.2', '9.1', '24.7', '10', '9.6', '18', '10', '5.7', '10', '582.2', '33', '33', '139.5', '37.3', '33', '50.3', '28.6', '30.2', '38.7', '29.4', '27.6', '16.6', '10', '30.2', '26.9', '10', '49', '30.6', '39.2', '10', '265.7', '33', '10', '10', '537.6', '10', '27.9', '48', '18.4', '52.6', '56.2', '26.7', '10', '33', '25.6', '10', '10', '10', '25.8', '33', '10', '0', '70.8', '487', '34.6', '43.1', '216.2', '34.5', '153', '10', '76.1', '119.8', '15.6', '104.4', '47.3', '66.8', '43.7', '46.7', '151', '200', '74.2', '37.6', '33', '24.4', '33', '43.6', '33', '29.5', '25.2', '31', '34.2', '37.8', '22', '24.8', '31.8', '39.9', '10', '39.5', '31.9', '21', '28.5', '39.3', '32.1', '33', '21.5', '43.2', '0.4', '161.5', '5.1', '102.2', '10', '183.8', '32.1', '38.3', '40.9', '135.8', '53.5', '29', '108.7', '33', '14.8', '48', '33', '79.1', '33', '33', '119.2', '33.7', '36.6', '33', '33', '32.7', '86.2', '61.9', '12.2', '33', '48', '58.3', '33', '23', '33', '33', '10', '10', '13.4', '136.2', '585.8', '24.5', '47.5', '33.6', '25.5', '33', '45.7', '104.2', '23.1', '40.9', '548.4', '61', '10', '576.1', '43.9', '10', '45.8', '109.9', '25.9', '30.3', '9.8', '34.4', '10', '56.9', '46.4', '14.8', '10', '29.9', '15.5', '10', '65.9', '31.9', '142.3', '24.3', '12.1', '14.2', '34.1', '160.8', '10', '109.9', '12.4', '31.9', '33', '24.7', '141.4', '14.2', '601.4', '3.292', '27.1', '39.3', '33.2', '33', '33', '10.1', '20.7', '12.2', '10', '21.9', '10', '66.7', '50.6', '37.5', '24.4', '26.2', '13.8', '15', '10', '33', '112.1', '10', '639.4', '132.3', '10', '10', '47', '31.4', '144.8', '224.7', '116.2', '33', '26.6', '22.2', '33', '40.8', '33', '39.2', '123.9', '21', '10', '40.8', '88.2', '52.5', '61', '93.4', '11.4', '33', '45.5', '36', '10', '12.6', '10', '33', '33', '36.3', '33', '28.5', '15.5', '32.3', '36.3', '17.4', '131.2', '71.5', '33', '362.3', '553.7', '457.6', '119.1', '33', '10', '25.7', '33', '33', '35.3', '19.1', '36.8', '33', '23.7', '51.9', '32.9', '11.9', '505.2', '26.1', '10', '8.1', '9.6', '74.3', '24.4', '16.8', '22.7', '17.4', '26.8', '10', '20.8', '10', '41', '211', '81.6', '10', '10', '9.6', '229.2', '33', '69.2', '10', '10', '100.8', '578.5', '28', '605.7', '74.2', '20.6', '75.9', '113.1', '5', '29.7', '57.4', '41.2', '80.9', '73.3', '105.9', '114', '613.5', '32.6', '140.7', '14.9', '17.9', '232.2', '345.6', '33', '27.5', '33', '16.5', '16', '588.9', '10', '14.6', '33.8', '29.1', '10', '485.8', '24.7', '24.2', '89.3', '21.5', '88.2', '22.6', '67', '33', '144.7', '33.8', '29.3', '33', '10', '26.8', '499.2', '33', '25.6', '34.3', '20.6', '77.2', '18.1', '17.8', '57.9', '22.9', '60.1', '139.4', '31.7', '27', '14.5', '15.3', '167.7', '612.2', '24.2', '18.5', '15.2', '33', '103', '19.1', '22.4', '23.9', '180.5', '193.2', '33.5', '586.8', '0', '616.3', '8.1', '51.8', '132.7', '13.5', '41.5', '438.4', '30.3', '26.7', '559.6', '12.6', '33', '66.3', '96.5', '61.9', '10', '584.8', '589.8', '28', '59.4', '10', '216.8', '11.1', '11.7', '26.6', '160.5', '25.1', '18.2', '15.7', '12.7', '102', '18.8', '18.3', '23.1', '57.6', '13.5', '17.2', '97.1', '17', '26.3', '531.3', '22.5', '19.5', '28.5', '16.3', '130.5', '18.8', '125.7', '10', '10', '10', '30.7', '35.8', '47.6', '33.4', '496.2', '26.6', '10', '81.1', '10', '172.1', '47.4', '53.2', '372.9', '10', '131.3', '10', '143.7', '140.4', '87.6', '21.2', '10', '33', '358.3', '0', '31.8', '29.1', '12.3', '10', '21.4', '10', '309.4', '43.5', '33', '10.5', '32.5', '214.3', '10', '11.3', '33', '10', '33', '506.4', '243.8', '10', '10', '52', '14.2', '10', '40.6', '22.8', '51.6', '112.1', '84.2', '10', '30', '132.1', '27.9', '33', '532.6', '73.8', '33.7', '33', '10', '10', '33', '33', '10', '10', '104.2', '59', '10', '40.9', '33', '33', '33', '10', '33', '10', '10', '25.7', '33', '10', '176', '49.4', '56.4', '33', '35', '19.8', '9.3', '36.7', '39.1', '10', '41.3', '266', '548.5', '36.8', '572.2', '32.2', '82.9', '44.4', '598.8', '11.7', '30.6', '591.9', '58.8', '10.903', '0', '113.9', '44.1', '142', '10', '10', '10', '10', '40.9', '59.9', '35.3', '515.3', '10', '28.3', '121', '33', '10.6', '17.9', '24.8', '77.8', '47.6', '163.3', '34.3', '19.1', '14.1', '0', '37.1', '48.4', '30.4', '53.5', '33', '82.9', '67.2', '114.1', '33', '28.7', '61.8', '125', '144.6', '29.1', '58.9', '33', '33', '24', '620.2', '415', '28.3', '41.1', '10', '11.8', '16.2', '75.1', '413.5', '78.8', '26', '32.4', '33', '12.8', '33', '11.1', '12.1', '33', '10', '33', '10', '10', '38.2', '33', '33', '33', '15.4', '33', '19.3', '11.7', '10', '21.7', '10', '8.3', '10', '13.3', '13.3', '599.3', '457', '116.3', '17.3', '26.7', '143', '31.7', '53', '10', '17.7', '38.7', '180.9', '63.7', '17.2', '18', '532.2', '178.6', '70.5', '10.2', '35', '36.4', '29.1', '40.2', '10', '14', '38.8', '83.6', '19.7', '32.9', '41.2', '27.7', '19.6', '22.6', '33', '16.5', '10', '555.3', '30.5', '58.2', '69.1', '143.5', '10.6', '10', '8.6', '163.4', '78.3', '10', '108.4', '66.2', '22', '33', '33', '112.7', '50.9', '59.5', '27.2', '18.7', '33', '10', '36.9', '142.4', '10', '10', '33.5', '27.6', '10', '10', '10', '155.7', '364.9', '10', '614.6', '21.5', '33', '44.8', '10', '31.8', '38.9', '58.5', '23.9', '39.7', '129.9', '10', '38.1', '20.2', '54.1', '154.7', '33', '123.6', '20.6', '33', '219.7', '196.5', '33', '43.9', '16.1', '15.3', '58.7', '227.5', '13', '10', '10', '10', '55.8', '10', '10', '26.2', '10', '9.6', '33', '39.4', '33.3', '22.7', '35.1', '24.7', '32.6', '40.5', '11.5', '17.7', '19.4', '33', '29.2', '37.7', '19.7', '33', '15', '10', '89.7', '20.5', '69.7', '32.9', '20.7', '19.8', '24.1', '50', '10', '548.8', '16', '29', '144.5', '123.9', '54.7', '46.5', '67.8', '32.2', '83', '236.5', '33', '470.7', '16.5', '19.5', '127.3', '102.6', '18.6', '10', '10.3', '68.6', '13.8', '23.7', '33', '12.7', '74', '17.2', '58.3', '10', '14.3', '10', '59.1', '76.8', '114.2', '33', '36.1', '433.1', '10', '10', '430.7', '116', '25.3', '32.1', '496.5', '10', '25.8', '36.3', '107.1', '115.2', '193.8', '10', '21.8', '59', '20.8', '33', '33.4', '580.1', '18.4', '10', '127.7', '10', '0', '28.4', '33', '33', '10', '505.3', '10', '52.5', '536.4', '265.5', '24.3', '9.7', '10', '27.2', '627.8', '94.4', '109.3', '215.3', '224.7', '9.4', '51.7', '10', '10', '10', '71', '10', '37.5', '33', '431.7', '31.4', '20.7', '76.5', '10', '558', '578.4', '10', '10', '8.049', '10', '10', '21.4', '53.8', '429.2', '29.1', '28.8', '37.2', '53.7', '467.5', '104.5', '95.6', '26.2', '10', '116.9', '10.7', '11', '40.5', '212.9', '24.3', '10', '10', '32.1', '26.9', '11.6', '32.5', '34.4', '146.5', '46.8', '108.8', '25.5', '127.4', '33', '10', '96', '13.1', '23.8', '17.1', '21.2', '30.9', '18.1', '28.5', '33', '12.4', '464.7', '33', '10', '10', '274.8', '13.8', '10', '10', '170.8', '104.5', '2.549', '10', '8.32', '1.303', '534.7', '83.5', '148.6', '33', '10', '28.6', '25.9', '21.7', '12.7', '599.3', '10', '376.3', '33', '10', '10', '27.2', '8.5', '10.7', '20.9', '534.1', '87.5', '33', '33', '30.1', '10', '110.4', '162.8', '5', '13.3', '17', '25.6', '28', '28', '566.4', '590.6', '95.4', '10', '10', '15.8', '145.9', '33', '152', '27.5', '43.8', '26.5', '10', '23.4', '31.3', '18.9', '136.8', '22.5', '35.5', '10', '197.5', '35.5', '46.4', '96.7', '10.3', '135.6', '33', '98.1', '192', '64', '178.4', '33', '177', '69.1', '17.8', '32.9', '37.1', '21.4', '10', '43', '38.5', '49.9', '10', '105.3', '10', '199.5', '140.2', '79.6', '33', '177.8', '10.6', '24.9', '29', '35.9', '285.8', '10', '21.3', '10', '79.2', '68.4', '73.3', '33.3', '10', '24', '56.3', '27.8', '15.7', '9', '240.6', '561', '33', '72.1', '10', '49.8', '29.9', '40', '29.4', '42.4', '18.9', '36.6', '33', '70.8', '30', '46.2', '25.8', '43.5', '18.7', '44.7', '42.6', '48.2', '19.7', '56.3', '33', '103.8', '10', '157.1', '519', '27.2', '33', '10', '10', '529.3', '48.3', '24.7', '33', '33', '45.2', '23.6', '533.2', '28.9', '10', '25.6', '10', '33', '13.5', '10', '26.3', '59.3', '22.4', '57.5', '36.7', '10', '134', '10', '10', '20.1', '21.8', '575', '112.9', '147.8', '10', '26.5', '498.5', '115.7', '16.7', '47', '144.6', '29.1', '10', '33', '100', '10', '10', '36', '600.1', '33', '75.8', '17.9', '36.8', '15', '33.3', '52.9', '122.9', '26.9', '47.7', '9.6', '44.2', '41.5', '10', '33', '137.2', '30.2', '378.9', '44.5', '48.1', '55', '79.9', '55', '10', '38.5', '58.4', '32.8', '27.9', '38.6', '34.9', '148.4', '21.3', '38', '34', '19.4', '7.4', '45.2', '78.9', '14.9', '119.1', '10', '27.8', '23.8', '197.4', '27.2', '25.2', '30.7', '20.9', '33', '59.5', '15.4', '104.5', '10', '280.3', '10', '53.4', '32.7', '136.3', '33', '96.7', '182.4', '454', '65.4', '12.1', '10', '10', '33', '10', '10', '10', '27.4', '109.7', '574', '44.8', '17.7', '48.5', '61.5', '32.1', '19.7', '31.9', '10', '52.9', '16', '18.2', '14.3', '135.7', '38.5', '116.1', '37.8', '30', '122.4', '146.4', '29.3', '32.1', '15.5', '23.9', '31.2', '11.629', '10', '39.8', '12', '9.6', '22.5', '25', '43.8', '10', '9.856', '446.9', '18.824', '21.713', '76.3', '477.2', '33.1', '29.9', '20', '20.2', '68.6', '86.1', '82', '12.7', '33', '138.8', '48.4', '62.9', '15', '33', '33', '33', '58', '49.5', '33', '164.5', '44.5', '56.9', '33', '32.8', '33', '32.2', '29.5', '17.8', '33', '32.7', '33', '16.3', '0', '22.7', '47.7', '143.4', '13.7', '44.3', '33', '10', '567.6', '33', '98.5', '75', '49.2', '33', '23.1', '33', '55.4', '18.8', '84.7', '27.1', '14.1', '16.9', '18.6', '122.7', '20.2', '54.9', '31.6', '10', '53', '133.8', '44.6', '23.7', '13.9', '55.6', '21.9', '10', '17.3', '84.9', '17.5', '43.6', '78.7', '63.9', '10', '10', '42.1', '30.5', '27.6', '52.1', '79.2', '46.8', '17.3', '33', '127.9', '316.6', '10', '39.3', '10', '11.8', '65.5', '74.8', '33', '10', '18.4', '42.5', '33', '46.6', '20', '33', '10', '10', '-0.097', '-1.1', '5.706', '9.615', '3.634', '58.5', '56.9', '9.649', '554.8', '10', '10', '19.9', '377.2', '9.564', '63.8', '51', '616.3', '45.1', '96.5', '465', '43.9', '44.1', '130', '31.2', '10', '18.9', '45.4', '430.9', '40.4', '22.1', '28.6', '34.7', '34.4', '26.7', '27.1', '32.2', '25', '28.8', '27.2', '25.1', '30.8', '24.5', '36.7', '474.5', '10', '10', '6.6', '42.5', '57.5', '17.4', '10', '33', '107.9', '297', '10', '26.5', '15.9', '14.1', '10', '5', '632.2', '633.9', '18.9', '485.9', '22.6', '252.9', '10', '91', '10', '36.5', '18.9', '357.6', '13.6', '392.3', '73.4', '33', '59.3', '17.7', '25.9', '15.5', '33', '44.5', '119', '215.2', '109.5', '200.5', '9.9', '27.4', '33', '21.1', '18.5', '10', '120.5', '106.6', '63.2', '26.5', '66', '9.3', '597.5', '15.5', '289.4', '565', '54.4', '44.8', '10', '10', '624.6', '13.91', '13.739', '8.3', '10', '43.3', '10', '25.7', '95.4', '10', '24', '553.6', '37.7', '26.5', '20', '38', '33.3', '10.8', '10', '25.9', '27.8', '16.8', '37.6', '580.7', '10', '31.9', '184.2', '55.9', '10', '160.7', '11.2', '21.2', '10', '33', '86.1', '41.6', '10', '10', '27.7', '46.5', '28.2', '30.7', '33', '67.1', '141.6', '29.6', '26', '33', '13.7', '33', '10', '14.8', '28.4', '10', '33', '49.5', '21.2', '33', '129', '284.8', '21.5', '25', '33', '31.4', '11.8', '33', '14.3', '26.9', '118.9', '10', '11.5', '37.4', '17.8', '10', '20.6', '27', '63.6', '19.3', '26.3', '10', '15.7', '33', '28.6', '10', '30.7', '33', '30.2', '33', '16.4', '10', '18.7', '33', '10', '10', '26.3', '74', '33', '393.1', '25.6', '5.7', '28.9', '24.7', '10', '10', '14.1', '18.8', '52.3', '19.8', '17.2', '9.7', '33', '33', '33', '53.7', '34.1', '25.6', '33', '10', '198.4', '359.6', '33', '85.8', '22.2', '14.5', '47.9', '65', '379.6', '20.1', '33', '20.7', '40.6', '33', '10', '199.7', '58.3', '29.8', '23.8', '33', '59.8', '22', '11.7', '35.1', '19.6', '32.3', '21.3', '74.1', '10', '120.1', '10', '127.5', '45.2', '34.3', '10', '66', '10', '33.1', '20.8', '27.7', '20.6', '20.8', '130.2', '621.9', '223', '247.3', '33.2', '33', '29.3', '10', '43.6', '53', '498.5', '77.7', '99.3', '67', '105.7', '101.7', '96.6', '23.4', '38', '11.6', '10', '27.1', '28.3', '600.9', '184.8', '95.2', '50.1', '39.1', '16.4', '10', '10', '37.2', '53.7', '72.3', '33', '10', '10', '10', '521.2', '10', '10', '61', '10', '33', '33', '16', '9.9', '112.3', '102.2', '110.2', '151.1', '33', '10', '448.3', '34.5', '26.5', '67.8', '16.5', '33', '33', '28.6', '28.7', '22.6', '10', '37.3', '33', '33.1', '43.4', '245', '17.9', '27.4', '10', '50.4', '27.9', '33', '10.6', '29.8', '10', '306.8', '32.8', '33', '128.8', '24.8', '10', '43.7', '368.3', '32.8', '25.2', '43.6', '118.7', '165.7', '47.9', '34.9', '88.8', '14.6', '64.3', '13.9', '18.6', '10', '20.4', '27.5', '18.2', '25.3', '35.8', '27.7', '26.3', '10', '33', '33', '33', '10', '9.6', '33', '630.7', '10', '28.9', '16.2', '9.2', '59.2', '29.3', '34.4', '115.9', '12.2', '588.9', '33', '10', '33.9', '19.608', '33', '58.1', '10', '184.3', '616.8', '29.5', '406', '361.8', '9.3', '33', '33', '33', '33', '10', '33.7', '10', '32.8', '45.2', '33', '10', '457', '24.7', '565.1', '9.7', '106.3', '10', '23.6', '10', '591.8', '599.3', '33', '33', '38.2', '33', '55', '10', '12.9', '10', '120', '33', '58.8', '37.4', '572.8', '10', '10', '46.6', '58.7', '531.3', '33', '32.3', '25.3', '31.3', '19.7', '20.8', '33.3', '10', '32', '21.3', '33', '33', '17.3', '23.8', '3.599', '33', '168.6', '23', '39.7', '31.3', '29.8', '177.8', '221', '221', '189.9', '36.8', '37.7', '118.5', '11.7', '10', '33', '12', '6', '101.5', '80.9', '94.6', '74.9', '10', '33', '10', '33', '65.9', '151.8', '55.5', '24.6', '20.4', '29.3', '13.5', '35.7', '10', '70.6', '112.7', '33.8', '14.9', '156.8', '217.8', '9.9', '44.2', '194', '39.4', '36.3', '227.2', '33', '16.2', '15.6', '33', '10.7', '28.9', '10', '33', '38.1', '10', '69.7', '50.9', '10', '10', '12.6', '10', '10', '10', '419.7', '10', '34.7', '40.4', '33.6', '33', '16.8', '398.2', '19.5', '47.5', '28.2', '16.7', '33', '33', '28.5', '24', '22.6', '30.8', '51.9', '63', '30.5', '10', '10', '10', '20.3', '10', '126.9', '272', '631', '116.2', '193.5', '33.1', '25.9', '12.5', '33.2', '10', '10', '10', '31.6', '60.8', '616', '155', '523.1', '13.8', '34.1', '59.3', '56.1', '61.3', '204.2', '214.5', '28.1', '14.4', '10', '27.7', '21.6', '35.3', '95.2', '14.9', '26.4', '18.3', '60.8', '33', '31', '30.5', '14.6', '22.9', '287.7', '10', '426.9', '108', '10', '33', '137.2', '132.8', '146.7', '45.7', '71', '34', '62.9', '26.5', '387.9', '56.5', '194.5', '32.5', '49', '10', '110', '61.9', '63.3', '34.1', '58.1', '120.5', '29.1', '42.4', '33', '68.2', '33', '29.5', '19.7', '29.6', '33', '33', '32.7', '42.8', '31.2', '24.4', '33', '27.9', '33', '39.8', '33', '112.6', '18.7', '33', '18', '10', '39.3', '8.56', '8.53', '10', '15.2', '27.5', '10', '63.7', '37.9', '33', '95.7', '34.5', '96.6', '10', '49.7', '6.8', '19.2', '14.1', '13.6', '36.8', '14.3', '479.9', '34.2', '0', '13.1', '10', '171.8', '30.4', '554.5', '350.7', '43.5', '102.1', '25.3', '33', '33', '10', '27.1', '30.8', '30.2', '272', '44.3', '10', '33', '48.6', '20.7', '10', '18.1', '30.4', '26.5', '8.1', '616.9', '10', '34', '38.6', '17.4', '107.3', '117.6', '10', '10', '14.4', '117.9', '10', '381.3', '18.8', '45.8', '70.5', '33', '19.6', '34', '36', '112.2', '26.5', '239.5', '33.2', '30.3', '25.2', '10', '116.3', '38', '108.1', '32.4', '10', '17.1', '104', '569.4', '38.2', '33', '18.2', '411.4', '33', '33', '10', '10', '33', '50', '48.4', '77.9', '14.5', '15.9', '605.1', '12', '21.9', '23', '33', '33', '33', '30.6', '36.5', '21.3', '9.1', '33', '7.7', '445.1', '39.8', '33', '33', '33', '33', '14.9', '75.4', '19.4', '8.2', '15.5', '11', '16.6', '535.1', '592.3', '272.7', '54.6', '29.7', '596', '9.9', '32.5', '27.5', '33', '27.9', '36.2', '18.202', '5.317', '9.083', '23.2', '533.3', '36.4', '122.5', '19.9', '89.9', '10', '50.1', '29.5', '31.6', '60.8', '32.8', '37.7', '87.5', '7.9', '23.3', '10', '33', '14.2', '33', '10', '74.7', '25.7', '205.7', '23.5', '15', '27.7', '10', '28.2', '50.8', '30.4', '23.1', '33', '19.7', '19.5', '605.8', '12.9', '33', '33', '13.3', '25.7', '10.8', '34.8', '29.7', '20.2', '10', '12.8', '28.4', '33', '206.5', '33', '10', '6', '10', '73.3', '33', '26', '9.6', '124.2', '120.5', '9.4', '10', '10', '12.9', '10', '25.6', '37.5', '10', '562.5', '590.9', '10', '79.1', '33', '97.2', '10', '10', '164.2', '14.5', '22.4', '38', '10', '10', '33', '27.1', '33', '40.3', '579.8', '378', '33', '394.9', '10', '24.6', '24.2', '19.6', '36.8', '33', '17.4', '13.3', '100.1', '10.2', '15.5', '30.9', '9.8', '28.5', '166.2', '39.6', '33', '35.5', '99.5', '34.7', '26.3', '39.5', '26.3', '541.3', '207.4', '543.1', '37.6', '28', '10.8', '33', '583.9', '10', '67.7', '185.4', '28.1', '9.7', '64.7', '26.9', '561.5', '26.1', '18.5', '67.7', '15.1', '90.8', '36', '206.4', '10', '48.8', '49', '57.9', '177.7', '10', '27.6', '52.1', '32.2', '600.5', '70.1', '20.5', '28', '10', '33', '26.2', '22.5', '33', '26', '258', '25.3', '33', '36.7', '192.2', '55.3', '19.8', '33', '76', '36.5', '25.5', '17.3', '33.7', '16.3', '37.1', '95.2', '33', '22.8', '27.8', '24.6', '10', '9.7', '33', '35.6', '10', '11.6', '18.4', '42.7', '9', '40.3', '25.9', '43.5', '33', '23.9', '32.3', '11.2', '34.1', '30.3', '11.4', '25.9', '33', '39.8', '60', '12.1', '10', '631.3', '650', '75.9', '33', '0', '28.2', '23.5', '33', '17.5', '55.3', '25.5', '33', '19.9', '28.8', '28.8', '108.6', '199.5', '13.6', '46', '10', '8.6', '23.2', '10', '33', '10', '48.6', '9.5', '226.6', '40.8', '34', '27.9', '566.6', '576.7', '87.7', '25.7', '14.6', '413.5', '29', '10', '151', '25.6', '33', '33', '33', '33', '158.8', '19.8', '30.3', '166.8', '442.7', '33', '37.6', '33', '50', '33', '471.4', '514.1', '19.2', '67.6', '41.4', '50.6', '33', '20.5', '33', '81.3', '33', '10', '11', '13.6', '43.3', '144.7', '34.1', '505.6', '33', '33', '33', '10', '33', '33', '597.9', '121.7', '33', '33', '33', '33', '179.2', '31', '16.9', '19', '43.6', '42.4', '33', '39.1', '19.8', '25.2', '8.7', '33', '14.7', '33', '563.6', '12.3', '22.9', '24.4', '12.3', '142.1', '520.9', '33', '10', '100.1', '146.8', '68', '68.9', '18.6', '10', '50.6', '33', '595.6', '76', '4.972', '151.9', '14', '48.7', '39.1', '6.7', '33', '12.2', '33', '26.4', '33', '52.1', '79.4', '10', '33', '40', '33', '11.629', '15', '33', '34.3', '13.6', '33', '37.7', '33', '10', '13.1', '27.9', '51', '26.9', '33', '33', '33', '637.5', '628.2', '46.3', '643.4', '645.4', '25.9', '16.6', '33', '14', '61.2', '60', '29.6', '33', '19.5', '33', '15.5', '17.7', '32.7', '34.9', '63.5', '37.8', '69.7', '39.7', '37.7', '53.3', '40.8', '13.2', '40', '32.7', '10', '52', '0', '54.5', '16.6', '33', '41.3', '35.8', '43.7', '46.1', '33', '47.1', '27', '15.7', '49.2', '10.7', '8.8', '128', '116.6', '60.3', '5', '161.8', '33', '47.2', '238.7', '40.9', '20', '518.7', '58.6', '33', '33', '5', '264.1', '29.4', '55.6', '33', '10', '55.2', '155.8', '591.3', '33', '24.7', '31', '597.1', '41.5', '53.8', '33.3', '120.7', '31.5', '21.3', '560.6', '12.4', '10', '33', '23.9', '23.9', '16', '153.4', '14', '49.4', '10', '35.6', '27.3', '33', '49.2', '26.9', '235', '33', '38.1', '36.6', '48.1', '391', '148.2', '25.9', '15.9', '25', '16.3', '33', '56.2', '33', '33', '114.4', '34.6', '545.4', '10', '578.4', '37', '66.4', '212.4', '33', '74', '26.5', '33', '33', '33', '33', '33', '21.9', '54.4', '10.5', '29.6', '55.6', '33', '219.2', '33', '43', '15.2', '601.4', '13.9', '10', '29.1', '33', '32.4', '26.9', '32', '10', '33.3', '33', '57.2', '594.3', '33', '34.9', '33', '212.6', '46.9', '62.2', '33', '33', '21.9', '633.5', '36.3', '39.8', '159.8', '17.3', '26.5', '57.6', '66.6', '56.9', '42.2', '58.9', '176.5', '504.2', '21.3', '81.2', '33', '33', '24.5', '51.5', '47.2', '65.2', '55.7', '22.3', '54.4', '66.8', '10', '10', '57.8', '10', '10', '11.7', '21.1', '33', '33', '33', '61.1', '33', '73.5', '33', '10', '28.3', '118.2', '36.3', '10.7', '22.3', '110.5', '28.2', '21.7', '14.2', '17.2', '22.4', '19.6', '14.2', '14.8', '147.4', '418.7', '32.4', '39.3', '350.1', '75.8', '4.622', '33', '33', '10', '31.5', '9.1', '40.9', '33', '10', '10', '570.4', '20.7', '33', '36.9', '22.1', '16.7', '8.1', '350', '33', '217', '8.2', '30.1', '586.7', '35.1', '182.3', '10', '19.2', '33', '231.8', '10', '33', '639.5', '87', '39', '33', '41.5', '10', '107.5', '79.4', '48.4', '38.2', '90.6', '10', '319.4', '354.4', '66.6', '30.2', '33', '10', '622.9', '10', '100', '27.7', '90', '21.2', '37.5', '32.8', '33', '93.4', '267.4', '38.7', '37.9', '637.7', '32.2', '16.4', '17.8', '10.5', '164.6', '20.9', '11.5', '10', '33', '51.5', '23.1', '20.2', '33', '10', '26.1', '94.1', '27.6', '20.1', '17.4', '20.7', '27.4', '10', '30.4', '16.9', '24.1', '530.5', '30.3', '24.3', '22.1', '24.8', '20.2', '196', '9.2', '28.8', '35', '15', '42.7', '32.1', '97', '33', '10', '23.4', '16', '33', '33', '33', '76.5', '116.7', '117.5', '20.5', '33', '35.9', '12', '10', '14', '576.7', '11.2', '0', '186.5', '605.2', '20.2', '33', '29.4', '11.4', '33.4', '31.2', '19.7', '34.8', '30.7', '27.8', '12.2', '89.4', '25.9', '100', '10', '33', '51.7', '18.6', '33', '29.8', '64.3', '17.4', '10', '41.8', '10', '31.5', '51.8', '29.4', '62.4', '11', '51.5', '85.2', '28.5', '33', '42', '26.4', '33', '10', '33', '23.7', '33', '10', '103.9', '69.8', '47.9', '33', '131.9', '32.6', '27.6', '27.9', '25', '33', '14.2', '10', '566.2', '38.3', '10', '31.4', '10', '70.5', '13.7', '33', '108.1', '386', '32.3', '52.4', '33', '33', '10', '33', '33', '10', '10', '33', '64.1', '139.4', '11.6', '10', '10', '33', '33', '35.3', '54.4', '33', '33', '10', '49.4', '333.3', '11.3', '10', '21.1', '19.6', '10.1', '56.4', '12.5', '33', '11.4', '34.1', '13.6', '33', '358', '22.4', '12.8', '33', '11.6', '30.8', '32.2', '28.5', '12.8', '38.5', '10', '234.8', '65.4', '16.2', '92.4', '10', '53.7', '435.6', '45.6', '33', '33', '30.2', '10.7', '33', '48.4', '13.9', '59.1', '33', '33', '33', '16.8', '104.4', '33', '528.6', '33', '10', '74.8', '10', '12.6', '10', '35', '15.9', '33', '33', '127.9', '540.1', '10', '10', '30.1', '134.6', '33', '463', '83.4', '33', '18.7', '20.5', '28', '33', '33', '14.1', '0', '25.6', '73.1', '21', '33', '22.3', '233.5', '41.9', '33', '88.3', '119.6', '33', '42.3', '23', '594.9', '12', '587.7', '602.2', '612.4', '585.8', '540.4', '224.5', '17.3', '37.1', '34', '12.2', '10', '18.8', '9.9', '16.8', '33', '144.4', '33', '12.4', '10', '10', '10', '75', '10', '599.8', '532.6', '23', '151', '10', '7.7', '8.3', '180.6', '33', '617.2', '112.2', '216.9', '4.688', '45.2', '52.7', '42.6', '27.1', '45.4', '10', '59.9', '33', '42.8', '10', '33', '186.4', '33', '44.8', '33', '33', '430.8', '33', '33', '24.4', '33', '16.7', '37.4', '33', '114.6', '27', '33', '9.1', '197.8', '33', '33', '12.3', '14.8', '20.2', '10', '104.8', '33', '16.1', '32.2', '8.4', '14.4', '30.1', '147.9', '18.6', '14.4', '27.6', '222.7', '28.4', '20.2', '27.6', '33', '19.7', '33', '28.6', '224.8', '159.3', '33', '33', '199.4', '10', '637.7', '50.8', '74.4', '38.7', '33', '52.4', '68.8', '618.3', '33', '14', '33', '19.9', '33', '12.9', '104.5', '36.2', '33', '33', '33', '33', '19.8', '33', '33', '10', '33', '21.5', '33', '600', '37.9', '15.4', '33', '33', '33', '41.9', '10', '21.1', '24.5', '10', '10', '27.8', '33', '61.5', '21.9', '10', '20.5', '369.9', '19.7', '136.9', '33', '23.4', '10', '18.1', '33', '33', '33', '33', '33', '33', '33', '33', '33', '33', '33', '33', '33', '33', '33', '33', '33', '100', '33', '99.1', '14.9', '33', '33', '15.5', '33', '27.7', '10', '33', '16', '33', '412.5', '20', '10', '28', '20.3', '10', '33', '33', '33', '10', '33', '255.1', '63.4', '33', '14.8', '228.2', '33', '141.9', '10', '33.1', '33', '33', '137.3', '10', '22', '33', '30.1', '43.5', '33', '24', '33', '33', '33', '33', '33', '33', '389.5', '42.8', '7.8', '33', '38.4', '93.1', '37.7', '14.7', '33', '111.8', '355.9', '109.1', '63.6', '10', '34', '35.4', '10.1', '76.5', '33', '10', '14.2', '33', '18.2', '20.6', '574.3', '170', '33', '11.1', '10', '27.9', '100', '55.1', '10', '33', '13.8', '20', '607.2', '42.6', '33', '68.5', '8', '36.5', '141.3', '33', '10.6', '33', '40.8', '33', '33', '33', '33', '33', '532.1', '57.4', '19.2', '33', '31.9', '33', '10', '242.4', '33', '33', '10', '12.1', '7.6', '610.8', '42.7', '10', '43.3', '124.2', '33', '21.1', '33', '12.3', '8', '33', '32.2', '12.8', '115.5', '10', '33', '58.7', '33', '33', '33', '33', '151.1', '33', '29.5', '33', '134.1', '33', '31.3', '33', '33', '103.9', '33', '33', '10', '32.8', '16.5', '29.3', '10', '477.2', '164.4', '33', '33', '28.2', '10', '33', '33', '20.4', '33', '33', '10', '34.3', '10', '10', '29', '33', '10', '33', '33', '33', '33', '33', '33', '10', '10', '33', '33', '53.1', '52.1', '33', '33', '33', '33', '41.3', '32.6', '8.4', '33', '33', '58.3', '61.8', '110.6', '42.7', '33', '55', '56.2', '110.9', '10', '10', '33', '49.5', '592.6', '27.5', '33', '196.9', '33', '29.3', '150.7', '639.2', '74.6', '33', '10', '44', '33', '33', '33', '33', '33', '33', '33', '500', '33', '26', '33', '33', '10', '560.7', '33', '33', '53.9', '76.5', '101', '29.1', '23.7', '33', '33', '604.9', '33', '32.1', '33', '108.2', '84', '242.8', '10', '19.6', '10', '41.5', '33', '33', '10', '33', '10', '59.2', '33', '33', '20.4', '0', '33', '149', '33', '200.1', '33', '33', '26.3', '33', '33', '33', '33', '33', '33', '33', '33', '33', '33', '33', '535.2', '10', '28.8', '587.3', '33', '33', '20', '10', '33', '10', '33', '33', '468.5', '470.6', '35.6', '33', '33', '33', '33', '10', '33', '33', '33', '33', '82.6', '33', '33', '241.1', '10', '33', '176.5', '18.3', '33', '33', '33', '33', '356.9', '110.1', '61.1', '33', '33', '33', '33', '33', '1.559', '10', '48', '33', '74.3', '33', '33', '33', '10', '148.9', '33', '33', '41.2', '33', '550.2', '33', '43.7', '33', '33', '33', '33', '45.7', '33', '10', '10', '33', '10', '99.8', '42.3', '27.9', '109.8', '75.4', '10', '10', '10', '33', '33', '33', '10', '33', '10', '10', '33', '595.7', '33', '10', '10', '50.7', '33', '574.9', '10', '10', '32.6', '10', '33', '10', '580.2', '125.8', '43.7', '187.2', '33', '33', '10', '33', '32.5', '10', '10', '10', '33', '10', '20', '33', '33', '10', '33', '10', '33', '98.2', '33', '600', '39', '10', '33', '33', '55', '156.8', '181', '119.5', '72.7', '50.3', '33', '10', '10', '33', '33', '31.8', '33', '192.6', '484.7', '33', '33', '33', '33', '10', '33', '33', '10', '224.3', '33', '25.1', '146.7', '33', '33', '33', '33', '234.8', '10', '101.9', '33', '33', '10', '10', '61.9', '33', '33', '33', '10', '10', '10', '10', '606.4', '10', '627.1', '10', '33', '33', '33', '33', '33', '33', '33', '33', '24', '33', '117.1', '116.8', '33', '10', '44', '337.5', '10', '33', '33', '22', '590.8', '33', '500', '10', '3.9', '33', '33', '19.9', '116.2', '33', '33', '33', '33', '33', '33', '33', '301.8', '33', '33', '33', '33', '14', '10', '369.4', '33', '33', '9', '33', '33', '33', '552.8', '84.2', '33', '33', '33', '33', '80', '33', '33', '33', '33', '33', '33', '109.2', '10', '33', '33', '191.6', '33', '33', '33', '33', '33', '33', '33', '591.6', '33', '33', '33', '33', '33', '52.7', '38.8', '10', '54.5', '66.6', '33', '10', '600', '355.8', '600', '49.2', '32.7', '138.9', '33', '90.5', '33', '33', '33', '50.9', '10', '10', '33', '10', '63.4', '33', '69.3', '33', '33', '10', '33', '33', '33', '32.5', '33', '44.8', '226.5', '10', '29.2', '10', '107.1', '33', '33', '33', '31.4', '33', '33', '99.5', '115.4', '140.3', '33', '10', '22.2', '52.2', '33', '33', '33', '28.3', '110.7', '33', '10', '651.2', '33', '33', '33', '33', '23.007', '10', '276.2', '70.6', '33', '33', '10', '10', '28', '101.3', '10', '33', '33', '33', '33', '33', '274.4', '100.7', '84.1', '33', '33', '611.9', '10', '33', '33', '10', '33', '33', '33', '33', '10', '22.4', '48.4', '10', '102.1', '33', '33', '33', '33', '10', '33', '552.6', '10', '88.4', '10', '10', '10', '33', '36.2', '33', '33', '98.9', '33', '448.7', '34.5', '10', '33', '10', '33', '84', '10', '602.6', '33', '10', '126.7', '33', '33', '33', '33', '33', '113.8', '115.6', '45', '33', '10', '69.1', '33', '33', '33', '33', '60.4', '10', '45.9', '33', '5', '70.6', '33', '15', '33', '183.6', '33', '33', '33', '23.3', '10', '10', '27.2', '10', '10', '104.6', '50', '33', '33', '33', '33', '33', '33', '33', '432.3', '33', '107.5', '5', '5', '33', '33', '33', '100.8', '33', '33', '10', '33', '41.6', '33', '10', '33', '33', '33', '108.3', '5', '33', '34.9', '217.9', '33', '59.1', '10', '29', '10', '33', '10', '48.8', '33', '33', '33', '33', '196', '274.2', '33', '33', '33', '33', '106.3', '33', '10', '10', '33', '57', '36', '70', '33.9', '10.9', '36.2', '332.7', '10', '14', '33', '536.3', '10', '10', '33', '33', '10', '33', '10', '10', '33', '10', '164.1', '572.7', '57.4', '33', '33', '33', '28.2', '10', '33', '33', '33', '10', '10', '10', '10', '10', '7.5', '33', '10', '19', '33', '33', '64.2', '24.7', '28.5', '33', '33', '19.9', '33', '574.4', '33', '102.5', '26.4', '33', '33', '14.4', '256.1', '33', '33', '50.7', '33', '33', '33', '33', '33', '33', '33', '10', '58.6', '12.6', '10', '33', '33', '10', '33', '33', '550', '10', '10', '55.3', '46.5', '33', '10', '33', '25.9', '33', '33', '33', '10', '139.1', '33', '394', '33', '33', '609.6', '33', '33', '33', '22.8', '33', '33', '10', '10', '198.7', '10', '624.7', '365.6', '33', '421.1', '10', '10', '10', '10', '10', '50.7', '33', '33', '33', '33', '30', '74', '33', '33', '10', '33', '10', '10', '33', '41', '10', '10', '10', '253.8', '33', '106.8', '70', '10', '416', '100', '6.792', '10', '10', '10', '71.3', '273.9', '223.9', '105.6', '33', '33', '10', '33', '10', '617.3', '33', '33', '33', '33', '143', '24', '167.3', '10', '58', '56.2', '22', '47.9', '10', '578.9', '35.6', '33', '133.6', '153.8', '160', '10', '33', '10', '10', '133.6', '33', '112', '45.2', '182.8', '33', '33', '600', '33', '45', '215.6', '44.9', '151.9', '621.3', '10', '10', '23.8', '10', '116.8', '33', '176.4', '10', '68.5', '86', '33', '10', '33', '10', '17.9', '161', '362.7', '123.1', '33', '33', '33', '52.1', '33', '33', '33', '54.4', '33', '33', '23.4', '33', '24', '33', '393.5', '586', '581.2', '42.6', '33', '595.7', '33', '80.5', '86.5', '33', '33', '33', '33', '33', '89.4', '33', '33', '33', '33', '33', '33', '33', '33', '33', '33', '33', '33', '132.5', '177.5', '69.3', '10', '10', '33', '33', '33', '33', '10', '10', '10', '10', '103.2', '20', '207', '33', '33', '182.1', '33', '45.1', '613.8', '179.3', '59.3', '33', '33', '10', '10', '588.4', '33', '33', '10', '10', '33', '95.6', '46.2', '10', '10', '100.6', '33', '30.3', '33', '33', '33', '10', '53.2', '34.8', '23.4', '33', '44.4', '33', '10', '33', '10', '33', '33', '72.4', '10', '10', '159.3', '10', '10', '54.8', '10', '33', '33', '33', '10', '10', '159.9', '33', '642.8', '49', '611', '610.1', '37.3', '42', '33', '10', '33', '33', '57.6', '26.7', '525.9', '525.3', '129.1', '10', '678.9', '56.8', '33', '33', '218.9', '10', '10', '48.6', '33', '33', '33', '235.6', '66.2', '10', '33', '10', '184.9', '291.4', '44.7', '33', '62.8', '33', '32', '157.5', '33', '33', '33', '10', '9', '33', '44.8', '33', '10', '10', '10', '227.8', '10', '41.8', '10', '10', '10', '197', '10', '33', '33', '10', '537.2', '530.1', '178.8', '10', '55.7', '10', '9', '33', '10', '164.6', '67.7', '110.6', '10', '62.9', '33', '10', '46.1', '33', '33', '10', '33', '33', '498.6', '33', '10', '33', '67.3', '33', '10', '53', '590.7', '607.8', '33', '33', '10', '121.5', '34', '33', '33', '33', '10', '10', '33.7', '49.4', '33', '62.5', '61.4', '33', '33', '33', '154.1', '586.1', '174.1', '33', '279.9', '10', '33', '10', '24', '33', '81', '657.8', '52.9', '10', '33', '60.1', '47', '10', '33', '33', '33', '33', '33', '43.7', '398.5', '10', '47.7', '33', '113.2', '86.6', '33', '502.4', '139.5', '45.3', '10', '147.5', '10', '57.4', '63.2', '33', '35', '10', '10', '10', '44.7', '33', '10', '55.1', '112.7', '10', '10', '26', '129.5', '144.8', '33', '33', '33', '10', '110.2', '33', '10', '10', '10', '50.4', '46.9', '33', '10', '72.1', '33.2', '33', '43.5', '51.1', '33', '33', '33', '33', '68.7', '10', '10', '10', '33', '10', '33', '33', '10', '33', '33', '57.6', '10', '10', '116', '10', '55', '440.5', '33', '20.3', '57', '70.1', '54.6', '33', '33', '66.2', '33', '33', '219.5', '10', '33', '219.8', '151.7', '33', '50', '230.1', '38.1', '27', '33', '10', '37.3', '191.8', '10', '10', '41.3', '141', '10', '10', '187.2', '91', '10', '33', '83', '87', '10', '100', '52.9', '75.5', '67.4', '147.4', '33', '9.2', '33', '207.3', '151.6', '30.1', '10', '33', '75.1', '10', '10', '33', '33', '33', '226.6', '33', '33', '33', '33', '136.2', '10', '33', '68.7', '33', '33', '33', '623.9', '10', '10', '33', '33', '33', '152.3', '33', '260.6', '33', '33', '60.7', '33', '33', '153.1', '33', '10', '33', '33', '10', '33', '263.2', '33', '33', '33', '33', '33', '33', '33', '115.1', '149.1', '10', '10', '10', '16.7', '33', '33', '88.5', '10', '33', '33', '33', '223.2', '47.9', '33', '126.7', '33', '33', '33', '33', '33', '10', '10', '33', '33', '33', '649.4', '222.5', '33', '10', '463.7', '138.4', '139.9', '41.6', '33', '33', '33', '518.4', '78.2', '10', '109.8', '33', '144.3', '10', '33', '226', '33', '33', '33', '119.2', '33', '440.6', '42.6', '125.4', '21', '33', '53', '33', '114.1', '33', '33', '33', '10', '640', '17', '10', '33', '41.3', '436.9', '230', '10', '67.2', '101', '33', '236.7', '23.3', '33', '33', '10', '10', '33', '33', '98.3', '33', '55.5', '213', '407.4', '33', '90.1', '70.2', '33', '33', '33', '10', '10', '33', '33', '33', '101.6', '33', '33', '33', '42.7', '33', '36.1', '33', '33', '10', '10', '10', '33', '10', '33', '33', '110.8', '33', '33', '10', '33', '110.9', '10', '33', '602.7', '33', '49.6', '54.7', '56.6', '587', '33', '10', '114.2', '88.5', '41.3', '33', '33', '10', '10', '33', '574.7', '33', '621.4', '33', '33', '25', '10', '15', '10', '33', '10', '10', '10', '33', '10', '150', '87.2', '38.4', '150', '66.4', '10', '33', '33', '91.8', '565.7', '10', '621.2', '58.3', '42.8', '164.2', '31.9', '10.9', '33', '33', '95.7', '237.1', '5', '52.5', '172.6', '33', '10', '52.4', '10', '70.9', '33', '33', '33', '10', '20', '62.7', '33', '39.2', '10', '83.1', '138', '10', '10', '10', '102.7', '34.7', '33', '2.934', '73.7', '59.2', '69.4', '27', '81.1', '127.3', '33', '282.5', '33', '10', '40.8', '33', '33', '242.6', '33', '169.3', '10', '10', '161', '33', '33', '33', '10', '10', '54.6', '33', '33', '10', '70', '75.3', '33', '33', '208.5', '33', '230.2', '68.7', '33', '95.9', '103', '33', '33', '590.4', '33', '189.3', '10', '10', '10', '40.014', '33', '430.6', '33', '116.5', '40.5', '29', '567', '10', '51.5', '33', '10', '70', '33', '590.9', '39', '33', '33', '89.5', '560.8', '175', '69.4', '104.1', '33', '33', '33', '33', '25', '33', '10', '10', '33', '6.037', '95.4', '251.2', '88.1', '57.8', '33', '10', '33', '33', '33', '33', '33', '33', '33', '79.7', '33', '33', '33', '101.4', '33', '17', '155', '20', '65.5', '33', '24.2', '10', '33', '33', '263.4', '62.6', '97.1', '33', '33', '33', '10', '196.4', '10', '10', '10', '117.9', '33', '91.2', '33', '33', '56.7', '13', '33', '91.5', '218', '196.8', '33', '10', '48.8', '60', '102.8', '45.6', '430.5', '33', '33', '25', '33', '33', '33', '33', '33', '10', '26', '33', '17', '33', '33', '33', '60.6', '64.4', '33', '10', '33', '10', '76.7', '148.9', '57.7', '33', '183.8', '33', '33', '33', '30', '202.2', '13.73', '13.906', '6', '33', '189', '42.7', '33', '33', '83.3', '33', '10', '33', '33', '33', '158.7', '10', '33', '33', '33', '33', '10', '33', '228.4', '25.9', '10', '33', '22', '211', '10', '10', '33', '50.6', '10', '10', '47.5', '45.3', '54.8', '33', '33', '33', '101.2', '10', '33', '33', '10', '33', '33', '33', '33', '33', '33', '33', '33', '126.4', '10', '89.4', '33', '33', '10', '128.1', '33', '547.9', '10', '33', '10', '33', '19.3', '10', '33', '34.3', '10', '448.9', '66', '49.9', '40.9', '137.7', '33', '58.3', '599.9', '10', '202.8', '558.2', '33', '157.5', '33', '84.6', '66.3', '10', '33', '10', '10', '33', '10', '10', '10', '16.2', '50.9', '33', '33', '10', '56', '10', '33', '10', '10', '10', '10', '26.6', '33', '10', '65.5', '33', '69.9', '33', '33', '33', '33', '33', '33', '371.4', '10', '582.3', '33', '33', '33', '33', '33', '33', '10', '33', '1', '33', '10', '33', '61.7', '36', '183.4', '10', '33', '453.2', '535', '33', '33', '33', '72.4', '632.8', '33', '39.5', '33', '33', '33', '33', '206.9', '33', '33', '220.8', '10', '33', '10', '10', '46.8', '42.9', '46.3', '10', '33', '33', '33', '574.9', '61.1', '193.9', '10', '83.4', '7.3', '33', '10', '33', '33', '50.3', '10', '226.6', '33', '513.6', '141.4', '521.5', '33', '33', '10', '20', '54.7', '33', '33', '99.4', '33', '33', '33', '33', '132.2', '65', '33', '538', '10', '33', '675', '671.9', '20', '141.9', '10', '10', '33', '10', '10', '33', '33', '33', '62', '10', '10', '10', '10', '10', '4.803', '10', '10', '551.9', '95.5', '102.7', '10', '168.7', '10', '33', '126.5', '10', '608.1', '555.8', '104.9', '187', '150', '38', '153.2', '207.6', '10', '33', '201.2', '54.5', '33', '65.4', '539.3', '56.6', '86.3', '10', '33', '220.7', '33', '346.5', '33', '608.5', '609.8', '105.2', '10', '33', '33', '124.6', '10', '10', '140.5', '400.6', '55', '26', '33', '515.8', '33', '33', '12', '31.3', '11.5', '502', '33', '10', '383.1', '225', '107.7', '33', '33', '10', '79.5', '10', '547.6', '10', '10', '33', '33', '33', '0', '10', '10', '76.3', '62.3', '33', '33', '33', '33', '33', '33', '33', '10', '33', '10', '33', '10', '86.1', '33', '33', '58.8', '33', '33', '33', '33', '33', '33', '472.6', '485.3', '33', '33', '76.8', '33', '33', '10', '63', '604.6', '196.5', '33', '89.5', '33', '10', '120.2', '222.6', '10', '10', '10', '33', '115', '10', '10', '112.2', '33', '65.3', '33', '10', '496.1', '10', '10', '52.4', '240.6', '10', '10', '33', '33', '31', '33', '10', '33', '359.6', '104.7', '43.6', '66.6', '10', '251.9', '10', '10', '10', '217.9', '33', '33', '10', '33', '33', '141.4', '33', '47.1', '33', '140.1', '52.4', '33', '80.1', '10', '69.1', '10', '33', '10', '10', '10', '10', '37.3', '33', '10', '45.6', '10', '10', '10', '10', '33', '10', '191.2', '33', '35', '101.3', '33', '114.8', '10', '140.5', '171.2', '394.8', '33', '648.5', '33', '33', '45.8', '33', '33', '10', '10', '10', '357.7', '33', '33', '33', '68.3', '10', '33', '62.4', '174.3', '33', '10', '70.4', '10', '10', '118.2', '10', '33', '548.9', '99.6', '88.1', '16', '10', '33', '33', '588.3', '33', '33', '587.5', '687.6', '363.8', '52.7', '10', '32.9', '229.3', '33', '10', '65.6', '34.8', '33', '33', '62.8', '10', '115.4', '10', '33', '33', '109.5', '211.2', '62.9', '228', '33', '10', '156.5', '33', '10', '10', '125', '10', '56', '142', '22.9', '33', '33', '34', '33', '33', '33', '10', '110.3', '23', '33', '10', '87.3', '10', '33', '10', '33', '100', '488.6', '33', '116.5', '28.8', '137.5', '186.4', '180.5', '10', '10', '291.8', '10', '10', '10', '151.8', '82.4', '33', '142.7', '33', '10', '38', '10', '10', '158.2', '33', '388', '10', '37.9', '51.1', '33', '50', '33', '49.6', '10', '33', '33', '34.9', '108.4', '33', '33', '33', '150.9', '24.5', '133.8', '33', '33', '20', '10', '33', '90.5', '33', '17', '14.4', '33', '63', '53.1', '10', '33', '84', '33', '33', '33', '628.2', '33', '54.5', '200', '65.3', '33', '33', '33', '33', '33', '33', '33', '33', '33', '30', '33', '33', '33', '33', '33', '33', '33', '33', '33', '33', '33', '33', '33', '33', '33', '33', '33', '33', '33', '33', '33', '33', '33', '33', '33', '33', '57.8', '63.8', '33', '33', '33', '33', '33', '33', '33', '33', '33', '33', '10', '33', '33', '33', '50.4', '33', '33', '117.5', '58.2', '22.5', '10', '43.2', '33', '59.8', '101.4', '33', '30', '31', '33', '33', '10', '10', '33', '33', '150', '113.5', '52.6', '10', '33', '10', '10', '33', '10', '33', '628.2', '648.7', '33', '33', '11', '33', '68.8', '33', '33', '386.7', '25', '33', '33', '105.9', '33', '140.4', '61.7', '33', '644.8', '10', '33', '33', '33', '33', '220.7', '33', '33', '33', '10', '33', '33', '33', '10', '83.6', '33', '53.4', '10', '91.9', '33', '103', '33', '10', '10', '39.1', '258', '33', '60', '87.3', '48.8', '67.7', '10', '74.6', '44', '62.6', '33', '28', '33', '57.7', '10', '38.2', '93.2', '50', '33', '74.7', '33', '64.4', '10', '54.6', '10', '77.8', '10', '86.9', '33', '16', '10', '77.4', '117.2', '10', '33', '99.9', '33', '54.4', '33', '63.6', '426.6', '15.7', '33', '43.6', '10', '36', '33', '147.8', '10', '10', '168.6', '521', '210.1', '33', '33', '20', '10', '10', '33', '33', '75.3', '29.6', '10', '33', '59.9', '35', '33', '33', '33', '10', '202.5', '392', '10', '60.5', '33', '10', '10', '10', '65.3', '51.798', '10', '33', '10', '79.8', '33', '10', '89.5', '10', '231', '33', '33', '33', '109.4', '33', '37', '48.9', '115', '103.1', '95.5', '33', '33', '33', '33', '33', '50', '33', '10', '33', '33', '10', '56.5', '63.8', '33', '33', '10', '33', '33', '64.9', '11', '10', '26', '33', '17.2', '10', '33', '33', '10', '12', '20', '17', '10', '10', '38.8', '127.8', '33', '33', '50.8', '10', '33', '33', '86', '10', '351.8', '10', '47.9', '33', '10', '10', '33', '10', '33', '10', '42', '67.9', '10', '33', '176.5', '133', '33', '33', '368.7', '33', '10', '567.2', '33', '260.9', '33', '143.1', '406.5', '33', '48.5', '14', '10', '33', '178.1', '83', '10', '10', '10', '33', '33', '33', '77.5', '32.1', '604', '33', '18', '33', '33', '10', '10', '88.8', '33', '146.6', '33', '33', '50.1', '70.3', '35.4', '33', '33', '33', '33', '33', '33', '33', '33', '33', '33', '33', '33', '5', '73.7', '24', '10', '10', '33', '33', '273.9', '103.5', '28', '33', '210.7', '33', '290', '184.6', '33', '33', '33', '33', '33', '33', '62', '50.9', '10', '33', '10', '10', '10', '33', '33', '226.6', '33', '595.6', '33', '33', '33', '156.6', '10', '131.3', '10', '564', '33', '33', '33', '33', '33', '14', '33', '96.4', '33', '10', '10', '90.5', '33', '33', '51.2', '112.6', '145.3', '33', '82', '33', '33', '29.7', '33', '38', '586.8', '10', '33', '33', '10', '10', '36.5', '24.5', '10', '33', '65.6', '10', '10', '10', '10', '10', '10', '33', '10', '10', '10', '161.1', '33', '33', '608.1', '33', '33', '619.3', '33', '10', '10', '10', '10', '10', '10', '131.8', '33', '62', '10', '33', '178.6', '126', '631.1', '33', '33', '10', '33', '33', '106.9', '33', '42.9', '10', '284.5', '10', '10', '48.5', '33', '33', '33', '520.8', '201.2', '20', '37', '33', '67.2', '10', '47.7', '33', '33', '10', '33', '28.7', '18', '33', '33', '622.5', '10', '212.4', '33', '10', '33', '189.7', '135.9', '127.7', '33', '33', '564.1', '33', '10', '17.8', '10', '10', '33', '33', '543.4', '10', '10', '10', '10', '10', '10', '33', '33', '10', '10', '106.5', '10', '10', '33', '84.9', '10', '10', '58.5', '100.5', '123.8', '10', '33', '33', '10', '10', '111.3', '10', '26.1', '112.7', '33', '6.981', '156.3', '33', '10', '10', '10', '33', '14', '33', '33', '33', '74.2', '35.4', '16', '57.2', '153.2', '10', '160.6', '563', '33', '10', '10', '138.1', '10', '33', '665.8', '21', '10', '33', '129.3', '10', '10', '614.2', '638.5', '10', '59.1', '33', '599.4', '10', '11', '10', '33', '33', '43.6', '10', '33', '10', '10', '41.1', '10', '80.2', '55.3', '10', '10', '115.5', '33', '88', '33', '33', '10', '576.4', '33', '33', '108.9', '33', '131.1', '667.1', '355.5', '33', '5', '10', '10', '39', '10', '33', '348.9', '193.4', '33', '54.8', '45', '121.2', '61', '75.6', '10', '10', '10', '33', '38.5', '49.3', '7.007', '155.4', '109.3', '91.7', '40.2', '33', '33', '10', '10', '209', '225.6', '45.1', '33', '31', '440.4', '10', '23.3', '118.4', '33', '33', '33', '33', '33', '55', '20.8', '33', '79.4', '33', '10', '33', '36.1', '35.1', '92.4', '148.1', '10', '33', '33', '76.3', '115.3', '10', '8', '33', '10', '125.1', '10', '10', '32.8', '62.6', '71', '10', '71.4', '33', '10', '33', '10', '33', '10', '10', '54.4', '117.5', '33', '24.9', '10', '62', '33', '33', '33', '33', '33', '217.3', '33', '10', '10', '33', '62.6', '33', '85.7', '10', '51.1', '10', '559.9', '33', '33', '44', '130.8', '39', '173', '46.9', '33', '33', '33', '33', '10', '10', '10', '10', '10', '33', '10', '149.8', '97.1', '10', '52.1', '10', '60.2', '33', '109', '22.2', '33', '157.5', '33', '488.7', '33', '10', '10', '85.5', '33', '116', '33', '33', '33', '33', '33', '10', '10', '33', '10', '10', '34.8', '35', '569', '231.6', '10', '10', '33', '54', '33', '33', '33', '318.6', '10', '10', '10', '33', '11', '186.7', '566', '33', '33', '620.4', '10', '27', '31.2', '280.2', '33', '10', '43.8', '33', '17.9', '33', '147.5', '33', '10', '33', '28.8', '33', '10', '580.2', '33', '33', '33', '102.6', '10', '426.1', '10', '10', '33', '10', '10', '10', '174.2', '10', '43.3', '10', '364.1', '10', '567.7', '112.2', '33', '10', '33', '10', '30', '10', '33', '580', '650', '675.4', '677.4', '600', '691.6', '9', '125.7', '618.6', '42.6', '33', '554.2', '62.9', '33', '33', '33', '23.3', '39.5', '10', '33', '19.1', '10', '10', '31.6', '5', '209.9', '503.2', '10', '618.8', '13', '10', '10', '33', '21', '33', '586.3', '182.6', '10', '10', '33', '10', '33', '10', '33', '10', '10', '10', '10', '33', '10', '119.6', '10', '10', '19', '10', '10', '10', '10', '10', '120.6', '10', '10', '10', '10', '10', '315.8', '621.1', '10', '10', '245.5', '10', '10', '10', '10', '10', '10', '10', '10', '10', '10', '33', '30.7', '534.3', '33', '10', '61.4', '102.4', '33', '627.6', '33', '10', '33', '33', '41.5', '549', '10', '4.2', '4.2', '360.7', '33', '11', '10', '64.6', '33', '86.8', '10', '10', '10', '300', '10', '30', '33', '27', '10', '39', '33', '4.9', '4.2', '20.4', '3.8', '0.9', '10', '596.5', '33', '33', '10', '10', '33', '539.9', '120', '131.7', '39.4', '553.5', '10', '10', '96', '633.2', '10', '470.2', '459.1', '33', '7.5', '20.6', '33', '39.4', '33', '601.2', '33', '33', '33', '19.2', '10', '10', '568.4', '53.5', '53.5', '10', '85.5', '530.6', '10', '10', '10', '34', '55.7', '10', '22', '115.5', '10', '493.2', '10', '10', '33', '33', '602.5', '33', '33', '67.2', '568.2', '10', '90.8', '626.6', '10', '46.5', '10', '10', '41.3', '378', '33', '10', '110.8', '33', '70.7', '33', '33', '10', '136.4', '45.4', '10', '71.9', '27.2', '146.3', '10', '10', '10', '483', '33', '83.5', '33', '600', '100', '24', '24', '33', '10', '10', '33', '33', '10', '10', '10', '211.2', '10', '33', '33', '56.5', '113.7', '10', '33', '33', '33', '33', '58.9', '10', '591', '33', '37.7', '10', '10', '10', '10', '19', '214.4', '34', '33', '255.3', '33', '11', '28.1', '10', '50.2', '33', '42.6', '33', '10', '10', '45.9', '93.8', '146.6', '40.2', '33', '10', '10', '10', '33', '274.9', '33', '30.2', '10', '5', '33', '33', '3.8', '33', '33.5', '33', '33', '33.6', '33', '30.6', '33', '33', '47.1', '33', '33', '41.2', '114.1', '10', '33', '33', '46.8', '10', '49.2', '498', '10', '91.7', '177.5', '33', '33', '33', '33', '10', '32', '10', '10', '33', '10', '14', '10', '10', '10', '33', '43.8', '33', '43.8', '33', '77.4', '559.9', '10', '10', '62.5', '128.6', '48.2', '10', '573.4', '33', '135.3', '62.4', '33', '10', '45.6', '123.6', '56', '33', '10', '10', '30.2', '77.6', '33', '41.5', '79.1', '31.4', '85.9', '114.1', '563.8', '10', '33', '12', '10', '156.2', '33', '30.3', '10', '143.8', '10', '68', '33', '31', '565.8', '583.5', '100', '118', '8', '10', '43', '33', '10', '33', '35.6', '33', '10', '115.2', '33', '33', '48.1', '44.5', '186.3', '46.4', '10', '10', '405.8', '20', '57.8', '174.8', '10', '51.4', '558.1', '33', '167.9', '20', '61.3', '10', '10', '10', '33', '20.6', '635.4', '33', '10', '23.9', '10', '10', '10', '10', '17.1', '86.2', '17.7', '10', '53.3', '67.4', '10', '10', '33', '20', '10', '10', '33', '144.2', '33', '10', '10', '10', '56.2', '189.6', '10', '10', '33', '33', '10', '33', '73.2', '24', '10', '6', '33', '226.1', '36', '10', '212.9', '470.3', '345.3', '10', '10', '10', '129.4', '33', '10', '10', '17.4', '168.3', '33', '10', '10', '616.7', '10', '10', '10', '10', '100.2', '10', '10', '563.3', '80.3', '33', '33', '20.2', '28', '33', '33', '33', '33', '100', '10', '33', '31.6', '43.5', '10', '10', '10', '409.2', '10', '602', '70.3', '33', '10', '137', '51.9', '57.3', '481.1', '20.7', '10', '10', '33', '10', '124.8', '10', '10', '33', '33', '33', '33', '33', '50.6', '33', '10', '10', '10', '50.4', '10', '94.3', '10', '33', '64.4', '10', '127.1', '51.5', '116.8', '10', '10', '10', '10', '10', '94.1', '10', '27', '33', '33', '33', '33', '33', '33', '33', '33', '33', '16', '10', '10', '33', '33', '25', '33', '33', '33', '10', '10', '33', '10', '10', '10', '532.7', '33', '33', '10', '32', '33', '33', '33', '33', '33', '51.2', '33', '597.4', '10', '582.6', '33', '133', '35.1', '33', '156.8', '10', '53.5', '10', '503.8', '33', '33', '10', '10', '65', '196.8', '65.4', '10', '10', '33', '10', '10', '10', '33', '61.9', '33', '10', '113.7', '66', '10', '133.9', '10', '33', '33', '101', '33', '29.6', '10', '384.9', '10', '10', '41.1', '33', '10', '33', '33', '33', '33', '33', '35', '480.5', '10', '10', '97.6', '33', '160.3', '35', '183.5', '10', '33', '33', '575', '93.2', '10', '10', '611.5', '33', '56.6', '10', '33', '33', '10', '33', '33', '10', '10', '33', '381.6', '53.6', '38.6', '10', '10', '37.5', '8.382', '10', '10', '36.3', '10', '33', '34.6', '10', '10', '10', '548', '10', '10', '10', '10', '10', '10', '10', '74.9', '10', '33', '27.1', '33', '33', '10', '44.5', '29.4', '28.3', '10', '10', '10', '10', '10', '22', '10', '10', '63.5', '36.4', '42.3', '59.3', '57.7', '401.8', '55.1', '5.3', '366.1', '673.1', '21', '10', '28', '58.9', '10', '36.2', '10', '10', '10', '10', '45.8', '30', '29.8', '71.5', '10', '10', '129.8', '36.7', '56.9', '47.9', '15.1', '17.4', '10', '10', '209.6', '12', '10', '10', '354.2', '46.1', '558.4', '29.2', '16.6', '37.1', '3.5', '10', '10', '25.7', '12.5', '10', '65.6', '65.6', '32.4', '22.7', '21.2', '10', '11', '40.3', '10', '84', '10', '42', '197.5', '31', '0', '19.6', '55.8', '35.5', '10', '12', '10', '10', '10', '9.4', '28', '10', '17.4', '622.6', '44.7', '38.2', '10', '7', '11', '10', '607', '10', '29.6', '10', '10', '18.4', '10', '271.5', '218', '10', '12', '58.5', '289.8', '24.5', '73.2', '56.3', '31.7', '10', '10', '52.5', '16', '27.1', '29.6', '18.8', '228.8', '10', '22.4', '48.1', '8', '5', '129.5', '24.6', '42.1', '34.5', '2.2', '31', '32.3', '8', '187.1', '12.8', '10', '35', '65.6', '228.4', '10', '40.9', '15', '20', '41.8', '10', '143.5', '51.3', '10', '12.2', '10', '10', '29.2', '10.6', '10', '95.5', '44.5', '61.9', '542.9', '128.6', '157.2', '10', '10', '24.7', '35', '65.8', '8', '10', '10', '10', '10', '10', '62', '53.6', '10', '10', '21', '124.6', '50', '13.5', '10', '228.9', '53.9', '573.5', '28.6', '267', '14', '71.5', '26.4', '10', '21', '10', '10', '24', '20', '10', '34.5', '54.7', '10', '10', '10', '11.8', '20', '313.1', '10', '10', '62.9', '10', '17', '29.3', '16', '108.9', '10', '10', '43.1', '537', '28', '72.7', '85.4', '579.4', '10', '115.7', '10', '10', '188.6', '49.9', '143.1', '580.1', '10', '10', '37.8', '115.4', '10', '152.8', '231', '70.5', '19.9', '10', '9', '10', '90.8', '10', '63.1', '10', '10', '405.5', '56.9', '10', '10', '128.5', '10', '10', '10', '13', '12', '25', '560', '565.5', '18.7', '10', '46.1', '10', '5', '23.7', '37', '13.4', '20.9', '30.8', '582.1', '23.9', '13.4', '10', '56.1', '22.4', '24.1', '56.2', '61.9', '10', '10', '10', '10', '40.5', '10', '36.4', '46.1', '23.5', '8', '100.9', '20.7', '207', '19', '69.7', '7.4', '205.7', '10', '209.8', '62.9', '44.2', '10', '10', '10', '30', '5', '13.5', '10', '10', '10', '11.5', '10', '34.9', '10', '10', '10', '10', '10', '10', '14', '10', '10', '10', '10', '10', '47.9', '10', '10', '10', '22.3', '16.5', '10', '12.7', '21.2', '10', '25.2', '10', '63.9', '11.7', '8', '10', '15.3', '115.4', '82.2', '15', '10', '138.5', '25', '114.7', '10', '18.7', '10', '10', '32.9', '10', '8.136', '27.1', '50.9', '87.3', '10', '10', '10', '7.2', '10', '64', '10', '128.9', '34.6', '36', '105', '101.5', '10', '35', '10', '69', '30.5', '25', '10', '23.6', '566.3', '89.9', '94', '47', '59.8', '10', '25.1', '16', '10', '10.5', '18', '10', '10', '10', '10', '10', '89.9', '11', '99.5', '10', '10.1', '115.9', '10', '10', '10', '14.1', '95.8', '21.2', '10', '10', '10', '18.4', '10', '61.8', '125.7', '186.7', '474', '38.6', '10', '10', '29', '54.9', '13', '10', '49.9', '32.8', '10', '10', '10', '10', '10', '10', '10', '568.7', '10', '10', '10', '10', '573.1', '24.6', '25', '15', '55.7', '20', '622.6', '625.4', '21.8', '16', '40.6', '256.1', '14', '10', '15.4', '532.3', '10', '10', '10', '58', '10', '10', '23.1', '39', '39.5', '10', '10', '10', '49', '157.4', '35', '439.2', '44', '137.5', '32.2', '541.8', '14', '10', '62.3', '10', '10', '593.3', '11', '10', '10', '27.8', '58.1', '575.7', '563.8', '25.9', '227.8', '37.4', '10', '10', '10', '614.5', '30', '30', '30', '30', '30', '38.5', '30', '25.4', '51.8', '30', '30', '26.8', '15.5', '30', '38.5', '33.2', '30', '30', '30', '30', '30', '30', '30', '26.3', '30', '30', '29.4', '47.9', '39.2', '23.7', '23.5', '19.5', '30', '25', '17.8', '16.1', '30', '26.4', '30', '30', '13.3', '30', '30', '17.8', '30.7', '26.2', '30', '30', '30', '127.3', '30', '33', '30', '23.7', '25.8', '27.2', '23.3', '30', '35', '9.1', '49.7', '19', '25.8', '28.9', '28.7', '22.2', '36', '252.7', '34', '8', '12', '30', '38', '44.5', '47.7', '29.5', '30', '14', '22.2', '11', '49', '24.5', '36', '11.7', '27', '55.4', '10', '8.4', '30', '10', '23.2', '10', '30', '48.8', '10', '10', '30', '49.5', '35', '10', '10.5', '10', '40', '22.5', '15.9', '10', '45.3', '10', '22', '25.7', '58.7', '16', '24.9', '12', '10', '42', '588.9', '27.8', '10', '10', '175.4', '10', '10', '23.5', '30', '29', '25.2', '10', '11', '10', '30', '28.5', '16.9', '10', '41.2', '23.3', '33.9', '22.2', '23.3', '38.1', '30', '30', '37.7', '30', '30', '30', '30', '16', '43.8', '30', '10', '10', '19.6', '29.3', '10', '30', '10', '28.6', '32.8', '47.9', '18.6', '31.9', '109.3', '172.5', '63.1', '39.5', '158.7', '26.1', '30', '142.7', '30', '525', '30', '10', '36.5', '206.3', '44.5', '24', '102.4', '10', '10', '9', '47.1', '11.6', '22', '39.7', '46.2', '11', '10', '102.7', '47.8', '36.6', '10', '48', '10', '46.6', '14', '17.8', '369.5', '30', '10', '10', '10', '10', '30', '22.7', '114.9', '68', '36', '555.9', '10', '10', '10', '201.7', '59.1', '3.5', '10', '10', '10', '10', '10', '85.3', '10', '54.1', '11.1', '54', '52.3', '5', '10', '30', '507.1', '30', '10', '197.4', '60.4', '18', '598.7', '10', '28.1', '579.1', '570.1', '10', '10', '39', '10', '30', '30', '30', '30.6', '36.1', '30.9', '38.6', '29.2', '35.8', '30', '30', '27.4', '79.6', '22', '25.2', '588.7', '10', '10', '22', '29.7', '10', '30', '129.2', '36', '30', '67.7', '26.4', '59.7', '11', '30', '20.9', '10', '10', '10', '10', '19', '30', '30', '30', '29.4', '23.5', '32.2', '30', '43', '24', '26.6', '10', '11.4', '129.9', '68', '33.4', '123.5', '10', '31', '118.7', '25.3', '425.8', '18.7', '45.3', '10', '32.2', '35.9', '10', '10', '18.1', '22', '31.4', '22.8', '10', '18', '10', '10', '44.7', '17', '10', '10', '34', '119.2', '10', '34', '102.2', '10', '9.7', '2.5', '95.5', '30', '565.3', '39.5', '55.6', '30', '10', '18.6', '34.2', '30', '10', '25.8', '22.4', '196.2', '24.9', '10', '26', '10', '10', '318.3', '10', '23.5', '10', '10', '40.9', '25', '10', '10', '94.1', '10', '18.6', '115.6', '144.1', '47.5', '17', '27.5', '16', '74.6', '10', '12', '10', '48.2', '10', '105', '10', '10', '91.6', '20', '30.6', '45.3', '37.6', '63.1', '206.4', '27', '40.5', '10', '21', '28.1', '10', '10', '33.3', '22.3', '55.2', '32.2', '10', '10', '23.1', '10', '10', '39.6', '49.6', '79.9', '10', '10', '18.8', '39.9', '125.7', '61', '10', '209.1', '167.9', '16', '31.3', '10', '84.8', '12.9', '27.6', '110.5', '50.3', '32.4', '10', '38', '16.9', '10', '69', '14', '40', '10', '45.3', '23.3', '10', '205.4', '28.9', '10', '10', '10', '39.2', '10', '23.6', '19.2', '35', '10', '10', '48.6', '113.8', '30', '36', '90.8', '25.3', '10', '10', '10', '10', '530.7', '10', '10', '30.7', '21.1', '10', '513.2', '147.1', '10', '10', '10', '25.2', '443.9', '10', '32', '27.6', '314.8', '49.2', '10', '10', '90', '112.6', '142.8', '96.2', '41', '383.9', '30', '10.7', '10', '84', '103', '10', '23', '11.8', '30', '30', '30', '35', '115', '25', '28', '25', '25', '547.4', '30.5', '32', '18.3', '15', '49.7', '26', '10', '10', '10', '10', '10', '10', '30', '10', '8', '10', '10', '12', '7', '30', '6.9', '30', '33.2', '33.9', '204.1', '42.8', '192', '38', '8.1', '10', '11', '10.4', '123', '162.3', '14.3', '5', '32', '35.4', '10', '15', '53.2', '117', '380.7', '10', '175.4', '8', '31.5', '10', '12.7', '36', '10', '30', '25', '113.6', '48.2', '10', '248.3', '68.5', '6', '28.8', '20', '11', '15.9', '20', '147', '10', '21', '30', '125.7', '145', '10', '13.5', '37.6', '68', '631.9', '35', '34', '172.9', '10', '10', '24.4', '10', '48.6', '11', '23.3', '13', '644.7', '29', '10', '26', '10', '10', '22', '21', '216.8', '10', '506.5', '10', '35', '10', '17', '10', '201.6', '224.6', '10', '10', '34.7', '42.9', '18.2', '22.8', '527.7', '25', '7', '10', '10', '192.9', '7.4', '10', '10', '51.5', '35.2', '13', '62.4', '582.9', '78.2', '14', '242.8', '10', '7.4', '30.8', '66', '10', '10', '264.8', '25.8', '10', '10', '10', '44', '23', '592.7', '14', '10', '10', '10', '10', '397', '21.4', '20', '44.7', '597.5', '28', '82.4', '19', '10', '9.2', '34.9', '24.9', '59.1', '10', '239.5', '365.9', '10', '40', '10', '160.5', '10', '22', '44.2', '10', '10', '10', '10', '41.3', '622.4', '535.2', '32.5', '18', '22.3', '612', '24.8', '10', '10', '27.8', '205.8', '5.7', '10', '10', '136.2', '10', '10', '10', '10', '10', '10', '47.3', '284.7', '30.1', '29.9', '7', '384.3', '22.8', '0.9', '10', '58.5', '10', '9.2', '25.9', '521.6', '10', '12', '10', '18', '10', '10', '34.8', '537.8', '32.1', '401', '7', '13', '10', '37', '10', '9', '10', '16', '10', '45.5', '49.8', '33.5', '10', '16.8', '10', '10', '14', '65.4', '34.6', '10', '18', '18', '28.8', '19', '166', '10', '18', '19.8', '431.6', '184.9', '16', '13.9', '17', '33.1', '22.6', '22', '10', '9', '12', '12', '21', '10', '23', '11', '7', '127.7', '10', '12', '10', '19.8', '33.6', '35', '12', '37.3', '37.2', '35', '13', '10', '10', '55', '10', '11', '11.2', '35', '517.9', '10', '41.1', '10', '16.5', '36', '5', '18', '32.1', '30', '17.2', '34', '152', '12', '15.1', '11', '10', '30', '35', '10', '19', '197', '2.8', '10', '37.9', '40.2', '30', '10', '34.8', '12.5', '34', '49.2', '23.2', '44.4', '27', '10', '36.3', '12', '591.6', '10', '10', '564.4', '575.9', '22.5', '662.8', '140', '14', '29.1', '27.9', '9', '10', '25.7', '30', '28.8', '9', '10', '16', '95', '26', '115', '17', '569.9', '10', '122.5', '9', '28.8', '11', '60.2', '41.6', '56.3', '8.6', '46.1', '49.2', '10', '25.6', '185.6', '7', '66.6', '35', '140.1', '22', '10', '10', '49.7', '10', '10', '364', '10', '596.5', '20', '17.5', '24.9', '10', '10', '10', '10', '35.2', '23.7', '12.7', '21', '26.9', '20', '37', '13.5', '587.2', '473.8', '10', '10', '15.7', '45', '28.2', '10', '28', '587', '26.5', '20', '33', '34.2', '621.6', '10', '10', '30', '10', '446.6', '15', '10', '25', '11', '20', '150', '56', '22', '22', '10', '16', '10', '19.8', '154', '10', '7', '55', '14', '32.2', '26', '13', '10', '411.2', '40.6', '43', '184', '35', '35', '16.7', '36', '10', '36', '33.2', '10', '38', '51.4', '75.6', '36.7', '10', '568.1', '135.2', '10', '572', '14', '14.9', '114', '36.2', '27.7', '367.2', '17', '137', '18', '18.1', '12', '25', '598.3', '141', '6', '35', '11', '28', '360.8', '53', '52', '10', '107', '11', '10', '10', '19', '161', '10', '10', '104', '10', '14', '10', '10', '10', '9', '10', '10', '35', '31', '4', '38.9', '18.9', '10', '37.6', '32', '140.7', '115', '20.4', '23', '22.7', '25.3', '10', '18.3', '10', '10', '261.6', '11', '10', '212', '28.1', '10', '204.3', '35', '35', '36', '133.2', '121.3', '11', '10', '47', '12', '36', '572', '587.9', '11', '345', '108.1', '10', '10', '10', '10', '10', '10', '10', '10', '10', '10', '10', '10', '10', '10', '10', '10', '10', '10', '10', '10', '12', '10', '13.7', '10', '10', '10', '9', '10', '10', '10', '22', '30.1', '32', '29', '10', '18', '10', '10', '38', '31.7', '79.9', '10.2', '24', '11.3', '10', '13.8', '115.7', '39', '10', '498.8', '13.5', '10', '10', '204', '19', '135.9', '10', '10', '61.2', '35', '10', '10', '5.5', '16', '396', '572.3', '22.5', '35', '213.5', '10', '10', '10', '23.6', '14.3', '36', '30', '24.6', '178.4', '570.1', '24', '30', '62.8', '518.8', '29', '11.6', '10', '10', '10', '10', '10', '10', '355', '15', '16.2', '20.6', '10', '4.9', '11', '16', '406.8', '10', '13', '10', '10', '10', '10', '10', '170.1', '10', '64.3', '100.8', '6', '8', '17.5', '25', '139.2', '10', '22', '10', '10', '10', '47.7', '23', '10', '10', '35', '35', '10', '10', '112.7', '10', '188.1', '35', '10', '36.2', '10', '10', '10', '567.6', '10', '11', '20', '34', '77.9', '51.7', '10', '10', '10', '10', '10', '10', '15', '15', '63.9', '2.6', '157.3', '42', '20', '24', '174.8', '84.8', '10', '53', '16', '31', '28.4', '28.6', '34.3', '483.1', '26.4', '19', '20.7', '10', '12', '11', '28.2', '6', '25.1', '23', '23.6', '29.5', '10', '10', '51.4', '10', '10', '10', '38.5', '10', '10', '19', '11', '35', '10', '139.6', '10', '441.2', '10', '151.2', '226.1', '50', '10', '31', '52', '35', '10', '68.7', '144.7', '26.1', '71.9', '10', '35', '35', '10', '35', '7', '10', '35', '21', '613.1', '10', '30', '34', '8', '35', '15', '10', '10', '8', '25.1', '33.9', '100.2', '10', '10', '27.6', '10', '378.5', '24', '24.3', '10', '10', '10', '10', '10', '10', '10', '10', '17.7', '4.9', '10', '10', '34', '14', '12.4', '19.1', '11.1', '55', '10', '18', '10', '10', '10', '222.1', '27.5', '8', '33.2', '34.6', '12', '10', '10', '17', '10', '10', '13', '10', '10', '9', '30.5', '14', '10', '10', '44', '10', '8', '30', '593', '36', '30', '56.5', '10', '34', '12.1', '10', '34.9', '10', '10', '423.5', '172.2', '119.7', '10', '10', '9', '11.1', '10', '42.4', '10', '407.4', '40.7', '36.7', '27.1', '55', '38', '46.4', '10', '26.4', '117', '10', '9', '10', '120.5', '10', '10', '216.7', '7', '9', '55', '676.4', '688', '682.2', '10', '12.1', '550', '572.8', '10', '43.6', '604.4', '668.6', '30', '10', '9', '10', '35', '23.3', '40.7', '58.3', '35', '10', '10', '37.9', '10', '180.5', '10', '7.3', '132.5', '66.4', '24', '10', '1.5', '175.9', '35', '116', '10', '5', '22', '10', '86.6', '4.7', '47.8', '38.9', '10', '103', '23', '105.4', '10', '10', '41', '10', '146.8', '10', '24', '47.2', '10', '10', '9', '23.8', '5', '69.7', '22', '10', '10', '10', '18', '12', '110.7', '68.8', '16.3', '130.4', '606.4', '134.6', '10', '113', '10', '10', '152.1', '10', '35', '8', '15', '10', '12', '15.1', '350.4', '10', '8', '10', '10', '10', '10', '644.9', '289.5', '10', '10', '10', '571.7', '10', '10', '113', '10', '15', '25', '567', '10', '10', '10', '25.7', '10', '14.2', '104', '10', '11', '370.5', '120', '5', '21', '10', '10', '10', '10', '10', '617.7', '10', '6', '10', '40', '18.1', '291.2', '280', '10', '606.2', '42', '10', '10', '10', '9', '39', '39.6', '35', '34.4', '14.6', '36', '23.4', '15', '35', '10', '30.9', '21.9', '10', '19.8', '48.5', '30', '10', '30.1', '11', '38.8', '87.6', '35', '10', '8', '12', '6', '123.6', '553.8', '127.4', '8', '115.6', '134.2', '23.3', '38.4', '9', '35', '36.7', '94', '53', '10', '15', '10', '34', '35', '35', '35', '35', '35', '16.6', '28.9', '22', '32.4', '26', '17.2', '53', '30.3', '10', '35', '23', '25.3', '552.4', '31.9', '35', '37.7', '35', '35', '30', '35', '10', '28.4', '18', '35', '416.7', '99.8', '40', '35', '26', '10', '9', '10', '10', '12', '10', '10', '37.2', '10', '10', '10', '260', '20', '35', '24.8', '10', '10', '14', '10', '18', '24.2', '10', '22', '32', '47.3', '35', '10', '509.4', '20', '41', '337.5', '39', '27.3', '10', '15', '10', '37', '18', '19', '509.3', '10', '10', '35', '46.3', '35', '27.6', '30', '21', '54.6', '29.7', '100', '20', '13', '10', '43.2', '35', '207', '28', '35', '35', '10', '10', '10', '10', '10', '10', '131.3', '28.7', '10', '45', '15', '35', '25', '7', '40', '38', '46.6', '27', '26', '29.4', '37.1', '122.9', '14.8', '34.5', '14.7', '246.4', '33', '558.3', '10', '10', '29.9', '52.6', '32', '15', '35', '115.4', '53', '49.3', '150.3', '35', '35', '10', '92.1', '10', '55.9', '20', '35', '18', '42.4', '87.2', '53', '35', '16', '10', '156', '44.6', '29.5', '37.9', '88.3', '10', '37.4', '85.5', '22.3', '10', '10', '6', '39.1', '152.5', '10', '10', '10', '15', '16', '17', '10', '175.9', '57', '25', '45', '34', '15.9', '30', '45.8', '60.3', '30.1', '20', '10', '10', '30', '25', '20', '23', '48.4', '112.6', '25', '106.6', '8.3', '17.8', '35', '35', '15.8', '29.8', '6', '34', '35', '35', '66.2', '103', '10', '15', '10', '10', '75', '12', '55.8', '35', '1.6', '10', '10', '13', '10', '34', '597.6', '9', '639.5', '10', '22', '35', '10', '6', '10', '20', '5.4', '13', '10', '35', '35', '8', '70', '10', '34.1', '604.2', '10', '99.7', '14.5', '35', '13', '35.6', '465.2', '321.7', '9', '38', '8', '47.3', '83', '19', '29', '28', '10', '130.1', '26', '10', '10', '9.9', '12', '7.9', '11', '129', '24', '32.9', '14', '22', '25', '25', '25', '20', '44.1', '15', '10', '10', '35', '36.6', '24.7', '21.4', '25', '10', '10', '24', '27.5', '10', '125', '134.4', '89.5', '16.5', '13', '10', '10', '10', '10', '25', '10', '10', '25', '45', '10', '10', '132', '10', '120', '10', '16.6', '70.6', '10', '45', '365', '10', '8', '16.2', '10', '20', '154.8', '67', '10', '180.7', '34.5', '10', '10', '16', '35', '33', '35', '35', '35', '35', '643.5', '10', '10', '35', '11', '16', '64.4', '10', '10', '140.2', '33', '10', '11', '10', '13', '10', '166', '10', '553.8', '10', '13', '14', '10', '3.6', '10', '10', '35', '10', '10', '10', '56.9', '35', '32', '35', '46.7', '404.7', '35', '14', '35', '35', '19', '23.3', '27', '17', '76', '16.5', '19', '10', '10', '10', '10', '10', '21.7', '9', '10', '35', '3', '9', '32', '10', '513.4', '10', '27', '10', '47.9', '19', '8', '125.2', '10', '29', '8.9', '18', '20', '13', '10', '10', '26', '9', '16', '10', '9', '10', '10', '31', '10', '35', '84', '14', '7', '14', '205', '10', '7', '122', '4', '16', '35', '35', '21.6', '10', '7.8', '6.4', '611.4', '10', '10', '143.3', '607.5', '5', '11', '18', '10', '19', '16', '50.6', '55.6', '38', '17', '17', '15', '6', '10', '326', '8', '10', '581.2', '33.9', '632.8', '22', '17', '116', '43', '123', '23.7', '6', '14', '24', '52', '10', '10', '89', '10', '10', '22', '11', '10', '10', '391', '10', '481.4', '22', '108', '4', '27', '10', '21', '39.1', '17', '10', '10', '10', '136', '11', '135.1', '10', '76.9', '45.1', '173.9', '6', '30.7', '10', '12', '10', '23', '10', '58.2', '10', '20', '13', '13', '38', '10', '10', '56.3', '6', '10', '12.1', '10', '10', '9', '10', '8', '10', '6', '27', '31.8', '12', '21.7', '154', '16', '10', '10', '12', '12', '75', '11', '10', '10', '171.1', '10', '108.7', '569.6', '272', '26.1', '146.8', '10', '191.5', '36', '110', '101.8', '12', '99.4', '43.2', '12', '9', '37.7', '96', '25', '115.6', '12', '94.8', '132.9', '22', '199', '10', '35', '11', '35', '37.2', '149', '12', '4', '10', '10', '11', '10', '36', '413.5', '10', '10', '10', '5', '10', '19', '35', '10', '10', '27.4', '35', '35', '10', '12', '10', '9', '10', '10', '16', '23', '35', '352.7', '24', '23.2', '77.3', '29', '35', '96', '135.2', '233.4', '129.9', '10', '22.8', '210', '81', '18.3', '15', '10', '14', '32.5', '10', '10', '10', '10', '36', '10', '10', '370.5', '205.7', '187.6', '19.4', '13', '10', '10', '10', '121', '140', '19', '87.1', '10', '12', '48', '26.7', '30', '35', '35', '306.1', '7', '35', '32', '595.6', '118', '10', '24', '57.3', '23.4', '69.2', '10', '10', '170.1', '39.6', '492.3', '35', '10', '35', '10', '25', '10', '386', '14', '137.1', '14', '115.3', '34.3', '35', '398', '10', '10', '11', '18', '45.4', '224.1', '596.8', '10', '51', '14.1', '129', '10', '14', '10', '530.3', '542.6', '18', '25', '5', '32.2', '19', '69.3', '45.1', '4', '13', '32', '9', '10', '206', '10', '13', '151', '20', '10', '19', '10', '10', '17', '35', '204.8', '29.2', '23', '35', '31.9', '35', '186.7', '10', '16', '656.6', '18', '14', '10', '10', '27', '35', '114.1', '36', '21.5', '169.1', '33', '12', '35', '35', '143.8', '24', '44', '146.7', '10', '671', '97.9', '97.9', '579.5', '25.3', '10', '601', '23.8', '20', '65.9', '10', '602.4', '10', '102.3', '34', '21', '46.8', '15', '10', '10', '20', '21.6', '29.1', '35', '35', '35', '35', '25', '35', '16.3', '26', '35', '35', '27', '43.9', '23.8', '35', '33', '21', '15', '13', '10', '10', '25', '515.2', '12', '24.1', '45.1', '32', '9', '23', '32', '10', '38.4', '144.7', '105', '15', '173', '11', '532.2', '10', '3', '9', '35', '18.4', '14', '17', '10', '9', '10', '189.7', '35', '10', '35', '18', '23', '31', '622.3', '10', '43', '59.1', '112', '10', '10', '159.5', '93', '13', '21', '31', '31', '188.5', '10', '35', '35', '174.2', '48', '10', '35', '87.4', '26', '10', '8.8', '35', '31', '15.1', '10', '554.2', '43.5', '10', '10', '19', '22', '10', '20', '7.7', '25', '49.1', '65.3', '566.1', '35', '25', '19.9', '35', '36.4', '152', '30.2', '35', '51.5', '131.7', '35', '10', '21', '9.4', '108', '56.8', '6.1', '10', '6', '89', '35', '10', '35', '85', '43', '10', '67', '6', '22.7', '5', '14', '69.1', '62.3', '566.2', '4', '10', '6', '10', '35', '19', '11', '13', '160.1', '10', '15', '15', '33.7', '10', '3', '6', '5.6', '16', '29', '15', '7', '34', '14', '590', '612.2', '14', '10', '10', '105.7', '15', '17', '35', '10', '31', '28', '113.5', '64.6', '35', '37', '64', '13', '36.7', '19', '37', '10', '38', '76.2', '22', '7', '10', '19', '12', '7', '35', '198.9', '65', '17', '175.6', '12', '12', '13.4', '10', '30.4', '59.2', '19.1', '35', '13.4', '32', '10.2', '35', '25', '40', '16', '140.1', '43.4', '14', '10', '10', '20', '10', '10', '10', '25', '10', '10', '10', '619.6', '49', '292', '35', '10', '24', '40.4', '99', '28', '173.5', '95.7', '53', '10', '35', '10', '10', '27', '56.9', '608.4', '20', '21', '626.5', '20', '15', '10', '10', '35', '269.8', '10', '6', '10', '35', '16.1', '642.4', '13', '4', '16.4', '11', '6', '46', '51.8', '257', '163', '95', '210.2', '3', '23', '15', '22.5', '106.9', '36', '10', '29', '35', '14', '10', '12', '10', '92.7', '10', '79', '10', '14', '84.2', '58.8', '82.4', '10', '13', '122.7', '9', '18', '10', '10', '10', '10', '10', '10', '2.3', '10', '10', '57', '81', '36.2', '255.4', '9', '14', '10', '80.8', '8', '10', '10', '10', '28', '46.4', '23', '620', '640', '10', '10', '10', '138.4', '8', '574', '45', '35', '35', '35', '35', '21', '31.1', '35.6', '34.3', '35', '35', '35', '35', '35', '44.7', '35', '35', '35', '35', '35', '10', '35', '20.2', '13', '10', '44.8', '10', '42', '42', '35', '24', '40', '32', '14', '10', '20', '10', '105.7', '10', '17.1', '38', '10', '35', '20.9', '22.3', '155.6', '10', '18', '18', '185.9', '15', '31.1', '130', '35', '417.9', '125.3', '10', '10', '16.4', '210', '34', '133.9', '105', '9', '10', '116', '2', '10', '18', '10', '5', '5.7', '179.4', '18', '10', '10', '595', '139.7', '23', '23.6', '570.6', '27', '608', '19.1', '220.4', '17', '10', '10', '5', '522.6', '7', '435.7', '34.8', '35', '18', '10', '56.8', '15', '28', '38.8', '68.6', '35', '40.3', '14', '10', '9', '8', '10', '45', '10', '21', '656.2', '10', '10', '10', '45.8', '39', '10.9', '10', '19.8', '4', '35', '10', '43', '43.9', '6', '19', '527.7', '395', '392', '59.1', '47', '59.8', '85', '17', '7.4', '124.8', '34', '5.971', '19', '10', '10', '10', '8', '34', '116.8', '10', '10', '30.2', '15', '13', '15.4', '35', '23.4', '10', '10', '199.6', '10', '12', '28.737', '35', '13', '10', '10', '10', '10', '10', '10', '13', '10', '37', '35', '10', '139.1', '8.1', '50', '7', '10', '5', '7', '54.7', '0.8', '10', '39.1', '10', '10.5', '15', '12', '19', '10', '15.1', '38.2', '35', '146.7', '10', '29.1', '208.4', '10', '10', '10', '10', '32', '10', '23.048', '1', '30', '10', '21', '238.9', '544', '549.5', '39.8', '10', '10', '10', '51', '14', '148.4', '11', '126', '45', '577.7', '10', '35', '33', '15', '35', '35', '10', '24.9', '6', '37.2', '92', '25', '22.9', '10', '35', '39.8', '35', '34.8', '35', '35', '35', '35', '35', '35', '32.7', '35', '35', '35', '35', '35', '35', '35', '35', '35', '20', '35', '35', '35', '35', '10', '35', '35', '19', '38.4', '24.7', '35', '31.1', '10', '45.2', '35', '99.7', '31.9', '10', '46', '18', '22.9', '17', '35', '40.5', '20', '38.8', '21', '24.2', '176', '114', '29.9', '18', '26', '96.3', '52.9', '18', '26.8', '12', '10', '427', '10', '35', '35', '307.6', '11', '18', '35', '31.5', '8', '7', '102.1', '10', '35', '76.7', '19', '53', '32', '23.2', '13', '28', '40', '14', '18', '42.3', '9', '10', '158', '14.4', '414.6', '14.6', '36.2', '32', '7', '16', '124.2', '42', '10', '29.9', '21.5', '8', '34', '10', '24', '29.9', '9.987', '10.011', '25', '94.2', '31', '23', '117.7', '7', '49.5', '273.2', '10', '21', '609.8', '10', '100.2', '17', '7.6', '10', '34.3', '6', '24', '33', '53', '29.9', '63.8', '13', '35', '32', '27', '7', '22', '10', '24.2', '12', '14.9', '13', '84', '7.8', '19', '10', '27', '57.6', '37', '10', '140', '10', '12', '20', '38', '79.8', '123', '113', '132', '10', '10', '10', '10', '21', '15', '101.4', '581.2', '10', '10', '10', '31', '35', '35', '34', '7', '20', '112', '18', '14.6', '40.4', '127.4', '34', '35', '10', '24.2', '58', '12', '15', '10', '7', '10', '35', '27', '8.756', '42.8', '13', '18', '10.5', '170.4', '28', '20', '23.2', '562.5', '20.5', '40', '35', '68', '28.2', '7', '35', '17', '43.3', '581.4', '20', '36.3', '28.7', '27', '35', '510.7', '136', '13', '47.2', '115', '31.1', '22', '50.6', '35', '55', '10', '14', '28', '35', '10', '10', '10', '10', '24', '10', '35', '42.5', '100', '6', '607.1', '605.3', '578', '611.5', '601.7', '640.6', '553', '7', '130', '35', '193.2', '377.7', '10', '618', '23', '10', '50.7', '19', '10', '10', '41', '16', '19', '220', '35', '27', '44', '27.8', '18', '595.3', '28', '25', '22.4', '191.6', '35', '27.8', '35', '206.7', '10', '16', '2', '10', '10', '10', '10', '13', '40.3', '595.9', '174.7', '9.8', '603.2', '10', '67.7', '19', '24', '26', '24', '116', '10', '7', '53.3', '35', '50.9', '10', '23.5', '12', '73.2', '43.5', '69', '35', '534.5', '221.7', '25.5', '8', '10', '9', '10', '10', '10', '10', '16', '14', '10', '45', '179.8', '16.1', '84', '220.1', '50', '167.8', '35', '150.3', '83.8', '95', '30', '225.8', '11.6', '20', '33.3', '10', '26', '20.2', '16.1', '13', '15', '239.6', '10', '30.4', '32', '85.8', '19', '27.7', '6.5', '120', '91', '33', '13', '10', '12', '59', '7.4', '7', '8', '10', '10', '10', '8', '42.5', '13', '132.2', '44', '10', '15', '37', '20.1', '26', '31.8', '19', '10', '10', '33', '10', '10', '8.7', '167.4', '35', '369.4', '42.2', '0.9', '10', '18', '45.3', '10', '113', '10', '21', '19.1', '36', '168.7', '10', '10', '10', '13', '10', '23', '213.3', '10', '47', '10', '68', '9', '14', '10', '58.7', '470', '18', '35', '160.1', '15.2', '33', '12.7', '22', '10', '10', '13', '29.4', '53.1', '10', '171.9', '10', '601.2', '35', '135.8', '42.8', '134.9', '154.9', '14', '30.7', '10', '72.3', '12', '54.6', '21', '14', '10', '7.6', '10', '10', '18', '18', '39.3', '206.8', '4', '16', '10', '10', '13', '10', '10', '10', '551', '16', '10', '56.8', '10', '10', '576.8', '21.6', '24', '10', '21.4', '112.2', '10', '17', '56.7', '22', '10', '10', '18', '10', '228.9', '24.4', '86.6', '221.8', '512', '35', '9', '10', '198.5', '17', '198.8', '36', '21', '68', '24', '236.1', '16.2', '110', '23', '148.5', '16', '82.9', '10', '158.1', '15', '10', '321.2', '76', '21.8', '35', '10', '85', '10', '28.9', '7', '415', '523.2', '525', '26', '15', '16', '10', '10', '35', '85', '20.7', '17', '18.9', '21', '16.2', '26.2', '22.3', '57.7', '33', '12.7', '558.1', '69.8', '5.9', '5.9', '6.6', '112.8', '41', '122.5', '122.7', '49.2', '31.5', '53', '10', '9.8', '10', '44.2', '49.7', '10', '118', '87.7', '22', '32', '23.2', '35', '37.8', '22', '23.8', '23', '15', '29', '10', '17.4', '510.6', '10', '29', '32.3', '35', '50.7', '8.4', '40.6', '22.6', '34.2', '42.7', '32.3', '2.8', '26.6', '25.4', '40.1', '35', '42.6', '16', '49.3', '51.7', '56.3', '18.6', '40.6', '39.1', '10.3', '52.4', '47.2', '40.1', '35', '30.6', '11.7', '47.3', '44.9', '33.6', '39.8', '47.5', '35.9', '36.1', '41.6', '19.1', '23.7', '15.4', '21.5', '28.2', '35', '33.7', '35', '24.7', '6.3', '19.6', '39.5', '28.4', '45.4', '49.2', '35', '21.9', '158.6', '38.5', '35', '13.8', '50.8', '38', '0.7', '19.3', '48.9', '19.5', '39.6', '41', '6.8', '17', '42.8', '37.3', '27.6', '19.7', '46.2', '39.5', '47.3', '25.8', '17', '39.2', '5.8', '26.5', '10', '20', '33.3', '41.8', '35', '25.9', '36.6', '35', '35', '35', '36.3', '25.7', '35', '17.7', '23.1', '35', '35', '50.2', '35', '35', '57.7', '35', '4.7', '25.3', '51.3', '20.7', '10.2', '15.1', '21', '35', '52.8', '35', '35', '9.3', '1.7', '15.6', '39.5', '9.3', '27.1', '9.1', '2.2', '12.4', '10', '17.4', '8.1', '25.8', '39.3', '20', '14', '22.3', '32.2', '20', '14.6', '19.9', '16.7', '59.4', '25.5', '53.7', '10', '27', '34.1', '38', '12.6', '35', '35', '10', '16', '15', '8', '10.1', '13', '33', '17', '9.6', '11', '14', '20.3', '8', '35.3', '28', '9', '18', '19.4', '10', '36', '32.7', '17', '29', '16.5', '10', '35.8', '29', '26', '6.4', '41.6', '15', '6', '57.1', '27', '42', '321', '190.2', '101.8', '20', '11', '31', '13', '30.9', '10', '45', '5', '20', '19', '18', '40.7', '37.5', '27', '8', '10', '39', '6', '35', '19', '15', '25.3', '11', '15.5', '42', '41', '59.9', '20.5', '55', '110', '551.7', '14', '552.4', '20', '20', '166.2', '42', '7', '11', '11', '10', '10', '17.1', '15', '11', '45', '22', '18.5', '18.6', '10', '22', '17', '216.3', '131', '77', '15.1', '556.7', '86', '10', '11', '43', '55.6', '19.2', '22.3', '79', '31', '35', '10', '10', '8', '95.4', '10', '11', '11', '38', '10', '8', '12', '46', '10', '583.6', '26', '24', '39', '11', '184.7', '36', '10', '82', '35', '9', '28.8', '11', '11', '10', '10', '10', '544.6', '10', '10', '5.8', '10', '72.8', '35', '207.3', '10', '40', '35', '28', '10', '14.2', '52.9', '7', '29', '7', '48', '34', '37', '28.6', '148.6', '16', '137.6', '32', '307.4', '306.6', '13', '21', '14', '45', '17', '3', '12.6', '10', '145.7', '511.4', '30.7', '10', '6.1', '61.1', '17', '22', '14', '34', '16', '10', '20', '32', '10', '10', '128', '207.1', '14', '42.7', '33', '52', '72.1', '58.1', '527.9', '99.4', '17', '18.8', '35', '119.7', '29', '30', '19.7', '35', '35', '35', '22', '35', '36', '152.3', '24.8', '10', '17', '10', '12', '10', '30.8', '35', '10', '21', '16', '10', '19', '14', '15.2', '23', '10', '11', '35', '21.1', '10', '19', '10', '131.4', '10', '88.7', '10', '20', '6', '249', '246.4', '36', '494', '19', '566.2', '20', '21', '10', '612.1', '103.4', '41', '22.8', '14', '40', '10', '46', '35', '33', '10', '12', '6', '30.9', '35', '532', '122.4', '38', '10', '32.4', '10', '40', '13', '41.2', '528.9', '10', '35', '36', '10', '31.9', '403.4', '23.2', '37', '10', '496.8', '10', '44', '218.8', '10', '6', '10', '177.2', '26', '186.4', '44.3', '9', '407.9', '47', '10', '10', '32', '35', '28', '35', '35.2', '130.4', '40', '10', '10', '12', '29', '6', '147', '508.7', '10', '202.3', '469.8', '35.9', '10', '41', '32', '578.9', '85', '84', '12', '185.1', '37', '37', '24.7', '91', '252.1', '10', '22', '29', '14', '10', '37', '13', '15', '10', '28', '378.4', '644.6', '106.4', '30', '35', '18', '40.7', '37.7', '30', '10', '50', '31', '9', '10', '5', '10', '10', '10', '10', '455.9', '10', '20', '15', '118.6', '36', '10.1', '6', '10', '46', '10', '27.2', '39', '20.6', '37', '12', '147.7', '26', '187', '33', '18', '9', '5', '5', '5', '38', '14', '602.9', '24', '22.3', '10', '224.2', '36', '47.1', '10', '159', '28', '10', '10', '134.1', '34', '33', '5.2', '23.2', '212.1', '5.5', '177', '224.9', '5', '10.5', '10', '10', '10', '17', '166', '276.2', '12', '26.6', '10', '34', '33', '10', '12', '214.9', '10', '107', '549.9', '10', '34', '38', '616.5', '25', '10', '9', '171.8', '6', '10', '15', '75', '10', '19.2', '28.5', '20', '392.2', '59', '555.5', '116', '161', '10', '135', '10', '32', '34.8', '10', '10', '10', '10', '9.7', '6.9', '10', '90', '44.6', '15', '10', '365.3', '35', '39.8', '10', '10', '28', '19', '16', '10', '10', '17', '8', '10', '10', '20', '32.9', '19.1', '12', '20', '126.3', '45', '13', '10', '20', '580.3', '7.6', '55.3', '10', '21', '43', '51.3', '38.6', '23', '20.6', '8', '25.2', '8', '12', '14.6', '10', '145', '8', '11', '10', '9', '15', '10', '10', '582.3', '15', '20.2', '19', '16', '27.358', '30.2', '28', '51', '11', '10', '10', '10', '28', '10', '10', '39', '12', '504.2', '26.2', '14', '9', '14', '553.9', '37.3', '53.8', '38', '16', '43.9', '11', '110.4', '49', '12', '10', '12', '10', '28', '103.8', '18', '10', '11.8', '27.9', '66', '20', '118', '10', '10', '40.7', '10', '10', '10', '15', '10', '48', '117.9', '9', '108.5', '13.6', '10', '20', '10', '20.8', '10', '10', '25.1', '10', '5', '14.5', '8', '20', '10', '9', '13', '25.1', '11', '15', '90.3', '62.7', '11', '25', '13', '29', '29', '198', '10', '12', '493.8', '24.6', '21.9', '28', '16', '10', '17.4', '12.2', '114', '48', '31', '10', '14.1', '10', '54.3', '9', '7.9', '134.7', '35', '14.1', '44', '10', '37', '10', '356.1', '11.4', '51.1', '14', '10', '10', '8.5', '54.4', '11', '39', '12', '10', '10', '105.9', '136.6', '10', '28', '10', '6.3', '11', '11', '10', '46', '10', '6.6', '10', '487.4', '586.9', '210.7', '10.3', '602', '10.2', '6.8', '53.2', '12', '25', '527', '10', '7', '7', '50', '10', '15', '24.3', '8', '266', '110', '70', '35', '16', '163.9', '86.1', '61.4', '41.4', '28', '50.8', '36', '14', '11.9', '542.8', '13.6', '14', '95', '16.5', '10', '10', '132.6', '10', '10', '18', '92.1', '58', '39.7', '92', '229.8', '160.1', '35', '20', '55.8', '39.2', '10', '89.5', '12', '198', '10.4', '85.9', '13.1', '10', '536.9', '98.4', '19', '10', '625.3', '11.8', '10', '20.3', '22', '20', '20', '10', '32.8', '41', '75.3', '502.3', '18', '65', '144.6', '46', '20', '484.3', '13', '10', '13', '11', '12', '13', '10', '583.2', '56', '10', '10', '10', '10', '31.4', '10', '15', '10', '73', '15.1', '16', '10', '38', '54.5', '10', '91.1', '28', '35', '35', '47.4', '10', '14', '28', '40.3', '256.7', '12', '14', '10', '27', '35', '41.6', '10', '10', '5', '21', '35', '31', '115.8', '14', '8', '32.4', '10', '19', '10', '10', '85', '570.4', '11', '10', '121.7', '10', '16', '10', '12', '170', '15', '18.3', '9', '10', '41.4', '10', '40.4', '122', '14', '10', '20', '10', '81.8', '13', '37', '35', '10', '68.8', '21', '82.3', '81', '110.5', '326', '7.5', '10', '35', '36', '10', '436', '10', '123.1', '17', '55.7', '14', '10', '9', '10', '10', '35', '9', '142.1', '9.1', '37', '10', '19.1', '25', '35', '10', '10', '24', '35', '118.4', '13.7', '129', '13.7', '6', '28.4', '20', '9', '9', '24.4', '40.9', '63', '35', '10', '53', '28.1', '10', '29', '123.2', '10', '13', '18', '516.6', '11.2', '118.3', '50.3', '10', '10', '10', '200.2', '32', '10', '63.7', '14.4', '30.6', '31', '32', '20.2', '163', '139.8', '10', '63.2', '155', '30', '10', '13', '10', '26', '52', '68', '44.2', '10', '10', '200.7', '134.4', '15.2', '10', '14.2', '112.1', '4', '117.4', '26.3', '10', '12.8', '10', '93', '10', '38', '10', '4', '10', '12', '10', '10', '12', '19', '15', '45', '10', '9', '10', '10', '10', '13.4', '44.1', '15', '10', '10', '22.2', '107', '40.8', '6', '10', '11', '24', '10', '12.6', '10', '10', '23.1', '10', '10', '10', '8.8', '10', '10', '10', '10', '12.5', '10', '10', '10.5', '10', '10', '10', '14', '10', '10', '13.7', '24.5', '8', '18', '11', '11', '10', '14', '6', '12', '10', '21', '93', '10', '10', '9', '145', '18', '10', '10', '122', '11', '10', '10', '9.2', '35', '11', '74', '105', '207.1', '10', '10', '10', '35', '50', '47', '6', '18', '575.2', '12', '20', '10', '10', '10', '624.7', '18', '41', '39', '33', '29', '190.4', '22', '12', '15.2', '236.5', '39', '8', '60', '28', '14.2', '10', '10', '5', '21.8', '20', '11.7', '8', '10', '189', '10', '68.7', '19', '10', '15', '10', '10', '14', '16.8', '9', '563.3', '24.3', '562.8', '66', '9.9', '12', '11.5', '9.9', '21.4', '14', '280.2', '31', '7', '80', '13', '56.2', '50.4', '8.8', '50.5', '10', '10', '110', '15.2', '15', '14', '65.3', '108.1', '11', '18', '421.9', '44', '30', '18', '10', '63.8', '351', '35', '10', '15', '10', '9.9', '11', '3.9', '15', '8.9', '212.9', '17.6', '11', '14', '166.9', '602.2', '17', '105', '58.7', '10.1', '7', '10', '39', '15', '18', '35', '10', '30', '11.4', '7.6', '17.8', '30', '37.4', '92', '173.7', '150', '10', '7.968', '598.1', '514.3', '10', '624', '100', '18', '10.3', '9.2', '10', '185.4', '10', '56.1', '17', '10', '23.6', '39', '546', '33', '7.2', '29.2', '215', '20', '9', '195', '10', '30', '91.2', '52', '10', '19', '9.3', '9.9', '10', '10', '28.9', '10', '32.7', '120', '15', '13', '47.2', '10', '10.4', '198.9', '5.1', '10.1', '29', '21', '385.5', '6.8', '56', '60', '55', '10.5', '17.5', '10.1', '110', '10.3', '15', '11', '40', '8.8', '7', '17.5', '25', '21.8', '40', '14', '17', '8', '10', '155.5', '124', '13', '9.9', '31.65', '56', '10', '375.01', '53.88', '10.04', '10', '13.54', '6', '95', '340.6', '22.31', '10', '10', '12', '8.2', '5.8', '8.5', '14.258', '10', '92', '21', '111', '5', '4.73', '478', '662.37', '203', '29', '7.3', '8', '18', '25.16', '112', '10.02', '445', '35', '2.73', '9.85', '402', '9.92', '20', '26.6', '21', '17', '10', '20', '19', '10', '175.23', '66', '22.5', '10.52', '20', '24.02', '10', '4', '549.92', '10', '4', '15', '10.03', '14.48', '10.52', '10', '10', '40', '8.82', '12', '58.94', '41.54', '10', '573', '7.89', '12.72', '104', '10.28', '10', '151', '63', '40', '96.63', '4.41', '46', '19.04', '6.74', '16.01', '35', '9.45', '10', '11.91', '50', '160', '49.14', '22.87', '35', '8.74', '10', '20.16', '10', '39.2', '41.5', '10', '27', '9.98', '10.05', '10', '88.74', '4', '532', '65.64', '98', '10', '10.91', '10', '64.31', '10', '43', '20', '11.07', '46', '9.97', '10.28', '10.01', '59.4', '10', '10', '15.57', '10', '10', '328', '38', '10', '511', '10.13', '10.26', '6', '15.61', '14', '371', '34', '10.01', '11.78', '14.83', '76.57', '61.17', '8', '9.87', '10.09', '20', '110', '10', '30', '574', '28', '67.59', '42', '6.67', '11.37', '71.5', '601.97', '9', '10.63', '35.36', '122', '9.87', '10', '8', '92', '10', '40.7', '10.23', '95.83', '11.82', '24', '42.94', '10.95', '187', '26.1', '22', '53.91', '10', '20', '58.01', '211', '78', '20', '27', '28', '6.12', '11.34', '10.03', '579', '7', '10', '66', '8', '10', '600.21', '41', '120.03', '129.97', '45.95', '44.26', '5', '109', '7.05', '10', '48.18', '50.23', '122', '23.93', '41.8', '18.6', '10', '10', '99.9', '12.34', '12', '20.23', '27.01', '14.83', '112.21', '57.04', '10', '4', '10', '10', '10', '265', '60', '45', '119', '18.47', '20', '638', '109.6', '33', '27', '6', '8.41', '16.441', '260', '10', '7', '14.88', '79', '10', '10', '11.29', '20', '29', '20', '21', '5.96', '3.32', '20', '20', '30.73', '10', '26.15', '27', '21.54', '10', '20', '17', '606.87', '21', '22', '15.19', '17.05', '495', '10', '98', '10', '46', '10', '12', '114.5', '4', '25', '28.42', '21.61', '20.72', '10', '10', '16.53', '25', '58.06', '24.07', '22.4', '10', '10', '25', '44.12', '13.71', '57', '107', '40.18', '8', '6', '10', '4', '13', '13.77', '60.53', '20', '9.64', '20.07', '135', '20', '10', '22.56', '31.69', '12.45', '4', '13.37', '39', '10', '10', '10', '20', '5', '11.18', '10', '572.92', '10.43', '20.56', '10', '24', '23.4', '9.59', '29', '43.37', '35', '35', '10', '40.63', '20', '10', '11', '27', '13.93', '10', '63.11', '10', '45', '10', '106', '37', '13', '46.58', '15.97', '0.9', '89.55', '527', '634.21', '153', '6', '16.83', '10', '17.09', '192.3', '23', '91.1', '10', '10', '189.08', '10.47', '10', '213.12', '10', '11', '15.46', '9', '5.34', '104.95', '5.62', '5', '90', '10', '35', '62.04', '10', '4.78', '10', '10', '10', '13', '120.3', '47.23', '7', '8', '558.07', '10', '17', '6.43', '10', '90', '10', '11.29', '14.53', '59.6', '5', '20', '13.14', '12', '10', '15.33', '18.6', '30.51', '41.06', '6.42', '200', '4', '92', '15.87', '45', '14.97', '24.2', '11.3', '36', '10.6', '12.75', '12.25', '20', '10', '26.59', '109', '105.92', '10', '102.85', '101.88', '10', '10.66', '106.6', '100.3', '4', '11', '48', '8', '10', '10', '9', '18', '10', '10', '511', '10', '10', '7.61', '6', '116.13', '35', '38.82', '20', '50.31', '20', '8', '53', '10', '110.24', '10', '20', '6', '10', '10', '33.12', '52.51', '20', '10', '10', '10', '10', '227.27', '10', '61', '615.42', '118.73', '10', '10', '10', '5', '10', '107', '9.77', '10', '10', '10', '10', '10', '7.24', '13', '14.87', '10', '12', '10', '41', '78', '10', '10', '10', '98', '30.29', '10.2', '12', '5', '17.7', '5.19', '10', '8', '10', '100', '32', '11.12', '10.5', '101', '62', '10', '115.25', '20', '80', '10', '0', '6', '10', '10', '10', '35', '14', '7', '10', '17', '4.98', '35', '30', '40.82', '10', '28.07', '49.94', '130', '500', '11.84', '491.15', '109.33', '57.23', '224', '4', '108.9', '20.22', '10', '10', '10', '572.19', '42', '143', '30', '19.45', '145.8', '10', '4', '4', '8.51', '10', '10', '16.54', '10', '10', '10', '10', '22', '10', '10', '20', '40', '14.21', '10', '10', '60', '10', '10', '10', '10', '43', '125', '46.09', '8', '535', '10', '10', '434', '10', '10', '10', '39', '53.19', '7', '111.3', '29', '10', '10', '211', '45', '44.94', '90.28', '35', '22', '10', '19.08', '10', '6.61', '30', '32', '49', '4', '35', '9', '9', '32', '170', '9', '39', '30.39', '10', '37', '21', '614', '10', '11', '10', '15', '116', '23', '10', '28', '32', '20', '47.13', '40.71', '256', '10', '316.37', '10', '10', '118.07', '31.31', '41', '14', '10', '4', '10', '621.76', '8', '19.03', '599.28', '123', '110', '10', '8.06', '10', '8', '10', '10', '108.78', '59', '75', '20.91', '557.17', '56.76', '102', '8.32', '11', '154', '49', '219.96', '10', '12.58', '484.12', '16.881', '39.77', '7.08', '5', '176.66', '7.64', '10', '14', '172', '14', '19', '3.95', '37.28', '202.49', '223', '10', '41.67', '16.68', '30', '13', '23', '47', '10', '5', '10', '10', '10', '10', '10', '7', '149', '5', '20', '9', '9', '552.06', '20.09', '62', '20', '13', '28', '10', '10', '22', '11', '155', '112', '46', '31', '196', '555.93', '44', '13', '23.96', '10', '130', '35', '195.03', '112', '8', '118', '45.05', '41', '42.05', '10', '14.54', '11', '10', '9.64', '26', '35', '39', '10', '560', '59.21', '30', '8', '30', '10', '50', '8', '20', '10', '29', '27', '29', '29', '72', '48', '8', '8.22', '10', '10', '10', '10', '10', '22.91', '22', '581', '111', '10', '31', '44', '35', '10', '24', '35', '35', '10', '14', '55', '35', '35', '45.61', '10', '10', '36', '35', '9', '6', '15', '13.01', '15', '35', '151', '7', '9', '9', '10', '50', '7.2', '203', '11', '5', '11.19', '10', '31.84', '10', '10', '34', '124', '15', '35', '72.6', '10', '664', '10', '6.05', '10', '10', '10', '10', '42', '10', '30.96', '124', '10.49', '5.72', '48', '22', '20', '136', '656', '10', '11', '4.58', '50.11', '151', '562.61', '138', '460', '462.13', '470.67', '114.2', '10', '22', '28', '191', '43', '10', '12', '20', '8.71', '32', '10', '44', '49', '10', '10', '10', '10', '169.64', '45.68', '81', '12', '115', '53', '7.07', '20', '536.1', '11', '14', '8.55', '48', '52', '7.3', '29', '31.9', '27.84', '35', '35', '35', '39.58', '48', '12', '119.3', '9', '10', '9.11', '176', '100.85', '269', '11', '10', '10', '6.87', '28.49', '10', '22', '10', '46.28', '224', '6.73', '10', '30', '4.18', '6.43', '10', '10', '135', '17.32', '11.19', '10', '8', '32', '10', '10', '46.14', '52.4', '31.11', '228', '32', '10', '8', '296', '53', '20', '38', '535', '17', '10', '10', '5', '12.77', '10', '20', '26', '8', '27', '10', '10', '41.55', '6', '22.44', '26.7', '19.1', '37.8', '35', '35', '28.41', '32.1', '20.71', '12.46', '9.29', '42.32', '35', '27', '15.97', '23', '17.62', '10', '68.09', '10', '10', '10', '5.69', '6', '8', '10', '6', '28', '18', '10', '30', '35', '26.95', '28.36', '58', '10', '18', '25.54', '46', '516', '2.93', '10', '107', '219', '101', '14.53', '38', '5.89', '34', '90.82', '35', '10', '10', '21', '22', '12', '285', '17', '10.13', '12', '106', '304', '9.08', '135', '11', '11', '10', '8', '313.68', '10', '206.94', '231', '141', '111', '7', '13', '10.27', '20', '10', '10', '13', '46', '42', '37', '159.86', '69', '8', '16', '20', '10', '10', '10', '15', '13', '12', '10', '10', '83.02', '126', '27', '12', '10', '6.71', '34', '11', '18', '12.59', '14', '82', '27', '102', '34', '586.88', '10', '606.21', '620.56', '33.16', '602.75', '52', '34', '69', '10', '11', '10', '10', '10', '35', '547', '22', '49.53', '21.53', '84', '25', '21', '10', '10', '10', '10', '85', '10', '27', '48.34', '14', '162', '10', '12.28', '119', '10', '206', '150', '30', '20', '10', '34', '585.47', '55', '4.71', '10', '158', '24.03', '4', '13', '238.81', '10', '239', '263', '582.56', '46', '10', '10', '35', '4.11', '7.05', '27.1', '9', '123.09', '10', '44.13', '129', '53', '12', '42.65', '26', '35', '10', '177', '13', '10', '10', '391', '196', '23', '10', '51', '29', '29', '28', '7.63', '410', '10', '10', '29', '13', '9', '99', '582.65', '10', '21', '12', '10', '10', '10', '175.44', '10', '24', '10', '29.5', '10', '10', '10', '33', '12.71', '19', '210.5', '84', '10', '10', '34.94', '29', '10', '10', '17', '269.8', '10', '26', '30', '10', '10', '16', '10', '11.24', '29.71', '55', '14', '6', '11.4', '26', '35', '35', '24', '35', '29', '118', '27.59', '41', '25', '212', '19', '23', '10', '9', '136', '17', '32', '7.47', '9', '8', '16', '136.78', '89.95', '22.41', '10', '10', '13.22', '10', '20.59', '15.49', '23.95', '10', '10', '10.46', '76', '14', '11', '14', '10', '28', '33.11', '10', '10.29', '10', '10', '27.17', '16', '107', '16', '13', '24', '10', '2.99', '117', '15.03', '61', '10', '26', '10', '10', '10', '22', '10', '8', '9', '10', '506.36', '10', '10', '10', '16', '29.95', '10', '124.52', '10', '10', '567.48', '405.69', '78', '47', '246.4', '18.37', '37.54', '43.85', '50', '10', '28', '429.62', '10', '43.83', '28.31', '39.65', '10', '10', '31', '10', '19', '10', '30.4', '10', '10', '10', '10', '111', '5.39', '10', '10', '45.64', '186', '13', '16', '15', '10', '354', '10', '10', '118.96', '10', '13', '12.82', '19', '13.59', '9', '27', '44', '10', '7.1', '10', '8', '8', '164.84', '17', '21', '43.25', '10', '12', '10', '10', '10', '16.01', '8.01', '167', '408', '9', '10', '203.6', '37', '10', '10', '10', '72', '14', '10', '31', '10', '196', '187.78', '37', '99', '21', '10', '34', '270', '510', '10', '16.37', '112.85', '10', '11', '65', '20', '33', '10', '10', '10', '10', '10', '3.35', '6.79', '10', '10', '11', '12', '391', '533', '520.29', '4.44', '3.25', '82', '19', '456', '41.82', '10', '476', '15.41', '19', '10.39', '16.81', '10', '13.73', '8.88', '10.47', '35', '10', '8', '10', '28.57', '5.557', '10', '16', '27', '8', '40.14', '10', '157.56', '121', '40', '10', '18', '14', '10', '10', '9', '59.05', '31', '10', '9', '8', '10', '10', '65', '92', '10', '8', '13.76', '202', '596.4', '10', '38', '7.56', '10', '10', '35', '10', '14', '10', '10', '35', '128', '10', '11', '10', '442', '22', '42', '35', '540', '146', '614', '10', '104.46', '5.63', '29', '12', '10', '10', '10', '6', '10', '10', '61', '13.89', '12.57', '45.15', '457.86', '8', '33', '51.99', '90', '33', '10', '20', '448.76', '10', '543.92', '42.4', '548', '10', '15.11', '9.91', '10', '10', '10.06', '14.59', '13.99', '2.09', '109.12', '10', '9', '34.26', '12', '17.21', '10', '20', '85', '112.15', '10', '108', '10', '9', '9.08', '10', '481', '9', '10', '35', '87.86', '17', '29.85', '10', '24', '10', '12', '28.42', '155', '139', '526', '31.75', '13', '17.55', '8.45', '40', '35', '27.2', '12.26', '35', '19.73', '39.04', '18.38', '10', '48.61', '51.84', '7.66', '142.58', '10', '10', '22.37', '10', '70.61', '94.54', '82.26', '8.43', '39', '10', '12', '19', '31.95', '612', '20', '10', '10', '10', '10.38', '152', '8', '35', '30', '38', '14.93', '97', '11.3', '12.2', '8.8', '7', '79', '10', '106', '551.62', '32', '10.26', '12', '10', '10', '19.36', '22.1', '7', '172', '61', '10', '31', '627.17', '10', '26', '72', '7.26', '22.95', '42', '3.92', '5.24', '4.39', '14.03', '6', '14.89', '11', '7', '10', '36', '46.85', '135', '10', '10', '18', '79', '10', '9', '44', '37.95', '29.07', '15', '222', '6', '595.98', '10', '30', '414.5', '581.62', '255', '47', '10', '21.34', '78', '10', '17', '10.51', '10', '37', '10', '56', '8', '10', '22', '99', '10', '127', '10', '19', '10', '8.37', '111.71', '33.97', '20', '17', '17', '94', '10', '29', '19.22', '17', '13', '253', '10.22', '14.26', '10', '10', '13', '12', '8.28', '10', '10', '502.06', '155', '10', '16', '16', '628', '14', '10', '13', '21', '20', '28', '10', '19', '59', '22', '27', '26', '10', '31', '10', '2.53', '4.09', '10', '10', '11', '10', '12', '17', '17', '13', '10', '16', '169', '11', '15', '10', '13', '40', '16', '8', '116', '10', '10', '533', '10', '144', '54', '10', '52', '10', '127', '16', '12', '81.14', '76', '117.83', '5', '192.85', '10', '49', '10', '10', '10', '7', '27', '12', '13.6', '10', '93', '14.03', '34', '10', '10', '40', '511', '278', '38.12', '27', '10', '97', '10', '10', '132', '61', '19', '404.82', '49', '10', '13', '16', '16', '13', '12.18', '9', '36', '25.75', '60.89', '7.1', '10', '10', '10', '545', '34', '113', '15.5', '7', '9', '10', '43.68', '10', '10', '31', '7', '6.27', '67', '10', '12', '15.58', '10', '10', '86', '110', '76', '70', '10', '31', '10', '10', '9', '20', '29', '29', '10', '172', '41', '9', '31', '32', '10', '8', '198', '35', '13.7', '544', '10', '8', '43.14', '62.9', '10', '11', '0', '25', '181.33', '451', '47.39', '36.25', '29', '29', '45', '10', '35', '27', '166', '9', '35', '18.92', '10', '17', '10', '29.73', '48', '8', '11', '197', '10', '588', '10', '12.68', '53.84', '10', '8.18', '47.44', '10', '96', '37', '10', '10', '10', '110.18', '10', '9', '44', '10', '10', '10', '119', '85', '9', '10', '165.65', '56', '14', '10', '10', '92.61', '193', '14', '10', '553.81', '41.82', '10', '10', '10', '110.17', '24', '10', '10', '4', '8.14', '6', '15.77', '11', '22', '10', '10', '7.9', '10', '10', '10', '10', '482.88', '47.22', '10', '548', '110.57', '593.71', '12', '10', '10', '19', '10.2', '19.36', '596.92', '10', '123', '10', '10', '10', '59', '8', '35', '8', '14', '13', '5.94', '10', '10', '9', '10', '15.91', '11', '10.35', '54', '10', '10', '16.87', '9.61', '157', '116', '10', '9', '34', '10', '17', '38', '10', '28', '12.79', '12', '8', '155', '10', '7', '186', '12', '12', '8', '17', '23', '90', '391.9', '10', '10', '10', '10', '47.29', '38.11', '10', '23.79', '10', '10', '95.07', '579.49', '9.46', '33', '10', '19', '10', '519.64', '9', '11', '39', '55.92', '22', '666.76', '41.51', '466.2', '33', '10', '116', '48.19', '14.06', '32.65', '10', '10', '31', '10', '11.15', '639.56', '8.88', '10', '9.8', '10', '10', '10', '34', '193.73', '67.8', '7', '8', '10', '10', '38', '10', '10', '10', '12', '9.14', '17', '243.29', '15', '10', '211.45', '4.3', '556.91', '13', '604.22', '268', '631.16', '10', '11', '10', '10', '22', '3.48', '22', '30.57', '25.21', '10', '20.16', '9', '22', '9', '19', '203', '12', '10', '16', '135', '6', '10', '10', '20.49', '32', '50', '10', '17', '22.86', '30', '540.34', '30', '10', '10', '10', '10', '22.22', '10', '33', '10', '144', '577.24', '50', '169', '40', '32', '35', '10', '5', '92', '559', '50', '62.9', '34', '511', '44', '10', '10', '18.07', '10.34', '245', '66', '25.6', '34', '10', '10', '10', '10', '10', '652.53', '10', '47.28', '83', '531.08', '10', '10', '266', '10', '10', '585', '10', '10', '10', '6.48', '5.81', '18', '10', '10', '6', '9', '116', '29', '535', '10', '10', '17', '90', '34', '284.39', '11', '10', '10', '10.99', '226.35', '10', '30', '10', '10', '16.63', '10', '10', '23.1', '13', '31', '9', '10', '19', '10', '10', '10', '10', '10.34', '99.17', '10', '189', '10', '28', '23', '10', '10', '10', '25.28', '10', '115', '15', '392.59', '97', '113', '45', '10', '40', '35', '10', '255', '10', '10', '541.3', '167', '10', '10', '10', '10', '37.96', '29.65', '48.46', '21.39', '29.62', '579', '121', '10', '12', '10', '103.46', '10', '10', '124.63', '10', '19', '578.16', '14', '10', '10.9', '10', '34', '31.26', '10', '14.47', '15', '10', '18', '10', '27', '10', '2.2', '1', '10', '1.7', '25', '33.93', '11.24', '20', '529', '18', '15', '10', '600', '575.76', '580.21', '520.06', '575.52', '537.63', '618.29', '606.99', '16', '415.6', '21', '10', '10', '10', '535.37', '146.82', '9', '10', '108', '34', '10', '10', '20', '630', '10', '4.6', '23', '11.58', '10', '49', '14', '8.18', '600.62', '55', '23', '21.43', '11', '116.3', '10', '435', '10', '10', '29.37', '10', '10', '10', '10', '35', '528.03', '670.81', '656.35', '110.5', '93.13', '10', '8', '10', '9', '10', '489.11', '68', '115', '12', '10', '48', '9.32', '10', '10.2', '576', '10', '17', '516.25', '15', '652.35', '638.64', '10', '32', '582.37', '10', '10', '10', '4.99', '10', '20', '10', '10', '10', '10', '10', '550', '29', '26', '17.58', '10', '590.03', '10', '10', '24', '10', '400', '7', '19', '36.19', '9', '41.56', '39', '45.11', '19.63', '121', '20', '10', '15.06', '10', '10', '64.33', '197.43', '461', '10', '10', '10', '12', '17', '10', '10', '10', '35', '10', '58', '358.83', '10', '10', '10', '10', '30', '10', '31', '40', '14', '10', '8', '151', '22', '94', '10', '10', '10', '10', '225.48', '11', '29', '102', '433', '600.71', '9', '10', '10', '10', '10', '51', '35', '10', '10', '49', '14.01', '10', '15', '10', '10', '10', '540', '123', '143.3', '10', '76', '10', '10', '10', '40', '18', '10', '16', '574.21', '10', '10', '10', '10', '9.87', '46.7', '40.8', '136', '10', '10', '10', '131', '10', '36.76', '10', '10', '10', '10', '10', '10', '10', '10', '12', '9', '133', '10', '61.97', '9', '10', '10', '10', '31.68', '16.56', '10', '10', '10', '10', '10', '18.06', '10', '42', '10', '113', '13.04', '9.06', '10', '10', '120', '41', '60.21', '166', '31'])]"
            ]
          },
          "metadata": {},
          "execution_count": 40
        }
      ]
    },
    {
      "cell_type": "code",
      "source": [
        "#concat() \n",
        "\n",
        "from pyspark.sql.functions import concat,col\n",
        "data = [('    Pritam    ','','Das','16/10/98','M',3000),\n",
        "  ('Nikita      ','','Panda','10/12/97','F',4000),\n",
        "  ('    piu','Kumar','','03/02/98','M',4000)\n",
        "]\n",
        "\n",
        "columns = [\"first_name\",\"middle_name\",\"last_name\",\"dob\",\"gender\",\"salary\"]"
      ],
      "metadata": {
        "id": "jkJQEWa_-iQp"
      },
      "id": "jkJQEWa_-iQp",
      "execution_count": 41,
      "outputs": []
    },
    {
      "cell_type": "code",
      "source": [
        "df = spark.createDataFrame(data=data, schema = columns)\n",
        "df2=df.select(concat(df.first_name,df.middle_name,df.last_name)\n",
        "              .alias(\"FullName\"),\"dob\",\"gender\",\"salary\")\n",
        "df2.show(truncate=False)"
      ],
      "metadata": {
        "id": "CfPtrVkblJjE",
        "outputId": "bbdb4908-b869-4ac0-b8b5-79dcd2650716",
        "colab": {
          "base_uri": "https://localhost:8080/"
        }
      },
      "id": "CfPtrVkblJjE",
      "execution_count": 42,
      "outputs": [
        {
          "output_type": "stream",
          "name": "stdout",
          "text": [
            "+-----------------+--------+------+------+\n",
            "|FullName         |dob     |gender|salary|\n",
            "+-----------------+--------+------+------+\n",
            "|    Pritam    Das|16/10/98|M     |3000  |\n",
            "|Nikita      Panda|10/12/97|F     |4000  |\n",
            "|    piuKumar     |03/02/98|M     |4000  |\n",
            "+-----------------+--------+------+------+\n",
            "\n"
          ]
        }
      ]
    },
    {
      "cell_type": "code",
      "source": [
        "#concat_ws()\n",
        "\n",
        "from pyspark.sql.functions import concat_ws,col\n",
        "df3=df.select(concat_ws('_',df.first_name,df.middle_name,df.last_name)\n",
        "              .alias(\"FullName\"),\"dob\",\"gender\",\"salary\")\n",
        "df3.show(truncate=False)"
      ],
      "metadata": {
        "id": "A8TQsxppme0E",
        "outputId": "44cdbcd2-1824-4ea8-c169-79a5650a76f9",
        "colab": {
          "base_uri": "https://localhost:8080/"
        }
      },
      "id": "A8TQsxppme0E",
      "execution_count": 43,
      "outputs": [
        {
          "output_type": "stream",
          "name": "stdout",
          "text": [
            "+-------------------+--------+------+------+\n",
            "|FullName           |dob     |gender|salary|\n",
            "+-------------------+--------+------+------+\n",
            "|    Pritam    __Das|16/10/98|M     |3000  |\n",
            "|Nikita      __Panda|10/12/97|F     |4000  |\n",
            "|    piu_Kumar_     |03/02/98|M     |4000  |\n",
            "+-------------------+--------+------+------+\n",
            "\n"
          ]
        }
      ]
    },
    {
      "cell_type": "code",
      "source": [
        "#date_format()\n",
        "from pyspark.sql.functions import *\n",
        "yes.select(col(\"date\"), \n",
        "    date_format(col(\"date\"), \"MM-dd-yyyy\").alias(\"date_format\") \n",
        "  ).show()"
      ],
      "metadata": {
        "id": "dK96T7Jamym6",
        "outputId": "e40bad79-9041-40af-da2b-21ef4b25c924",
        "colab": {
          "base_uri": "https://localhost:8080/"
        }
      },
      "id": "dK96T7Jamym6",
      "execution_count": 49,
      "outputs": [
        {
          "output_type": "stream",
          "name": "stdout",
          "text": [
            "+----------+-----------+\n",
            "|      date|date_format|\n",
            "+----------+-----------+\n",
            "|1969-01-01| 01-01-1969|\n",
            "|1969-01-02| 01-02-1969|\n",
            "|1969-01-03| 01-03-1969|\n",
            "|1969-01-03| 01-03-1969|\n",
            "|1969-01-04| 01-04-1969|\n",
            "|1969-01-05| 01-05-1969|\n",
            "|1969-01-06| 01-06-1969|\n",
            "|1969-01-08| 01-08-1969|\n",
            "|1969-01-10| 01-10-1969|\n",
            "|1969-01-13| 01-13-1969|\n",
            "|1969-01-14| 01-14-1969|\n",
            "|1969-01-18| 01-18-1969|\n",
            "|1969-01-19| 01-19-1969|\n",
            "|1969-01-19| 01-19-1969|\n",
            "|1969-01-20| 01-20-1969|\n",
            "|1969-01-20| 01-20-1969|\n",
            "|1969-01-22| 01-22-1969|\n",
            "|1969-01-24| 01-24-1969|\n",
            "|1969-01-25| 01-25-1969|\n",
            "|1969-01-26| 01-26-1969|\n",
            "+----------+-----------+\n",
            "only showing top 20 rows\n",
            "\n"
          ]
        }
      ]
    },
    {
      "cell_type": "code",
      "source": [
        "#dayofweek(), dayofmonth(), dayofyear()\n",
        "\n",
        "yes.select(col(\"date\"),  \n",
        "     dayofweek(col(\"date\")).alias(\"dayofweek\"), \n",
        "     dayofmonth(col(\"date\")).alias(\"dayofmonth\"), \n",
        "     dayofyear(col(\"date\")).alias(\"dayofyear\"), \n",
        "  ).show()"
      ],
      "metadata": {
        "id": "FZS_6oa6nehJ",
        "outputId": "7301464b-b056-4ddc-bfc8-814d9513af1f",
        "colab": {
          "base_uri": "https://localhost:8080/"
        }
      },
      "id": "FZS_6oa6nehJ",
      "execution_count": 50,
      "outputs": [
        {
          "output_type": "stream",
          "name": "stdout",
          "text": [
            "+----------+---------+----------+---------+\n",
            "|      date|dayofweek|dayofmonth|dayofyear|\n",
            "+----------+---------+----------+---------+\n",
            "|1969-01-01|        4|         1|        1|\n",
            "|1969-01-02|        5|         2|        2|\n",
            "|1969-01-03|        6|         3|        3|\n",
            "|1969-01-03|        6|         3|        3|\n",
            "|1969-01-04|        7|         4|        4|\n",
            "|1969-01-05|        1|         5|        5|\n",
            "|1969-01-06|        2|         6|        6|\n",
            "|1969-01-08|        4|         8|        8|\n",
            "|1969-01-10|        6|        10|       10|\n",
            "|1969-01-13|        2|        13|       13|\n",
            "|1969-01-14|        3|        14|       14|\n",
            "|1969-01-18|        7|        18|       18|\n",
            "|1969-01-19|        1|        19|       19|\n",
            "|1969-01-19|        1|        19|       19|\n",
            "|1969-01-20|        2|        20|       20|\n",
            "|1969-01-20|        2|        20|       20|\n",
            "|1969-01-22|        4|        22|       22|\n",
            "|1969-01-24|        6|        24|       24|\n",
            "|1969-01-25|        7|        25|       25|\n",
            "|1969-01-26|        1|        26|       26|\n",
            "+----------+---------+----------+---------+\n",
            "only showing top 20 rows\n",
            "\n"
          ]
        }
      ]
    },
    {
      "cell_type": "code",
      "source": [
        "#trim()\n",
        "#remove white spaces\n",
        "\n",
        "df2.withColumn(\"FullName\",trim(col(\"FullName\"))).show()"
      ],
      "metadata": {
        "id": "hL6ojz4DpqlN",
        "outputId": "8ce66bdb-2012-4187-e510-b52eb7d4add4",
        "colab": {
          "base_uri": "https://localhost:8080/"
        }
      },
      "id": "hL6ojz4DpqlN",
      "execution_count": 51,
      "outputs": [
        {
          "output_type": "stream",
          "name": "stdout",
          "text": [
            "+-----------------+--------+------+------+\n",
            "|         FullName|     dob|gender|salary|\n",
            "+-----------------+--------+------+------+\n",
            "|    Pritam    Das|16/10/98|     M|  3000|\n",
            "|Nikita      Panda|10/12/97|     F|  4000|\n",
            "|         piuKumar|03/02/98|     M|  4000|\n",
            "+-----------------+--------+------+------+\n",
            "\n"
          ]
        }
      ]
    },
    {
      "cell_type": "code",
      "source": [
        "df4=df2.withColumn('new_gender', when(col('gender')=='M','Male').otherwise('Female'))\n",
        "df4.show()"
      ],
      "metadata": {
        "id": "gt4l9L4-qzsK",
        "outputId": "56c14205-d306-45b4-d5d0-d72dd654cbb1",
        "colab": {
          "base_uri": "https://localhost:8080/"
        }
      },
      "id": "gt4l9L4-qzsK",
      "execution_count": 52,
      "outputs": [
        {
          "output_type": "stream",
          "name": "stdout",
          "text": [
            "+-----------------+--------+------+------+----------+\n",
            "|         FullName|     dob|gender|salary|new_gender|\n",
            "+-----------------+--------+------+------+----------+\n",
            "|    Pritam    Das|16/10/98|     M|  3000|      Male|\n",
            "|Nikita      Panda|10/12/97|     F|  4000|    Female|\n",
            "|         piuKumar|03/02/98|     M|  4000|      Male|\n",
            "+-----------------+--------+------+------+----------+\n",
            "\n"
          ]
        }
      ]
    },
    {
      "cell_type": "code",
      "source": [
        "df4.drop('gender')"
      ],
      "metadata": {
        "id": "IC5C8EV1yUwo",
        "outputId": "0a0a85d7-b234-4b4e-e4bf-bbf720d86353",
        "colab": {
          "base_uri": "https://localhost:8080/",
          "height": 114
        }
      },
      "id": "IC5C8EV1yUwo",
      "execution_count": 61,
      "outputs": [
        {
          "output_type": "execute_result",
          "data": {
            "text/plain": [
              "+-----------------+--------+------+----------+\n",
              "|         FullName|     dob|salary|new_gender|\n",
              "+-----------------+--------+------+----------+\n",
              "|    Pritam    Das|16/10/98|  3000|      Male|\n",
              "|Nikita      Panda|10/12/97|  4000|    Female|\n",
              "|         piuKumar|03/02/98|  4000|      Male|\n",
              "+-----------------+--------+------+----------+"
            ],
            "text/html": [
              "<table border='1'>\n",
              "<tr><th>FullName</th><th>dob</th><th>salary</th><th>new_gender</th></tr>\n",
              "<tr><td>    Pritam    Das</td><td>16/10/98</td><td>3000</td><td>Male</td></tr>\n",
              "<tr><td>Nikita      Panda</td><td>10/12/97</td><td>4000</td><td>Female</td></tr>\n",
              "<tr><td>    piuKumar</td><td>03/02/98</td><td>4000</td><td>Male</td></tr>\n",
              "</table>\n"
            ]
          },
          "metadata": {},
          "execution_count": 61
        }
      ]
    },
    {
      "cell_type": "code",
      "source": [
        "#translate()\n",
        "\n",
        "data = spark.createDataFrame([[\"Pritam\", 24], [\"Nikita\", 20], [\"Rahul\", 40]], [\"name\", \"age\"])\n",
        "data.show()"
      ],
      "metadata": {
        "id": "QJS6x31ZyyYX",
        "outputId": "d129a2c4-ce74-4f57-aa0a-ce80d0fbe47b",
        "colab": {
          "base_uri": "https://localhost:8080/"
        }
      },
      "id": "QJS6x31ZyyYX",
      "execution_count": 62,
      "outputs": [
        {
          "output_type": "stream",
          "name": "stdout",
          "text": [
            "+------+---+\n",
            "|  name|age|\n",
            "+------+---+\n",
            "|Pritam| 24|\n",
            "|Nikita| 20|\n",
            "| Rahul| 40|\n",
            "+------+---+\n",
            "\n"
          ]
        }
      ]
    },
    {
      "cell_type": "code",
      "source": [
        "import pyspark.sql.functions as F\n",
        "data.select(F.translate(\"name\", \"PriR\", \"ooot\")).show()               #in name column P-->o\n",
        "                                                                      #r-->o\n",
        "                                                                      #i-->o\n",
        "                                                                      #R-->T"
      ],
      "metadata": {
        "id": "t_W860xmfeka",
        "outputId": "989caafb-6724-421b-9aa8-7b3557d4e7f8",
        "colab": {
          "base_uri": "https://localhost:8080/"
        }
      },
      "id": "t_W860xmfeka",
      "execution_count": 65,
      "outputs": [
        {
          "output_type": "stream",
          "name": "stdout",
          "text": [
            "+---------------------------+\n",
            "|translate(name, PriR, ooot)|\n",
            "+---------------------------+\n",
            "|                     oootam|\n",
            "|                     Nokota|\n",
            "|                      tahul|\n",
            "+---------------------------+\n",
            "\n"
          ]
        }
      ]
    },
    {
      "cell_type": "code",
      "source": [],
      "metadata": {
        "id": "yF3wWRXff8LY"
      },
      "id": "yF3wWRXff8LY",
      "execution_count": null,
      "outputs": []
    }
  ],
  "metadata": {
    "colab": {
      "provenance": []
    },
    "language_info": {
      "name": "python"
    },
    "kernelspec": {
      "name": "python3",
      "display_name": "Python 3"
    },
    "gpuClass": "standard"
  },
  "nbformat": 4,
  "nbformat_minor": 5
}