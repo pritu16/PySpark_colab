{
  "cells": [
    {
      "cell_type": "code",
      "source": [
        "!apt-get install openjdk-8-jdk-headless -qq > /dev/null\n",
        "!wget -q http://archive.apache.org/dist/spark/spark-3.1.1/spark-3.1.1-bin-hadoop3.2.tgz\n",
        "!tar xf spark-3.1.1-bin-hadoop3.2.tgz\n",
        "!pip install -q findspark\n",
        "     "
      ],
      "metadata": {
        "id": "r-U1ALputaHs"
      },
      "id": "r-U1ALputaHs",
      "execution_count": 52,
      "outputs": []
    },
    {
      "cell_type": "code",
      "source": [
        "import os\n",
        "os.environ[\"JAVA_HOME\"] = \"/usr/lib/jvm/java-8-openjdk-amd64\"\n",
        "os.environ[\"SPARK_HOME\"] = \"/content/spark-3.1.1-bin-hadoop3.2\""
      ],
      "metadata": {
        "id": "5xdVxhnEtjkM"
      },
      "id": "5xdVxhnEtjkM",
      "execution_count": 53,
      "outputs": []
    },
    {
      "cell_type": "code",
      "source": [
        "import findspark\n",
        "findspark.init()\n",
        "from pyspark.sql import SparkSession\n",
        "spark = SparkSession.builder.master(\"local[*]\").getOrCreate()\n",
        "spark.conf.set(\"spark.sql.repl.eagerEval.enabled\", True) # Property used to format output tables better\n",
        "spark"
      ],
      "metadata": {
        "id": "Jpe3AAbatoXY",
        "outputId": "bfc63e28-ccc1-4245-a479-890a4fab2edc",
        "colab": {
          "base_uri": "https://localhost:8080/",
          "height": 219
        }
      },
      "id": "Jpe3AAbatoXY",
      "execution_count": 54,
      "outputs": [
        {
          "output_type": "execute_result",
          "data": {
            "text/plain": [
              "<pyspark.sql.session.SparkSession at 0x7f5fe3b0feb0>"
            ],
            "text/html": [
              "\n",
              "            <div>\n",
              "                <p><b>SparkSession - in-memory</b></p>\n",
              "                \n",
              "        <div>\n",
              "            <p><b>SparkContext</b></p>\n",
              "\n",
              "            <p><a href=\"http://297f1c260f5b:4040\">Spark UI</a></p>\n",
              "\n",
              "            <dl>\n",
              "              <dt>Version</dt>\n",
              "                <dd><code>v3.1.1</code></dd>\n",
              "              <dt>Master</dt>\n",
              "                <dd><code>local[*]</code></dd>\n",
              "              <dt>AppName</dt>\n",
              "                <dd><code>pyspark-shell</code></dd>\n",
              "            </dl>\n",
              "        </div>\n",
              "        \n",
              "            </div>\n",
              "        "
            ]
          },
          "metadata": {},
          "execution_count": 54
        }
      ]
    },
    {
      "cell_type": "code",
      "source": [
        "from google.colab import files\n",
        "uploaded=files.upload()"
      ],
      "metadata": {
        "id": "wWH9xKyCtrt7",
        "outputId": "0e6c64ec-21cc-48d5-919b-8aecfebbef73",
        "colab": {
          "base_uri": "https://localhost:8080/",
          "height": 74
        }
      },
      "id": "wWH9xKyCtrt7",
      "execution_count": 55,
      "outputs": [
        {
          "output_type": "display_data",
          "data": {
            "text/plain": [
              "<IPython.core.display.HTML object>"
            ],
            "text/html": [
              "\n",
              "     <input type=\"file\" id=\"files-3f1464c8-2bbe-48b1-9724-d72d6f2e99aa\" name=\"files[]\" multiple disabled\n",
              "        style=\"border:none\" />\n",
              "     <output id=\"result-3f1464c8-2bbe-48b1-9724-d72d6f2e99aa\">\n",
              "      Upload widget is only available when the cell has been executed in the\n",
              "      current browser session. Please rerun this cell to enable.\n",
              "      </output>\n",
              "      <script>// Copyright 2017 Google LLC\n",
              "//\n",
              "// Licensed under the Apache License, Version 2.0 (the \"License\");\n",
              "// you may not use this file except in compliance with the License.\n",
              "// You may obtain a copy of the License at\n",
              "//\n",
              "//      http://www.apache.org/licenses/LICENSE-2.0\n",
              "//\n",
              "// Unless required by applicable law or agreed to in writing, software\n",
              "// distributed under the License is distributed on an \"AS IS\" BASIS,\n",
              "// WITHOUT WARRANTIES OR CONDITIONS OF ANY KIND, either express or implied.\n",
              "// See the License for the specific language governing permissions and\n",
              "// limitations under the License.\n",
              "\n",
              "/**\n",
              " * @fileoverview Helpers for google.colab Python module.\n",
              " */\n",
              "(function(scope) {\n",
              "function span(text, styleAttributes = {}) {\n",
              "  const element = document.createElement('span');\n",
              "  element.textContent = text;\n",
              "  for (const key of Object.keys(styleAttributes)) {\n",
              "    element.style[key] = styleAttributes[key];\n",
              "  }\n",
              "  return element;\n",
              "}\n",
              "\n",
              "// Max number of bytes which will be uploaded at a time.\n",
              "const MAX_PAYLOAD_SIZE = 100 * 1024;\n",
              "\n",
              "function _uploadFiles(inputId, outputId) {\n",
              "  const steps = uploadFilesStep(inputId, outputId);\n",
              "  const outputElement = document.getElementById(outputId);\n",
              "  // Cache steps on the outputElement to make it available for the next call\n",
              "  // to uploadFilesContinue from Python.\n",
              "  outputElement.steps = steps;\n",
              "\n",
              "  return _uploadFilesContinue(outputId);\n",
              "}\n",
              "\n",
              "// This is roughly an async generator (not supported in the browser yet),\n",
              "// where there are multiple asynchronous steps and the Python side is going\n",
              "// to poll for completion of each step.\n",
              "// This uses a Promise to block the python side on completion of each step,\n",
              "// then passes the result of the previous step as the input to the next step.\n",
              "function _uploadFilesContinue(outputId) {\n",
              "  const outputElement = document.getElementById(outputId);\n",
              "  const steps = outputElement.steps;\n",
              "\n",
              "  const next = steps.next(outputElement.lastPromiseValue);\n",
              "  return Promise.resolve(next.value.promise).then((value) => {\n",
              "    // Cache the last promise value to make it available to the next\n",
              "    // step of the generator.\n",
              "    outputElement.lastPromiseValue = value;\n",
              "    return next.value.response;\n",
              "  });\n",
              "}\n",
              "\n",
              "/**\n",
              " * Generator function which is called between each async step of the upload\n",
              " * process.\n",
              " * @param {string} inputId Element ID of the input file picker element.\n",
              " * @param {string} outputId Element ID of the output display.\n",
              " * @return {!Iterable<!Object>} Iterable of next steps.\n",
              " */\n",
              "function* uploadFilesStep(inputId, outputId) {\n",
              "  const inputElement = document.getElementById(inputId);\n",
              "  inputElement.disabled = false;\n",
              "\n",
              "  const outputElement = document.getElementById(outputId);\n",
              "  outputElement.innerHTML = '';\n",
              "\n",
              "  const pickedPromise = new Promise((resolve) => {\n",
              "    inputElement.addEventListener('change', (e) => {\n",
              "      resolve(e.target.files);\n",
              "    });\n",
              "  });\n",
              "\n",
              "  const cancel = document.createElement('button');\n",
              "  inputElement.parentElement.appendChild(cancel);\n",
              "  cancel.textContent = 'Cancel upload';\n",
              "  const cancelPromise = new Promise((resolve) => {\n",
              "    cancel.onclick = () => {\n",
              "      resolve(null);\n",
              "    };\n",
              "  });\n",
              "\n",
              "  // Wait for the user to pick the files.\n",
              "  const files = yield {\n",
              "    promise: Promise.race([pickedPromise, cancelPromise]),\n",
              "    response: {\n",
              "      action: 'starting',\n",
              "    }\n",
              "  };\n",
              "\n",
              "  cancel.remove();\n",
              "\n",
              "  // Disable the input element since further picks are not allowed.\n",
              "  inputElement.disabled = true;\n",
              "\n",
              "  if (!files) {\n",
              "    return {\n",
              "      response: {\n",
              "        action: 'complete',\n",
              "      }\n",
              "    };\n",
              "  }\n",
              "\n",
              "  for (const file of files) {\n",
              "    const li = document.createElement('li');\n",
              "    li.append(span(file.name, {fontWeight: 'bold'}));\n",
              "    li.append(span(\n",
              "        `(${file.type || 'n/a'}) - ${file.size} bytes, ` +\n",
              "        `last modified: ${\n",
              "            file.lastModifiedDate ? file.lastModifiedDate.toLocaleDateString() :\n",
              "                                    'n/a'} - `));\n",
              "    const percent = span('0% done');\n",
              "    li.appendChild(percent);\n",
              "\n",
              "    outputElement.appendChild(li);\n",
              "\n",
              "    const fileDataPromise = new Promise((resolve) => {\n",
              "      const reader = new FileReader();\n",
              "      reader.onload = (e) => {\n",
              "        resolve(e.target.result);\n",
              "      };\n",
              "      reader.readAsArrayBuffer(file);\n",
              "    });\n",
              "    // Wait for the data to be ready.\n",
              "    let fileData = yield {\n",
              "      promise: fileDataPromise,\n",
              "      response: {\n",
              "        action: 'continue',\n",
              "      }\n",
              "    };\n",
              "\n",
              "    // Use a chunked sending to avoid message size limits. See b/62115660.\n",
              "    let position = 0;\n",
              "    do {\n",
              "      const length = Math.min(fileData.byteLength - position, MAX_PAYLOAD_SIZE);\n",
              "      const chunk = new Uint8Array(fileData, position, length);\n",
              "      position += length;\n",
              "\n",
              "      const base64 = btoa(String.fromCharCode.apply(null, chunk));\n",
              "      yield {\n",
              "        response: {\n",
              "          action: 'append',\n",
              "          file: file.name,\n",
              "          data: base64,\n",
              "        },\n",
              "      };\n",
              "\n",
              "      let percentDone = fileData.byteLength === 0 ?\n",
              "          100 :\n",
              "          Math.round((position / fileData.byteLength) * 100);\n",
              "      percent.textContent = `${percentDone}% done`;\n",
              "\n",
              "    } while (position < fileData.byteLength);\n",
              "  }\n",
              "\n",
              "  // All done.\n",
              "  yield {\n",
              "    response: {\n",
              "      action: 'complete',\n",
              "    }\n",
              "  };\n",
              "}\n",
              "\n",
              "scope.google = scope.google || {};\n",
              "scope.google.colab = scope.google.colab || {};\n",
              "scope.google.colab._files = {\n",
              "  _uploadFiles,\n",
              "  _uploadFilesContinue,\n",
              "};\n",
              "})(self);\n",
              "</script> "
            ]
          },
          "metadata": {}
        },
        {
          "output_type": "stream",
          "name": "stdout",
          "text": [
            "Saving employees.csv to employees (2).csv\n"
          ]
        }
      ]
    },
    {
      "cell_type": "code",
      "source": [
        "df=spark.read.format(\"csv\").load(\"employees.csv\")\n",
        "df.show()"
      ],
      "metadata": {
        "id": "L9TmWf_3vMPR",
        "outputId": "b7bdb735-3218-4124-ad6c-921d6ddd1f04",
        "colab": {
          "base_uri": "https://localhost:8080/"
        }
      },
      "id": "L9TmWf_3vMPR",
      "execution_count": 56,
      "outputs": [
        {
          "output_type": "stream",
          "name": "stdout",
          "text": [
            "+----------+------+----------+---------------+------+-------+-----------------+--------------------+\n",
            "|       _c0|   _c1|       _c2|            _c3|   _c4|    _c5|              _c6|                 _c7|\n",
            "+----------+------+----------+---------------+------+-------+-----------------+--------------------+\n",
            "|First Name|Gender|Start Date|Last Login Time|Salary|Bonus %|Senior Management|                Team|\n",
            "|   Douglas|  Male|  8/6/1993|       12:42 PM| 97308|  6.945|             true|           Marketing|\n",
            "|    Thomas|  Male| 3/31/1996|        6:53 AM| 61933|   4.17|             true|                null|\n",
            "|     Maria|Female| 4/23/1993|       11:17 AM|130590| 11.858|            false|             Finance|\n",
            "|     Jerry|  Male|  3/4/2005|        1:00 PM|138705|   9.34|             true|             Finance|\n",
            "|     Larry|  Male| 1/24/1998|        4:47 PM|101004|  1.389|             true|     Client Services|\n",
            "|    Dennis|  Male| 4/18/1987|        1:35 AM|115163| 10.125|            false|               Legal|\n",
            "|      Ruby|Female| 8/17/1987|        4:20 PM| 65476| 10.012|             true|             Product|\n",
            "|      null|Female| 7/20/2015|       10:43 AM| 45906| 11.598|             null|             Finance|\n",
            "|    Angela|Female|11/22/2005|        6:29 AM| 95570| 18.523|             true|         Engineering|\n",
            "|   Frances|Female|  8/8/2002|        6:51 AM|139852|  7.524|             true|Business Development|\n",
            "|    Louise|Female| 8/12/1980|        9:01 AM| 63241| 15.132|             true|                null|\n",
            "|     Julie|Female|10/26/1997|        3:19 PM|102508| 12.637|             true|               Legal|\n",
            "|   Brandon|  Male| 12/1/1980|        1:08 AM|112807| 17.492|             true|     Human Resources|\n",
            "|      Gary|  Male| 1/27/2008|       11:40 PM|109831|  5.831|            false|               Sales|\n",
            "|  Kimberly|Female| 1/14/1999|        7:13 AM| 41426| 14.543|             true|             Finance|\n",
            "|   Lillian|Female|  6/5/2016|        6:09 AM| 59414|  1.256|            false|             Product|\n",
            "|    Jeremy|  Male| 9/21/2010|        5:56 AM| 90370|  7.369|            false|     Human Resources|\n",
            "|     Shawn|  Male| 12/7/1986|        7:45 PM|111737|  6.414|            false|             Product|\n",
            "|     Diana|Female|10/23/1981|       10:27 AM|132940| 19.082|            false|     Client Services|\n",
            "+----------+------+----------+---------------+------+-------+-----------------+--------------------+\n",
            "only showing top 20 rows\n",
            "\n"
          ]
        }
      ]
    },
    {
      "cell_type": "code",
      "source": [
        "from pyspark.sql.types import StructType, StructField, IntegerType, StringType\n",
        "schema=StructType([\\\n",
        "                  StructField(\"First Name\",IntegerType(),True),\\\n",
        "                  StructField(\"Gender\",StringType(),True),\\\n",
        "                  StructField(\"Start Date\",StringType(),True),\\\n",
        "                  StructField(\"Last Login Time\", StringType(),True),\\\n",
        "                  StructField(\"Salary\",IntegerType(),True),\\\n",
        "                  StructField(\"Bonus%\", IntegerType(),True),\\\n",
        "                  StructField(\"Senior Management\",StringType(),True),\\\n",
        "                  StructField(\"Team\",StringType(),True)\\\n",
        "                   ])"
      ],
      "metadata": {
        "id": "Gj3mX52lxJJj"
      },
      "id": "Gj3mX52lxJJj",
      "execution_count": 57,
      "outputs": []
    },
    {
      "cell_type": "code",
      "source": [
        "df=spark.read.csv('employees.csv',schema=schema)\n",
        "df.show()"
      ],
      "metadata": {
        "id": "xeNVDjzSxLpc",
        "outputId": "9957c6ef-15e7-4ab5-b016-cbe6e1ca38e5",
        "colab": {
          "base_uri": "https://localhost:8080/"
        }
      },
      "id": "xeNVDjzSxLpc",
      "execution_count": 58,
      "outputs": [
        {
          "output_type": "stream",
          "name": "stdout",
          "text": [
            "+----------+------+----------+---------------+------+------+-----------------+--------------------+\n",
            "|First Name|Gender|Start Date|Last Login Time|Salary|Bonus%|Senior Management|                Team|\n",
            "+----------+------+----------+---------------+------+------+-----------------+--------------------+\n",
            "|      null|Gender|Start Date|Last Login Time|  null|  null|Senior Management|                Team|\n",
            "|      null|  Male|  8/6/1993|       12:42 PM| 97308|  null|             true|           Marketing|\n",
            "|      null|  Male| 3/31/1996|        6:53 AM| 61933|  null|             true|                null|\n",
            "|      null|Female| 4/23/1993|       11:17 AM|130590|  null|            false|             Finance|\n",
            "|      null|  Male|  3/4/2005|        1:00 PM|138705|  null|             true|             Finance|\n",
            "|      null|  Male| 1/24/1998|        4:47 PM|101004|  null|             true|     Client Services|\n",
            "|      null|  Male| 4/18/1987|        1:35 AM|115163|  null|            false|               Legal|\n",
            "|      null|Female| 8/17/1987|        4:20 PM| 65476|  null|             true|             Product|\n",
            "|      null|Female| 7/20/2015|       10:43 AM| 45906|  null|             null|             Finance|\n",
            "|      null|Female|11/22/2005|        6:29 AM| 95570|  null|             true|         Engineering|\n",
            "|      null|Female|  8/8/2002|        6:51 AM|139852|  null|             true|Business Development|\n",
            "|      null|Female| 8/12/1980|        9:01 AM| 63241|  null|             true|                null|\n",
            "|      null|Female|10/26/1997|        3:19 PM|102508|  null|             true|               Legal|\n",
            "|      null|  Male| 12/1/1980|        1:08 AM|112807|  null|             true|     Human Resources|\n",
            "|      null|  Male| 1/27/2008|       11:40 PM|109831|  null|            false|               Sales|\n",
            "|      null|Female| 1/14/1999|        7:13 AM| 41426|  null|             true|             Finance|\n",
            "|      null|Female|  6/5/2016|        6:09 AM| 59414|  null|            false|             Product|\n",
            "|      null|  Male| 9/21/2010|        5:56 AM| 90370|  null|            false|     Human Resources|\n",
            "|      null|  Male| 12/7/1986|        7:45 PM|111737|  null|            false|             Product|\n",
            "|      null|Female|10/23/1981|       10:27 AM|132940|  null|            false|     Client Services|\n",
            "+----------+------+----------+---------------+------+------+-----------------+--------------------+\n",
            "only showing top 20 rows\n",
            "\n"
          ]
        }
      ]
    },
    {
      "cell_type": "code",
      "source": [
        "df=spark.read.option(\"header\",\"true\").csv(\"employees.csv\")\n",
        "df.show(10,False)"
      ],
      "metadata": {
        "id": "VvphY4NNxPSM",
        "outputId": "a0b50005-5109-4776-8892-0d969359c68c",
        "colab": {
          "base_uri": "https://localhost:8080/"
        }
      },
      "id": "VvphY4NNxPSM",
      "execution_count": 59,
      "outputs": [
        {
          "output_type": "stream",
          "name": "stdout",
          "text": [
            "+----------+------+----------+---------------+------+-------+-----------------+--------------------+\n",
            "|First Name|Gender|Start Date|Last Login Time|Salary|Bonus %|Senior Management|Team                |\n",
            "+----------+------+----------+---------------+------+-------+-----------------+--------------------+\n",
            "|Douglas   |Male  |8/6/1993  |12:42 PM       |97308 |6.945  |true             |Marketing           |\n",
            "|Thomas    |Male  |3/31/1996 |6:53 AM        |61933 |4.17   |true             |null                |\n",
            "|Maria     |Female|4/23/1993 |11:17 AM       |130590|11.858 |false            |Finance             |\n",
            "|Jerry     |Male  |3/4/2005  |1:00 PM        |138705|9.34   |true             |Finance             |\n",
            "|Larry     |Male  |1/24/1998 |4:47 PM        |101004|1.389  |true             |Client Services     |\n",
            "|Dennis    |Male  |4/18/1987 |1:35 AM        |115163|10.125 |false            |Legal               |\n",
            "|Ruby      |Female|8/17/1987 |4:20 PM        |65476 |10.012 |true             |Product             |\n",
            "|null      |Female|7/20/2015 |10:43 AM       |45906 |11.598 |null             |Finance             |\n",
            "|Angela    |Female|11/22/2005|6:29 AM        |95570 |18.523 |true             |Engineering         |\n",
            "|Frances   |Female|8/8/2002  |6:51 AM        |139852|7.524  |true             |Business Development|\n",
            "+----------+------+----------+---------------+------+-------+-----------------+--------------------+\n",
            "only showing top 10 rows\n",
            "\n"
          ]
        }
      ]
    },
    {
      "cell_type": "code",
      "source": [
        "df.show()"
      ],
      "metadata": {
        "id": "e8bOzFJ8x0ho",
        "outputId": "a9cad971-0ce4-4dc0-ee7a-8bb695bd0297",
        "colab": {
          "base_uri": "https://localhost:8080/"
        }
      },
      "id": "e8bOzFJ8x0ho",
      "execution_count": 60,
      "outputs": [
        {
          "output_type": "stream",
          "name": "stdout",
          "text": [
            "+----------+------+----------+---------------+------+-------+-----------------+--------------------+\n",
            "|First Name|Gender|Start Date|Last Login Time|Salary|Bonus %|Senior Management|                Team|\n",
            "+----------+------+----------+---------------+------+-------+-----------------+--------------------+\n",
            "|   Douglas|  Male|  8/6/1993|       12:42 PM| 97308|  6.945|             true|           Marketing|\n",
            "|    Thomas|  Male| 3/31/1996|        6:53 AM| 61933|   4.17|             true|                null|\n",
            "|     Maria|Female| 4/23/1993|       11:17 AM|130590| 11.858|            false|             Finance|\n",
            "|     Jerry|  Male|  3/4/2005|        1:00 PM|138705|   9.34|             true|             Finance|\n",
            "|     Larry|  Male| 1/24/1998|        4:47 PM|101004|  1.389|             true|     Client Services|\n",
            "|    Dennis|  Male| 4/18/1987|        1:35 AM|115163| 10.125|            false|               Legal|\n",
            "|      Ruby|Female| 8/17/1987|        4:20 PM| 65476| 10.012|             true|             Product|\n",
            "|      null|Female| 7/20/2015|       10:43 AM| 45906| 11.598|             null|             Finance|\n",
            "|    Angela|Female|11/22/2005|        6:29 AM| 95570| 18.523|             true|         Engineering|\n",
            "|   Frances|Female|  8/8/2002|        6:51 AM|139852|  7.524|             true|Business Development|\n",
            "|    Louise|Female| 8/12/1980|        9:01 AM| 63241| 15.132|             true|                null|\n",
            "|     Julie|Female|10/26/1997|        3:19 PM|102508| 12.637|             true|               Legal|\n",
            "|   Brandon|  Male| 12/1/1980|        1:08 AM|112807| 17.492|             true|     Human Resources|\n",
            "|      Gary|  Male| 1/27/2008|       11:40 PM|109831|  5.831|            false|               Sales|\n",
            "|  Kimberly|Female| 1/14/1999|        7:13 AM| 41426| 14.543|             true|             Finance|\n",
            "|   Lillian|Female|  6/5/2016|        6:09 AM| 59414|  1.256|            false|             Product|\n",
            "|    Jeremy|  Male| 9/21/2010|        5:56 AM| 90370|  7.369|            false|     Human Resources|\n",
            "|     Shawn|  Male| 12/7/1986|        7:45 PM|111737|  6.414|            false|             Product|\n",
            "|     Diana|Female|10/23/1981|       10:27 AM|132940| 19.082|            false|     Client Services|\n",
            "|     Donna|Female| 7/22/2010|        3:48 AM| 81014|  1.894|            false|             Product|\n",
            "+----------+------+----------+---------------+------+-------+-----------------+--------------------+\n",
            "only showing top 20 rows\n",
            "\n"
          ]
        }
      ]
    },
    {
      "cell_type": "code",
      "source": [
        "import pyspark \n",
        "from pyspark.sql.functions import split\n",
        "split_col = pyspark.sql.functions.split(df['Start Date'], '/')\n",
        "df2 = df.select(\"First Name\",\"Gender\",\"Start Date\",\"Last Login Time\",\"Salary\",\"Bonus %\",\"Senior Management\",\"Team\", split_col.getItem(0).alias('Month'),split_col.getItem(1).alias('Day'),split_col.getItem(2).alias('Year'))   \n",
        "df2.show(truncate=False)"
      ],
      "metadata": {
        "id": "o56C8Yttx3sW",
        "outputId": "72b31c17-866c-4697-ed9f-59d4fbd28146",
        "colab": {
          "base_uri": "https://localhost:8080/"
        }
      },
      "id": "o56C8Yttx3sW",
      "execution_count": 61,
      "outputs": [
        {
          "output_type": "stream",
          "name": "stdout",
          "text": [
            "+----------+------+----------+---------------+------+-------+-----------------+--------------------+-----+---+----+\n",
            "|First Name|Gender|Start Date|Last Login Time|Salary|Bonus %|Senior Management|Team                |Month|Day|Year|\n",
            "+----------+------+----------+---------------+------+-------+-----------------+--------------------+-----+---+----+\n",
            "|Douglas   |Male  |8/6/1993  |12:42 PM       |97308 |6.945  |true             |Marketing           |8    |6  |1993|\n",
            "|Thomas    |Male  |3/31/1996 |6:53 AM        |61933 |4.17   |true             |null                |3    |31 |1996|\n",
            "|Maria     |Female|4/23/1993 |11:17 AM       |130590|11.858 |false            |Finance             |4    |23 |1993|\n",
            "|Jerry     |Male  |3/4/2005  |1:00 PM        |138705|9.34   |true             |Finance             |3    |4  |2005|\n",
            "|Larry     |Male  |1/24/1998 |4:47 PM        |101004|1.389  |true             |Client Services     |1    |24 |1998|\n",
            "|Dennis    |Male  |4/18/1987 |1:35 AM        |115163|10.125 |false            |Legal               |4    |18 |1987|\n",
            "|Ruby      |Female|8/17/1987 |4:20 PM        |65476 |10.012 |true             |Product             |8    |17 |1987|\n",
            "|null      |Female|7/20/2015 |10:43 AM       |45906 |11.598 |null             |Finance             |7    |20 |2015|\n",
            "|Angela    |Female|11/22/2005|6:29 AM        |95570 |18.523 |true             |Engineering         |11   |22 |2005|\n",
            "|Frances   |Female|8/8/2002  |6:51 AM        |139852|7.524  |true             |Business Development|8    |8  |2002|\n",
            "|Louise    |Female|8/12/1980 |9:01 AM        |63241 |15.132 |true             |null                |8    |12 |1980|\n",
            "|Julie     |Female|10/26/1997|3:19 PM        |102508|12.637 |true             |Legal               |10   |26 |1997|\n",
            "|Brandon   |Male  |12/1/1980 |1:08 AM        |112807|17.492 |true             |Human Resources     |12   |1  |1980|\n",
            "|Gary      |Male  |1/27/2008 |11:40 PM       |109831|5.831  |false            |Sales               |1    |27 |2008|\n",
            "|Kimberly  |Female|1/14/1999 |7:13 AM        |41426 |14.543 |true             |Finance             |1    |14 |1999|\n",
            "|Lillian   |Female|6/5/2016  |6:09 AM        |59414 |1.256  |false            |Product             |6    |5  |2016|\n",
            "|Jeremy    |Male  |9/21/2010 |5:56 AM        |90370 |7.369  |false            |Human Resources     |9    |21 |2010|\n",
            "|Shawn     |Male  |12/7/1986 |7:45 PM        |111737|6.414  |false            |Product             |12   |7  |1986|\n",
            "|Diana     |Female|10/23/1981|10:27 AM       |132940|19.082 |false            |Client Services     |10   |23 |1981|\n",
            "|Donna     |Female|7/22/2010 |3:48 AM        |81014 |1.894  |false            |Product             |7    |22 |2010|\n",
            "+----------+------+----------+---------------+------+-------+-----------------+--------------------+-----+---+----+\n",
            "only showing top 20 rows\n",
            "\n"
          ]
        }
      ]
    },
    {
      "cell_type": "code",
      "source": [
        "df1 = df.withColumn('Month', split(df['Start Date'], '/').getItem(0)) \\\n",
        "       .withColumn('Day', split(df['Start Date'], '/').getItem(1)) \\\n",
        "       .withColumn('Year', split(df['Start Date'], '/').getItem(2))\n",
        "df1.show(truncate=False)\n"
      ],
      "metadata": {
        "id": "o_C8BWrvzJrA",
        "outputId": "960c30db-0450-480d-ba48-10ef6fc531cd",
        "colab": {
          "base_uri": "https://localhost:8080/"
        }
      },
      "id": "o_C8BWrvzJrA",
      "execution_count": 62,
      "outputs": [
        {
          "output_type": "stream",
          "name": "stdout",
          "text": [
            "+----------+------+----------+---------------+------+-------+-----------------+--------------------+-----+---+----+\n",
            "|First Name|Gender|Start Date|Last Login Time|Salary|Bonus %|Senior Management|Team                |Month|Day|Year|\n",
            "+----------+------+----------+---------------+------+-------+-----------------+--------------------+-----+---+----+\n",
            "|Douglas   |Male  |8/6/1993  |12:42 PM       |97308 |6.945  |true             |Marketing           |8    |6  |1993|\n",
            "|Thomas    |Male  |3/31/1996 |6:53 AM        |61933 |4.17   |true             |null                |3    |31 |1996|\n",
            "|Maria     |Female|4/23/1993 |11:17 AM       |130590|11.858 |false            |Finance             |4    |23 |1993|\n",
            "|Jerry     |Male  |3/4/2005  |1:00 PM        |138705|9.34   |true             |Finance             |3    |4  |2005|\n",
            "|Larry     |Male  |1/24/1998 |4:47 PM        |101004|1.389  |true             |Client Services     |1    |24 |1998|\n",
            "|Dennis    |Male  |4/18/1987 |1:35 AM        |115163|10.125 |false            |Legal               |4    |18 |1987|\n",
            "|Ruby      |Female|8/17/1987 |4:20 PM        |65476 |10.012 |true             |Product             |8    |17 |1987|\n",
            "|null      |Female|7/20/2015 |10:43 AM       |45906 |11.598 |null             |Finance             |7    |20 |2015|\n",
            "|Angela    |Female|11/22/2005|6:29 AM        |95570 |18.523 |true             |Engineering         |11   |22 |2005|\n",
            "|Frances   |Female|8/8/2002  |6:51 AM        |139852|7.524  |true             |Business Development|8    |8  |2002|\n",
            "|Louise    |Female|8/12/1980 |9:01 AM        |63241 |15.132 |true             |null                |8    |12 |1980|\n",
            "|Julie     |Female|10/26/1997|3:19 PM        |102508|12.637 |true             |Legal               |10   |26 |1997|\n",
            "|Brandon   |Male  |12/1/1980 |1:08 AM        |112807|17.492 |true             |Human Resources     |12   |1  |1980|\n",
            "|Gary      |Male  |1/27/2008 |11:40 PM       |109831|5.831  |false            |Sales               |1    |27 |2008|\n",
            "|Kimberly  |Female|1/14/1999 |7:13 AM        |41426 |14.543 |true             |Finance             |1    |14 |1999|\n",
            "|Lillian   |Female|6/5/2016  |6:09 AM        |59414 |1.256  |false            |Product             |6    |5  |2016|\n",
            "|Jeremy    |Male  |9/21/2010 |5:56 AM        |90370 |7.369  |false            |Human Resources     |9    |21 |2010|\n",
            "|Shawn     |Male  |12/7/1986 |7:45 PM        |111737|6.414  |false            |Product             |12   |7  |1986|\n",
            "|Diana     |Female|10/23/1981|10:27 AM       |132940|19.082 |false            |Client Services     |10   |23 |1981|\n",
            "|Donna     |Female|7/22/2010 |3:48 AM        |81014 |1.894  |false            |Product             |7    |22 |2010|\n",
            "+----------+------+----------+---------------+------+-------+-----------------+--------------------+-----+---+----+\n",
            "only showing top 20 rows\n",
            "\n"
          ]
        }
      ]
    },
    {
      "cell_type": "code",
      "source": [
        "#df3 = df1.withColumn(\"Start Date\", df.Start Date.strip())\n",
        "'''from pyspark.sql.functions import trim\n",
        "df3 = df1.withColumn(\"Start Date\", trim())'''\n",
        "df3=df1.select('Month','Day','Year')\n",
        "df3.show()"
      ],
      "metadata": {
        "id": "JLDfQ1SU0jtG",
        "outputId": "407f2ccf-4a7c-4131-8edc-081025f9160c",
        "colab": {
          "base_uri": "https://localhost:8080/"
        }
      },
      "id": "JLDfQ1SU0jtG",
      "execution_count": 63,
      "outputs": [
        {
          "output_type": "stream",
          "name": "stdout",
          "text": [
            "+-----+---+----+\n",
            "|Month|Day|Year|\n",
            "+-----+---+----+\n",
            "|    8|  6|1993|\n",
            "|    3| 31|1996|\n",
            "|    4| 23|1993|\n",
            "|    3|  4|2005|\n",
            "|    1| 24|1998|\n",
            "|    4| 18|1987|\n",
            "|    8| 17|1987|\n",
            "|    7| 20|2015|\n",
            "|   11| 22|2005|\n",
            "|    8|  8|2002|\n",
            "|    8| 12|1980|\n",
            "|   10| 26|1997|\n",
            "|   12|  1|1980|\n",
            "|    1| 27|2008|\n",
            "|    1| 14|1999|\n",
            "|    6|  5|2016|\n",
            "|    9| 21|2010|\n",
            "|   12|  7|1986|\n",
            "|   10| 23|1981|\n",
            "|    7| 22|2010|\n",
            "+-----+---+----+\n",
            "only showing top 20 rows\n",
            "\n"
          ]
        }
      ]
    },
    {
      "cell_type": "code",
      "source": [
        "df4=df1.select('First Name','Gender','Start Date')\n",
        "df4.show()"
      ],
      "metadata": {
        "id": "dVCvKcnh4x01",
        "outputId": "fc315444-7cfd-4d62-aea5-35852a977dd4",
        "colab": {
          "base_uri": "https://localhost:8080/"
        }
      },
      "id": "dVCvKcnh4x01",
      "execution_count": 64,
      "outputs": [
        {
          "output_type": "stream",
          "name": "stdout",
          "text": [
            "+----------+------+----------+\n",
            "|First Name|Gender|Start Date|\n",
            "+----------+------+----------+\n",
            "|   Douglas|  Male|  8/6/1993|\n",
            "|    Thomas|  Male| 3/31/1996|\n",
            "|     Maria|Female| 4/23/1993|\n",
            "|     Jerry|  Male|  3/4/2005|\n",
            "|     Larry|  Male| 1/24/1998|\n",
            "|    Dennis|  Male| 4/18/1987|\n",
            "|      Ruby|Female| 8/17/1987|\n",
            "|      null|Female| 7/20/2015|\n",
            "|    Angela|Female|11/22/2005|\n",
            "|   Frances|Female|  8/8/2002|\n",
            "|    Louise|Female| 8/12/1980|\n",
            "|     Julie|Female|10/26/1997|\n",
            "|   Brandon|  Male| 12/1/1980|\n",
            "|      Gary|  Male| 1/27/2008|\n",
            "|  Kimberly|Female| 1/14/1999|\n",
            "|   Lillian|Female|  6/5/2016|\n",
            "|    Jeremy|  Male| 9/21/2010|\n",
            "|     Shawn|  Male| 12/7/1986|\n",
            "|     Diana|Female|10/23/1981|\n",
            "|     Donna|Female| 7/22/2010|\n",
            "+----------+------+----------+\n",
            "only showing top 20 rows\n",
            "\n"
          ]
        }
      ]
    },
    {
      "cell_type": "code",
      "source": [
        "df5=df1.select('Last Login Time','Salary','Bonus %','Senior Management','Team')\n",
        "df5.show()"
      ],
      "metadata": {
        "id": "av4_h6vv7OXN",
        "outputId": "ee2fcb6a-c0dc-40b1-8f49-ad2804e36b76",
        "colab": {
          "base_uri": "https://localhost:8080/"
        }
      },
      "id": "av4_h6vv7OXN",
      "execution_count": 65,
      "outputs": [
        {
          "output_type": "stream",
          "name": "stdout",
          "text": [
            "+---------------+------+-------+-----------------+--------------------+\n",
            "|Last Login Time|Salary|Bonus %|Senior Management|                Team|\n",
            "+---------------+------+-------+-----------------+--------------------+\n",
            "|       12:42 PM| 97308|  6.945|             true|           Marketing|\n",
            "|        6:53 AM| 61933|   4.17|             true|                null|\n",
            "|       11:17 AM|130590| 11.858|            false|             Finance|\n",
            "|        1:00 PM|138705|   9.34|             true|             Finance|\n",
            "|        4:47 PM|101004|  1.389|             true|     Client Services|\n",
            "|        1:35 AM|115163| 10.125|            false|               Legal|\n",
            "|        4:20 PM| 65476| 10.012|             true|             Product|\n",
            "|       10:43 AM| 45906| 11.598|             null|             Finance|\n",
            "|        6:29 AM| 95570| 18.523|             true|         Engineering|\n",
            "|        6:51 AM|139852|  7.524|             true|Business Development|\n",
            "|        9:01 AM| 63241| 15.132|             true|                null|\n",
            "|        3:19 PM|102508| 12.637|             true|               Legal|\n",
            "|        1:08 AM|112807| 17.492|             true|     Human Resources|\n",
            "|       11:40 PM|109831|  5.831|            false|               Sales|\n",
            "|        7:13 AM| 41426| 14.543|             true|             Finance|\n",
            "|        6:09 AM| 59414|  1.256|            false|             Product|\n",
            "|        5:56 AM| 90370|  7.369|            false|     Human Resources|\n",
            "|        7:45 PM|111737|  6.414|            false|             Product|\n",
            "|       10:27 AM|132940| 19.082|            false|     Client Services|\n",
            "|        3:48 AM| 81014|  1.894|            false|             Product|\n",
            "+---------------+------+-------+-----------------+--------------------+\n",
            "only showing top 20 rows\n",
            "\n"
          ]
        }
      ]
    },
    {
      "cell_type": "code",
      "source": [
        "#df4.join(df3,df5['Last Login Time']== df3['Month']).show()\n",
        "'''import pandas as pd\n",
        "df4.merge(df3,on='Month').merge(df5,on='Last Login Time')'''\n",
        "#dataframe1=df4.unionByName(df3)\n",
        "#dataframe1.show()\n",
        "res = df4.unionByName(df3, allowMissingColumns=True)\n",
        "res.show()"
      ],
      "metadata": {
        "id": "089K_FAD7kRO",
        "outputId": "ff6455f3-0793-4295-bbff-a25994aea6f2",
        "colab": {
          "base_uri": "https://localhost:8080/"
        }
      },
      "id": "089K_FAD7kRO",
      "execution_count": 74,
      "outputs": [
        {
          "output_type": "stream",
          "name": "stdout",
          "text": [
            "+----------+------+----------+-----+----+----+\n",
            "|First Name|Gender|Start Date|Month| Day|Year|\n",
            "+----------+------+----------+-----+----+----+\n",
            "|   Douglas|  Male|  8/6/1993| null|null|null|\n",
            "|    Thomas|  Male| 3/31/1996| null|null|null|\n",
            "|     Maria|Female| 4/23/1993| null|null|null|\n",
            "|     Jerry|  Male|  3/4/2005| null|null|null|\n",
            "|     Larry|  Male| 1/24/1998| null|null|null|\n",
            "|    Dennis|  Male| 4/18/1987| null|null|null|\n",
            "|      Ruby|Female| 8/17/1987| null|null|null|\n",
            "|      null|Female| 7/20/2015| null|null|null|\n",
            "|    Angela|Female|11/22/2005| null|null|null|\n",
            "|   Frances|Female|  8/8/2002| null|null|null|\n",
            "|    Louise|Female| 8/12/1980| null|null|null|\n",
            "|     Julie|Female|10/26/1997| null|null|null|\n",
            "|   Brandon|  Male| 12/1/1980| null|null|null|\n",
            "|      Gary|  Male| 1/27/2008| null|null|null|\n",
            "|  Kimberly|Female| 1/14/1999| null|null|null|\n",
            "|   Lillian|Female|  6/5/2016| null|null|null|\n",
            "|    Jeremy|  Male| 9/21/2010| null|null|null|\n",
            "|     Shawn|  Male| 12/7/1986| null|null|null|\n",
            "|     Diana|Female|10/23/1981| null|null|null|\n",
            "|     Donna|Female| 7/22/2010| null|null|null|\n",
            "+----------+------+----------+-----+----+----+\n",
            "only showing top 20 rows\n",
            "\n"
          ]
        }
      ]
    },
    {
      "cell_type": "code",
      "source": [
        "total_df=res.unionByName(df5, allowMissingColumns=True)\n",
        "total_df.show()"
      ],
      "metadata": {
        "id": "pCGCbVga8nUH",
        "outputId": "9b3c7304-f7b1-4c1e-b36d-b04188e2cc82",
        "colab": {
          "base_uri": "https://localhost:8080/"
        }
      },
      "id": "pCGCbVga8nUH",
      "execution_count": 76,
      "outputs": [
        {
          "output_type": "stream",
          "name": "stdout",
          "text": [
            "+----------+------+----------+-----+----+----+---------------+------+-------+-----------------+----+\n",
            "|First Name|Gender|Start Date|Month| Day|Year|Last Login Time|Salary|Bonus %|Senior Management|Team|\n",
            "+----------+------+----------+-----+----+----+---------------+------+-------+-----------------+----+\n",
            "|   Douglas|  Male|  8/6/1993| null|null|null|           null|  null|   null|             null|null|\n",
            "|    Thomas|  Male| 3/31/1996| null|null|null|           null|  null|   null|             null|null|\n",
            "|     Maria|Female| 4/23/1993| null|null|null|           null|  null|   null|             null|null|\n",
            "|     Jerry|  Male|  3/4/2005| null|null|null|           null|  null|   null|             null|null|\n",
            "|     Larry|  Male| 1/24/1998| null|null|null|           null|  null|   null|             null|null|\n",
            "|    Dennis|  Male| 4/18/1987| null|null|null|           null|  null|   null|             null|null|\n",
            "|      Ruby|Female| 8/17/1987| null|null|null|           null|  null|   null|             null|null|\n",
            "|      null|Female| 7/20/2015| null|null|null|           null|  null|   null|             null|null|\n",
            "|    Angela|Female|11/22/2005| null|null|null|           null|  null|   null|             null|null|\n",
            "|   Frances|Female|  8/8/2002| null|null|null|           null|  null|   null|             null|null|\n",
            "|    Louise|Female| 8/12/1980| null|null|null|           null|  null|   null|             null|null|\n",
            "|     Julie|Female|10/26/1997| null|null|null|           null|  null|   null|             null|null|\n",
            "|   Brandon|  Male| 12/1/1980| null|null|null|           null|  null|   null|             null|null|\n",
            "|      Gary|  Male| 1/27/2008| null|null|null|           null|  null|   null|             null|null|\n",
            "|  Kimberly|Female| 1/14/1999| null|null|null|           null|  null|   null|             null|null|\n",
            "|   Lillian|Female|  6/5/2016| null|null|null|           null|  null|   null|             null|null|\n",
            "|    Jeremy|  Male| 9/21/2010| null|null|null|           null|  null|   null|             null|null|\n",
            "|     Shawn|  Male| 12/7/1986| null|null|null|           null|  null|   null|             null|null|\n",
            "|     Diana|Female|10/23/1981| null|null|null|           null|  null|   null|             null|null|\n",
            "|     Donna|Female| 7/22/2010| null|null|null|           null|  null|   null|             null|null|\n",
            "+----------+------+----------+-----+----+----+---------------+------+-------+-----------------+----+\n",
            "only showing top 20 rows\n",
            "\n"
          ]
        }
      ]
    },
    {
      "cell_type": "code",
      "source": [],
      "metadata": {
        "id": "H8FZ00N9QSau",
        "outputId": "3d0e0953-036d-46fd-d722-11d943d83ac4",
        "colab": {
          "base_uri": "https://localhost:8080/",
          "height": 182
        }
      },
      "id": "H8FZ00N9QSau",
      "execution_count": 93,
      "outputs": [
        {
          "output_type": "error",
          "ename": "AttributeError",
          "evalue": "ignored",
          "traceback": [
            "\u001b[0;31m---------------------------------------------------------------------------\u001b[0m",
            "\u001b[0;31mAttributeError\u001b[0m                            Traceback (most recent call last)",
            "\u001b[0;32m<ipython-input-93-c553a048fed8>\u001b[0m in \u001b[0;36m<module>\u001b[0;34m\u001b[0m\n\u001b[0;32m----> 1\u001b[0;31m \u001b[0mfinal_df\u001b[0m\u001b[0;34m=\u001b[0m\u001b[0mspark\u001b[0m\u001b[0;34m.\u001b[0m\u001b[0mread\u001b[0m\u001b[0;34m.\u001b[0m\u001b[0moption\u001b[0m\u001b[0;34m(\u001b[0m\u001b[0;34m\"header\"\u001b[0m\u001b[0;34m,\u001b[0m\u001b[0;34m\"true\"\u001b[0m\u001b[0;34m)\u001b[0m\u001b[0;34m.\u001b[0m\u001b[0mtotal_df\u001b[0m\u001b[0;34m\u001b[0m\u001b[0;34m\u001b[0m\u001b[0m\n\u001b[0m\u001b[1;32m      2\u001b[0m \u001b[0mfinal_df\u001b[0m\u001b[0;34m.\u001b[0m\u001b[0mshow\u001b[0m\u001b[0;34m(\u001b[0m\u001b[0;36m10\u001b[0m\u001b[0;34m,\u001b[0m\u001b[0;32mFalse\u001b[0m\u001b[0;34m)\u001b[0m\u001b[0;34m\u001b[0m\u001b[0;34m\u001b[0m\u001b[0m\n",
            "\u001b[0;31mAttributeError\u001b[0m: 'DataFrameReader' object has no attribute 'total_df'"
          ]
        }
      ]
    },
    {
      "cell_type": "code",
      "source": [],
      "metadata": {
        "id": "jvdXfXIRTG16"
      },
      "id": "jvdXfXIRTG16",
      "execution_count": null,
      "outputs": []
    }
  ],
  "metadata": {
    "colab": {
      "provenance": []
    },
    "language_info": {
      "name": "python"
    },
    "kernelspec": {
      "name": "python3",
      "display_name": "Python 3"
    },
    "gpuClass": "standard"
  },
  "nbformat": 4,
  "nbformat_minor": 5
}